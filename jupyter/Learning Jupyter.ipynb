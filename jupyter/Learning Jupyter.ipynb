{
 "cells": [
  {
   "cell_type": "markdown",
   "id": "c866b170",
   "metadata": {},
   "source": [
    "# Learning How to Use Jupyter \n",
    "\n",
    "*Note: This folder is only to learn how jupyter works and not perform any specific coding tasks*\n",
    "\n",
    "## What this Notebook Teaches\n",
    "1. How to activate a Jupyter notebook\n",
    "2. How to execute python code in jupyter notebook\n",
    "3. How to add a markdown in the jupyter notebook\n",
    "4. Many more!\n",
    "\n",
    "## Learning Resources Used\n",
    "1. https://www.youtube.com/watch?v=HW29067qVWk&ab_channel=CoreySchafer\n",
    "2. https://code.visualstudio.com/docs/python/jupyter-support#:~:text=To%20select%20an%20environment%2C%20use,Notebook%20as%20a%20Python%20file. "
   ]
  },
  {
   "cell_type": "code",
   "execution_count": 28,
   "id": "af2af043",
   "metadata": {},
   "outputs": [
    {
     "output_type": "stream",
     "name": "stdout",
     "text": [
      "Hello Jupyter Notebook\n"
     ]
    }
   ],
   "source": [
    "print('Hello Jupyter Notebook')"
   ]
  },
  {
   "cell_type": "code",
   "execution_count": 29,
   "id": "b80701d6",
   "metadata": {},
   "outputs": [
    {
     "output_type": "stream",
     "name": "stdout",
     "text": [
      "# packages in environment at C:\\Users\\edwar\\anaconda3\\envs\\ml_learning:\n",
      "#\n",
      "# Name                    Version                   Build  Channel\n",
      "argon2-cffi               20.1.0           py39h2bbff1b_1  \n",
      "async_generator           1.10               pyhd3eb1b0_0  \n",
      "attrs                     20.3.0             pyhd3eb1b0_0  \n",
      "backcall                  0.2.0              pyhd3eb1b0_0  \n",
      "bleach                    3.3.0              pyhd3eb1b0_0  \n",
      "ca-certificates           2021.4.13            haa95532_1  \n",
      "certifi                   2020.12.5        py39haa95532_0  \n",
      "cffi                      1.14.5           py39hcd4344a_0  \n",
      "colorama                  0.4.4              pyhd3eb1b0_0  \n",
      "cycler                    0.10.0                   pypi_0    pypi\n",
      "decorator                 5.0.7                    pypi_0    pypi\n",
      "defusedxml                0.7.1              pyhd3eb1b0_0  \n",
      "entrypoints               0.3                      pypi_0    pypi\n",
      "et-xmlfile                1.1.0                    pypi_0    pypi\n",
      "icu                       58.2                 ha925a31_3  \n",
      "importlib-metadata        3.10.0           py39haa95532_0  \n",
      "importlib_metadata        3.10.0               hd3eb1b0_0  \n",
      "ipykernel                 5.5.3                    pypi_0    pypi\n",
      "ipython                   7.23.0                   pypi_0    pypi\n",
      "ipython_genutils          0.2.0              pyhd3eb1b0_1  \n",
      "ipywidgets                7.6.3              pyhd3eb1b0_1  \n",
      "jedi                      0.18.0                   pypi_0    pypi\n",
      "jinja2                    2.11.3             pyhd3eb1b0_0  \n",
      "joblib                    1.0.1                    pypi_0    pypi\n",
      "jpeg                      9b                   hb83a4c4_2  \n",
      "jsonschema                3.2.0                      py_2  \n",
      "jupyter                   1.0.0            py39haa95532_7  \n",
      "jupyter_client            6.1.12             pyhd3eb1b0_0  \n",
      "jupyter_console           6.4.0              pyhd3eb1b0_0  \n",
      "jupyter_core              4.7.1            py39haa95532_0  \n",
      "jupyterlab_pygments       0.1.2                      py_0  \n",
      "jupyterlab_widgets        1.0.0              pyhd3eb1b0_1  \n",
      "kiwisolver                1.3.1                    pypi_0    pypi\n",
      "libpng                    1.6.37               h2a8f88b_0  \n",
      "libsodium                 1.0.18               h62dcd97_0  \n",
      "m2w64-gcc-libgfortran     5.3.0                         6  \n",
      "m2w64-gcc-libs            5.3.0                         7  \n",
      "m2w64-gcc-libs-core       5.3.0                         7  \n",
      "m2w64-gmp                 6.1.0                         2  \n",
      "m2w64-libwinpthread-git   5.0.0.4634.697f757               2  \n",
      "markupsafe                1.1.1            py39h2bbff1b_0  \n",
      "matplotlib                3.4.1                    pypi_0    pypi\n",
      "matplotlib-inline         0.1.2                    pypi_0    pypi\n",
      "mistune                   0.8.4           py39h2bbff1b_1000  \n",
      "msys2-conda-epoch         20160418                      1  \n",
      "nbclient                  0.5.3              pyhd3eb1b0_0  \n",
      "nbconvert                 6.0.7            py39haa95532_0  \n",
      "nbformat                  5.1.3              pyhd3eb1b0_0  \n",
      "nest-asyncio              1.5.1              pyhd3eb1b0_0  \n",
      "notebook                  6.3.0            py39haa95532_0  \n",
      "numpy                     1.20.2                   pypi_0    pypi\n",
      "openpyxl                  3.0.7                    pypi_0    pypi\n",
      "openssl                   1.1.1k               h2bbff1b_0  \n",
      "packaging                 20.9               pyhd3eb1b0_0  \n",
      "pandas                    1.2.4                    pypi_0    pypi\n",
      "pandoc                    2.12                 haa95532_0  \n",
      "pandocfilters             1.4.3            py39haa95532_1  \n",
      "parso                     0.8.2                    pypi_0    pypi\n",
      "pickleshare               0.7.5           pyhd3eb1b0_1003  \n",
      "pillow                    8.2.0                    pypi_0    pypi\n",
      "pip                       21.0.1           py39haa95532_0  \n",
      "prometheus_client         0.10.1             pyhd3eb1b0_0  \n",
      "prompt-toolkit            3.0.18                   pypi_0    pypi\n",
      "prompt_toolkit            3.0.17               hd3eb1b0_0  \n",
      "pycparser                 2.20                       py_2  \n",
      "pygments                  2.8.1              pyhd3eb1b0_0  \n",
      "pyparsing                 2.4.7              pyhd3eb1b0_0  \n",
      "pyqt                      5.9.2            py39hd77b12b_6  \n",
      "pyrsistent                0.17.3           py39h2bbff1b_0  \n",
      "python                    3.9.4                h6244533_0  \n",
      "python-dateutil           2.8.1              pyhd3eb1b0_0  \n",
      "pytz                      2021.1                   pypi_0    pypi\n",
      "pywin32                   300                      pypi_0    pypi\n",
      "pywinpty                  1.0.1                    pypi_0    pypi\n",
      "pyzmq                     22.0.3                   pypi_0    pypi\n",
      "qt                        5.9.7            vc14h73c81de_0  \n",
      "qtconsole                 5.1.0                    pypi_0    pypi\n",
      "qtpy                      1.9.0                      py_0  \n",
      "scikit-learn              0.24.2                   pypi_0    pypi\n",
      "scipy                     1.6.3                    pypi_0    pypi\n",
      "send2trash                1.5.0              pyhd3eb1b0_1  \n",
      "setuptools                52.0.0           py39haa95532_0  \n",
      "sip                       4.19.13          py39hd77b12b_0  \n",
      "six                       1.15.0           py39haa95532_0  \n",
      "sklearn                   0.0                      pypi_0    pypi\n",
      "sqlite                    3.35.4               h2bbff1b_0  \n",
      "terminado                 0.9.4                    pypi_0    pypi\n",
      "testpath                  0.4.4              pyhd3eb1b0_0  \n",
      "threadpoolctl             2.1.0                    pypi_0    pypi\n",
      "tornado                   6.1              py39h2bbff1b_0  \n",
      "traitlets                 5.0.5              pyhd3eb1b0_0  \n",
      "tzdata                    2020f                h52ac0ba_0  \n",
      "vc                        14.2                 h21ff451_1  \n",
      "vs2015_runtime            14.27.29016          h5e58377_2  \n",
      "wcwidth                   0.2.5                      py_0  \n",
      "webencodings              0.5.1                    pypi_0    pypi\n",
      "wheel                     0.36.2             pyhd3eb1b0_0  \n",
      "widgetsnbextension        3.5.1            py39haa95532_0  \n",
      "wincertstore              0.2              py39h2bbff1b_0  \n",
      "winpty                    0.4.3                         4  \n",
      "xlrd                      2.0.1                    pypi_0    pypi\n",
      "zeromq                    4.3.3                ha925a31_3  \n",
      "zipp                      3.4.1              pyhd3eb1b0_0  \n",
      "zlib                      1.2.11               h62dcd97_4  \n"
     ]
    }
   ],
   "source": [
    "!conda list"
   ]
  },
  {
   "cell_type": "code",
   "execution_count": 30,
   "id": "6dfd5710",
   "metadata": {},
   "outputs": [
    {
     "output_type": "execute_result",
     "data": {
      "text/plain": [
       "Available line magics:\n",
       "%alias  %alias_magic  %autoawait  %autocall  %automagic  %autosave  %bookmark  %cd  %clear  %cls  %colors  %conda  %config  %connect_info  %copy  %ddir  %debug  %dhist  %dirs  %doctest_mode  %echo  %ed  %edit  %env  %gui  %hist  %history  %killbgscripts  %ldir  %less  %load  %load_ext  %loadpy  %logoff  %logon  %logstart  %logstate  %logstop  %ls  %lsmagic  %macro  %magic  %matplotlib  %mkdir  %more  %notebook  %page  %pastebin  %pdb  %pdef  %pdoc  %pfile  %pinfo  %pinfo2  %pip  %popd  %pprint  %precision  %prun  %psearch  %psource  %pushd  %pwd  %pycat  %pylab  %qtconsole  %quickref  %recall  %rehashx  %reload_ext  %ren  %rep  %rerun  %reset  %reset_selective  %rmdir  %run  %save  %sc  %set_env  %store  %sx  %system  %tb  %time  %timeit  %unalias  %unload_ext  %who  %who_ls  %whos  %xdel  %xmode\n",
       "\n",
       "Available cell magics:\n",
       "%%!  %%HTML  %%SVG  %%bash  %%capture  %%cmd  %%debug  %%file  %%html  %%javascript  %%js  %%latex  %%markdown  %%perl  %%prun  %%pypy  %%python  %%python2  %%python3  %%ruby  %%script  %%sh  %%svg  %%sx  %%system  %%time  %%timeit  %%writefile\n",
       "\n",
       "Automagic is ON, % prefix IS NOT needed for line magics."
      ],
      "application/json": {
       "line": {
        "automagic": "AutoMagics",
        "autocall": "AutoMagics",
        "alias_magic": "BasicMagics",
        "lsmagic": "BasicMagics",
        "magic": "BasicMagics",
        "page": "BasicMagics",
        "pprint": "BasicMagics",
        "colors": "BasicMagics",
        "xmode": "BasicMagics",
        "quickref": "BasicMagics",
        "doctest_mode": "BasicMagics",
        "gui": "BasicMagics",
        "precision": "BasicMagics",
        "notebook": "BasicMagics",
        "save": "CodeMagics",
        "pastebin": "CodeMagics",
        "loadpy": "CodeMagics",
        "load": "CodeMagics",
        "edit": "KernelMagics",
        "config": "ConfigMagics",
        "prun": "ExecutionMagics",
        "pdb": "ExecutionMagics",
        "debug": "ExecutionMagics",
        "tb": "ExecutionMagics",
        "run": "ExecutionMagics",
        "timeit": "ExecutionMagics",
        "time": "ExecutionMagics",
        "macro": "ExecutionMagics",
        "load_ext": "ExtensionMagics",
        "unload_ext": "ExtensionMagics",
        "reload_ext": "ExtensionMagics",
        "history": "HistoryMagics",
        "recall": "HistoryMagics",
        "rerun": "HistoryMagics",
        "logstart": "LoggingMagics",
        "logstop": "LoggingMagics",
        "logoff": "LoggingMagics",
        "logon": "LoggingMagics",
        "logstate": "LoggingMagics",
        "pinfo": "NamespaceMagics",
        "pinfo2": "NamespaceMagics",
        "pdef": "NamespaceMagics",
        "pdoc": "NamespaceMagics",
        "psource": "NamespaceMagics",
        "pfile": "NamespaceMagics",
        "psearch": "NamespaceMagics",
        "who_ls": "NamespaceMagics",
        "who": "NamespaceMagics",
        "whos": "NamespaceMagics",
        "reset": "NamespaceMagics",
        "reset_selective": "NamespaceMagics",
        "xdel": "NamespaceMagics",
        "alias": "OSMagics",
        "unalias": "OSMagics",
        "rehashx": "OSMagics",
        "pwd": "OSMagics",
        "cd": "OSMagics",
        "env": "OSMagics",
        "set_env": "OSMagics",
        "pushd": "OSMagics",
        "popd": "OSMagics",
        "dirs": "OSMagics",
        "dhist": "OSMagics",
        "sc": "OSMagics",
        "sx": "OSMagics",
        "system": "OSMagics",
        "bookmark": "OSMagics",
        "pycat": "OSMagics",
        "pip": "PackagingMagics",
        "conda": "PackagingMagics",
        "matplotlib": "PylabMagics",
        "pylab": "PylabMagics",
        "killbgscripts": "ScriptMagics",
        "autoawait": "AsyncMagics",
        "ed": "Other",
        "hist": "Other",
        "rep": "Other",
        "clear": "KernelMagics",
        "cls": "KernelMagics",
        "less": "KernelMagics",
        "more": "KernelMagics",
        "connect_info": "KernelMagics",
        "qtconsole": "KernelMagics",
        "autosave": "KernelMagics",
        "ls": "Other",
        "ddir": "Other",
        "ldir": "Other",
        "mkdir": "Other",
        "rmdir": "Other",
        "echo": "Other",
        "ren": "Other",
        "copy": "Other",
        "store": "StoreMagics"
       },
       "cell": {
        "js": "DisplayMagics",
        "javascript": "DisplayMagics",
        "latex": "DisplayMagics",
        "svg": "DisplayMagics",
        "html": "DisplayMagics",
        "markdown": "DisplayMagics",
        "prun": "ExecutionMagics",
        "debug": "ExecutionMagics",
        "timeit": "ExecutionMagics",
        "time": "ExecutionMagics",
        "capture": "ExecutionMagics",
        "sx": "OSMagics",
        "system": "OSMagics",
        "!": "OSMagics",
        "writefile": "OSMagics",
        "script": "ScriptMagics",
        "sh": "Other",
        "bash": "Other",
        "perl": "Other",
        "ruby": "Other",
        "python": "Other",
        "python2": "Other",
        "python3": "Other",
        "pypy": "Other",
        "cmd": "Other",
        "SVG": "Other",
        "HTML": "Other",
        "file": "Other"
       }
      }
     },
     "metadata": {},
     "execution_count": 30
    }
   ],
   "source": [
    "%lsmagic"
   ]
  },
  {
   "cell_type": "code",
   "execution_count": 31,
   "id": "54ae200e",
   "metadata": {},
   "outputs": [
    {
     "output_type": "execute_result",
     "data": {
      "text/plain": [
       "'c:\\\\Users\\\\edwar\\\\Desktop\\\\KTH\\\\Personal\\\\Machine_Learning\\\\jupyter'"
      ]
     },
     "metadata": {},
     "execution_count": 31
    }
   ],
   "source": [
    "%pwd"
   ]
  },
  {
   "cell_type": "code",
   "execution_count": 32,
   "id": "52fe70ca",
   "metadata": {},
   "outputs": [
    {
     "output_type": "stream",
     "name": "stdout",
     "text": [
      " Volume in drive C has no label.\n Volume Serial Number is 4870-FC93\n\n Directory of c:\\Users\\edwar\\Desktop\\KTH\\Personal\\Machine_Learning\\jupyter\n\n04/05/2021  11:16    <DIR>          .\n04/05/2021  11:16    <DIR>          ..\n04/05/2021  10:42    <DIR>          .ipynb_checkpoints\n04/05/2021  11:35           101,873 Learning Jupyter.ipynb\n               1 File(s)        101,873 bytes\n               3 Dir(s)  695,216,107,520 bytes free\n"
     ]
    }
   ],
   "source": [
    "%ls"
   ]
  },
  {
   "cell_type": "code",
   "execution_count": 33,
   "id": "cc1b4f91",
   "metadata": {},
   "outputs": [],
   "source": [
    "%matplotlib inline"
   ]
  },
  {
   "cell_type": "code",
   "execution_count": 34,
   "id": "9f609c10",
   "metadata": {},
   "outputs": [
    {
     "output_type": "display_data",
     "data": {
      "text/plain": "<Figure size 432x288 with 1 Axes>",
      "image/svg+xml": "<?xml version=\"1.0\" encoding=\"utf-8\" standalone=\"no\"?>\r\n<!DOCTYPE svg PUBLIC \"-//W3C//DTD SVG 1.1//EN\"\r\n  \"http://www.w3.org/Graphics/SVG/1.1/DTD/svg11.dtd\">\r\n<svg height=\"248.518125pt\" version=\"1.1\" viewBox=\"0 0 372.103125 248.518125\" width=\"372.103125pt\" xmlns=\"http://www.w3.org/2000/svg\" xmlns:xlink=\"http://www.w3.org/1999/xlink\">\r\n <metadata>\r\n  <rdf:RDF xmlns:cc=\"http://creativecommons.org/ns#\" xmlns:dc=\"http://purl.org/dc/elements/1.1/\" xmlns:rdf=\"http://www.w3.org/1999/02/22-rdf-syntax-ns#\">\r\n   <cc:Work>\r\n    <dc:type rdf:resource=\"http://purl.org/dc/dcmitype/StillImage\"/>\r\n    <dc:date>2021-05-04T11:35:11.035848</dc:date>\r\n    <dc:format>image/svg+xml</dc:format>\r\n    <dc:creator>\r\n     <cc:Agent>\r\n      <dc:title>Matplotlib v3.4.1, https://matplotlib.org/</dc:title>\r\n     </cc:Agent>\r\n    </dc:creator>\r\n   </cc:Work>\r\n  </rdf:RDF>\r\n </metadata>\r\n <defs>\r\n  <style type=\"text/css\">*{stroke-linecap:butt;stroke-linejoin:round;}</style>\r\n </defs>\r\n <g id=\"figure_1\">\r\n  <g id=\"patch_1\">\r\n   <path d=\"M 0 248.518125 \r\nL 372.103125 248.518125 \r\nL 372.103125 0 \r\nL 0 0 \r\nz\r\n\" style=\"fill:none;\"/>\r\n  </g>\r\n  <g id=\"axes_1\">\r\n   <g id=\"patch_2\">\r\n    <path d=\"M 30.103125 224.64 \r\nL 364.903125 224.64 \r\nL 364.903125 7.2 \r\nL 30.103125 7.2 \r\nz\r\n\" style=\"fill:#ffffff;\"/>\r\n   </g>\r\n   <g id=\"PathCollection_1\">\r\n    <path clip-path=\"url(#pcfec6d8898)\" d=\"M 340.789113 31.374142 \r\nC 342.744988 31.374142 344.621018 30.597064 346.00403 29.214052 \r\nC 347.387043 27.83104 348.16412 25.95501 348.16412 23.999135 \r\nC 348.16412 22.04326 347.387043 20.16723 346.00403 18.784218 \r\nC 344.621018 17.401205 342.744988 16.624128 340.789113 16.624128 \r\nC 338.833238 16.624128 336.957208 17.401205 335.574196 18.784218 \r\nC 334.191184 20.16723 333.414106 22.04326 333.414106 23.999135 \r\nC 333.414106 25.95501 334.191184 27.83104 335.574196 29.214052 \r\nC 336.957208 30.597064 338.833238 31.374142 340.789113 31.374142 \r\nz\r\n\" style=\"fill:#481d6f;fill-opacity:0.5;stroke:#481d6f;stroke-opacity:0.5;\"/>\r\n    <path clip-path=\"url(#pcfec6d8898)\" d=\"M 332.588223 108.601207 \r\nC 333.044196 108.601207 333.481554 108.420047 333.803975 108.097626 \r\nC 334.126396 107.775205 334.307556 107.337847 334.307556 106.881875 \r\nC 334.307556 106.425902 334.126396 105.988544 333.803975 105.666123 \r\nC 333.481554 105.343702 333.044196 105.162542 332.588223 105.162542 \r\nC 332.132251 105.162542 331.694893 105.343702 331.372472 105.666123 \r\nC 331.050051 105.988544 330.868891 106.425902 330.868891 106.881875 \r\nC 330.868891 107.337847 331.050051 107.775205 331.372472 108.097626 \r\nC 331.694893 108.420047 332.132251 108.601207 332.588223 108.601207 \r\nz\r\n\" style=\"fill:#2c738e;fill-opacity:0.5;stroke:#2c738e;stroke-opacity:0.5;\"/>\r\n    <path clip-path=\"url(#pcfec6d8898)\" d=\"M 346.424903 58.491228 \r\nC 349.643639 58.491228 352.730977 57.21241 355.006968 54.93642 \r\nC 357.282958 52.66043 358.561775 49.573091 358.561775 46.354355 \r\nC 358.561775 43.135619 357.282958 40.04828 355.006968 37.77229 \r\nC 352.730977 35.4963 349.643639 34.217482 346.424903 34.217482 \r\nC 343.206166 34.217482 340.118828 35.4963 337.842838 37.77229 \r\nC 335.566847 40.04828 334.28803 43.135619 334.28803 46.354355 \r\nC 334.28803 49.573091 335.566847 52.66043 337.842838 54.93642 \r\nC 340.118828 57.21241 343.206166 58.491228 346.424903 58.491228 \r\nz\r\n\" style=\"fill:#bade28;fill-opacity:0.5;stroke:#bade28;stroke-opacity:0.5;\"/>\r\n    <path clip-path=\"url(#pcfec6d8898)\" d=\"M 45.321307 108.375864 \r\nC 45.410604 108.375864 45.496255 108.340386 45.559397 108.277244 \r\nC 45.62254 108.214101 45.658018 108.12845 45.658018 108.039153 \r\nC 45.658018 107.949856 45.62254 107.864205 45.559397 107.801062 \r\nC 45.496255 107.73792 45.410604 107.702442 45.321307 107.702442 \r\nC 45.23201 107.702442 45.146359 107.73792 45.083216 107.801062 \r\nC 45.020074 107.864205 44.984596 107.949856 44.984596 108.039153 \r\nC 44.984596 108.12845 45.020074 108.214101 45.083216 108.277244 \r\nC 45.146359 108.340386 45.23201 108.375864 45.321307 108.375864 \r\nz\r\n\" style=\"fill:#2ab07f;fill-opacity:0.5;stroke:#2ab07f;stroke-opacity:0.5;\"/>\r\n    <path clip-path=\"url(#pcfec6d8898)\" d=\"M 306.357883 160.357573 \r\nC 308.223356 160.357573 310.012675 159.616412 311.331764 158.297323 \r\nC 312.650853 156.978235 313.392013 155.188915 313.392013 153.323442 \r\nC 313.392013 151.457969 312.650853 149.668649 311.331764 148.34956 \r\nC 310.012675 147.030471 308.223356 146.289311 306.357883 146.289311 \r\nC 304.492409 146.289311 302.70309 147.030471 301.384001 148.34956 \r\nC 300.064912 149.668649 299.323752 151.457969 299.323752 153.323442 \r\nC 299.323752 155.188915 300.064912 156.978235 301.384001 158.297323 \r\nC 302.70309 159.616412 304.492409 160.357573 306.357883 160.357573 \r\nz\r\n\" style=\"fill:#472f7d;fill-opacity:0.5;stroke:#472f7d;stroke-opacity:0.5;\"/>\r\n    <path clip-path=\"url(#pcfec6d8898)\" d=\"M 301.038315 152.393472 \r\nC 301.195401 152.393472 301.346074 152.331061 301.457151 152.219984 \r\nC 301.568227 152.108908 301.630638 151.958235 301.630638 151.801149 \r\nC 301.630638 151.644063 301.568227 151.493389 301.457151 151.382313 \r\nC 301.346074 151.271236 301.195401 151.208825 301.038315 151.208825 \r\nC 300.881229 151.208825 300.730555 151.271236 300.619479 151.382313 \r\nC 300.508402 151.493389 300.445991 151.644063 300.445991 151.801149 \r\nC 300.445991 151.958235 300.508402 152.108908 300.619479 152.219984 \r\nC 300.730555 152.331061 300.881229 152.393472 301.038315 152.393472 \r\nz\r\n\" style=\"fill:#472e7c;fill-opacity:0.5;stroke:#472e7c;stroke-opacity:0.5;\"/>\r\n    <path clip-path=\"url(#pcfec6d8898)\" d=\"M 313.363313 211.217945 \r\nC 316.618838 211.217945 319.741463 209.924512 322.043466 207.622508 \r\nC 324.34547 205.320504 325.638904 202.197879 325.638904 198.942354 \r\nC 325.638904 195.68683 324.34547 192.564205 322.043466 190.262201 \r\nC 319.741463 187.960197 316.618838 186.666764 313.363313 186.666764 \r\nC 310.107788 186.666764 306.985163 187.960197 304.683159 190.262201 \r\nC 302.381156 192.564205 301.087722 195.68683 301.087722 198.942354 \r\nC 301.087722 202.197879 302.381156 205.320504 304.683159 207.622508 \r\nC 306.985163 209.924512 310.107788 211.217945 313.363313 211.217945 \r\nz\r\n\" style=\"fill:#482475;fill-opacity:0.5;stroke:#482475;stroke-opacity:0.5;\"/>\r\n    <path clip-path=\"url(#pcfec6d8898)\" d=\"M 317.62143 171.433984 \r\nC 319.828278 171.433984 321.945036 170.557194 323.505512 168.996717 \r\nC 325.065989 167.43624 325.942779 165.319482 325.942779 163.112635 \r\nC 325.942779 160.905787 325.065989 158.789029 323.505512 157.228553 \r\nC 321.945036 155.668076 319.828278 154.791286 317.62143 154.791286 \r\nC 315.414583 154.791286 313.297825 155.668076 311.737348 157.228553 \r\nC 310.176871 158.789029 309.300081 160.905787 309.300081 163.112635 \r\nC 309.300081 165.319482 310.176871 167.43624 311.737348 168.996717 \r\nC 313.297825 170.557194 315.414583 171.433984 317.62143 171.433984 \r\nz\r\n\" style=\"fill:#65cb5e;fill-opacity:0.5;stroke:#65cb5e;stroke-opacity:0.5;\"/>\r\n    <path clip-path=\"url(#pcfec6d8898)\" d=\"M 153.144052 51.896195 \r\nC 153.820407 51.896195 154.469151 51.627477 154.947406 51.149221 \r\nC 155.425661 50.670966 155.69438 50.022222 155.69438 49.345867 \r\nC 155.69438 48.669512 155.425661 48.020768 154.947406 47.542512 \r\nC 154.469151 47.064257 153.820407 46.795538 153.144052 46.795538 \r\nC 152.467697 46.795538 151.818952 47.064257 151.340697 47.542512 \r\nC 150.862442 48.020768 150.593723 48.669512 150.593723 49.345867 \r\nC 150.593723 50.022222 150.862442 50.670966 151.340697 51.149221 \r\nC 151.818952 51.627477 152.467697 51.896195 153.144052 51.896195 \r\nz\r\n\" style=\"fill:#48186a;fill-opacity:0.5;stroke:#48186a;stroke-opacity:0.5;\"/>\r\n    <path clip-path=\"url(#pcfec6d8898)\" d=\"M 189.674553 213.159474 \r\nC 192.803476 213.159474 195.804668 211.91634 198.01715 209.703857 \r\nC 200.229633 207.491374 201.472767 204.490183 201.472767 201.36126 \r\nC 201.472767 198.232337 200.229633 195.231145 198.01715 193.018662 \r\nC 195.804668 190.80618 192.803476 189.563045 189.674553 189.563045 \r\nC 186.54563 189.563045 183.544438 190.80618 181.331955 193.018662 \r\nC 179.119473 195.231145 177.876338 198.232337 177.876338 201.36126 \r\nC 177.876338 204.490183 179.119473 207.491374 181.331955 209.703857 \r\nC 183.544438 211.91634 186.54563 213.159474 189.674553 213.159474 \r\nz\r\n\" style=\"fill:#b8de29;fill-opacity:0.5;stroke:#b8de29;stroke-opacity:0.5;\"/>\r\n    <path clip-path=\"url(#pcfec6d8898)\" d=\"M 297.767625 25.785823 \r\nC 297.976614 25.785823 298.177071 25.702791 298.324849 25.555013 \r\nC 298.472626 25.407236 298.555658 25.206778 298.555658 24.997789 \r\nC 298.555658 24.7888 298.472626 24.588343 298.324849 24.440565 \r\nC 298.177071 24.292788 297.976614 24.209755 297.767625 24.209755 \r\nC 297.558636 24.209755 297.358178 24.292788 297.2104 24.440565 \r\nC 297.062623 24.588343 296.979591 24.7888 296.979591 24.997789 \r\nC 296.979591 25.206778 297.062623 25.407236 297.2104 25.555013 \r\nC 297.358178 25.702791 297.558636 25.785823 297.767625 25.785823 \r\nz\r\n\" style=\"fill:#463480;fill-opacity:0.5;stroke:#463480;stroke-opacity:0.5;\"/>\r\n    <path clip-path=\"url(#pcfec6d8898)\" d=\"M 94.288783 106.859919 \r\nC 96.888833 106.859919 99.382741 105.826909 101.221253 103.988396 \r\nC 103.059766 102.149883 104.092777 99.655975 104.092777 97.055926 \r\nC 104.092777 94.455876 103.059766 91.961968 101.221253 90.123456 \r\nC 99.382741 88.284943 96.888833 87.251933 94.288783 87.251933 \r\nC 91.688734 87.251933 89.194826 88.284943 87.356313 90.123456 \r\nC 85.517801 91.961968 84.48479 94.455876 84.48479 97.055926 \r\nC 84.48479 99.655975 85.517801 102.149883 87.356313 103.988396 \r\nC 89.194826 105.826909 91.688734 106.859919 94.288783 106.859919 \r\nz\r\n\" style=\"fill:#472d7b;fill-opacity:0.5;stroke:#472d7b;stroke-opacity:0.5;\"/>\r\n    <path clip-path=\"url(#pcfec6d8898)\" d=\"M 290.163613 83.461142 \r\nC 292.933556 83.461142 295.590421 82.360632 297.549066 80.401987 \r\nC 299.507711 78.443342 300.608221 75.786477 300.608221 73.016534 \r\nC 300.608221 70.246592 299.507711 67.589726 297.549066 65.631081 \r\nC 295.590421 63.672436 292.933556 62.571926 290.163613 62.571926 \r\nC 287.393671 62.571926 284.736805 63.672436 282.77816 65.631081 \r\nC 280.819515 67.589726 279.719005 70.246592 279.719005 73.016534 \r\nC 279.719005 75.786477 280.819515 78.443342 282.77816 80.401987 \r\nC 284.736805 82.360632 287.393671 83.461142 290.163613 83.461142 \r\nz\r\n\" style=\"fill:#95d840;fill-opacity:0.5;stroke:#95d840;stroke-opacity:0.5;\"/>\r\n    <path clip-path=\"url(#pcfec6d8898)\" d=\"M 103.020344 122.410774 \r\nC 105.222358 122.410774 107.33448 121.535904 108.89154 119.978845 \r\nC 110.448599 118.421786 111.323469 116.309664 111.323469 114.107649 \r\nC 111.323469 111.905635 110.448599 109.793513 108.89154 108.236453 \r\nC 107.33448 106.679394 105.222358 105.804524 103.020344 105.804524 \r\nC 100.818329 105.804524 98.706207 106.679394 97.149148 108.236453 \r\nC 95.592088 109.793513 94.717219 111.905635 94.717219 114.107649 \r\nC 94.717219 116.309664 95.592088 118.421786 97.149148 119.978845 \r\nC 98.706207 121.535904 100.818329 122.410774 103.020344 122.410774 \r\nz\r\n\" style=\"fill:#218f8d;fill-opacity:0.5;stroke:#218f8d;stroke-opacity:0.5;\"/>\r\n    <path clip-path=\"url(#pcfec6d8898)\" d=\"M 205.131092 212.906229 \r\nC 206.945423 212.906229 208.685688 212.185388 209.968613 210.902462 \r\nC 211.251539 209.619536 211.972381 207.879271 211.972381 206.06494 \r\nC 211.972381 204.250609 211.251539 202.510344 209.968613 201.227418 \r\nC 208.685688 199.944492 206.945423 199.223651 205.131092 199.223651 \r\nC 203.316761 199.223651 201.576496 199.944492 200.29357 201.227418 \r\nC 199.010644 202.510344 198.289803 204.250609 198.289803 206.06494 \r\nC 198.289803 207.879271 199.010644 209.619536 200.29357 210.902462 \r\nC 201.576496 212.185388 203.316761 212.906229 205.131092 212.906229 \r\nz\r\n\" style=\"fill:#472e7c;fill-opacity:0.5;stroke:#472e7c;stroke-opacity:0.5;\"/>\r\n    <path clip-path=\"url(#pcfec6d8898)\" d=\"M 82.995884 55.120721 \r\nC 85.56712 55.120721 88.033391 54.099158 89.85153 52.281019 \r\nC 91.669669 50.462881 92.691232 47.99661 92.691232 45.425373 \r\nC 92.691232 42.854137 91.669669 40.387866 89.85153 38.569727 \r\nC 88.033391 36.751589 85.56712 35.730026 82.995884 35.730026 \r\nC 80.424648 35.730026 77.958376 36.751589 76.140238 38.569727 \r\nC 74.322099 40.387866 73.300536 42.854137 73.300536 45.425373 \r\nC 73.300536 47.99661 74.322099 50.462881 76.140238 52.281019 \r\nC 77.958376 54.099158 80.424648 55.120721 82.995884 55.120721 \r\nz\r\n\" style=\"fill:#95d840;fill-opacity:0.5;stroke:#95d840;stroke-opacity:0.5;\"/>\r\n    <path clip-path=\"url(#pcfec6d8898)\" d=\"M 132.973996 109.119164 \r\nC 136.4619 109.119164 139.807417 107.733405 142.273738 105.267085 \r\nC 144.740058 102.800765 146.125816 99.455247 146.125816 95.967344 \r\nC 146.125816 92.47944 144.740058 89.133923 142.273738 86.667602 \r\nC 139.807417 84.201282 136.4619 82.815524 132.973996 82.815524 \r\nC 129.486093 82.815524 126.140576 84.201282 123.674255 86.667602 \r\nC 121.207935 89.133923 119.822176 92.47944 119.822176 95.967344 \r\nC 119.822176 99.455247 121.207935 102.800765 123.674255 105.267085 \r\nC 126.140576 107.733405 129.486093 109.119164 132.973996 109.119164 \r\nz\r\n\" style=\"fill:#5cc863;fill-opacity:0.5;stroke:#5cc863;stroke-opacity:0.5;\"/>\r\n    <path clip-path=\"url(#pcfec6d8898)\" d=\"M 112.009135 22.346503 \r\nC 113.404863 22.346503 114.743614 21.791974 115.730543 20.805045 \r\nC 116.717472 19.818116 117.272001 18.479365 117.272001 17.083636 \r\nC 117.272001 15.687908 116.717472 14.349157 115.730543 13.362228 \r\nC 114.743614 12.375299 113.404863 11.82077 112.009135 11.82077 \r\nC 110.613406 11.82077 109.274655 12.375299 108.287726 13.362228 \r\nC 107.300797 14.349157 106.746268 15.687908 106.746268 17.083636 \r\nC 106.746268 18.479365 107.300797 19.818116 108.287726 20.805045 \r\nC 109.274655 21.791974 110.613406 22.346503 112.009135 22.346503 \r\nz\r\n\" style=\"fill:#277e8e;fill-opacity:0.5;stroke:#277e8e;stroke-opacity:0.5;\"/>\r\n    <path clip-path=\"url(#pcfec6d8898)\" d=\"M 213.927477 193.419153 \r\nC 217.129851 193.419153 220.201495 192.146837 222.465916 189.882416 \r\nC 224.730336 187.617996 226.002653 184.546351 226.002653 181.343977 \r\nC 226.002653 178.141603 224.730336 175.069959 222.465916 172.805539 \r\nC 220.201495 170.541118 217.129851 169.268801 213.927477 169.268801 \r\nC 210.725103 169.268801 207.653459 170.541118 205.389038 172.805539 \r\nC 203.124618 175.069959 201.852301 178.141603 201.852301 181.343977 \r\nC 201.852301 184.546351 203.124618 187.617996 205.389038 189.882416 \r\nC 207.653459 192.146837 210.725103 193.419153 213.927477 193.419153 \r\nz\r\n\" style=\"fill:#e7e419;fill-opacity:0.5;stroke:#e7e419;stroke-opacity:0.5;\"/>\r\n    <path clip-path=\"url(#pcfec6d8898)\" d=\"M 298.522517 122.627108 \r\nC 301.764349 122.627108 304.87384 121.339115 307.166161 119.046794 \r\nC 309.458482 116.754472 310.746476 113.644981 310.746476 110.40315 \r\nC 310.746476 107.161318 309.458482 104.051827 307.166161 101.759505 \r\nC 304.87384 99.467184 301.764349 98.179191 298.522517 98.179191 \r\nC 295.280685 98.179191 292.171194 99.467184 289.878873 101.759505 \r\nC 287.586552 104.051827 286.298558 107.161318 286.298558 110.40315 \r\nC 286.298558 113.644981 287.586552 116.754472 289.878873 119.046794 \r\nC 292.171194 121.339115 295.280685 122.627108 298.522517 122.627108 \r\nz\r\n\" style=\"fill:#54c568;fill-opacity:0.5;stroke:#54c568;stroke-opacity:0.5;\"/>\r\n    <path clip-path=\"url(#pcfec6d8898)\" d=\"M 298.194076 44.893033 \r\nC 298.585044 44.893033 298.960052 44.737699 299.236509 44.461242 \r\nC 299.512966 44.184786 299.668299 43.809778 299.668299 43.418809 \r\nC 299.668299 43.02784 299.512966 42.652832 299.236509 42.376376 \r\nC 298.960052 42.099919 298.585044 41.944586 298.194076 41.944586 \r\nC 297.803107 41.944586 297.428099 42.099919 297.151642 42.376376 \r\nC 296.875186 42.652832 296.719852 43.02784 296.719852 43.418809 \r\nC 296.719852 43.809778 296.875186 44.184786 297.151642 44.461242 \r\nC 297.428099 44.737699 297.803107 44.893033 298.194076 44.893033 \r\nz\r\n\" style=\"fill:#31678e;fill-opacity:0.5;stroke:#31678e;stroke-opacity:0.5;\"/>\r\n    <path clip-path=\"url(#pcfec6d8898)\" d=\"M 73.550371 76.246768 \r\nC 76.35703 76.246768 79.049113 75.131671 81.03372 73.147063 \r\nC 83.018328 71.162456 84.133425 68.470373 84.133425 65.663714 \r\nC 84.133425 62.857056 83.018328 60.164973 81.03372 58.180365 \r\nC 79.049113 56.195758 76.35703 55.080661 73.550371 55.080661 \r\nC 70.743713 55.080661 68.05163 56.195758 66.067022 58.180365 \r\nC 64.082415 60.164973 62.967318 62.857056 62.967318 65.663714 \r\nC 62.967318 68.470373 64.082415 71.162456 66.067022 73.147063 \r\nC 68.05163 75.131671 70.743713 76.246768 73.550371 76.246768 \r\nz\r\n\" style=\"fill:#1f9a8a;fill-opacity:0.5;stroke:#1f9a8a;stroke-opacity:0.5;\"/>\r\n    <path clip-path=\"url(#pcfec6d8898)\" d=\"M 349.684943 134.654519 \r\nC 351.704727 134.654519 353.642059 133.85205 355.070262 132.423847 \r\nC 356.498465 130.995644 357.300934 129.058313 357.300934 127.038529 \r\nC 357.300934 125.018744 356.498465 123.081413 355.070262 121.65321 \r\nC 353.642059 120.225007 351.704727 119.422538 349.684943 119.422538 \r\nC 347.665159 119.422538 345.727828 120.225007 344.299625 121.65321 \r\nC 342.871421 123.081413 342.068953 125.018744 342.068953 127.038529 \r\nC 342.068953 129.058313 342.871421 130.995644 344.299625 132.423847 \r\nC 345.727828 133.85205 347.665159 134.654519 349.684943 134.654519 \r\nz\r\n\" style=\"fill:#23888e;fill-opacity:0.5;stroke:#23888e;stroke-opacity:0.5;\"/>\r\n    <path clip-path=\"url(#pcfec6d8898)\" d=\"M 89.534366 182.278776 \r\nC 90.260307 182.278776 90.956612 181.990357 91.46993 181.47704 \r\nC 91.983247 180.963722 92.271666 180.267417 92.271666 179.541477 \r\nC 92.271666 178.815536 91.983247 178.119231 91.46993 177.605914 \r\nC 90.956612 177.092596 90.260307 176.804177 89.534366 176.804177 \r\nC 88.808426 176.804177 88.112121 177.092596 87.598803 177.605914 \r\nC 87.085486 178.119231 86.797067 178.815536 86.797067 179.541477 \r\nC 86.797067 180.267417 87.085486 180.963722 87.598803 181.47704 \r\nC 88.112121 181.990357 88.808426 182.278776 89.534366 182.278776 \r\nz\r\n\" style=\"fill:#3dbc74;fill-opacity:0.5;stroke:#3dbc74;stroke-opacity:0.5;\"/>\r\n    <path clip-path=\"url(#pcfec6d8898)\" d=\"M 272.517169 209.675675 \r\nC 274.008944 209.675675 275.439821 209.082987 276.494665 208.028143 \r\nC 277.549509 206.973298 278.142198 205.542422 278.142198 204.050647 \r\nC 278.142198 202.558872 277.549509 201.127995 276.494665 200.073151 \r\nC 275.439821 199.018306 274.008944 198.425618 272.517169 198.425618 \r\nC 271.025394 198.425618 269.594517 199.018306 268.539673 200.073151 \r\nC 267.484829 201.127995 266.89214 202.558872 266.89214 204.050647 \r\nC 266.89214 205.542422 267.484829 206.973298 268.539673 208.028143 \r\nC 269.594517 209.082987 271.025394 209.675675 272.517169 209.675675 \r\nz\r\n\" style=\"fill:#34618d;fill-opacity:0.5;stroke:#34618d;stroke-opacity:0.5;\"/>\r\n    <path clip-path=\"url(#pcfec6d8898)\" d=\"M 117.753644 144.285855 \r\nC 119.057334 144.285855 120.307804 143.767894 121.229652 142.846045 \r\nC 122.1515 141.924197 122.669461 140.673728 122.669461 139.370038 \r\nC 122.669461 138.066348 122.1515 136.815878 121.229652 135.89403 \r\nC 120.307804 134.972182 119.057334 134.454221 117.753644 134.454221 \r\nC 116.449954 134.454221 115.199484 134.972182 114.277636 135.89403 \r\nC 113.355788 136.815878 112.837827 138.066348 112.837827 139.370038 \r\nC 112.837827 140.673728 113.355788 141.924197 114.277636 142.846045 \r\nC 115.199484 143.767894 116.449954 144.285855 117.753644 144.285855 \r\nz\r\n\" style=\"fill:#a2da37;fill-opacity:0.5;stroke:#a2da37;stroke-opacity:0.5;\"/>\r\n    <path clip-path=\"url(#pcfec6d8898)\" d=\"M 266.326431 108.730047 \r\nC 269.735521 108.730047 273.005443 107.375602 275.416034 104.965011 \r\nC 277.826624 102.55442 279.18107 99.284499 279.18107 95.875408 \r\nC 279.18107 92.466318 277.826624 89.196397 275.416034 86.785806 \r\nC 273.005443 84.375215 269.735521 83.02077 266.326431 83.02077 \r\nC 262.917341 83.02077 259.64742 84.375215 257.236829 86.785806 \r\nC 254.826238 89.196397 253.471792 92.466318 253.471792 95.875408 \r\nC 253.471792 99.284499 254.826238 102.55442 257.236829 104.965011 \r\nC 259.64742 107.375602 262.917341 108.730047 266.326431 108.730047 \r\nz\r\n\" style=\"fill:#3bbb75;fill-opacity:0.5;stroke:#3bbb75;stroke-opacity:0.5;\"/>\r\n    <path clip-path=\"url(#pcfec6d8898)\" d=\"M 276.635646 185.027794 \r\nC 277.851195 185.027794 279.017122 184.544851 279.876644 183.685329 \r\nC 280.736167 182.825806 281.21911 181.659879 281.21911 180.44433 \r\nC 281.21911 179.228781 280.736167 178.062855 279.876644 177.203332 \r\nC 279.017122 176.343809 277.851195 175.860866 276.635646 175.860866 \r\nC 275.420097 175.860866 274.25417 176.343809 273.394648 177.203332 \r\nC 272.535125 178.062855 272.052182 179.228781 272.052182 180.44433 \r\nC 272.052182 181.659879 272.535125 182.825806 273.394648 183.685329 \r\nC 274.25417 184.544851 275.420097 185.027794 276.635646 185.027794 \r\nz\r\n\" style=\"fill:#84d44b;fill-opacity:0.5;stroke:#84d44b;stroke-opacity:0.5;\"/>\r\n    <path clip-path=\"url(#pcfec6d8898)\" d=\"M 337.510261 153.450938 \r\nC 339.625359 153.450938 341.654113 152.610601 343.149713 151.115001 \r\nC 344.645313 149.619401 345.485651 147.590647 345.485651 145.475549 \r\nC 345.485651 143.360451 344.645313 141.331697 343.149713 139.836097 \r\nC 341.654113 138.340496 339.625359 137.500159 337.510261 137.500159 \r\nC 335.395163 137.500159 333.366409 138.340496 331.870809 139.836097 \r\nC 330.375209 141.331697 329.534871 143.360451 329.534871 145.475549 \r\nC 329.534871 147.590647 330.375209 149.619401 331.870809 151.115001 \r\nC 333.366409 152.610601 335.395163 153.450938 337.510261 153.450938 \r\nz\r\n\" style=\"fill:#375a8c;fill-opacity:0.5;stroke:#375a8c;stroke-opacity:0.5;\"/>\r\n    <path clip-path=\"url(#pcfec6d8898)\" d=\"M 312.994872 187.74507 \r\nC 314.75143 187.74507 316.436281 187.047182 317.678355 185.805107 \r\nC 318.920429 184.563033 319.618317 182.878182 319.618317 181.121624 \r\nC 319.618317 179.365066 318.920429 177.680215 317.678355 176.438141 \r\nC 316.436281 175.196067 314.75143 174.498179 312.994872 174.498179 \r\nC 311.238314 174.498179 309.553463 175.196067 308.311389 176.438141 \r\nC 307.069315 177.680215 306.371427 179.365066 306.371427 181.121624 \r\nC 306.371427 182.878182 307.069315 184.563033 308.311389 185.805107 \r\nC 309.553463 187.047182 311.238314 187.74507 312.994872 187.74507 \r\nz\r\n\" style=\"fill:#3e4989;fill-opacity:0.5;stroke:#3e4989;stroke-opacity:0.5;\"/>\r\n    <path clip-path=\"url(#pcfec6d8898)\" d=\"M 345.851026 144.627603 \r\nC 346.142178 144.627603 346.421445 144.511928 346.62732 144.306052 \r\nC 346.833196 144.100176 346.948872 143.82091 346.948872 143.529758 \r\nC 346.948872 143.238606 346.833196 142.959339 346.62732 142.753464 \r\nC 346.421445 142.547588 346.142178 142.431912 345.851026 142.431912 \r\nC 345.559874 142.431912 345.280608 142.547588 345.074732 142.753464 \r\nC 344.868856 142.959339 344.75318 143.238606 344.75318 143.529758 \r\nC 344.75318 143.82091 344.868856 144.100176 345.074732 144.306052 \r\nC 345.280608 144.511928 345.559874 144.627603 345.851026 144.627603 \r\nz\r\n\" style=\"fill:#440154;fill-opacity:0.5;stroke:#440154;stroke-opacity:0.5;\"/>\r\n    <path clip-path=\"url(#pcfec6d8898)\" d=\"M 109.518212 82.616558 \r\nC 110.683168 82.616558 111.800567 82.153716 112.624316 81.329967 \r\nC 113.448064 80.506219 113.910906 79.388819 113.910906 78.223863 \r\nC 113.910906 77.058907 113.448064 75.941508 112.624316 75.117759 \r\nC 111.800567 74.294011 110.683168 73.831169 109.518212 73.831169 \r\nC 108.353256 73.831169 107.235856 74.294011 106.412108 75.117759 \r\nC 105.588359 75.941508 105.125517 77.058907 105.125517 78.223863 \r\nC 105.125517 79.388819 105.588359 80.506219 106.412108 81.329967 \r\nC 107.235856 82.153716 108.353256 82.616558 109.518212 82.616558 \r\nz\r\n\" style=\"fill:#365d8d;fill-opacity:0.5;stroke:#365d8d;stroke-opacity:0.5;\"/>\r\n    <path clip-path=\"url(#pcfec6d8898)\" d=\"M 134.07275 95.050835 \r\nC 137.175094 95.050835 140.150791 93.818261 142.344479 91.624573 \r\nC 144.538168 89.430885 145.770742 86.455187 145.770742 83.352844 \r\nC 145.770742 80.2505 144.538168 77.274803 142.344479 75.081114 \r\nC 140.150791 72.887426 137.175094 71.654852 134.07275 71.654852 \r\nC 130.970406 71.654852 127.994709 72.887426 125.801021 75.081114 \r\nC 123.607333 77.274803 122.374758 80.2505 122.374758 83.352844 \r\nC 122.374758 86.455187 123.607333 89.430885 125.801021 91.624573 \r\nC 127.994709 93.818261 130.970406 95.050835 134.07275 95.050835 \r\nz\r\n\" style=\"fill:#4ac16d;fill-opacity:0.5;stroke:#4ac16d;stroke-opacity:0.5;\"/>\r\n    <path clip-path=\"url(#pcfec6d8898)\" d=\"M 158.079487 63.208379 \r\nC 160.016072 63.208379 161.8736 62.438966 163.242972 61.069593 \r\nC 164.612344 59.700221 165.381757 57.842693 165.381757 55.906108 \r\nC 165.381757 53.969523 164.612344 52.111995 163.242972 50.742623 \r\nC 161.8736 49.373251 160.016072 48.603838 158.079487 48.603838 \r\nC 156.142902 48.603838 154.285374 49.373251 152.916002 50.742623 \r\nC 151.54663 52.111995 150.777216 53.969523 150.777216 55.906108 \r\nC 150.777216 57.842693 151.54663 59.700221 152.916002 61.069593 \r\nC 154.285374 62.438966 156.142902 63.208379 158.079487 63.208379 \r\nz\r\n\" style=\"fill:#2b748e;fill-opacity:0.5;stroke:#2b748e;stroke-opacity:0.5;\"/>\r\n    <path clip-path=\"url(#pcfec6d8898)\" d=\"M 82.256206 104.986257 \r\nC 84.447942 104.986257 86.550205 104.115472 88.099996 102.565681 \r\nC 89.649787 101.015889 90.520573 98.913627 90.520573 96.721891 \r\nC 90.520573 94.530155 89.649787 92.427893 88.099996 90.878102 \r\nC 86.550205 89.32831 84.447942 88.457525 82.256206 88.457525 \r\nC 80.064471 88.457525 77.962208 89.32831 76.412417 90.878102 \r\nC 74.862626 92.427893 73.99184 94.530155 73.99184 96.721891 \r\nC 73.99184 98.913627 74.862626 101.015889 76.412417 102.565681 \r\nC 77.962208 104.115472 80.064471 104.986257 82.256206 104.986257 \r\nz\r\n\" style=\"fill:#481a6c;fill-opacity:0.5;stroke:#481a6c;stroke-opacity:0.5;\"/>\r\n    <path clip-path=\"url(#pcfec6d8898)\" d=\"M 146.358256 28.68728 \r\nC 148.703095 28.68728 150.952211 27.755666 152.610262 26.097614 \r\nC 154.268313 24.439563 155.199927 22.190447 155.199927 19.845608 \r\nC 155.199927 17.50077 154.268313 15.251654 152.610262 13.593603 \r\nC 150.952211 11.935551 148.703095 11.003937 146.358256 11.003937 \r\nC 144.013417 11.003937 141.764302 11.935551 140.10625 13.593603 \r\nC 138.448199 15.251654 137.516585 17.50077 137.516585 19.845608 \r\nC 137.516585 22.190447 138.448199 24.439563 140.10625 26.097614 \r\nC 141.764302 27.755666 144.013417 28.68728 146.358256 28.68728 \r\nz\r\n\" style=\"fill:#6ccd5a;fill-opacity:0.5;stroke:#6ccd5a;stroke-opacity:0.5;\"/>\r\n    <path clip-path=\"url(#pcfec6d8898)\" d=\"M 264.595172 82.573955 \r\nC 267.408023 82.573955 270.106044 81.456398 272.09503 79.467412 \r\nC 274.084016 77.478427 275.201573 74.780405 275.201573 71.967554 \r\nC 275.201573 69.154704 274.084016 66.456682 272.09503 64.467697 \r\nC 270.106044 62.478711 267.408023 61.361154 264.595172 61.361154 \r\nC 261.782322 61.361154 259.0843 62.478711 257.095314 64.467697 \r\nC 255.106329 66.456682 253.988772 69.154704 253.988772 71.967554 \r\nC 253.988772 74.780405 255.106329 77.478427 257.095314 79.467412 \r\nC 259.0843 81.456398 261.782322 82.573955 264.595172 82.573955 \r\nz\r\n\" style=\"fill:#481467;fill-opacity:0.5;stroke:#481467;stroke-opacity:0.5;\"/>\r\n    <path clip-path=\"url(#pcfec6d8898)\" d=\"M 52.91512 218.878175 \r\nC 56.413296 218.878175 59.768666 217.488336 62.242249 215.014752 \r\nC 64.715833 212.541169 66.105672 209.185799 66.105672 205.687623 \r\nC 66.105672 202.189448 64.715833 198.834078 62.242249 196.360494 \r\nC 59.768666 193.886911 56.413296 192.497071 52.91512 192.497071 \r\nC 49.416945 192.497071 46.061575 193.886911 43.587991 196.360494 \r\nC 41.114408 198.834078 39.724568 202.189448 39.724568 205.687623 \r\nC 39.724568 209.185799 41.114408 212.541169 43.587991 215.014752 \r\nC 46.061575 217.488336 49.416945 218.878175 52.91512 218.878175 \r\nz\r\n\" style=\"fill:#fde725;fill-opacity:0.5;stroke:#fde725;stroke-opacity:0.5;\"/>\r\n    <path clip-path=\"url(#pcfec6d8898)\" d=\"M 334.640933 47.371097 \r\nC 335.218824 47.371097 335.773125 47.141498 336.181756 46.732867 \r\nC 336.590388 46.324236 336.819986 45.769935 336.819986 45.192043 \r\nC 336.819986 44.614151 336.590388 44.05985 336.181756 43.651219 \r\nC 335.773125 43.242588 335.218824 43.012989 334.640933 43.012989 \r\nC 334.063041 43.012989 333.50874 43.242588 333.100109 43.651219 \r\nC 332.691478 44.05985 332.461879 44.614151 332.461879 45.192043 \r\nC 332.461879 45.769935 332.691478 46.324236 333.100109 46.732867 \r\nC 333.50874 47.141498 334.063041 47.371097 334.640933 47.371097 \r\nz\r\n\" style=\"fill:#21a685;fill-opacity:0.5;stroke:#21a685;stroke-opacity:0.5;\"/>\r\n    <path clip-path=\"url(#pcfec6d8898)\" d=\"M 125.169765 32.573756 \r\nC 126.864109 32.573756 128.489285 31.900586 129.687367 30.702504 \r\nC 130.885449 29.504422 131.558619 27.879246 131.558619 26.184902 \r\nC 131.558619 24.490559 130.885449 22.865383 129.687367 21.667301 \r\nC 128.489285 20.469219 126.864109 19.796049 125.169765 19.796049 \r\nC 123.475422 19.796049 121.850246 20.469219 120.652164 21.667301 \r\nC 119.454082 22.865383 118.780912 24.490559 118.780912 26.184902 \r\nC 118.780912 27.879246 119.454082 29.504422 120.652164 30.702504 \r\nC 121.850246 31.900586 123.475422 32.573756 125.169765 32.573756 \r\nz\r\n\" style=\"fill:#481f70;fill-opacity:0.5;stroke:#481f70;stroke-opacity:0.5;\"/>\r\n    <path clip-path=\"url(#pcfec6d8898)\" d=\"M 175.728739 97.572199 \r\nC 176.70641 97.572199 177.64417 97.183766 178.335488 96.492448 \r\nC 179.026806 95.80113 179.415239 94.86337 179.415239 93.885699 \r\nC 179.415239 92.908027 179.026806 91.970267 178.335488 91.278949 \r\nC 177.64417 90.587631 176.70641 90.199198 175.728739 90.199198 \r\nC 174.751068 90.199198 173.813308 90.587631 173.12199 91.278949 \r\nC 172.430672 91.970267 172.042239 92.908027 172.042239 93.885699 \r\nC 172.042239 94.86337 172.430672 95.80113 173.12199 96.492448 \r\nC 173.813308 97.183766 174.751068 97.572199 175.728739 97.572199 \r\nz\r\n\" style=\"fill:#450559;fill-opacity:0.5;stroke:#450559;stroke-opacity:0.5;\"/>\r\n    <path clip-path=\"url(#pcfec6d8898)\" d=\"M 291.297906 85.007053 \r\nC 294.453082 85.007053 297.479455 83.753489 299.710501 81.522442 \r\nC 301.941548 79.291396 303.195112 76.265023 303.195112 73.109847 \r\nC 303.195112 69.954671 301.941548 66.928298 299.710501 64.697252 \r\nC 297.479455 62.466205 294.453082 61.21264 291.297906 61.21264 \r\nC 288.14273 61.21264 285.116357 62.466205 282.88531 64.697252 \r\nC 280.654264 66.928298 279.400699 69.954671 279.400699 73.109847 \r\nC 279.400699 76.265023 280.654264 79.291396 282.88531 81.522442 \r\nC 285.116357 83.753489 288.14273 85.007053 291.297906 85.007053 \r\nz\r\n\" style=\"fill:#404588;fill-opacity:0.5;stroke:#404588;stroke-opacity:0.5;\"/>\r\n    <path clip-path=\"url(#pcfec6d8898)\" d=\"M 129.350301 180.174222 \r\nC 131.916854 180.174222 134.378634 179.154519 136.193461 177.339692 \r\nC 138.008289 175.524864 139.027991 173.063084 139.027991 170.496531 \r\nC 139.027991 167.929977 138.008289 165.468198 136.193461 163.65337 \r\nC 134.378634 161.838543 131.916854 160.81884 129.350301 160.81884 \r\nC 126.783747 160.81884 124.321967 161.838543 122.50714 163.65337 \r\nC 120.692312 165.468198 119.67261 167.929977 119.67261 170.496531 \r\nC 119.67261 173.063084 120.692312 175.524864 122.50714 177.339692 \r\nC 124.321967 179.154519 126.783747 180.174222 129.350301 180.174222 \r\nz\r\n\" style=\"fill:#58c765;fill-opacity:0.5;stroke:#58c765;stroke-opacity:0.5;\"/>\r\n    <path clip-path=\"url(#pcfec6d8898)\" d=\"M 199.679961 197.149196 \r\nC 201.678102 197.149196 203.594674 196.355326 205.007574 194.942427 \r\nC 206.420473 193.529527 207.214343 191.612955 207.214343 189.614814 \r\nC 207.214343 187.616672 206.420473 185.7001 205.007574 184.287201 \r\nC 203.594674 182.874301 201.678102 182.080431 199.679961 182.080431 \r\nC 197.681819 182.080431 195.765247 182.874301 194.352348 184.287201 \r\nC 192.939448 185.7001 192.145578 187.616672 192.145578 189.614814 \r\nC 192.145578 191.612955 192.939448 193.529527 194.352348 194.942427 \r\nC 195.765247 196.355326 197.681819 197.149196 199.679961 197.149196 \r\nz\r\n\" style=\"fill:#7ad151;fill-opacity:0.5;stroke:#7ad151;stroke-opacity:0.5;\"/>\r\n    <path clip-path=\"url(#pcfec6d8898)\" d=\"M 76.661003 54.383943 \r\nC 79.296912 54.383943 81.825216 53.336685 83.689085 51.472816 \r\nC 85.552955 49.608947 86.600212 47.080643 86.600212 44.444734 \r\nC 86.600212 41.808825 85.552955 39.280521 83.689085 37.416652 \r\nC 81.825216 35.552783 79.296912 34.505525 76.661003 34.505525 \r\nC 74.025094 34.505525 71.49679 35.552783 69.632921 37.416652 \r\nC 67.769052 39.280521 66.721794 41.808825 66.721794 44.444734 \r\nC 66.721794 47.080643 67.769052 49.608947 69.632921 51.472816 \r\nC 71.49679 53.336685 74.025094 54.383943 76.661003 54.383943 \r\nz\r\n\" style=\"fill:#482374;fill-opacity:0.5;stroke:#482374;stroke-opacity:0.5;\"/>\r\n    <path clip-path=\"url(#pcfec6d8898)\" d=\"M 326.354258 137.869257 \r\nC 326.441952 137.869257 326.526067 137.834415 326.588077 137.772406 \r\nC 326.650086 137.710396 326.684928 137.626281 326.684928 137.538587 \r\nC 326.684928 137.450892 326.650086 137.366777 326.588077 137.304768 \r\nC 326.526067 137.242758 326.441952 137.207917 326.354258 137.207917 \r\nC 326.266563 137.207917 326.182448 137.242758 326.120438 137.304768 \r\nC 326.058429 137.366777 326.023587 137.450892 326.023587 137.538587 \r\nC 326.023587 137.626281 326.058429 137.710396 326.120438 137.772406 \r\nC 326.182448 137.834415 326.266563 137.869257 326.354258 137.869257 \r\nz\r\n\" style=\"fill:#238a8d;fill-opacity:0.5;stroke:#238a8d;stroke-opacity:0.5;\"/>\r\n    <path clip-path=\"url(#pcfec6d8898)\" d=\"M 171.900301 217.678681 \r\nC 173.747991 217.678681 175.520253 216.944586 176.826767 215.638072 \r\nC 178.133281 214.331558 178.867376 212.559296 178.867376 210.711606 \r\nC 178.867376 208.863916 178.133281 207.091654 176.826767 205.78514 \r\nC 175.520253 204.478626 173.747991 203.744531 171.900301 203.744531 \r\nC 170.052612 203.744531 168.280349 204.478626 166.973835 205.78514 \r\nC 165.667321 207.091654 164.933226 208.863916 164.933226 210.711606 \r\nC 164.933226 212.559296 165.667321 214.331558 166.973835 215.638072 \r\nC 168.280349 216.944586 170.052612 217.678681 171.900301 217.678681 \r\nz\r\n\" style=\"fill:#482979;fill-opacity:0.5;stroke:#482979;stroke-opacity:0.5;\"/>\r\n    <path clip-path=\"url(#pcfec6d8898)\" d=\"M 270.417208 189.924978 \r\nC 273.503534 189.924978 276.463867 188.698768 278.646229 186.516406 \r\nC 280.828591 184.334044 282.054802 181.373711 282.054802 178.287385 \r\nC 282.054802 175.201059 280.828591 172.240725 278.646229 170.058363 \r\nC 276.463867 167.876002 273.503534 166.649791 270.417208 166.649791 \r\nC 267.330882 166.649791 264.370549 167.876002 262.188187 170.058363 \r\nC 260.005825 172.240725 258.779615 175.201059 258.779615 178.287385 \r\nC 258.779615 181.373711 260.005825 184.334044 262.188187 186.516406 \r\nC 264.370549 188.698768 267.330882 189.924978 270.417208 189.924978 \r\nz\r\n\" style=\"fill:#2a788e;fill-opacity:0.5;stroke:#2a788e;stroke-opacity:0.5;\"/>\r\n    <path clip-path=\"url(#pcfec6d8898)\" d=\"M 148.386932 91.60234 \r\nC 151.206303 91.60234 153.91058 90.482192 155.904176 88.488596 \r\nC 157.897772 86.494999 159.01792 83.790723 159.01792 80.971352 \r\nC 159.01792 78.151981 157.897772 75.447704 155.904176 73.454108 \r\nC 153.91058 71.460511 151.206303 70.340363 148.386932 70.340363 \r\nC 145.567561 70.340363 142.863284 71.460511 140.869688 73.454108 \r\nC 138.876091 75.447704 137.755943 78.151981 137.755943 80.971352 \r\nC 137.755943 83.790723 138.876091 86.494999 140.869688 88.488596 \r\nC 142.863284 90.482192 145.567561 91.60234 148.386932 91.60234 \r\nz\r\n\" style=\"fill:#453581;fill-opacity:0.5;stroke:#453581;stroke-opacity:0.5;\"/>\r\n    <path clip-path=\"url(#pcfec6d8898)\" d=\"M 180.714593 214.927838 \r\nC 180.760069 214.927838 180.803688 214.909771 180.835844 214.877615 \r\nC 180.868 214.845458 180.886068 214.801839 180.886068 214.756364 \r\nC 180.886068 214.710888 180.868 214.667269 180.835844 214.635113 \r\nC 180.803688 214.602957 180.760069 214.584889 180.714593 214.584889 \r\nC 180.669117 214.584889 180.625498 214.602957 180.593342 214.635113 \r\nC 180.561186 214.667269 180.543118 214.710888 180.543118 214.756364 \r\nC 180.543118 214.801839 180.561186 214.845458 180.593342 214.877615 \r\nC 180.625498 214.909771 180.669117 214.927838 180.714593 214.927838 \r\nz\r\n\" style=\"fill:#482475;fill-opacity:0.5;stroke:#482475;stroke-opacity:0.5;\"/>\r\n   </g>\r\n   <g id=\"matplotlib.axis_1\">\r\n    <g id=\"xtick_1\">\r\n     <g id=\"line2d_1\">\r\n      <defs>\r\n       <path d=\"M 0 0 \r\nL 0 3.5 \r\n\" id=\"m363a5d7929\" style=\"stroke:#000000;stroke-width:0.8;\"/>\r\n      </defs>\r\n      <g>\r\n       <use style=\"stroke:#000000;stroke-width:0.8;\" x=\"94.371162\" xlink:href=\"#m363a5d7929\" y=\"224.64\"/>\r\n      </g>\r\n     </g>\r\n     <g id=\"text_1\">\r\n      <!-- 0.2 -->\r\n      <g transform=\"translate(86.4196 239.238437)scale(0.1 -0.1)\">\r\n       <defs>\r\n        <path d=\"M 2034 4250 \r\nQ 1547 4250 1301 3770 \r\nQ 1056 3291 1056 2328 \r\nQ 1056 1369 1301 889 \r\nQ 1547 409 2034 409 \r\nQ 2525 409 2770 889 \r\nQ 3016 1369 3016 2328 \r\nQ 3016 3291 2770 3770 \r\nQ 2525 4250 2034 4250 \r\nz\r\nM 2034 4750 \r\nQ 2819 4750 3233 4129 \r\nQ 3647 3509 3647 2328 \r\nQ 3647 1150 3233 529 \r\nQ 2819 -91 2034 -91 \r\nQ 1250 -91 836 529 \r\nQ 422 1150 422 2328 \r\nQ 422 3509 836 4129 \r\nQ 1250 4750 2034 4750 \r\nz\r\n\" id=\"DejaVuSans-30\" transform=\"scale(0.015625)\"/>\r\n        <path d=\"M 684 794 \r\nL 1344 794 \r\nL 1344 0 \r\nL 684 0 \r\nL 684 794 \r\nz\r\n\" id=\"DejaVuSans-2e\" transform=\"scale(0.015625)\"/>\r\n        <path d=\"M 1228 531 \r\nL 3431 531 \r\nL 3431 0 \r\nL 469 0 \r\nL 469 531 \r\nQ 828 903 1448 1529 \r\nQ 2069 2156 2228 2338 \r\nQ 2531 2678 2651 2914 \r\nQ 2772 3150 2772 3378 \r\nQ 2772 3750 2511 3984 \r\nQ 2250 4219 1831 4219 \r\nQ 1534 4219 1204 4116 \r\nQ 875 4013 500 3803 \r\nL 500 4441 \r\nQ 881 4594 1212 4672 \r\nQ 1544 4750 1819 4750 \r\nQ 2544 4750 2975 4387 \r\nQ 3406 4025 3406 3419 \r\nQ 3406 3131 3298 2873 \r\nQ 3191 2616 2906 2266 \r\nQ 2828 2175 2409 1742 \r\nQ 1991 1309 1228 531 \r\nz\r\n\" id=\"DejaVuSans-32\" transform=\"scale(0.015625)\"/>\r\n       </defs>\r\n       <use xlink:href=\"#DejaVuSans-30\"/>\r\n       <use x=\"63.623047\" xlink:href=\"#DejaVuSans-2e\"/>\r\n       <use x=\"95.410156\" xlink:href=\"#DejaVuSans-32\"/>\r\n      </g>\r\n     </g>\r\n    </g>\r\n    <g id=\"xtick_2\">\r\n     <g id=\"line2d_2\">\r\n      <g>\r\n       <use style=\"stroke:#000000;stroke-width:0.8;\" x=\"158.881722\" xlink:href=\"#m363a5d7929\" y=\"224.64\"/>\r\n      </g>\r\n     </g>\r\n     <g id=\"text_2\">\r\n      <!-- 0.4 -->\r\n      <g transform=\"translate(150.930159 239.238437)scale(0.1 -0.1)\">\r\n       <defs>\r\n        <path d=\"M 2419 4116 \r\nL 825 1625 \r\nL 2419 1625 \r\nL 2419 4116 \r\nz\r\nM 2253 4666 \r\nL 3047 4666 \r\nL 3047 1625 \r\nL 3713 1625 \r\nL 3713 1100 \r\nL 3047 1100 \r\nL 3047 0 \r\nL 2419 0 \r\nL 2419 1100 \r\nL 313 1100 \r\nL 313 1709 \r\nL 2253 4666 \r\nz\r\n\" id=\"DejaVuSans-34\" transform=\"scale(0.015625)\"/>\r\n       </defs>\r\n       <use xlink:href=\"#DejaVuSans-30\"/>\r\n       <use x=\"63.623047\" xlink:href=\"#DejaVuSans-2e\"/>\r\n       <use x=\"95.410156\" xlink:href=\"#DejaVuSans-34\"/>\r\n      </g>\r\n     </g>\r\n    </g>\r\n    <g id=\"xtick_3\">\r\n     <g id=\"line2d_3\">\r\n      <g>\r\n       <use style=\"stroke:#000000;stroke-width:0.8;\" x=\"223.392281\" xlink:href=\"#m363a5d7929\" y=\"224.64\"/>\r\n      </g>\r\n     </g>\r\n     <g id=\"text_3\">\r\n      <!-- 0.6 -->\r\n      <g transform=\"translate(215.440718 239.238437)scale(0.1 -0.1)\">\r\n       <defs>\r\n        <path d=\"M 2113 2584 \r\nQ 1688 2584 1439 2293 \r\nQ 1191 2003 1191 1497 \r\nQ 1191 994 1439 701 \r\nQ 1688 409 2113 409 \r\nQ 2538 409 2786 701 \r\nQ 3034 994 3034 1497 \r\nQ 3034 2003 2786 2293 \r\nQ 2538 2584 2113 2584 \r\nz\r\nM 3366 4563 \r\nL 3366 3988 \r\nQ 3128 4100 2886 4159 \r\nQ 2644 4219 2406 4219 \r\nQ 1781 4219 1451 3797 \r\nQ 1122 3375 1075 2522 \r\nQ 1259 2794 1537 2939 \r\nQ 1816 3084 2150 3084 \r\nQ 2853 3084 3261 2657 \r\nQ 3669 2231 3669 1497 \r\nQ 3669 778 3244 343 \r\nQ 2819 -91 2113 -91 \r\nQ 1303 -91 875 529 \r\nQ 447 1150 447 2328 \r\nQ 447 3434 972 4092 \r\nQ 1497 4750 2381 4750 \r\nQ 2619 4750 2861 4703 \r\nQ 3103 4656 3366 4563 \r\nz\r\n\" id=\"DejaVuSans-36\" transform=\"scale(0.015625)\"/>\r\n       </defs>\r\n       <use xlink:href=\"#DejaVuSans-30\"/>\r\n       <use x=\"63.623047\" xlink:href=\"#DejaVuSans-2e\"/>\r\n       <use x=\"95.410156\" xlink:href=\"#DejaVuSans-36\"/>\r\n      </g>\r\n     </g>\r\n    </g>\r\n    <g id=\"xtick_4\">\r\n     <g id=\"line2d_4\">\r\n      <g>\r\n       <use style=\"stroke:#000000;stroke-width:0.8;\" x=\"287.90284\" xlink:href=\"#m363a5d7929\" y=\"224.64\"/>\r\n      </g>\r\n     </g>\r\n     <g id=\"text_4\">\r\n      <!-- 0.8 -->\r\n      <g transform=\"translate(279.951278 239.238437)scale(0.1 -0.1)\">\r\n       <defs>\r\n        <path d=\"M 2034 2216 \r\nQ 1584 2216 1326 1975 \r\nQ 1069 1734 1069 1313 \r\nQ 1069 891 1326 650 \r\nQ 1584 409 2034 409 \r\nQ 2484 409 2743 651 \r\nQ 3003 894 3003 1313 \r\nQ 3003 1734 2745 1975 \r\nQ 2488 2216 2034 2216 \r\nz\r\nM 1403 2484 \r\nQ 997 2584 770 2862 \r\nQ 544 3141 544 3541 \r\nQ 544 4100 942 4425 \r\nQ 1341 4750 2034 4750 \r\nQ 2731 4750 3128 4425 \r\nQ 3525 4100 3525 3541 \r\nQ 3525 3141 3298 2862 \r\nQ 3072 2584 2669 2484 \r\nQ 3125 2378 3379 2068 \r\nQ 3634 1759 3634 1313 \r\nQ 3634 634 3220 271 \r\nQ 2806 -91 2034 -91 \r\nQ 1263 -91 848 271 \r\nQ 434 634 434 1313 \r\nQ 434 1759 690 2068 \r\nQ 947 2378 1403 2484 \r\nz\r\nM 1172 3481 \r\nQ 1172 3119 1398 2916 \r\nQ 1625 2713 2034 2713 \r\nQ 2441 2713 2670 2916 \r\nQ 2900 3119 2900 3481 \r\nQ 2900 3844 2670 4047 \r\nQ 2441 4250 2034 4250 \r\nQ 1625 4250 1398 4047 \r\nQ 1172 3844 1172 3481 \r\nz\r\n\" id=\"DejaVuSans-38\" transform=\"scale(0.015625)\"/>\r\n       </defs>\r\n       <use xlink:href=\"#DejaVuSans-30\"/>\r\n       <use x=\"63.623047\" xlink:href=\"#DejaVuSans-2e\"/>\r\n       <use x=\"95.410156\" xlink:href=\"#DejaVuSans-38\"/>\r\n      </g>\r\n     </g>\r\n    </g>\r\n    <g id=\"xtick_5\">\r\n     <g id=\"line2d_5\">\r\n      <g>\r\n       <use style=\"stroke:#000000;stroke-width:0.8;\" x=\"352.4134\" xlink:href=\"#m363a5d7929\" y=\"224.64\"/>\r\n      </g>\r\n     </g>\r\n     <g id=\"text_5\">\r\n      <!-- 1.0 -->\r\n      <g transform=\"translate(344.461837 239.238437)scale(0.1 -0.1)\">\r\n       <defs>\r\n        <path d=\"M 794 531 \r\nL 1825 531 \r\nL 1825 4091 \r\nL 703 3866 \r\nL 703 4441 \r\nL 1819 4666 \r\nL 2450 4666 \r\nL 2450 531 \r\nL 3481 531 \r\nL 3481 0 \r\nL 794 0 \r\nL 794 531 \r\nz\r\n\" id=\"DejaVuSans-31\" transform=\"scale(0.015625)\"/>\r\n       </defs>\r\n       <use xlink:href=\"#DejaVuSans-31\"/>\r\n       <use x=\"63.623047\" xlink:href=\"#DejaVuSans-2e\"/>\r\n       <use x=\"95.410156\" xlink:href=\"#DejaVuSans-30\"/>\r\n      </g>\r\n     </g>\r\n    </g>\r\n   </g>\r\n   <g id=\"matplotlib.axis_2\">\r\n    <g id=\"ytick_1\">\r\n     <g id=\"line2d_6\">\r\n      <defs>\r\n       <path d=\"M 0 0 \r\nL -3.5 0 \r\n\" id=\"mc3b76244b6\" style=\"stroke:#000000;stroke-width:0.8;\"/>\r\n      </defs>\r\n      <g>\r\n       <use style=\"stroke:#000000;stroke-width:0.8;\" x=\"30.103125\" xlink:href=\"#mc3b76244b6\" y=\"215.393222\"/>\r\n      </g>\r\n     </g>\r\n     <g id=\"text_6\">\r\n      <!-- 0.0 -->\r\n      <g transform=\"translate(7.2 219.19244)scale(0.1 -0.1)\">\r\n       <use xlink:href=\"#DejaVuSans-30\"/>\r\n       <use x=\"63.623047\" xlink:href=\"#DejaVuSans-2e\"/>\r\n       <use x=\"95.410156\" xlink:href=\"#DejaVuSans-30\"/>\r\n      </g>\r\n     </g>\r\n    </g>\r\n    <g id=\"ytick_2\">\r\n     <g id=\"line2d_7\">\r\n      <g>\r\n       <use style=\"stroke:#000000;stroke-width:0.8;\" x=\"30.103125\" xlink:href=\"#mc3b76244b6\" y=\"174.997673\"/>\r\n      </g>\r\n     </g>\r\n     <g id=\"text_7\">\r\n      <!-- 0.2 -->\r\n      <g transform=\"translate(7.2 178.796892)scale(0.1 -0.1)\">\r\n       <use xlink:href=\"#DejaVuSans-30\"/>\r\n       <use x=\"63.623047\" xlink:href=\"#DejaVuSans-2e\"/>\r\n       <use x=\"95.410156\" xlink:href=\"#DejaVuSans-32\"/>\r\n      </g>\r\n     </g>\r\n    </g>\r\n    <g id=\"ytick_3\">\r\n     <g id=\"line2d_8\">\r\n      <g>\r\n       <use style=\"stroke:#000000;stroke-width:0.8;\" x=\"30.103125\" xlink:href=\"#mc3b76244b6\" y=\"134.602124\"/>\r\n      </g>\r\n     </g>\r\n     <g id=\"text_8\">\r\n      <!-- 0.4 -->\r\n      <g transform=\"translate(7.2 138.401343)scale(0.1 -0.1)\">\r\n       <use xlink:href=\"#DejaVuSans-30\"/>\r\n       <use x=\"63.623047\" xlink:href=\"#DejaVuSans-2e\"/>\r\n       <use x=\"95.410156\" xlink:href=\"#DejaVuSans-34\"/>\r\n      </g>\r\n     </g>\r\n    </g>\r\n    <g id=\"ytick_4\">\r\n     <g id=\"line2d_9\">\r\n      <g>\r\n       <use style=\"stroke:#000000;stroke-width:0.8;\" x=\"30.103125\" xlink:href=\"#mc3b76244b6\" y=\"94.206575\"/>\r\n      </g>\r\n     </g>\r\n     <g id=\"text_9\">\r\n      <!-- 0.6 -->\r\n      <g transform=\"translate(7.2 98.005794)scale(0.1 -0.1)\">\r\n       <use xlink:href=\"#DejaVuSans-30\"/>\r\n       <use x=\"63.623047\" xlink:href=\"#DejaVuSans-2e\"/>\r\n       <use x=\"95.410156\" xlink:href=\"#DejaVuSans-36\"/>\r\n      </g>\r\n     </g>\r\n    </g>\r\n    <g id=\"ytick_5\">\r\n     <g id=\"line2d_10\">\r\n      <g>\r\n       <use style=\"stroke:#000000;stroke-width:0.8;\" x=\"30.103125\" xlink:href=\"#mc3b76244b6\" y=\"53.811027\"/>\r\n      </g>\r\n     </g>\r\n     <g id=\"text_10\">\r\n      <!-- 0.8 -->\r\n      <g transform=\"translate(7.2 57.610245)scale(0.1 -0.1)\">\r\n       <use xlink:href=\"#DejaVuSans-30\"/>\r\n       <use x=\"63.623047\" xlink:href=\"#DejaVuSans-2e\"/>\r\n       <use x=\"95.410156\" xlink:href=\"#DejaVuSans-38\"/>\r\n      </g>\r\n     </g>\r\n    </g>\r\n    <g id=\"ytick_6\">\r\n     <g id=\"line2d_11\">\r\n      <g>\r\n       <use style=\"stroke:#000000;stroke-width:0.8;\" x=\"30.103125\" xlink:href=\"#mc3b76244b6\" y=\"13.415478\"/>\r\n      </g>\r\n     </g>\r\n     <g id=\"text_11\">\r\n      <!-- 1.0 -->\r\n      <g transform=\"translate(7.2 17.214697)scale(0.1 -0.1)\">\r\n       <use xlink:href=\"#DejaVuSans-31\"/>\r\n       <use x=\"63.623047\" xlink:href=\"#DejaVuSans-2e\"/>\r\n       <use x=\"95.410156\" xlink:href=\"#DejaVuSans-30\"/>\r\n      </g>\r\n     </g>\r\n    </g>\r\n   </g>\r\n   <g id=\"patch_3\">\r\n    <path d=\"M 30.103125 224.64 \r\nL 30.103125 7.2 \r\n\" style=\"fill:none;stroke:#000000;stroke-linecap:square;stroke-linejoin:miter;stroke-width:0.8;\"/>\r\n   </g>\r\n   <g id=\"patch_4\">\r\n    <path d=\"M 364.903125 224.64 \r\nL 364.903125 7.2 \r\n\" style=\"fill:none;stroke:#000000;stroke-linecap:square;stroke-linejoin:miter;stroke-width:0.8;\"/>\r\n   </g>\r\n   <g id=\"patch_5\">\r\n    <path d=\"M 30.103125 224.64 \r\nL 364.903125 224.64 \r\n\" style=\"fill:none;stroke:#000000;stroke-linecap:square;stroke-linejoin:miter;stroke-width:0.8;\"/>\r\n   </g>\r\n   <g id=\"patch_6\">\r\n    <path d=\"M 30.103125 7.2 \r\nL 364.903125 7.2 \r\n\" style=\"fill:none;stroke:#000000;stroke-linecap:square;stroke-linejoin:miter;stroke-width:0.8;\"/>\r\n   </g>\r\n  </g>\r\n </g>\r\n <defs>\r\n  <clipPath id=\"pcfec6d8898\">\r\n   <rect height=\"217.44\" width=\"334.8\" x=\"30.103125\" y=\"7.2\"/>\r\n  </clipPath>\r\n </defs>\r\n</svg>\r\n",
      "image/png": "[encoded data removed]"
     },
     "metadata": {
      "needs_background": "light"
     }
    }
   ],
   "source": [
    "# Demo of a scatter plot in Jupyter\n",
    "\n",
    "import numpy as np\n",
    "import matplotlib.pyplot as plt\n",
    "\n",
    "N = 50\n",
    "x = np.random.rand(N)\n",
    "y = np.random.rand(N)\n",
    "colors = np.random.rand(N)\n",
    "area = np.pi * (15 * np.random.rand(N))**2\n",
    "\n",
    "plt.scatter(x,y, s=area, c=colors,alpha=0.5)\n",
    "plt.show()"
   ]
  },
  {
   "cell_type": "code",
   "execution_count": 35,
   "id": "9cc010be",
   "metadata": {},
   "outputs": [
    {
     "output_type": "display_data",
     "data": {
      "text/plain": "<IPython.core.display.HTML object>",
      "text/html": "<h1> Html Added Into Jupyter </h1>\n"
     },
     "metadata": {}
    }
   ],
   "source": [
    "%%HTML \n",
    "<h1> Html Added Into Jupyter </h1>"
   ]
  },
  {
   "cell_type": "code",
   "execution_count": 36,
   "id": "6b35aa43",
   "metadata": {},
   "outputs": [
    {
     "output_type": "stream",
     "name": "stdout",
     "text": [
      "60.3 µs ± 1.78 µs per loop (mean ± std. dev. of 7 runs, 10000 loops each)\n"
     ]
    }
   ],
   "source": [
    "%%timeit\n",
    "\n",
    "square_evens = [n*n for n in range(1000)]"
   ]
  },
  {
   "cell_type": "code",
   "execution_count": 37,
   "id": "71b7e0f4",
   "metadata": {},
   "outputs": [
    {
     "output_type": "execute_result",
     "data": {
      "text/plain": [
       "          0         1         2         3         4\n",
       "0  0.915962  0.659064  0.865783  0.256160  0.605964\n",
       "1  0.090436  0.395683  0.799039  0.196464  0.324045\n",
       "2  0.688586  0.354952  0.886549  0.475171  0.896991\n",
       "3  0.049692  0.292277  0.992161  0.019001  0.122366\n",
       "4  0.253105  0.140409  0.622627  0.720949  0.575648\n",
       "5  0.592633  0.046585  0.851515  0.988049  0.930075\n",
       "6  0.276026  0.330381  0.675328  0.438083  0.658030\n",
       "7  0.279087  0.841851  0.966000  0.416073  0.401494\n",
       "8  0.662478  0.084252  0.113587  0.588190  0.441286\n",
       "9  0.027148  0.254707  0.849402  0.839706  0.334278"
      ],
      "text/html": "<div>\n<style scoped>\n    .dataframe tbody tr th:only-of-type {\n        vertical-align: middle;\n    }\n\n    .dataframe tbody tr th {\n        vertical-align: top;\n    }\n\n    .dataframe thead th {\n        text-align: right;\n    }\n</style>\n<table border=\"1\" class=\"dataframe\">\n  <thead>\n    <tr style=\"text-align: right;\">\n      <th></th>\n      <th>0</th>\n      <th>1</th>\n      <th>2</th>\n      <th>3</th>\n      <th>4</th>\n    </tr>\n  </thead>\n  <tbody>\n    <tr>\n      <th>0</th>\n      <td>0.915962</td>\n      <td>0.659064</td>\n      <td>0.865783</td>\n      <td>0.256160</td>\n      <td>0.605964</td>\n    </tr>\n    <tr>\n      <th>1</th>\n      <td>0.090436</td>\n      <td>0.395683</td>\n      <td>0.799039</td>\n      <td>0.196464</td>\n      <td>0.324045</td>\n    </tr>\n    <tr>\n      <th>2</th>\n      <td>0.688586</td>\n      <td>0.354952</td>\n      <td>0.886549</td>\n      <td>0.475171</td>\n      <td>0.896991</td>\n    </tr>\n    <tr>\n      <th>3</th>\n      <td>0.049692</td>\n      <td>0.292277</td>\n      <td>0.992161</td>\n      <td>0.019001</td>\n      <td>0.122366</td>\n    </tr>\n    <tr>\n      <th>4</th>\n      <td>0.253105</td>\n      <td>0.140409</td>\n      <td>0.622627</td>\n      <td>0.720949</td>\n      <td>0.575648</td>\n    </tr>\n    <tr>\n      <th>5</th>\n      <td>0.592633</td>\n      <td>0.046585</td>\n      <td>0.851515</td>\n      <td>0.988049</td>\n      <td>0.930075</td>\n    </tr>\n    <tr>\n      <th>6</th>\n      <td>0.276026</td>\n      <td>0.330381</td>\n      <td>0.675328</td>\n      <td>0.438083</td>\n      <td>0.658030</td>\n    </tr>\n    <tr>\n      <th>7</th>\n      <td>0.279087</td>\n      <td>0.841851</td>\n      <td>0.966000</td>\n      <td>0.416073</td>\n      <td>0.401494</td>\n    </tr>\n    <tr>\n      <th>8</th>\n      <td>0.662478</td>\n      <td>0.084252</td>\n      <td>0.113587</td>\n      <td>0.588190</td>\n      <td>0.441286</td>\n    </tr>\n    <tr>\n      <th>9</th>\n      <td>0.027148</td>\n      <td>0.254707</td>\n      <td>0.849402</td>\n      <td>0.839706</td>\n      <td>0.334278</td>\n    </tr>\n  </tbody>\n</table>\n</div>"
     },
     "metadata": {},
     "execution_count": 37
    }
   ],
   "source": [
    "import pandas as pd \n",
    "import numpy as np\n",
    "\n",
    "df = pd.DataFrame(np.random.rand(10,5))\n",
    "df "
   ]
  },
  {
   "cell_type": "code",
   "execution_count": null,
   "id": "0348aa6b",
   "metadata": {},
   "outputs": [],
   "source": []
  },
  {
   "cell_type": "code",
   "execution_count": null,
   "metadata": {},
   "outputs": [],
   "source": []
  }
 ],
 "metadata": {
  "kernelspec": {
   "name": "python394jvsc74a57bd0423ed8196effe54864ee87b5499394774aa167260442c9c73ed5b00b26d0d576",
   "display_name": "Python 3.9.4 64-bit ('ml_learning': conda)"
  },
  "language_info": {
   "codemirror_mode": {
    "name": "ipython",
    "version": 3
   },
   "file_extension": ".py",
   "mimetype": "text/x-python",
   "name": "python",
   "nbconvert_exporter": "python",
   "pygments_lexer": "ipython3",
   "version": "3.9.4"
  }
 },
 "nbformat": 4,
 "nbformat_minor": 5
}