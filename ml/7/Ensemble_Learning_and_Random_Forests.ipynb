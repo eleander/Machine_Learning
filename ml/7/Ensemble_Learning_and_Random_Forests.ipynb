{
 "cells": [
  {
   "cell_type": "markdown",
   "id": "462db185",
   "metadata": {},
   "source": [
    "# Setup"
   ]
  },
  {
   "cell_type": "code",
   "execution_count": 1,
   "id": "823dcb73",
   "metadata": {},
   "outputs": [],
   "source": [
    "# Python ≥3.5 is required\n",
    "import sys\n",
    "assert sys.version_info >= (3, 5)\n",
    "\n",
    "# Scikit-Learn ≥0.20 is required\n",
    "import sklearn\n",
    "assert sklearn.__version__ >= \"0.20\"\n",
    "\n",
    "# Common imports\n",
    "import numpy as np\n",
    "import os\n",
    "\n",
    "# to make this notebook's output stable across runs\n",
    "np.random.seed(42)\n",
    "\n",
    "# To plot pretty figures\n",
    "%matplotlib inline\n",
    "import matplotlib as mpl\n",
    "import matplotlib.pyplot as plt\n",
    "mpl.rc('axes', labelsize=14)\n",
    "mpl.rc('xtick', labelsize=12)\n",
    "mpl.rc('ytick', labelsize=12)\n",
    "\n",
    "# Where to save the figures\n",
    "PROJECT_ROOT_DIR = \".\"\n",
    "CHAPTER_ID = \"ensembles\"\n",
    "IMAGES_PATH = os.path.join(PROJECT_ROOT_DIR, \"images\", CHAPTER_ID)\n",
    "os.makedirs(IMAGES_PATH, exist_ok=True)\n",
    "\n",
    "def save_fig(fig_id, tight_layout=True, fig_extension=\"png\", resolution=300):\n",
    "    path = os.path.join(IMAGES_PATH, fig_id + \".\" + fig_extension)\n",
    "    print(\"Saving figure\", fig_id)\n",
    "    if tight_layout:\n",
    "        plt.tight_layout()\n",
    "    plt.savefig(path, format=fig_extension, dpi=resolution)"
   ]
  },
  {
   "cell_type": "markdown",
   "id": "d90d4b5b",
   "metadata": {},
   "source": [
    "# Ensemble Learning \n",
    "\n",
    "\"If you aggregate the predictions of a group of predictors (such as classifiers or regressors), you will  \n",
    "often get better predictions than with the best individual predictor. A group of predictors  \n",
    "is called an ensemble; thus, this technique is called Ensemble Learning, and an  \n",
    "Ensemble Learning algorithm is called an Ensemble method.\"\n",
    "\n",
    "\"As discussed in Chapter 2, you will often use Ensemble methods near the end of a  \n",
    "project, once you have already built a few good predictors, to combine them into an  \n",
    "even better predictor.\""
   ]
  },
  {
   "cell_type": "markdown",
   "id": "79a151e2",
   "metadata": {},
   "source": [
    "# Voting Classifier\n",
    "\n",
    "\"A very simple way to create an even better classifier is to aggregate the predictions of\n",
    "each classifier and predict the class that gets the most votes. This majority-vote classifier\n",
    "is called a hard voting classifier (see Figure 7-2).\"\n",
    "\n",
    "![title](images/voting_classifier_1.png)\n",
    "![title](images/voting_classifier_2.png)\n",
    "\n",
    "\"Somewhat surprisingly, this voting classifier often achieves a higher accuracy than the  \n",
    "best classifier in the ensemble. In fact, even if each classifier is a weak learner (meaning  \n",
    "it does only slightly better than random guessing), the ensemble can still be a  \n",
    "strong learner (achieving high accuracy), provided there are a sufficient number of  \n",
    "weak learners and they are sufficiently diverse.\"\n",
    "\n",
    "TIP:\"Ensemble methods work best when the predictors are as independent  \n",
    "from one another as possible. One way to get diverse classifiers  \n",
    "is to train them using very different algorithms. This increases the  \n",
    "chance that they will make very different types of errors, improving  \n",
    "the ensemble’s accuracy.\""
   ]
  },
  {
   "cell_type": "code",
   "execution_count": 15,
   "id": "fddd0410",
   "metadata": {
    "scrolled": false
   },
   "outputs": [
    {
     "name": "stdout",
     "output_type": "stream",
     "text": [
      "Coin Tosses: \n",
      "[[0 0 0 ... 1 1 0]\n",
      " [0 1 1 ... 1 0 1]\n",
      " [1 1 1 ... 0 1 1]\n",
      " ...\n",
      " [1 0 1 ... 1 1 1]\n",
      " [0 0 0 ... 0 1 1]\n",
      " [1 1 1 ... 1 0 0]]\n",
      "Cumulative Sum\n",
      "[[   0    0    0 ...    1    1    0]\n",
      " [   0    1    1 ...    2    1    1]\n",
      " [   1    2    2 ...    2    2    2]\n",
      " ...\n",
      " [5036 5092 5134 ... 5148 5090 5074]\n",
      " [5036 5092 5134 ... 5148 5091 5075]\n",
      " [5037 5093 5135 ... 5149 5091 5075]]\n",
      "Np Arrange\n",
      "[[    1]\n",
      " [    2]\n",
      " [    3]\n",
      " ...\n",
      " [ 9998]\n",
      " [ 9999]\n",
      " [10000]]\n",
      "Cumulative Sum / Np Arrange\n",
      "[[    1]\n",
      " [    2]\n",
      " [    3]\n",
      " ...\n",
      " [ 9998]\n",
      " [ 9999]\n",
      " [10000]]\n",
      "Cumulative Head Ratio\n",
      "[[0.         0.         0.         ... 1.         1.         0.        ]\n",
      " [0.         0.5        0.5        ... 1.         0.5        0.5       ]\n",
      " [0.33333333 0.66666667 0.66666667 ... 0.66666667 0.66666667 0.66666667]\n",
      " ...\n",
      " [0.50370074 0.50930186 0.5135027  ... 0.51490298 0.50910182 0.5075015 ]\n",
      " [0.50365037 0.50925093 0.51345135 ... 0.51485149 0.50915092 0.50755076]\n",
      " [0.5037     0.5093     0.5135     ... 0.5149     0.5091     0.5075    ]]\n"
     ]
    }
   ],
   "source": [
    "heads_proba = 0.51\n",
    "# Note: np.random.rand(10000, 10) return an array of 10 columns and 10,000 rows where each number is x < 1\n",
    "# np.random.rand(10000, 10) < heads_proba makes a boolean so the array is an array of 1's and 0's\n",
    "coin_tosses = (np.random.rand(10000, 10) < heads_proba).astype(np.int32)\n",
    "print(\"Coin Tosses: \")\n",
    "print(coin_tosses)\n",
    "# Note: np.cumsum(coin_tosses, axis = 0) performs the cumulative sum over the rows\n",
    "# Np.arrange(1, 10001) creates an array from 1 - 10,000\n",
    "# .reshape(-1,1) converts the array to a array of 10,000 rows and 1 column\n",
    "cumulative_heads_ratio = np.cumsum(coin_tosses, axis=0) / np.arange(1, 10001).reshape(-1, 1)\n",
    "print(\"Cumulative Sum\")\n",
    "print(np.cumsum(coin_tosses, axis=0))\n",
    "print(\"Np Arrange\")\n",
    "print(np.arange(1, 10001).reshape(-1,1))\n",
    "print(\"Np Arrange with Reshape\")\n",
    "print(np.arange(1, 10001).reshape(-1, 1))\n",
    "print(\"Cumulative Head Ratio\")\n",
    "print(cumulative_heads_ratio)"
   ]
  },
  {
   "cell_type": "code",
   "execution_count": 16,
   "id": "459809d1",
   "metadata": {
    "scrolled": true
   },
   "outputs": [
    {
     "name": "stdout",
     "output_type": "stream",
     "text": [
      "Saving figure law_of_large_numbers_plot\n"
     ]
    },
    {
     "data": {
      "image/png": "[encoded data removed]",
      "text/plain": [
       "<Figure size 576x252 with 1 Axes>"
      ]
     },
     "metadata": {
      "needs_background": "light"
     },
     "output_type": "display_data"
    }
   ],
   "source": [
    "plt.figure(figsize=(8,3.5))\n",
    "plt.plot(cumulative_heads_ratio)\n",
    "plt.plot([0, 10000], [0.51, 0.51], \"k--\", linewidth=2, label=\"51%\")\n",
    "plt.plot([0, 10000], [0.5, 0.5], \"k-\", label=\"50%\")\n",
    "plt.xlabel(\"Number of coin tosses\")\n",
    "plt.ylabel(\"Heads ratio\")\n",
    "plt.legend(loc=\"lower right\")\n",
    "plt.axis([0, 10000, 0.42, 0.58])\n",
    "save_fig(\"law_of_large_numbers_plot\")\n",
    "plt.show()"
   ]
  },
  {
   "cell_type": "code",
   "execution_count": 17,
   "id": "68b39f93",
   "metadata": {},
   "outputs": [],
   "source": [
    "from sklearn.model_selection import train_test_split\n",
    "from sklearn.datasets import make_moons\n",
    "\n",
    "X, y = make_moons(n_samples=500, noise=0.30, random_state=42)\n",
    "X_train, X_test, y_train, y_test = train_test_split(X, y, random_state=42)"
   ]
  },
  {
   "cell_type": "code",
   "execution_count": 18,
   "id": "c7cce8ea",
   "metadata": {},
   "outputs": [],
   "source": [
    "from sklearn.ensemble import RandomForestClassifier\n",
    "from sklearn.ensemble import VotingClassifier\n",
    "from sklearn.linear_model import LogisticRegression\n",
    "from sklearn.svm import SVC\n",
    "\n",
    "log_clf = LogisticRegression(solver=\"lbfgs\", random_state=42)\n",
    "rnd_clf = RandomForestClassifier(n_estimators=100, random_state=42)\n",
    "svm_clf = SVC(gamma=\"scale\", random_state=42)\n",
    "\n",
    "voting_clf = VotingClassifier(\n",
    "    estimators=[('lr', log_clf), ('rf', rnd_clf), ('svc', svm_clf)],\n",
    "    voting='hard')"
   ]
  },
  {
   "cell_type": "code",
   "execution_count": 19,
   "id": "69b7124c",
   "metadata": {},
   "outputs": [
    {
     "data": {
      "text/plain": [
       "VotingClassifier(estimators=[('lr', LogisticRegression(random_state=42)),\n",
       "                             ('rf', RandomForestClassifier(random_state=42)),\n",
       "                             ('svc', SVC(random_state=42))])"
      ]
     },
     "execution_count": 19,
     "metadata": {},
     "output_type": "execute_result"
    }
   ],
   "source": [
    "voting_clf.fit(X_train, y_train)\n"
   ]
  },
  {
   "cell_type": "code",
   "execution_count": 25,
   "id": "ddf2ca46",
   "metadata": {
    "scrolled": true
   },
   "outputs": [
    {
     "name": "stdout",
     "output_type": "stream",
     "text": [
      "LogisticRegression 0.864\n",
      "RandomForestClassifier 0.896\n",
      "SVC 0.896\n",
      "VotingClassifier 0.912\n"
     ]
    }
   ],
   "source": [
    "from sklearn.metrics import accuracy_score\n",
    "\n",
    "for clf in (log_clf, rnd_clf, svm_clf, voting_clf):\n",
    "    clf.fit(X_train, y_train)\n",
    "    y_pred = clf.predict(X_test)\n",
    "    print(clf.__class__.__name__, accuracy_score(y_test, y_pred))"
   ]
  },
  {
   "cell_type": "markdown",
   "id": "e5e8f188",
   "metadata": {},
   "source": [
    "\"There you have it! The voting classifier slightly outperforms all the individual classifiers.\"\n",
    "\n",
    "\"If all classifiers are able to estimate class probabilities (i.e., they all have a predict_proba() method),  \n",
    "then you can tell Scikit-Learn to predict the class with the  \n",
    "highest class probability, averaged over all the individual classifiers. This is called soft  \n",
    "voting. It often achieves higher performance than hard voting because it gives more  \n",
    "weight to highly confident votes. All you need to do is replace voting=\"hard\" with  \n",
    "voting=\"soft\" and ensure that all classifiers can estimate class probabilities. This is  \n",
    "not the case for the SVC class by default, so you need to set its probability hyperparameter  \n",
    "to True (this will make the SVC class use cross-validation to estimate class  \n",
    "probabilities, slowing down training, and it will add a predict_proba() method). If  \n",
    "you modify the preceding code to use soft voting, you will find that the voting classifier  \n",
    "achieves over 91.2% accuracy!\""
   ]
  },
  {
   "cell_type": "code",
   "execution_count": 26,
   "id": "4ff82e67",
   "metadata": {},
   "outputs": [
    {
     "name": "stdout",
     "output_type": "stream",
     "text": [
      "LogisticRegression 0.864\n",
      "RandomForestClassifier 0.896\n",
      "SVC 0.896\n",
      "VotingClassifier 0.92\n"
     ]
    }
   ],
   "source": [
    "from sklearn.ensemble import RandomForestClassifier\n",
    "from sklearn.ensemble import VotingClassifier\n",
    "from sklearn.linear_model import LogisticRegression\n",
    "from sklearn.svm import SVC\n",
    "\n",
    "log_clf = LogisticRegression(solver=\"lbfgs\", random_state=42)\n",
    "rnd_clf = RandomForestClassifier(n_estimators=100, random_state=42)\n",
    "svm_clf = SVC(gamma=\"scale\", random_state=42, probability = True)\n",
    "\n",
    "voting_clf = VotingClassifier(\n",
    "    estimators=[('lr', log_clf), ('rf', rnd_clf), ('svc', svm_clf)],\n",
    "    voting='soft')\n",
    "\n",
    "voting_clf.fit(X_train, y_train)\n",
    "\n",
    "from sklearn.metrics import accuracy_score\n",
    "\n",
    "for clf in (log_clf, rnd_clf, svm_clf, voting_clf):\n",
    "    clf.fit(X_train, y_train)\n",
    "    y_pred = clf.predict(X_test)\n",
    "    print(clf.__class__.__name__, accuracy_score(y_test, y_pred))"
   ]
  }
 ],
 "metadata": {
  "kernelspec": {
   "display_name": "Python 3",
   "language": "python",
   "name": "python3"
  },
  "language_info": {
   "codemirror_mode": {
    "name": "ipython",
    "version": 3
   },
   "file_extension": ".py",
   "mimetype": "text/x-python",
   "name": "python",
   "nbconvert_exporter": "python",
   "pygments_lexer": "ipython3",
   "version": "3.8.5"
  }
 },
 "nbformat": 4,
 "nbformat_minor": 5
}
