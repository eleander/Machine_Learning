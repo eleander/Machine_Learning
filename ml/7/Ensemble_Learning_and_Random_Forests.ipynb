{
 "cells": [
  {
   "cell_type": "markdown",
   "id": "71c6e84b",
   "metadata": {},
   "source": [
    "# Setup"
   ]
  },
  {
   "cell_type": "code",
   "execution_count": 1,
   "id": "35a02182",
   "metadata": {},
   "outputs": [],
   "source": [
    "# Python ≥3.5 is required\n",
    "import sys\n",
    "assert sys.version_info >= (3, 5)\n",
    "\n",
    "# Scikit-Learn ≥0.20 is required\n",
    "import sklearn\n",
    "assert sklearn.__version__ >= \"0.20\"\n",
    "\n",
    "# Common imports\n",
    "import numpy as np\n",
    "import os\n",
    "\n",
    "# to make this notebook's output stable across runs\n",
    "np.random.seed(42)\n",
    "\n",
    "# To plot pretty figures\n",
    "%matplotlib inline\n",
    "import matplotlib as mpl\n",
    "import matplotlib.pyplot as plt\n",
    "mpl.rc('axes', labelsize=14)\n",
    "mpl.rc('xtick', labelsize=12)\n",
    "mpl.rc('ytick', labelsize=12)\n",
    "\n",
    "# Where to save the figures\n",
    "PROJECT_ROOT_DIR = \".\"\n",
    "CHAPTER_ID = \"ensembles\"\n",
    "IMAGES_PATH = os.path.join(PROJECT_ROOT_DIR, \"images\", CHAPTER_ID)\n",
    "os.makedirs(IMAGES_PATH, exist_ok=True)\n",
    "\n",
    "def save_fig(fig_id, tight_layout=True, fig_extension=\"png\", resolution=300):\n",
    "    path = os.path.join(IMAGES_PATH, fig_id + \".\" + fig_extension)\n",
    "    print(\"Saving figure\", fig_id)\n",
    "    if tight_layout:\n",
    "        plt.tight_layout()\n",
    "    plt.savefig(path, format=fig_extension, dpi=resolution)"
   ]
  },
  {
   "cell_type": "markdown",
   "id": "d582dccc",
   "metadata": {},
   "source": [
    "# Ensemble Learning \n",
    "\n",
    "\"If you aggregate the predictions of a group of predictors (such as classifiers or regressors), you will  \n",
    "often get better predictions than with the best individual predictor. A group of predictors  \n",
    "is called an ensemble; thus, this technique is called Ensemble Learning, and an  \n",
    "Ensemble Learning algorithm is called an Ensemble method.\"\n",
    "\n",
    "\"As discussed in Chapter 2, you will often use Ensemble methods near the end of a  \n",
    "project, once you have already built a few good predictors, to combine them into an  \n",
    "even better predictor.\""
   ]
  },
  {
   "cell_type": "markdown",
   "id": "a45d8fe7",
   "metadata": {},
   "source": [
    "# Voting Classifier\n",
    "\n",
    "\"A very simple way to create an even better classifier is to aggregate the predictions of\n",
    "each classifier and predict the class that gets the most votes. This majority-vote classifier\n",
    "is called a hard voting classifier (see Figure 7-2).\"\n",
    "\n",
    "![title](images/voting_classifier_1.png)\n",
    "![title](images/voting_classifier_2.png)\n",
    "\n",
    "\"Somewhat surprisingly, this voting classifier often achieves a higher accuracy than the  \n",
    "best classifier in the ensemble. In fact, even if each classifier is a weak learner (meaning  \n",
    "it does only slightly better than random guessing), the ensemble can still be a  \n",
    "strong learner (achieving high accuracy), provided there are a sufficient number of  \n",
    "weak learners and they are sufficiently diverse.\"\n",
    "\n",
    "TIP:\"Ensemble methods work best when the predictors are as independent  \n",
    "from one another as possible. One way to get diverse classifiers  \n",
    "is to train them using very different algorithms. This increases the  \n",
    "chance that they will make very different types of errors, improving  \n",
    "the ensemble’s accuracy.\""
   ]
  },
  {
   "cell_type": "code",
   "execution_count": 2,
   "id": "b3b82892",
   "metadata": {
    "scrolled": false
   },
   "outputs": [
    {
     "name": "stdout",
     "output_type": "stream",
     "text": [
      "Coin Tosses: \n",
      "[[1 0 0 ... 0 0 0]\n",
      " [1 0 0 ... 0 1 1]\n",
      " [0 1 1 ... 0 0 1]\n",
      " ...\n",
      " [1 1 0 ... 1 1 0]\n",
      " [0 0 1 ... 1 1 1]\n",
      " [0 1 0 ... 0 1 1]]\n",
      "Cumulative Sum\n",
      "[[   1    0    0 ...    0    0    0]\n",
      " [   2    0    0 ...    0    1    1]\n",
      " [   2    1    1 ...    0    1    2]\n",
      " ...\n",
      " [5113 5114 5067 ... 5094 5106 5100]\n",
      " [5113 5114 5068 ... 5095 5107 5101]\n",
      " [5113 5115 5068 ... 5095 5108 5102]]\n",
      "Np Arrange\n",
      "[[    1]\n",
      " [    2]\n",
      " [    3]\n",
      " ...\n",
      " [ 9998]\n",
      " [ 9999]\n",
      " [10000]]\n",
      "Np Arrange with Reshape\n",
      "[[    1]\n",
      " [    2]\n",
      " [    3]\n",
      " ...\n",
      " [ 9998]\n",
      " [ 9999]\n",
      " [10000]]\n",
      "Cumulative Head Ratio\n",
      "[[1.         0.         0.         ... 0.         0.         0.        ]\n",
      " [1.         0.         0.         ... 0.         0.5        0.5       ]\n",
      " [0.66666667 0.33333333 0.33333333 ... 0.         0.33333333 0.66666667]\n",
      " ...\n",
      " [0.51140228 0.5115023  0.50680136 ... 0.5095019  0.51070214 0.51010202]\n",
      " [0.51135114 0.51145115 0.50685069 ... 0.50955096 0.51075108 0.51015102]\n",
      " [0.5113     0.5115     0.5068     ... 0.5095     0.5108     0.5102    ]]\n"
     ]
    }
   ],
   "source": [
    "heads_proba = 0.51\n",
    "# Note: np.random.rand(10000, 10) return an array of 10 columns and 10,000 rows where each number is x < 1\n",
    "# np.random.rand(10000, 10) < heads_proba makes a boolean so the array is an array of 1's and 0's\n",
    "coin_tosses = (np.random.rand(10000, 10) < heads_proba).astype(np.int32)\n",
    "print(\"Coin Tosses: \")\n",
    "print(coin_tosses)\n",
    "# Note: np.cumsum(coin_tosses, axis = 0) performs the cumulative sum over the rows\n",
    "# Np.arrange(1, 10001) creates an array from 1 - 10,000\n",
    "# .reshape(-1,1) converts the array to a array of 10,000 rows and 1 column\n",
    "cumulative_heads_ratio = np.cumsum(coin_tosses, axis=0) / np.arange(1, 10001).reshape(-1, 1)\n",
    "print(\"Cumulative Sum\")\n",
    "print(np.cumsum(coin_tosses, axis=0))\n",
    "print(\"Np Arrange\")\n",
    "print(np.arange(1, 10001).reshape(-1,1))\n",
    "print(\"Np Arrange with Reshape\")\n",
    "print(np.arange(1, 10001).reshape(-1, 1))\n",
    "print(\"Cumulative Head Ratio\")\n",
    "print(cumulative_heads_ratio)"
   ]
  },
  {
   "cell_type": "code",
   "execution_count": 3,
   "id": "75439f5e",
   "metadata": {
    "scrolled": true
   },
   "outputs": [
    {
     "name": "stdout",
     "output_type": "stream",
     "text": [
      "Saving figure law_of_large_numbers_plot\n"
     ]
    },
    {
     "data": {
      "image/png": "[encoded data removed]",
      "text/plain": [
       "<Figure size 576x252 with 1 Axes>"
      ]
     },
     "metadata": {
      "needs_background": "light"
     },
     "output_type": "display_data"
    }
   ],
   "source": [
    "plt.figure(figsize=(8,3.5))\n",
    "plt.plot(cumulative_heads_ratio)\n",
    "plt.plot([0, 10000], [0.51, 0.51], \"k--\", linewidth=2, label=\"51%\")\n",
    "plt.plot([0, 10000], [0.5, 0.5], \"k-\", label=\"50%\")\n",
    "plt.xlabel(\"Number of coin tosses\")\n",
    "plt.ylabel(\"Heads ratio\")\n",
    "plt.legend(loc=\"lower right\")\n",
    "plt.axis([0, 10000, 0.42, 0.58])\n",
    "save_fig(\"law_of_large_numbers_plot\")\n",
    "plt.show()"
   ]
  },
  {
   "cell_type": "code",
   "execution_count": 4,
   "id": "560c6b30",
   "metadata": {},
   "outputs": [],
   "source": [
    "from sklearn.model_selection import train_test_split\n",
    "from sklearn.datasets import make_moons\n",
    "\n",
    "X, y = make_moons(n_samples=500, noise=0.30, random_state=42)\n",
    "X_train, X_test, y_train, y_test = train_test_split(X, y, random_state=42)"
   ]
  },
  {
   "cell_type": "code",
   "execution_count": 5,
   "id": "77a29987",
   "metadata": {},
   "outputs": [],
   "source": [
    "from sklearn.ensemble import RandomForestClassifier\n",
    "from sklearn.ensemble import VotingClassifier\n",
    "from sklearn.linear_model import LogisticRegression\n",
    "from sklearn.svm import SVC\n",
    "\n",
    "log_clf = LogisticRegression(solver=\"lbfgs\", random_state=42)\n",
    "rnd_clf = RandomForestClassifier(n_estimators=100, random_state=42)\n",
    "svm_clf = SVC(gamma=\"scale\", random_state=42)\n",
    "\n",
    "voting_clf = VotingClassifier(\n",
    "    estimators=[('lr', log_clf), ('rf', rnd_clf), ('svc', svm_clf)],\n",
    "    voting='hard')"
   ]
  },
  {
   "cell_type": "code",
   "execution_count": 6,
   "id": "a0227a3a",
   "metadata": {},
   "outputs": [
    {
     "data": {
      "text/plain": [
       "VotingClassifier(estimators=[('lr', LogisticRegression(random_state=42)),\n",
       "                             ('rf', RandomForestClassifier(random_state=42)),\n",
       "                             ('svc', SVC(random_state=42))])"
      ]
     },
     "execution_count": 6,
     "metadata": {},
     "output_type": "execute_result"
    }
   ],
   "source": [
    "voting_clf.fit(X_train, y_train)\n"
   ]
  },
  {
   "cell_type": "code",
   "execution_count": 7,
   "id": "a9fbaf8c",
   "metadata": {
    "scrolled": true
   },
   "outputs": [
    {
     "name": "stdout",
     "output_type": "stream",
     "text": [
      "LogisticRegression 0.864\n",
      "RandomForestClassifier 0.896\n",
      "SVC 0.896\n",
      "VotingClassifier 0.912\n"
     ]
    }
   ],
   "source": [
    "from sklearn.metrics import accuracy_score\n",
    "\n",
    "for clf in (log_clf, rnd_clf, svm_clf, voting_clf):\n",
    "    clf.fit(X_train, y_train)\n",
    "    y_pred = clf.predict(X_test)\n",
    "    print(clf.__class__.__name__, accuracy_score(y_test, y_pred))"
   ]
  },
  {
   "cell_type": "markdown",
   "id": "79a0c953",
   "metadata": {},
   "source": [
    "\"There you have it! The voting classifier slightly outperforms all the individual classifiers.\"\n",
    "\n",
    "\"If all classifiers are able to estimate class probabilities (i.e., they all have a predict_proba() method),  \n",
    "then you can tell Scikit-Learn to predict the class with the  \n",
    "highest class probability, averaged over all the individual classifiers. This is called soft  \n",
    "voting. It often achieves higher performance than hard voting because it gives more  \n",
    "weight to highly confident votes. All you need to do is replace voting=\"hard\" with  \n",
    "voting=\"soft\" and ensure that all classifiers can estimate class probabilities. This is  \n",
    "not the case for the SVC class by default, so you need to set its probability hyperparameter  \n",
    "to True (this will make the SVC class use cross-validation to estimate class  \n",
    "probabilities, slowing down training, and it will add a predict_proba() method). If  \n",
    "you modify the preceding code to use soft voting, you will find that the voting classifier  \n",
    "achieves over 91.2% accuracy!\""
   ]
  },
  {
   "cell_type": "code",
   "execution_count": 8,
   "id": "9096fbca",
   "metadata": {
    "scrolled": true
   },
   "outputs": [
    {
     "name": "stdout",
     "output_type": "stream",
     "text": [
      "LogisticRegression 0.864\n",
      "RandomForestClassifier 0.896\n",
      "SVC 0.896\n",
      "VotingClassifier 0.92\n"
     ]
    }
   ],
   "source": [
    "from sklearn.ensemble import RandomForestClassifier\n",
    "from sklearn.ensemble import VotingClassifier\n",
    "from sklearn.linear_model import LogisticRegression\n",
    "from sklearn.svm import SVC\n",
    "\n",
    "log_clf = LogisticRegression(solver=\"lbfgs\", random_state=42)\n",
    "rnd_clf = RandomForestClassifier(n_estimators=100, random_state=42)\n",
    "svm_clf = SVC(gamma=\"scale\", random_state=42, probability = True)\n",
    "\n",
    "voting_clf = VotingClassifier(\n",
    "    estimators=[('lr', log_clf), ('rf', rnd_clf), ('svc', svm_clf)],\n",
    "    voting='soft')\n",
    "\n",
    "voting_clf.fit(X_train, y_train)\n",
    "\n",
    "from sklearn.metrics import accuracy_score\n",
    "\n",
    "for clf in (log_clf, rnd_clf, svm_clf, voting_clf):\n",
    "    clf.fit(X_train, y_train)\n",
    "    y_pred = clf.predict(X_test)\n",
    "    print(clf.__class__.__name__, accuracy_score(y_test, y_pred))"
   ]
  },
  {
   "cell_type": "markdown",
   "id": "dccacb03",
   "metadata": {},
   "source": [
    "# Bagging and Pasting\n",
    "\n",
    "\"One way to get a diverse set of classifiers is to use very different training algorithms,  \n",
    "as just discussed. Another approach is to use the same training algorithm for every  \n",
    "predictor and train them on different random subsets of the training set\"\n",
    "\n",
    "\"When sampling is performed with replacement, this method is called bagging (short for bootstrap  \n",
    "aggregating). When sampling is performed without replacement, it is called pasting\"\n",
    "\n",
    "\"In other words, both bagging and pasting allow training instances to be sampled several  \n",
    "times across multiple predictors, but only bagging allows training instances to be  \n",
    "sampled several times for the same predictor. This sampling and training process is  \n",
    "represented in Figure 7-4.\"\n",
    "\n",
    "![title](images/bagging_and_pasting_1.png)\n",
    "\n",
    "\"Once all predictors are trained, the ensemble can make a prediction for a new  \n",
    "instance by simply aggregating the predictions of all predictors. The aggregation  \n",
    "function is typically the statistical mode (i.e., the most frequent prediction, just like a  \n",
    "hard voting classifier) for classification, or the average for regression. Each individual  \n",
    "predictor has a higher bias than if it were trained on the original training set, but  \n",
    "aggregation reduces both bias and variance.4 Generally, the net result is that the  \n",
    "ensemble has a similar bias but a lower variance than a single predictor trained on the  \n",
    "original training set.\""
   ]
  },
  {
   "cell_type": "markdown",
   "id": "3afcde01",
   "metadata": {},
   "source": [
    "## Bagging and Pasting in Scikit-Learn\n",
    "\n",
    "\"Scikit-Learn offers a simple API for both bagging and pasting with the BaggingClassifier class (or BaggingRegressor for regression).\""
   ]
  },
  {
   "cell_type": "code",
   "execution_count": 9,
   "id": "c95d845b",
   "metadata": {},
   "outputs": [],
   "source": [
    "from sklearn.ensemble import BaggingClassifier\n",
    "from sklearn.tree import DecisionTreeClassifier\n",
    "\n",
    "bag_clf = BaggingClassifier(\n",
    "    DecisionTreeClassifier(), n_estimators=500,\n",
    "    max_samples=100, bootstrap=True, random_state=42)\n",
    "bag_clf.fit(X_train, y_train)\n",
    "y_pred = bag_clf.predict(X_test)"
   ]
  },
  {
   "cell_type": "code",
   "execution_count": 10,
   "id": "196d4468",
   "metadata": {
    "scrolled": true
   },
   "outputs": [
    {
     "name": "stdout",
     "output_type": "stream",
     "text": [
      "Bagging Accuracy:  0.904\n"
     ]
    }
   ],
   "source": [
    "from sklearn.metrics import accuracy_score\n",
    "print(\"Bagging Accuracy: \", accuracy_score(y_test, y_pred))"
   ]
  },
  {
   "cell_type": "markdown",
   "id": "d5ecefec",
   "metadata": {},
   "source": [
    "To performing pasting, set bootstrap = False"
   ]
  },
  {
   "cell_type": "code",
   "execution_count": 11,
   "id": "5c1323cd",
   "metadata": {},
   "outputs": [],
   "source": [
    "from sklearn.ensemble import BaggingClassifier\n",
    "from sklearn.tree import DecisionTreeClassifier\n",
    "\n",
    "past_clf = BaggingClassifier(\n",
    "    DecisionTreeClassifier(), n_estimators=500,\n",
    "    max_samples=100, bootstrap=False, random_state=42)\n",
    "past_clf.fit(X_train, y_train)\n",
    "y_pred = bag_clf.predict(X_test)"
   ]
  },
  {
   "cell_type": "code",
   "execution_count": 12,
   "id": "cdfec97c",
   "metadata": {},
   "outputs": [
    {
     "name": "stdout",
     "output_type": "stream",
     "text": [
      "Pasting Accuracy:  0.904\n"
     ]
    }
   ],
   "source": [
    "from sklearn.metrics import accuracy_score\n",
    "print(\"Pasting Accuracy: \", accuracy_score(y_test, y_pred))"
   ]
  },
  {
   "cell_type": "code",
   "execution_count": 13,
   "id": "0e42f63f",
   "metadata": {},
   "outputs": [
    {
     "name": "stdout",
     "output_type": "stream",
     "text": [
      "Decision Tree Accuracy:  0.856\n"
     ]
    }
   ],
   "source": [
    "tree_clf = DecisionTreeClassifier(random_state=42)\n",
    "tree_clf.fit(X_train, y_train)\n",
    "y_pred_tree = tree_clf.predict(X_test)\n",
    "print(\"Decision Tree Accuracy: \", accuracy_score(y_test, y_pred_tree))"
   ]
  },
  {
   "cell_type": "markdown",
   "id": "6135feb8",
   "metadata": {},
   "source": [
    "NOTE \"The BaggingClassifier automatically performs soft voting  \n",
    "instead of hard voting if the base classifier can estimate class probabilities  \n",
    "(i.e., if it has a predict_proba() method), which is the case  \n",
    "with Decision Tree classifiers.\""
   ]
  },
  {
   "cell_type": "code",
   "execution_count": 14,
   "id": "08281124",
   "metadata": {},
   "outputs": [],
   "source": [
    "from matplotlib.colors import ListedColormap\n",
    "\n",
    "def plot_decision_boundary(clf, X, y, axes=[-1.5, 2.45, -1, 1.5], alpha=0.5, contour=True):\n",
    "    x1s = np.linspace(axes[0], axes[1], 100)\n",
    "    x2s = np.linspace(axes[2], axes[3], 100)\n",
    "    x1, x2 = np.meshgrid(x1s, x2s)\n",
    "    X_new = np.c_[x1.ravel(), x2.ravel()]\n",
    "    y_pred = clf.predict(X_new).reshape(x1.shape)\n",
    "    custom_cmap = ListedColormap(['#fafab0','#9898ff','#a0faa0'])\n",
    "    plt.contourf(x1, x2, y_pred, alpha=0.3, cmap=custom_cmap)\n",
    "    if contour:\n",
    "        custom_cmap2 = ListedColormap(['#7d7d58','#4c4c7f','#507d50'])\n",
    "        plt.contour(x1, x2, y_pred, cmap=custom_cmap2, alpha=0.8)\n",
    "    plt.plot(X[:, 0][y==0], X[:, 1][y==0], \"yo\", alpha=alpha)\n",
    "    plt.plot(X[:, 0][y==1], X[:, 1][y==1], \"bs\", alpha=alpha)\n",
    "    plt.axis(axes)\n",
    "    plt.xlabel(r\"$x_1$\", fontsize=18)\n",
    "    plt.ylabel(r\"$x_2$\", fontsize=18, rotation=0)"
   ]
  },
  {
   "cell_type": "code",
   "execution_count": 15,
   "id": "ddc90b41",
   "metadata": {
    "scrolled": true
   },
   "outputs": [
    {
     "name": "stdout",
     "output_type": "stream",
     "text": [
      "Saving figure decision_tree_without_and_with_bagging_plot\n"
     ]
    },
    {
     "data": {
      "image/png": "[encoded data removed]",
      "text/plain": [
       "<Figure size 720x288 with 2 Axes>"
      ]
     },
     "metadata": {
      "needs_background": "light"
     },
     "output_type": "display_data"
    }
   ],
   "source": [
    "fix, axes = plt.subplots(ncols=2, figsize=(10,4), sharey=True)\n",
    "plt.sca(axes[0])\n",
    "plot_decision_boundary(tree_clf, X, y)\n",
    "plt.title(\"Decision Tree\", fontsize=14)\n",
    "plt.sca(axes[1])\n",
    "plot_decision_boundary(bag_clf, X, y)\n",
    "plt.title(\"Decision Trees with Bagging\", fontsize=14)\n",
    "plt.ylabel(\"\")\n",
    "save_fig(\"decision_tree_without_and_with_bagging_plot\")\n",
    "plt.show()"
   ]
  },
  {
   "cell_type": "markdown",
   "id": "5d0b0e73",
   "metadata": {},
   "source": [
    "\"As you can see, the ensemble’s predictions will likely  \n",
    "generalize much better than the single Decision Tree’s predictions: the ensemble has a  \n",
    "comparable bias but a smaller variance (it makes roughly the same number of errors  \n",
    "on the training set, but the decision boundary is less irregular).\"\n",
    "\n",
    "\"Bootstrapping introduces a bit more diversity in the subsets that each predictor is  \n",
    "trained on, so bagging ends up with a slightly higher bias than pasting; but the extra  \n",
    "diversity also means that the predictors end up being less correlated, so the ensemble’s  \n",
    "variance is reduced. Overall, bagging often results in better models, which explains  \n",
    "why it is generally preferred. However, if you have spare time and CPU power, you  \n",
    "can use cross-validation to evaluate both bagging and pasting and select the one that  \n",
    "works best.\""
   ]
  },
  {
   "cell_type": "markdown",
   "id": "f6c236cb",
   "metadata": {},
   "source": [
    "## Out-of-Bag Evaluation\n",
    "\n",
    "\"With bagging, some instances may be sampled several times for any given predictor,  \n",
    "while others may not be sampled at all. By default a BaggingClassifier samples m  \n",
    "training instances with replacement (bootstrap=True), where m is the size of the  \n",
    "training set. This means that only about 63% of the training instances are sampled on  \n",
    "average for each predictor.6 The remaining 37% of the training instances that are not  \n",
    "sampled are called out-of-bag (oob) instances. Note that they are not the same 37%  \n",
    "for all predictors.\n",
    "\n",
    "Since a predictor never sees the oob instances during training, it can be evaluated on  \n",
    "these instances, without the need for a separate validation set. You can evaluate the  \n",
    "ensemble itself by averaging out the oob evaluations of each predictor.  \n",
    "\n",
    "In Scikit-Learn, you can set oob_score=True when creating a BaggingClassifier to  \n",
    "request an automatic oob evaluation after training. The following code demonstrates  \n",
    "this. The resulting evaluation score is available through the oob_score_ variable:\" "
   ]
  },
  {
   "cell_type": "code",
   "execution_count": 16,
   "id": "47dd4790",
   "metadata": {},
   "outputs": [
    {
     "data": {
      "text/plain": [
       "0.896"
      ]
     },
     "execution_count": 16,
     "metadata": {},
     "output_type": "execute_result"
    }
   ],
   "source": [
    "bag_clf = BaggingClassifier(\n",
    "    DecisionTreeClassifier(), n_estimators=500,\n",
    "    bootstrap=True, oob_score=True, random_state=42)\n",
    "\n",
    "bag_clf.fit(X_train, y_train)\n",
    "bag_clf.oob_score_"
   ]
  },
  {
   "cell_type": "markdown",
   "id": "087eb18c",
   "metadata": {},
   "source": [
    "\"According to this oob evaluation, this BaggingClassifier is likely to achieve about  \n",
    "89.6% accuracy on the test set. Let’s verify this:\""
   ]
  },
  {
   "cell_type": "code",
   "execution_count": 17,
   "id": "997cca6e",
   "metadata": {},
   "outputs": [
    {
     "data": {
      "text/plain": [
       "0.92"
      ]
     },
     "execution_count": 17,
     "metadata": {},
     "output_type": "execute_result"
    }
   ],
   "source": [
    "from sklearn.metrics import accuracy_score\n",
    "y_pred = bag_clf.predict(X_test)\n",
    "accuracy_score(y_test, y_pred)"
   ]
  },
  {
   "cell_type": "markdown",
   "id": "b83a7272",
   "metadata": {},
   "source": [
    "Close enough!"
   ]
  },
  {
   "cell_type": "markdown",
   "id": "9ba08ad3",
   "metadata": {},
   "source": [
    "\"The oob decision function for each training instance is also available through the  \n",
    "oob_decision_function_ variable. In this case (since the base estimator has a pre   \n",
    "dict_proba() method), the decision function returns the class probabilities for each   \n",
    "training instance. For example, the oob evaluation estimates that the first training  \n",
    "instance has a 68.25% probability of belonging to the positive class (and 31.75% of  \n",
    "belonging to the negative class):\""
   ]
  },
  {
   "cell_type": "code",
   "execution_count": 18,
   "id": "b2b682da",
   "metadata": {
    "scrolled": false
   },
   "outputs": [],
   "source": [
    "# bag_clf.oob_decision_function_"
   ]
  },
  {
   "cell_type": "markdown",
   "id": "bc114551",
   "metadata": {},
   "source": [
    "# Random Patches and Random Subspaces\n",
    "\n",
    "\"The BaggingClassifier class supports sampling the features as well. Sampling is  \n",
    "controlled by two hyperparameters: max_features and bootstrap_features. They  \n",
    "work the same way as max_samples and bootstrap, but for feature sampling instead  \n",
    "of instance sampling. Thus, each predictor will be trained on a random subset of the  \n",
    "input features.\"\n",
    "\n",
    "\"This technique is particularly useful when you are dealing with high-dimensional  \n",
    "inputs (such as images). Sampling both training instances and features is called the  \n",
    "Random Patches method. Keeping all training instances (by setting bootstrap=False  \n",
    "and max_samples=1.0) but sampling features (by setting bootstrap_features to   \n",
    "True and/or max_features to a value smaller than 1.0) is called the Random Subspaces  \n",
    "method.\"\n",
    "\n",
    "\"Sampling features results in even more predictor diversity, trading a bit more bias for  \n",
    "a lower variance.\""
   ]
  },
  {
   "cell_type": "markdown",
   "id": "899cc2fe",
   "metadata": {},
   "source": [
    "# Random Forests \n",
    "\n",
    "\"As we have discussed, a Random Forest9 is an ensemble of Decision Trees, generally  \n",
    "trained via the bagging method (or sometimes pasting), typically with max_samples  \n",
    "set to the size of the training set. Instead of building a BaggingClassifier and passing  \n",
    "it a DecisionTreeClassifier, you can instead use the RandomForestClassifier  \n",
    "class, which is more convenient and optimized for Decision Trees10 (similarly, there is  \n",
    "a RandomForestRegressor class for regression tasks). The following code uses all  \n",
    "available CPU cores to train a Random Forest classifier\" "
   ]
  },
  {
   "cell_type": "code",
   "execution_count": 19,
   "id": "810c76cc",
   "metadata": {},
   "outputs": [],
   "source": [
    "bag_clf = BaggingClassifier(\n",
    "    DecisionTreeClassifier(max_features=\"sqrt\", max_leaf_nodes=16),\n",
    "    n_estimators=500, random_state=42)\n"
   ]
  },
  {
   "cell_type": "code",
   "execution_count": 20,
   "id": "6126ab74",
   "metadata": {},
   "outputs": [],
   "source": [
    "bag_clf.fit(X_train, y_train)\n",
    "y_pred = bag_clf.predict(X_test)"
   ]
  },
  {
   "cell_type": "code",
   "execution_count": 21,
   "id": "e811f245",
   "metadata": {},
   "outputs": [],
   "source": [
    "from sklearn.ensemble import RandomForestClassifier\n",
    "\n",
    "rnd_clf = RandomForestClassifier(n_estimators=500, max_leaf_nodes=16, random_state=42)\n",
    "rnd_clf.fit(X_train, y_train)\n",
    "\n",
    "y_pred_rf = rnd_clf.predict(X_test)"
   ]
  },
  {
   "cell_type": "code",
   "execution_count": 22,
   "id": "0989d486",
   "metadata": {
    "scrolled": true
   },
   "outputs": [
    {
     "data": {
      "text/plain": [
       "1.0"
      ]
     },
     "execution_count": 22,
     "metadata": {},
     "output_type": "execute_result"
    }
   ],
   "source": [
    "np.sum(y_pred == y_pred_rf) / len(y_pred)  # very similar predictions"
   ]
  },
  {
   "cell_type": "markdown",
   "id": "e9dca9cd",
   "metadata": {},
   "source": [
    "\"The Random Forest algorithm introduces extra randomness when growing trees;  \n",
    "instead of searching for the very best feature when splitting a node (see Chapter 6), it  \n",
    "searches for the best feature among a random subset of features. The algorithm  \n",
    "results in greater tree diversity, which (again) trades a higher bias for a lower variance,  \n",
    "generally yielding an overall better model.\""
   ]
  },
  {
   "cell_type": "markdown",
   "id": "c1aeda06",
   "metadata": {},
   "source": [
    "## Extra-Trees\n",
    "\"When you are growing a tree in a Random Forest, at each node only a random subset  \n",
    "of the features is considered for splitting (as discussed earlier). It is possible to make  \n",
    "trees even more random by also using random thresholds for each feature rather than  \n",
    "searching for the best possible thresholds (like regular Decision Trees do).\"  \n",
    "\n",
    "\"A forest of such extremely random trees is called an Extremely Randomized Trees  \n",
    "ensemble (or Extra-Trees for short). Once again, this technique trades more bias for  \n",
    "a lower variance. It also makes Extra-Trees much faster to train than regular Random  \n",
    "Forests, because finding the best possible threshold for each feature at every node is  \n",
    "one of the most time-consuming tasks of growing a tree.\"\n",
    "\n",
    "\"You can create an Extra-Trees classifier using Scikit-Learn’s ExtraTreesClassifier  \n",
    "class. Its API is identical to the RandomForestClassifier class. Similarly, the Extra  \n",
    "TreesRegressor class has the same API as the RandomForestRegressor class.\"\n",
    "\n",
    "TIP: \"It is hard to tell in advance whether a RandomForestClassifier  \n",
    "will perform better or worse than an ExtraTreesClassifier. Generally,  \n",
    "the only way to know is to try both and compare them using  \n",
    "cross-validation (tuning the hyperparameters using grid search).\""
   ]
  },
  {
   "cell_type": "markdown",
   "id": "97eed9e3",
   "metadata": {},
   "source": [
    "## Feature Importance "
   ]
  },
  {
   "cell_type": "markdown",
   "id": "d722e121",
   "metadata": {},
   "source": [
    "\"Yet another great quality of Random Forests is that they make it easy to measure the  \n",
    "relative importance of each feature. Scikit-Learn measures a feature’s importance by  \n",
    "looking at how much the tree nodes that use that feature reduce impurity on average  \n",
    "(across all trees in the forest). More precisely, it is a weighted average, where each  \n",
    "node’s weight is equal to the number of training samples that are associated with it  \n",
    "(see Chapter 6).\" \n",
    "\n",
    "\"Scikit-Learn computes this score automatically for each feature after training, then it  \n",
    "scales the results so that the sum of all importances is equal to 1. You can access the  \n",
    "result using the feature_importances_ variable. For example, the following code  \n",
    "trains a RandomForestClassifier on the iris dataset (introduced in Chapter 4) and  \n",
    "outputs each feature’s importance. It seems that the most important features are the  \n",
    "petal length (44%) and width (42%), while sepal length and width are rather unimportant  \n",
    "in comparison (11% and 2%, respectively):\""
   ]
  },
  {
   "cell_type": "code",
   "execution_count": 23,
   "id": "cacfb4f0",
   "metadata": {},
   "outputs": [
    {
     "name": "stdout",
     "output_type": "stream",
     "text": [
      "sepal length (cm) 0.0966148014005634\n",
      "sepal width (cm) 0.022743706267821087\n",
      "petal length (cm) 0.4443739304222949\n",
      "petal width (cm) 0.43626756190932064\n"
     ]
    }
   ],
   "source": [
    "from sklearn.datasets import load_iris\n",
    "iris = load_iris()\n",
    "rnd_clf = RandomForestClassifier(n_estimators=500, n_jobs=-1)\n",
    "rnd_clf.fit(iris[\"data\"], iris[\"target\"])\n",
    "for name, score in zip(iris[\"feature_names\"], rnd_clf.feature_importances_):\n",
    "    print(name, score)"
   ]
  },
  {
   "cell_type": "markdown",
   "id": "d1b3de7b",
   "metadata": {},
   "source": [
    "\"Similarly, if you train a Random Forest classifier on the MNIST dataset (introduced\n",
    "in Chapter 3) and plot each pixel’s importance, you get the image below.\""
   ]
  },
  {
   "cell_type": "code",
   "execution_count": 24,
   "id": "618adbf5",
   "metadata": {},
   "outputs": [],
   "source": [
    "# from sklearn.datasets import fetch_openml\n",
    "\n",
    "# mnist = fetch_openml('mnist_784', version=1, as_frame=False)\n",
    "# mnist.target = mnist.target.astype(np.uint8)"
   ]
  },
  {
   "cell_type": "code",
   "execution_count": 25,
   "id": "56c7e9d0",
   "metadata": {},
   "outputs": [],
   "source": [
    "# rnd_clf = RandomForestClassifier(n_estimators=100, random_state=42)\n",
    "# rnd_clf.fit(mnist[\"data\"], mnist[\"target\"])"
   ]
  },
  {
   "cell_type": "code",
   "execution_count": 26,
   "id": "7e285d47",
   "metadata": {},
   "outputs": [],
   "source": [
    "def plot_digit(data):\n",
    "    image = data.reshape(28, 28)\n",
    "    plt.imshow(image, \n",
    "               cmap = mpl.cm.hot,\n",
    "               interpolation=\"nearest\")\n",
    "    plt.axis(\"off\")"
   ]
  },
  {
   "cell_type": "code",
   "execution_count": 27,
   "id": "fec6bead",
   "metadata": {
    "scrolled": true
   },
   "outputs": [],
   "source": [
    "# plot_digit(rnd_clf.feature_importances_)\n",
    "\n",
    "# cbar = plt.colorbar(ticks=[rnd_clf.feature_importances_.min(), rnd_clf.feature_importances_.max()])\n",
    "# cbar.ax.set_yticklabels(['Not important', 'Very important'])\n",
    "\n",
    "# save_fig(\"mnist_feature_importance_plot\")\n",
    "# plt.show()"
   ]
  },
  {
   "cell_type": "markdown",
   "id": "8f290fd1",
   "metadata": {},
   "source": [
    "\"Random Forests are very handy to get a quick understanding of what features  \n",
    "actually matter, in particular if you need to perform feature selection.\""
   ]
  },
  {
   "cell_type": "markdown",
   "id": "ac8653fc",
   "metadata": {},
   "source": [
    "# Boosting\n",
    "\n",
    "\"Boosting (originally called hypothesis boosting) refers to any Ensemble method that  \n",
    "can combine several weak learners into a strong learner. The general idea of most  \n",
    "boosting methods is to train predictors sequentially, each trying to correct its predecessor.\""
   ]
  },
  {
   "cell_type": "markdown",
   "id": "42d48aee",
   "metadata": {},
   "source": [
    "## AdaBoost\n",
    "\n",
    "\"One way for a new predictor to correct its predecessor is to pay a bit more attention  \n",
    "to the training instances that the predecessor underfitted. This results in new predictors  \n",
    "focusing more and more on the hard cases. This is the technique used by AdaBoost.\"\n",
    "\n",
    "WARNING: \"There is one important drawback to this sequential learning technique:  \n",
    "it cannot be parallelized (or only partially), since each predictor  \n",
    "can only be trained after the previous predictor has been  \n",
    "trained and evaluated. As a result, it does not scale as well as bagging  \n",
    "or pasting.\" \n",
    "\n",
    "\"Scikit-Learn uses a multiclass version of AdaBoost called SAMME16 (which stands for  \n",
    "Stagewise Additive Modeling using a Multiclass Exponential loss function). When there  \n",
    "are just two classes, SAMME is equivalent to AdaBoost. If the predictors can estimate  \n",
    "class probabilities (i.e., if they have a predict_proba() method), Scikit-Learn can use  \n",
    "a variant of SAMME called SAMME.R (the R stands for “Real”), which relies on class  \n",
    "probabilities rather than predictions and generally performs better.\""
   ]
  },
  {
   "cell_type": "markdown",
   "id": "3e984828",
   "metadata": {},
   "source": [
    "\"The following code trains an AdaBoost classifier based on 200 Decision Stumps using  \n",
    "Scikit-Learn’s AdaBoostClassifier class (as you might expect, there is also an Ada  \n",
    "BoostRegressor class). A Decision Stump is a Decision Tree with max_depth=1—in  \n",
    "other words, a tree composed of a single decision node plus two leaf nodes. This is  \n",
    "the default base estimator for the AdaBoostClassifier class:\""
   ]
  },
  {
   "cell_type": "code",
   "execution_count": 28,
   "id": "02b5eb31",
   "metadata": {},
   "outputs": [
    {
     "data": {
      "text/plain": [
       "AdaBoostClassifier(base_estimator=DecisionTreeClassifier(max_depth=1),\n",
       "                   learning_rate=0.5, n_estimators=200, random_state=42)"
      ]
     },
     "execution_count": 28,
     "metadata": {},
     "output_type": "execute_result"
    }
   ],
   "source": [
    "from sklearn.ensemble import AdaBoostClassifier\n",
    "\n",
    "ada_clf = AdaBoostClassifier(\n",
    "    DecisionTreeClassifier(max_depth=1), n_estimators=200,\n",
    "    algorithm=\"SAMME.R\", learning_rate=0.5, random_state=42)\n",
    "ada_clf.fit(X_train, y_train)"
   ]
  },
  {
   "cell_type": "code",
   "execution_count": 29,
   "id": "d5778132",
   "metadata": {
    "scrolled": true
   },
   "outputs": [
    {
     "data": {
      "image/png": "[encoded data removed]",
      "text/plain": [
       "<Figure size 432x288 with 1 Axes>"
      ]
     },
     "metadata": {
      "needs_background": "light"
     },
     "output_type": "display_data"
    }
   ],
   "source": [
    "plot_decision_boundary(ada_clf, X, y)"
   ]
  },
  {
   "cell_type": "markdown",
   "id": "108fe5cd",
   "metadata": {},
   "source": [
    "## Gradient Boosting\n",
    "\n",
    "\"Another very popular boosting algorithm is Gradient Boosting.17 Just like AdaBoost,  \n",
    "Gradient Boosting works by sequentially adding predictors to an ensemble, each one  \n",
    "correcting its predecessor. However, instead of tweaking the instance weights at every  \n",
    "iteration like AdaBoost does, this method tries to fit the new predictor to the residual  \n",
    "errors made by the previous predictor.\""
   ]
  },
  {
   "cell_type": "code",
   "execution_count": 30,
   "id": "aac84e72",
   "metadata": {},
   "outputs": [],
   "source": [
    "np.random.seed(42)\n",
    "X = np.random.rand(100, 1) - 0.5\n",
    "y = 3*X[:, 0]**2 + 0.05 * np.random.randn(100)"
   ]
  },
  {
   "cell_type": "markdown",
   "id": "5875a74b",
   "metadata": {},
   "source": [
    "\"First, let’s fit a DecisionTreeRegressor to the training set (for example, a noisy quadratic training set):\""
   ]
  },
  {
   "cell_type": "code",
   "execution_count": 31,
   "id": "98d0653d",
   "metadata": {},
   "outputs": [
    {
     "data": {
      "text/plain": [
       "DecisionTreeRegressor(max_depth=2, random_state=42)"
      ]
     },
     "execution_count": 31,
     "metadata": {},
     "output_type": "execute_result"
    }
   ],
   "source": [
    "from sklearn.tree import DecisionTreeRegressor\n",
    "\n",
    "tree_reg1 = DecisionTreeRegressor(max_depth=2, random_state=42)\n",
    "tree_reg1.fit(X, y)"
   ]
  },
  {
   "cell_type": "markdown",
   "id": "aee75a5a",
   "metadata": {},
   "source": [
    "\"Next, we’ll train a second DecisionTreeRegressor on the residual errors made by the first predictor:\""
   ]
  },
  {
   "cell_type": "code",
   "execution_count": 32,
   "id": "8504f649",
   "metadata": {},
   "outputs": [
    {
     "data": {
      "text/plain": [
       "DecisionTreeRegressor(max_depth=2, random_state=42)"
      ]
     },
     "execution_count": 32,
     "metadata": {},
     "output_type": "execute_result"
    }
   ],
   "source": [
    "y2 = y - tree_reg1.predict(X)\n",
    "tree_reg2 = DecisionTreeRegressor(max_depth=2, random_state=42)\n",
    "tree_reg2.fit(X, y2)"
   ]
  },
  {
   "cell_type": "markdown",
   "id": "47ee723d",
   "metadata": {},
   "source": [
    "\"Then we train a third regressor on the residual errors made by the second predictor:\""
   ]
  },
  {
   "cell_type": "code",
   "execution_count": 33,
   "id": "0ca99930",
   "metadata": {},
   "outputs": [
    {
     "data": {
      "text/plain": [
       "DecisionTreeRegressor(max_depth=2, random_state=42)"
      ]
     },
     "execution_count": 33,
     "metadata": {},
     "output_type": "execute_result"
    }
   ],
   "source": [
    "y3 = y2 - tree_reg2.predict(X)\n",
    "tree_reg3 = DecisionTreeRegressor(max_depth=2, random_state=42)\n",
    "tree_reg3.fit(X, y3)"
   ]
  },
  {
   "cell_type": "code",
   "execution_count": 34,
   "id": "a9ec0772",
   "metadata": {},
   "outputs": [],
   "source": [
    "X_new = np.array([[0.8]])"
   ]
  },
  {
   "cell_type": "markdown",
   "id": "9a54b984",
   "metadata": {},
   "source": [
    "\"Now we have an ensemble containing three trees. It can make predictions on a new\n",
    "instance simply by adding up the predictions of all the trees:\""
   ]
  },
  {
   "cell_type": "code",
   "execution_count": 35,
   "id": "4bb9f600",
   "metadata": {},
   "outputs": [],
   "source": [
    "y_pred = sum(tree.predict(X_new) for tree in (tree_reg1, tree_reg2, tree_reg3))"
   ]
  },
  {
   "cell_type": "code",
   "execution_count": 36,
   "id": "92506183",
   "metadata": {
    "scrolled": false
   },
   "outputs": [
    {
     "data": {
      "text/plain": [
       "array([0.75026781])"
      ]
     },
     "execution_count": 36,
     "metadata": {},
     "output_type": "execute_result"
    }
   ],
   "source": [
    "y_pred"
   ]
  },
  {
   "cell_type": "markdown",
   "id": "6a8a5f05",
   "metadata": {},
   "source": [
    "\"The figure below represents the predictions of these three trees in the left column, and the  \n",
    "ensemble’s predictions in the right column. In the first row, the ensemble has just one   \n",
    "tree, so its predictions are exactly the same as the first tree’s predictions. In the second  \n",
    "row, a new tree is trained on the residual errors of the first tree. On the right you can  \n",
    "see that the ensemble’s predictions are equal to the sum of the predictions of the first  \n",
    "two trees. Similarly, in the third row another tree is trained on the residual errors of  \n",
    "the second tree. You can see that the ensemble’s predictions gradually get better as  \n",
    "trees are added to the ensemble.\"   "
   ]
  },
  {
   "cell_type": "code",
   "execution_count": 37,
   "id": "111bc169",
   "metadata": {},
   "outputs": [],
   "source": [
    "def plot_predictions(regressors, X, y, axes, label=None, style=\"r-\", data_style=\"b.\", data_label=None):\n",
    "    x1 = np.linspace(axes[0], axes[1], 500)\n",
    "    y_pred = sum(regressor.predict(x1.reshape(-1, 1)) for regressor in regressors)\n",
    "    plt.plot(X[:, 0], y, data_style, label=data_label)\n",
    "    plt.plot(x1, y_pred, style, linewidth=2, label=label)\n",
    "    if label or data_label:\n",
    "        plt.legend(loc=\"upper center\", fontsize=16)\n",
    "    plt.axis(axes)"
   ]
  },
  {
   "cell_type": "code",
   "execution_count": 38,
   "id": "ed236fe7",
   "metadata": {
    "scrolled": false
   },
   "outputs": [
    {
     "name": "stdout",
     "output_type": "stream",
     "text": [
      "Saving figure gradient_boosting_plot\n"
     ]
    },
    {
     "data": {
      "image/png": "[encoded data removed]",
      "text/plain": [
       "<Figure size 792x792 with 6 Axes>"
      ]
     },
     "metadata": {
      "needs_background": "light"
     },
     "output_type": "display_data"
    }
   ],
   "source": [
    "plt.figure(figsize=(11,11))\n",
    "\n",
    "plt.subplot(321)\n",
    "plot_predictions([tree_reg1], X, y, axes=[-0.5, 0.5, -0.1, 0.8], label=\"$h_1(x_1)$\", style=\"g-\", data_label=\"Training set\")\n",
    "plt.ylabel(\"$y$\", fontsize=16, rotation=0)\n",
    "plt.title(\"Residuals and tree predictions\", fontsize=16)\n",
    "\n",
    "plt.subplot(322)\n",
    "plot_predictions([tree_reg1], X, y, axes=[-0.5, 0.5, -0.1, 0.8], label=\"$h(x_1) = h_1(x_1)$\", data_label=\"Training set\")\n",
    "plt.ylabel(\"$y$\", fontsize=16, rotation=0)\n",
    "plt.title(\"Ensemble predictions\", fontsize=16)\n",
    "\n",
    "plt.subplot(323)\n",
    "plot_predictions([tree_reg2], X, y2, axes=[-0.5, 0.5, -0.5, 0.5], label=\"$h_2(x_1)$\", style=\"g-\", data_style=\"k+\", data_label=\"Residuals\")\n",
    "plt.ylabel(\"$y - h_1(x_1)$\", fontsize=16)\n",
    "\n",
    "plt.subplot(324)\n",
    "plot_predictions([tree_reg1, tree_reg2], X, y, axes=[-0.5, 0.5, -0.1, 0.8], label=\"$h(x_1) = h_1(x_1) + h_2(x_1)$\")\n",
    "plt.ylabel(\"$y$\", fontsize=16, rotation=0)\n",
    "\n",
    "plt.subplot(325)\n",
    "plot_predictions([tree_reg3], X, y3, axes=[-0.5, 0.5, -0.5, 0.5], label=\"$h_3(x_1)$\", style=\"g-\", data_style=\"k+\")\n",
    "plt.ylabel(\"$y - h_1(x_1) - h_2(x_1)$\", fontsize=16)\n",
    "plt.xlabel(\"$x_1$\", fontsize=16)\n",
    "\n",
    "plt.subplot(326)\n",
    "plot_predictions([tree_reg1, tree_reg2, tree_reg3], X, y, axes=[-0.5, 0.5, -0.1, 0.8], label=\"$h(x_1) = h_1(x_1) + h_2(x_1) + h_3(x_1)$\")\n",
    "plt.xlabel(\"$x_1$\", fontsize=16)\n",
    "plt.ylabel(\"$y$\", fontsize=16, rotation=0)\n",
    "\n",
    "save_fig(\"gradient_boosting_plot\")\n",
    "plt.show()"
   ]
  },
  {
   "cell_type": "markdown",
   "id": "54d77b1a",
   "metadata": {},
   "source": [
    "\"simpler way to train GBRT ensembles is to use Scikit-Learn’s GradientBoostingRegressor   \n",
    "class. Much like the RandomForestRegressor class, it has hyperparameters to    \n",
    "control the growth of Decision Trees (e.g., max_depth, min_samples_leaf), as well as  \n",
    "hyperparameters to control the ensemble training, such as the number of trees  \n",
    "(n_estimators). The following code creates the same ensemble as the previous one:\"  "
   ]
  },
  {
   "cell_type": "code",
   "execution_count": 39,
   "id": "035154a2",
   "metadata": {
    "scrolled": true
   },
   "outputs": [
    {
     "data": {
      "text/plain": [
       "GradientBoostingRegressor(learning_rate=1.0, max_depth=2, n_estimators=3,\n",
       "                          random_state=42)"
      ]
     },
     "execution_count": 39,
     "metadata": {},
     "output_type": "execute_result"
    }
   ],
   "source": [
    "from sklearn.ensemble import GradientBoostingRegressor\n",
    "\n",
    "gbrt = GradientBoostingRegressor(max_depth=2, n_estimators=3, learning_rate=1.0, random_state=42)\n",
    "gbrt.fit(X, y)"
   ]
  },
  {
   "cell_type": "markdown",
   "id": "9987297d",
   "metadata": {},
   "source": [
    "## Gradient Boosting with Early stopping"
   ]
  },
  {
   "cell_type": "markdown",
   "id": "9e207d65",
   "metadata": {},
   "source": [
    "\"The learning_rate hyperparameter scales the contribution of each tree. If you set it  \n",
    "to a low value, such as 0.1, you will need more trees in the ensemble to fit the training  \n",
    "set, but the predictions will usually generalize better. This is a regularization technique  \n",
    "called shrinkage.\""
   ]
  },
  {
   "cell_type": "markdown",
   "id": "c123dcfb",
   "metadata": {},
   "source": [
    "\"In order to find the optimal number of trees, you can use early stopping (see Chapter  \n",
    "4). A simple way to implement this is to use the staged_predict() method: it  \n",
    "returns an iterator over the predictions made by the ensemble at each stage of training  \n",
    "(with one tree, two trees, etc.). The following code trains a GBRT ensemble with  \n",
    "120 trees, then measures the validation error at each stage of training to find the optimal  \n",
    "number of trees, and finally trains another GBRT ensemble using the optimal  \n",
    "number of trees:\""
   ]
  },
  {
   "cell_type": "code",
   "execution_count": 41,
   "id": "df41fa0f",
   "metadata": {},
   "outputs": [
    {
     "data": {
      "text/plain": [
       "GradientBoostingRegressor(max_depth=2, n_estimators=56, random_state=42)"
      ]
     },
     "execution_count": 41,
     "metadata": {},
     "output_type": "execute_result"
    }
   ],
   "source": [
    "import numpy as np\n",
    "from sklearn.model_selection import train_test_split\n",
    "from sklearn.metrics import mean_squared_error\n",
    "\n",
    "X_train, X_val, y_train, y_val = train_test_split(X, y, random_state=49)\n",
    "\n",
    "gbrt = GradientBoostingRegressor(max_depth=2, n_estimators=120, random_state=42)\n",
    "gbrt.fit(X_train, y_train)\n",
    "\n",
    "errors = [mean_squared_error(y_val, y_pred) for y_pred in gbrt.staged_predict(X_val)]\n",
    "bst_n_estimators = np.argmin(errors) + 1\n",
    "\n",
    "gbrt_best = GradientBoostingRegressor(max_depth=2, n_estimators=bst_n_estimators, random_state=42)\n",
    "gbrt_best.fit(X_train, y_train)"
   ]
  },
  {
   "cell_type": "code",
   "execution_count": 42,
   "id": "a419f284",
   "metadata": {},
   "outputs": [],
   "source": [
    "min_error = np.min(errors)"
   ]
  },
  {
   "cell_type": "code",
   "execution_count": 43,
   "id": "6c7a0e0b",
   "metadata": {
    "scrolled": true
   },
   "outputs": [
    {
     "name": "stdout",
     "output_type": "stream",
     "text": [
      "Saving figure early_stopping_gbrt_plot\n"
     ]
    },
    {
     "data": {
      "image/png": "[encoded data removed]",
      "text/plain": [
       "<Figure size 720x288 with 2 Axes>"
      ]
     },
     "metadata": {
      "needs_background": "light"
     },
     "output_type": "display_data"
    }
   ],
   "source": [
    "plt.figure(figsize=(10, 4))\n",
    "\n",
    "plt.subplot(121)\n",
    "plt.plot(errors, \"b.-\")\n",
    "plt.plot([bst_n_estimators, bst_n_estimators], [0, min_error], \"k--\")\n",
    "plt.plot([0, 120], [min_error, min_error], \"k--\")\n",
    "plt.plot(bst_n_estimators, min_error, \"ko\")\n",
    "plt.text(bst_n_estimators, min_error*1.2, \"Minimum\", ha=\"center\", fontsize=14)\n",
    "plt.axis([0, 120, 0, 0.01])\n",
    "plt.xlabel(\"Number of trees\")\n",
    "plt.ylabel(\"Error\", fontsize=16)\n",
    "plt.title(\"Validation error\", fontsize=14)\n",
    "\n",
    "plt.subplot(122)\n",
    "plot_predictions([gbrt_best], X, y, axes=[-0.5, 0.5, -0.1, 0.8])\n",
    "plt.title(\"Best model (%d trees)\" % bst_n_estimators, fontsize=14)\n",
    "plt.ylabel(\"$y$\", fontsize=16, rotation=0)\n",
    "plt.xlabel(\"$x_1$\", fontsize=16)\n",
    "\n",
    "save_fig(\"early_stopping_gbrt_plot\")\n",
    "plt.show()"
   ]
  },
  {
   "cell_type": "markdown",
   "id": "3ed58ecf",
   "metadata": {},
   "source": [
    "\"It is also possible to implement early stopping by actually stopping training early  \n",
    "(instead of training a large number of trees first and then looking back to find the  \n",
    "optimal number). You can do so by setting warm_start=True, which makes Scikit-  \n",
    "Learn keep existing trees when the fit() method is called, allowing incremental  \n",
    "training. The following code stops training when the validation error does not  \n",
    "improve for five iterations in a row:\""
   ]
  },
  {
   "cell_type": "code",
   "execution_count": 44,
   "id": "f27270ab",
   "metadata": {},
   "outputs": [],
   "source": [
    "gbrt = GradientBoostingRegressor(max_depth=2, warm_start=True, random_state=42)\n",
    "\n",
    "min_val_error = float(\"inf\")\n",
    "error_going_up = 0\n",
    "for n_estimators in range(1, 120):\n",
    "    gbrt.n_estimators = n_estimators\n",
    "    gbrt.fit(X_train, y_train)\n",
    "    y_pred = gbrt.predict(X_val)\n",
    "    val_error = mean_squared_error(y_val, y_pred)\n",
    "    if val_error < min_val_error:\n",
    "        min_val_error = val_error\n",
    "        error_going_up = 0\n",
    "    else:\n",
    "        error_going_up += 1\n",
    "        if error_going_up == 5:\n",
    "            break  # early stopping"
   ]
  },
  {
   "cell_type": "code",
   "execution_count": 45,
   "id": "8ed63348",
   "metadata": {},
   "outputs": [
    {
     "name": "stdout",
     "output_type": "stream",
     "text": [
      "61\n"
     ]
    }
   ],
   "source": [
    "print(gbrt.n_estimators)"
   ]
  },
  {
   "cell_type": "code",
   "execution_count": 46,
   "id": "dd5ddfa0",
   "metadata": {},
   "outputs": [
    {
     "name": "stdout",
     "output_type": "stream",
     "text": [
      "Minimum validation MSE: 0.002712853325235463\n"
     ]
    }
   ],
   "source": [
    "print(\"Minimum validation MSE:\", min_val_error)"
   ]
  },
  {
   "cell_type": "markdown",
   "id": "c7aa71df",
   "metadata": {},
   "source": [
    "\"The GradientBoostingRegressor class also supports a subsample hyperparameter,  \n",
    "which specifies the fraction of training instances to be used for training each tree. For  \n",
    "example, if subsample=0.25, then each tree is trained on 25% of the training instances,  \n",
    "selected randomly. As you can probably guess by now, this technique trades a  \n",
    "higher bias for a lower variance. It also speeds up training considerably. This is called  \n",
    "Stochastic Gradient Boosting.\"\n",
    "\n",
    "NOTE: \"It is possible to use Gradient Boosting with other cost functions.  \n",
    "This is controlled by the loss hyperparameter (see Scikit-Learn’s  \n",
    "documentation for more details).\""
   ]
  },
  {
   "cell_type": "markdown",
   "id": "d1e209a5",
   "metadata": {},
   "source": [
    "## XGBoost\n",
    "\n",
    "\"It is worth noting that an optimized implementation of Gradient Boosting is available  \n",
    "in the popular Python library XGBoost, which stands for Extreme Gradient Boosting.  \n",
    "This package was initially developed by Tianqi Chen as part of the Distributed (Deep)  \n",
    "Machine Learning Community (DMLC), and it aims to be extremely fast, scalable,  \n",
    "and portable. In fact, XGBoost is often an important component of the winning  \n",
    "entries in ML competitions. XGBoost’s API is quite similar to Scikit-Learn’s:\""
   ]
  },
  {
   "cell_type": "code",
   "execution_count": 48,
   "id": "ee3600bc",
   "metadata": {},
   "outputs": [
    {
     "name": "stdout",
     "output_type": "stream",
     "text": [
      "Error: the xgboost library is not installed.\n"
     ]
    }
   ],
   "source": [
    "try:\n",
    "    import xgboost\n",
    "except ImportError as ex:\n",
    "    print(\"Error: the xgboost library is not installed.\")\n",
    "    xgboost = None"
   ]
  },
  {
   "cell_type": "code",
   "execution_count": 49,
   "id": "df53c984",
   "metadata": {},
   "outputs": [],
   "source": [
    "if xgboost is not None:  # not shown in the book\n",
    "    xgb_reg = xgboost.XGBRegressor(random_state=42)\n",
    "    xgb_reg.fit(X_train, y_train)\n",
    "    y_pred = xgb_reg.predict(X_val)\n",
    "    val_error = mean_squared_error(y_val, y_pred) # Not shown\n",
    "    print(\"Validation MSE:\", val_error)           # Not shown"
   ]
  },
  {
   "cell_type": "code",
   "execution_count": 50,
   "id": "f80fae98",
   "metadata": {},
   "outputs": [],
   "source": [
    "if xgboost is not None:  # not shown in the book\n",
    "    xgb_reg.fit(X_train, y_train,\n",
    "                eval_set=[(X_val, y_val)], early_stopping_rounds=2)\n",
    "    y_pred = xgb_reg.predict(X_val)\n",
    "    val_error = mean_squared_error(y_val, y_pred)  # Not shown\n",
    "    print(\"Validation MSE:\", val_error)            # Not shown"
   ]
  },
  {
   "cell_type": "code",
   "execution_count": null,
   "id": "548b9b7a",
   "metadata": {},
   "outputs": [],
   "source": []
  }
 ],
 "metadata": {
  "kernelspec": {
   "display_name": "Python 3",
   "language": "python",
   "name": "python3"
  },
  "language_info": {
   "codemirror_mode": {
    "name": "ipython",
    "version": 3
   },
   "file_extension": ".py",
   "mimetype": "text/x-python",
   "name": "python",
   "nbconvert_exporter": "python",
   "pygments_lexer": "ipython3",
   "version": "3.8.5"
  }
 },
 "nbformat": 4,
 "nbformat_minor": 5
}
