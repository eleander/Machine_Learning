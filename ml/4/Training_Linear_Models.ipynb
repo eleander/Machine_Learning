{
 "metadata": {
  "language_info": {
   "codemirror_mode": {
    "name": "ipython",
    "version": 3
   },
   "file_extension": ".py",
   "mimetype": "text/x-python",
   "name": "python",
   "nbconvert_exporter": "python",
   "pygments_lexer": "ipython3",
   "version": "3.9.4"
  },
  "orig_nbformat": 2,
  "kernelspec": {
   "name": "python394jvsc74a57bd0423ed8196effe54864ee87b5499394774aa167260442c9c73ed5b00b26d0d576",
   "display_name": "Python 3.9.4 64-bit ('ml_learning': conda)"
  }
 },
 "nbformat": 4,
 "nbformat_minor": 2,
 "cells": [
  {
   "source": [
    "# Setup"
   ],
   "cell_type": "markdown",
   "metadata": {}
  },
  {
   "cell_type": "code",
   "execution_count": 2,
   "metadata": {},
   "outputs": [],
   "source": [
    "\n",
    "# Python ≥3.5 is required\n",
    "import sys\n",
    "assert sys.version_info >= (3, 5)\n",
    "\n",
    "# Scikit-Learn ≥0.20 is required\n",
    "import sklearn\n",
    "assert sklearn.__version__ >= \"0.20\"\n",
    "\n",
    "# Common imports\n",
    "import numpy as np\n",
    "import os\n",
    "\n",
    "# to make this notebook's output stable across runs\n",
    "np.random.seed(42)\n",
    "\n",
    "# To plot pretty figures\n",
    "%matplotlib inline\n",
    "import matplotlib as mpl\n",
    "import matplotlib.pyplot as plt\n",
    "mpl.rc('axes', labelsize=14)\n",
    "mpl.rc('xtick', labelsize=12)\n",
    "mpl.rc('ytick', labelsize=12)\n",
    "\n",
    "# Where to save the figures\n",
    "PROJECT_ROOT_DIR = \".\"\n",
    "CHAPTER_ID = \"training_linear_models\"\n",
    "IMAGES_PATH = os.path.join(PROJECT_ROOT_DIR, \"images\", CHAPTER_ID)\n",
    "os.makedirs(IMAGES_PATH, exist_ok=True)\n",
    "\n",
    "def save_fig(fig_id, tight_layout=True, fig_extension=\"png\", resolution=300):\n",
    "    path = os.path.join(IMAGES_PATH, fig_id + \".\" + fig_extension)\n",
    "    print(\"Saving figure\", fig_id)\n",
    "    if tight_layout:\n",
    "        plt.tight_layout()\n",
    "    plt.savefig(path, format=fig_extension, dpi=resolution)"
   ]
  },
  {
   "source": [
    "\"In this chapter, we will start by looking at the Linear Regression model, one of the  \n",
    "simplest models there is. We will discuss two very different ways to train it:  \n",
    "- Using a direct “closed-form” equation that directly computes the model parameters  \n",
    "that best fit the model to the training set (i.e., the model parameters that  \n",
    "minimize the cost function over the training set).  \n",
    "- Using an iterative optimization approach, called Gradient Descent (GD), that  \n",
    "gradually tweaks the model parameters to minimize the cost function over the  \n",
    "training set, eventually converging to the same set of parameters as the first  \n",
    "method. We will look at a few variants of Gradient Descent that we will use again  \n",
    "and again when we study neural networks in Part II: Batch GD, Mini-batch GD,  \n",
    "and Stochastic GD.\" \n",
    "\n",
    "\n",
    "\"Next we will look at Polynomial Regression, a more complex model that can fit nonlinear  \n",
    "datasets. Since this model has more parameters than Linear Regression, it is  \n",
    "more prone to overfitting the training data, so we will look at how to detect whether  \n",
    "or not this is the case, using learning curves, and then we will look at several regularization  \n",
    "techniques that can reduce the risk of overfitting the training set.\"  \n",
    "\n",
    "\"Finally, we will look at two more models that are commonly used for classification  \n",
    "tasks: Logistic Regression and Softmax Regression.\" "
   ],
   "cell_type": "markdown",
   "metadata": {}
  },
  {
   "source": [
    "# Linear Regression Using the Normal Equation "
   ],
   "cell_type": "markdown",
   "metadata": {}
  },
  {
   "source": [
    "![title](images/linear_regression_1.png)\n",
    "![title](images/linear_regression_2.png)\n"
   ],
   "cell_type": "markdown",
   "metadata": {}
  },
  {
   "source": [
    "\"In Chapter 2 we saw that the most common performance measure  \n",
    "of a regression model is the Root Mean Square Error (RMSE) (Equation 2-1). Therefore,  \n",
    "to train a Linear Regression model, you need to find the value of θ that minimizes  \n",
    "the RMSE. In practice, it is simpler to minimize the Mean Square Error (MSE)  \n",
    "than the RMSE, and it leads to the same result (because the value that minimizes a  \n",
    "function also minimizes its square root).\""
   ],
   "cell_type": "markdown",
   "metadata": {}
  },
  {
   "source": [
    "![title](images/cost_function.png)\n"
   ],
   "cell_type": "markdown",
   "metadata": {}
  },
  {
   "source": [
    "# # Linear Regression Using the Normal Equation"
   ],
   "cell_type": "markdown",
   "metadata": {}
  },
  {
   "source": [
    "![title](images/normal_equation.png)\n",
    "\n"
   ],
   "cell_type": "markdown",
   "metadata": {}
  },
  {
   "source": [
    "Generating some random data"
   ],
   "cell_type": "markdown",
   "metadata": {}
  },
  {
   "cell_type": "code",
   "execution_count": 3,
   "metadata": {},
   "outputs": [],
   "source": [
    "\n",
    "import numpy as np\n",
    "\n",
    "X = 2 * np.random.rand(100, 1)\n",
    "y = 4 + 3 * X + np.random.randn(100, 1)"
   ]
  },
  {
   "cell_type": "code",
   "execution_count": 4,
   "metadata": {},
   "outputs": [
    {
     "output_type": "stream",
     "name": "stdout",
     "text": [
      "Saving figure generated_data_plot\n"
     ]
    },
    {
     "output_type": "display_data",
     "data": {
      "text/plain": "<Figure size 432x288 with 1 Axes>",
      "image/svg+xml": "<?xml version=\"1.0\" encoding=\"utf-8\" standalone=\"no\"?>\r\n<!DOCTYPE svg PUBLIC \"-//W3C//DTD SVG 1.1//EN\"\r\n  \"http://www.w3.org/Graphics/SVG/1.1/DTD/svg11.dtd\">\r\n<svg height=\"278.834375pt\" version=\"1.1\" viewBox=\"0 0 423.735625 278.834375\" width=\"423.735625pt\" xmlns=\"http://www.w3.org/2000/svg\" xmlns:xlink=\"http://www.w3.org/1999/xlink\">\r\n <metadata>\r\n  <rdf:RDF xmlns:cc=\"http://creativecommons.org/ns#\" xmlns:dc=\"http://purl.org/dc/elements/1.1/\" xmlns:rdf=\"http://www.w3.org/1999/02/22-rdf-syntax-ns#\">\r\n   <cc:Work>\r\n    <dc:type rdf:resource=\"http://purl.org/dc/dcmitype/StillImage\"/>\r\n    <dc:date>2021-05-24T14:00:06.172256</dc:date>\r\n    <dc:format>image/svg+xml</dc:format>\r\n    <dc:creator>\r\n     <cc:Agent>\r\n      <dc:title>Matplotlib v3.4.1, https://matplotlib.org/</dc:title>\r\n     </cc:Agent>\r\n    </dc:creator>\r\n   </cc:Work>\r\n  </rdf:RDF>\r\n </metadata>\r\n <defs>\r\n  <style type=\"text/css\">*{stroke-linecap:butt;stroke-linejoin:round;}</style>\r\n </defs>\r\n <g id=\"figure_1\">\r\n  <g id=\"patch_1\">\r\n   <path d=\"M 0 278.834375 \r\nL 423.735625 278.834375 \r\nL 423.735625 0 \r\nL 0 0 \r\nz\r\n\" style=\"fill:none;\"/>\r\n  </g>\r\n  <g id=\"axes_1\">\r\n   <g id=\"patch_2\">\r\n    <path d=\"M 38.87 231.6 \r\nL 403.17625 231.6 \r\nL 403.17625 7.2 \r\nL 38.87 7.2 \r\nz\r\n\" style=\"fill:#ffffff;\"/>\r\n   </g>\r\n   <g id=\"matplotlib.axis_1\">\r\n    <g id=\"xtick_1\">\r\n     <g id=\"line2d_1\">\r\n      <defs>\r\n       <path d=\"M 0 0 \r\nL 0 3.5 \r\n\" id=\"m5782185c39\" style=\"stroke:#000000;stroke-width:0.8;\"/>\r\n      </defs>\r\n      <g>\r\n       <use style=\"stroke:#000000;stroke-width:0.8;\" x=\"38.87\" xlink:href=\"#m5782185c39\" y=\"231.6\"/>\r\n      </g>\r\n     </g>\r\n     <g id=\"text_1\">\r\n      <!-- 0.00 -->\r\n      <g transform=\"translate(25.510625 247.718125)scale(0.12 -0.12)\">\r\n       <defs>\r\n        <path d=\"M 2034 4250 \r\nQ 1547 4250 1301 3770 \r\nQ 1056 3291 1056 2328 \r\nQ 1056 1369 1301 889 \r\nQ 1547 409 2034 409 \r\nQ 2525 409 2770 889 \r\nQ 3016 1369 3016 2328 \r\nQ 3016 3291 2770 3770 \r\nQ 2525 4250 2034 4250 \r\nz\r\nM 2034 4750 \r\nQ 2819 4750 3233 4129 \r\nQ 3647 3509 3647 2328 \r\nQ 3647 1150 3233 529 \r\nQ 2819 -91 2034 -91 \r\nQ 1250 -91 836 529 \r\nQ 422 1150 422 2328 \r\nQ 422 3509 836 4129 \r\nQ 1250 4750 2034 4750 \r\nz\r\n\" id=\"DejaVuSans-30\" transform=\"scale(0.015625)\"/>\r\n        <path d=\"M 684 794 \r\nL 1344 794 \r\nL 1344 0 \r\nL 684 0 \r\nL 684 794 \r\nz\r\n\" id=\"DejaVuSans-2e\" transform=\"scale(0.015625)\"/>\r\n       </defs>\r\n       <use xlink:href=\"#DejaVuSans-30\"/>\r\n       <use x=\"63.623047\" xlink:href=\"#DejaVuSans-2e\"/>\r\n       <use x=\"95.410156\" xlink:href=\"#DejaVuSans-30\"/>\r\n       <use x=\"159.033203\" xlink:href=\"#DejaVuSans-30\"/>\r\n      </g>\r\n     </g>\r\n    </g>\r\n    <g id=\"xtick_2\">\r\n     <g id=\"line2d_2\">\r\n      <g>\r\n       <use style=\"stroke:#000000;stroke-width:0.8;\" x=\"84.408281\" xlink:href=\"#m5782185c39\" y=\"231.6\"/>\r\n      </g>\r\n     </g>\r\n     <g id=\"text_2\">\r\n      <!-- 0.25 -->\r\n      <g transform=\"translate(71.048906 247.718125)scale(0.12 -0.12)\">\r\n       <defs>\r\n        <path d=\"M 1228 531 \r\nL 3431 531 \r\nL 3431 0 \r\nL 469 0 \r\nL 469 531 \r\nQ 828 903 1448 1529 \r\nQ 2069 2156 2228 2338 \r\nQ 2531 2678 2651 2914 \r\nQ 2772 3150 2772 3378 \r\nQ 2772 3750 2511 3984 \r\nQ 2250 4219 1831 4219 \r\nQ 1534 4219 1204 4116 \r\nQ 875 4013 500 3803 \r\nL 500 4441 \r\nQ 881 4594 1212 4672 \r\nQ 1544 4750 1819 4750 \r\nQ 2544 4750 2975 4387 \r\nQ 3406 4025 3406 3419 \r\nQ 3406 3131 3298 2873 \r\nQ 3191 2616 2906 2266 \r\nQ 2828 2175 2409 1742 \r\nQ 1991 1309 1228 531 \r\nz\r\n\" id=\"DejaVuSans-32\" transform=\"scale(0.015625)\"/>\r\n        <path d=\"M 691 4666 \r\nL 3169 4666 \r\nL 3169 4134 \r\nL 1269 4134 \r\nL 1269 2991 \r\nQ 1406 3038 1543 3061 \r\nQ 1681 3084 1819 3084 \r\nQ 2600 3084 3056 2656 \r\nQ 3513 2228 3513 1497 \r\nQ 3513 744 3044 326 \r\nQ 2575 -91 1722 -91 \r\nQ 1428 -91 1123 -41 \r\nQ 819 9 494 109 \r\nL 494 744 \r\nQ 775 591 1075 516 \r\nQ 1375 441 1709 441 \r\nQ 2250 441 2565 725 \r\nQ 2881 1009 2881 1497 \r\nQ 2881 1984 2565 2268 \r\nQ 2250 2553 1709 2553 \r\nQ 1456 2553 1204 2497 \r\nQ 953 2441 691 2322 \r\nL 691 4666 \r\nz\r\n\" id=\"DejaVuSans-35\" transform=\"scale(0.015625)\"/>\r\n       </defs>\r\n       <use xlink:href=\"#DejaVuSans-30\"/>\r\n       <use x=\"63.623047\" xlink:href=\"#DejaVuSans-2e\"/>\r\n       <use x=\"95.410156\" xlink:href=\"#DejaVuSans-32\"/>\r\n       <use x=\"159.033203\" xlink:href=\"#DejaVuSans-35\"/>\r\n      </g>\r\n     </g>\r\n    </g>\r\n    <g id=\"xtick_3\">\r\n     <g id=\"line2d_3\">\r\n      <g>\r\n       <use style=\"stroke:#000000;stroke-width:0.8;\" x=\"129.946562\" xlink:href=\"#m5782185c39\" y=\"231.6\"/>\r\n      </g>\r\n     </g>\r\n     <g id=\"text_3\">\r\n      <!-- 0.50 -->\r\n      <g transform=\"translate(116.587187 247.718125)scale(0.12 -0.12)\">\r\n       <use xlink:href=\"#DejaVuSans-30\"/>\r\n       <use x=\"63.623047\" xlink:href=\"#DejaVuSans-2e\"/>\r\n       <use x=\"95.410156\" xlink:href=\"#DejaVuSans-35\"/>\r\n       <use x=\"159.033203\" xlink:href=\"#DejaVuSans-30\"/>\r\n      </g>\r\n     </g>\r\n    </g>\r\n    <g id=\"xtick_4\">\r\n     <g id=\"line2d_4\">\r\n      <g>\r\n       <use style=\"stroke:#000000;stroke-width:0.8;\" x=\"175.484844\" xlink:href=\"#m5782185c39\" y=\"231.6\"/>\r\n      </g>\r\n     </g>\r\n     <g id=\"text_4\">\r\n      <!-- 0.75 -->\r\n      <g transform=\"translate(162.125469 247.718125)scale(0.12 -0.12)\">\r\n       <defs>\r\n        <path d=\"M 525 4666 \r\nL 3525 4666 \r\nL 3525 4397 \r\nL 1831 0 \r\nL 1172 0 \r\nL 2766 4134 \r\nL 525 4134 \r\nL 525 4666 \r\nz\r\n\" id=\"DejaVuSans-37\" transform=\"scale(0.015625)\"/>\r\n       </defs>\r\n       <use xlink:href=\"#DejaVuSans-30\"/>\r\n       <use x=\"63.623047\" xlink:href=\"#DejaVuSans-2e\"/>\r\n       <use x=\"95.410156\" xlink:href=\"#DejaVuSans-37\"/>\r\n       <use x=\"159.033203\" xlink:href=\"#DejaVuSans-35\"/>\r\n      </g>\r\n     </g>\r\n    </g>\r\n    <g id=\"xtick_5\">\r\n     <g id=\"line2d_5\">\r\n      <g>\r\n       <use style=\"stroke:#000000;stroke-width:0.8;\" x=\"221.023125\" xlink:href=\"#m5782185c39\" y=\"231.6\"/>\r\n      </g>\r\n     </g>\r\n     <g id=\"text_5\">\r\n      <!-- 1.00 -->\r\n      <g transform=\"translate(207.66375 247.718125)scale(0.12 -0.12)\">\r\n       <defs>\r\n        <path d=\"M 794 531 \r\nL 1825 531 \r\nL 1825 4091 \r\nL 703 3866 \r\nL 703 4441 \r\nL 1819 4666 \r\nL 2450 4666 \r\nL 2450 531 \r\nL 3481 531 \r\nL 3481 0 \r\nL 794 0 \r\nL 794 531 \r\nz\r\n\" id=\"DejaVuSans-31\" transform=\"scale(0.015625)\"/>\r\n       </defs>\r\n       <use xlink:href=\"#DejaVuSans-31\"/>\r\n       <use x=\"63.623047\" xlink:href=\"#DejaVuSans-2e\"/>\r\n       <use x=\"95.410156\" xlink:href=\"#DejaVuSans-30\"/>\r\n       <use x=\"159.033203\" xlink:href=\"#DejaVuSans-30\"/>\r\n      </g>\r\n     </g>\r\n    </g>\r\n    <g id=\"xtick_6\">\r\n     <g id=\"line2d_6\">\r\n      <g>\r\n       <use style=\"stroke:#000000;stroke-width:0.8;\" x=\"266.561406\" xlink:href=\"#m5782185c39\" y=\"231.6\"/>\r\n      </g>\r\n     </g>\r\n     <g id=\"text_6\">\r\n      <!-- 1.25 -->\r\n      <g transform=\"translate(253.202031 247.718125)scale(0.12 -0.12)\">\r\n       <use xlink:href=\"#DejaVuSans-31\"/>\r\n       <use x=\"63.623047\" xlink:href=\"#DejaVuSans-2e\"/>\r\n       <use x=\"95.410156\" xlink:href=\"#DejaVuSans-32\"/>\r\n       <use x=\"159.033203\" xlink:href=\"#DejaVuSans-35\"/>\r\n      </g>\r\n     </g>\r\n    </g>\r\n    <g id=\"xtick_7\">\r\n     <g id=\"line2d_7\">\r\n      <g>\r\n       <use style=\"stroke:#000000;stroke-width:0.8;\" x=\"312.099687\" xlink:href=\"#m5782185c39\" y=\"231.6\"/>\r\n      </g>\r\n     </g>\r\n     <g id=\"text_7\">\r\n      <!-- 1.50 -->\r\n      <g transform=\"translate(298.740312 247.718125)scale(0.12 -0.12)\">\r\n       <use xlink:href=\"#DejaVuSans-31\"/>\r\n       <use x=\"63.623047\" xlink:href=\"#DejaVuSans-2e\"/>\r\n       <use x=\"95.410156\" xlink:href=\"#DejaVuSans-35\"/>\r\n       <use x=\"159.033203\" xlink:href=\"#DejaVuSans-30\"/>\r\n      </g>\r\n     </g>\r\n    </g>\r\n    <g id=\"xtick_8\">\r\n     <g id=\"line2d_8\">\r\n      <g>\r\n       <use style=\"stroke:#000000;stroke-width:0.8;\" x=\"357.637969\" xlink:href=\"#m5782185c39\" y=\"231.6\"/>\r\n      </g>\r\n     </g>\r\n     <g id=\"text_8\">\r\n      <!-- 1.75 -->\r\n      <g transform=\"translate(344.278594 247.718125)scale(0.12 -0.12)\">\r\n       <use xlink:href=\"#DejaVuSans-31\"/>\r\n       <use x=\"63.623047\" xlink:href=\"#DejaVuSans-2e\"/>\r\n       <use x=\"95.410156\" xlink:href=\"#DejaVuSans-37\"/>\r\n       <use x=\"159.033203\" xlink:href=\"#DejaVuSans-35\"/>\r\n      </g>\r\n     </g>\r\n    </g>\r\n    <g id=\"xtick_9\">\r\n     <g id=\"line2d_9\">\r\n      <g>\r\n       <use style=\"stroke:#000000;stroke-width:0.8;\" x=\"403.17625\" xlink:href=\"#m5782185c39\" y=\"231.6\"/>\r\n      </g>\r\n     </g>\r\n     <g id=\"text_9\">\r\n      <!-- 2.00 -->\r\n      <g transform=\"translate(389.816875 247.718125)scale(0.12 -0.12)\">\r\n       <use xlink:href=\"#DejaVuSans-32\"/>\r\n       <use x=\"63.623047\" xlink:href=\"#DejaVuSans-2e\"/>\r\n       <use x=\"95.410156\" xlink:href=\"#DejaVuSans-30\"/>\r\n       <use x=\"159.033203\" xlink:href=\"#DejaVuSans-30\"/>\r\n      </g>\r\n     </g>\r\n    </g>\r\n    <g id=\"text_10\">\r\n     <!-- $x_1$ -->\r\n     <g transform=\"translate(211.393125 267.890937)scale(0.18 -0.18)\">\r\n      <defs>\r\n       <path d=\"M 3841 3500 \r\nL 2234 1784 \r\nL 3219 0 \r\nL 2559 0 \r\nL 1819 1388 \r\nL 531 0 \r\nL -166 0 \r\nL 1556 1844 \r\nL 641 3500 \r\nL 1300 3500 \r\nL 1972 2234 \r\nL 3144 3500 \r\nL 3841 3500 \r\nz\r\n\" id=\"DejaVuSans-Oblique-78\" transform=\"scale(0.015625)\"/>\r\n      </defs>\r\n      <use transform=\"translate(0 0.3125)\" xlink:href=\"#DejaVuSans-Oblique-78\"/>\r\n      <use transform=\"translate(59.179688 -16.09375)scale(0.7)\" xlink:href=\"#DejaVuSans-31\"/>\r\n     </g>\r\n    </g>\r\n   </g>\r\n   <g id=\"matplotlib.axis_2\">\r\n    <g id=\"ytick_1\">\r\n     <g id=\"line2d_10\">\r\n      <defs>\r\n       <path d=\"M 0 0 \r\nL -3.5 0 \r\n\" id=\"m5a2f622229\" style=\"stroke:#000000;stroke-width:0.8;\"/>\r\n      </defs>\r\n      <g>\r\n       <use style=\"stroke:#000000;stroke-width:0.8;\" x=\"38.87\" xlink:href=\"#m5a2f622229\" y=\"231.6\"/>\r\n      </g>\r\n     </g>\r\n     <g id=\"text_11\">\r\n      <!-- 0 -->\r\n      <g transform=\"translate(24.235 236.159062)scale(0.12 -0.12)\">\r\n       <use xlink:href=\"#DejaVuSans-30\"/>\r\n      </g>\r\n     </g>\r\n    </g>\r\n    <g id=\"ytick_2\">\r\n     <g id=\"line2d_11\">\r\n      <g>\r\n       <use style=\"stroke:#000000;stroke-width:0.8;\" x=\"38.87\" xlink:href=\"#m5a2f622229\" y=\"201.68\"/>\r\n      </g>\r\n     </g>\r\n     <g id=\"text_12\">\r\n      <!-- 2 -->\r\n      <g transform=\"translate(24.235 206.239062)scale(0.12 -0.12)\">\r\n       <use xlink:href=\"#DejaVuSans-32\"/>\r\n      </g>\r\n     </g>\r\n    </g>\r\n    <g id=\"ytick_3\">\r\n     <g id=\"line2d_12\">\r\n      <g>\r\n       <use style=\"stroke:#000000;stroke-width:0.8;\" x=\"38.87\" xlink:href=\"#m5a2f622229\" y=\"171.76\"/>\r\n      </g>\r\n     </g>\r\n     <g id=\"text_13\">\r\n      <!-- 4 -->\r\n      <g transform=\"translate(24.235 176.319062)scale(0.12 -0.12)\">\r\n       <defs>\r\n        <path d=\"M 2419 4116 \r\nL 825 1625 \r\nL 2419 1625 \r\nL 2419 4116 \r\nz\r\nM 2253 4666 \r\nL 3047 4666 \r\nL 3047 1625 \r\nL 3713 1625 \r\nL 3713 1100 \r\nL 3047 1100 \r\nL 3047 0 \r\nL 2419 0 \r\nL 2419 1100 \r\nL 313 1100 \r\nL 313 1709 \r\nL 2253 4666 \r\nz\r\n\" id=\"DejaVuSans-34\" transform=\"scale(0.015625)\"/>\r\n       </defs>\r\n       <use xlink:href=\"#DejaVuSans-34\"/>\r\n      </g>\r\n     </g>\r\n    </g>\r\n    <g id=\"ytick_4\">\r\n     <g id=\"line2d_13\">\r\n      <g>\r\n       <use style=\"stroke:#000000;stroke-width:0.8;\" x=\"38.87\" xlink:href=\"#m5a2f622229\" y=\"141.84\"/>\r\n      </g>\r\n     </g>\r\n     <g id=\"text_14\">\r\n      <!-- 6 -->\r\n      <g transform=\"translate(24.235 146.399062)scale(0.12 -0.12)\">\r\n       <defs>\r\n        <path d=\"M 2113 2584 \r\nQ 1688 2584 1439 2293 \r\nQ 1191 2003 1191 1497 \r\nQ 1191 994 1439 701 \r\nQ 1688 409 2113 409 \r\nQ 2538 409 2786 701 \r\nQ 3034 994 3034 1497 \r\nQ 3034 2003 2786 2293 \r\nQ 2538 2584 2113 2584 \r\nz\r\nM 3366 4563 \r\nL 3366 3988 \r\nQ 3128 4100 2886 4159 \r\nQ 2644 4219 2406 4219 \r\nQ 1781 4219 1451 3797 \r\nQ 1122 3375 1075 2522 \r\nQ 1259 2794 1537 2939 \r\nQ 1816 3084 2150 3084 \r\nQ 2853 3084 3261 2657 \r\nQ 3669 2231 3669 1497 \r\nQ 3669 778 3244 343 \r\nQ 2819 -91 2113 -91 \r\nQ 1303 -91 875 529 \r\nQ 447 1150 447 2328 \r\nQ 447 3434 972 4092 \r\nQ 1497 4750 2381 4750 \r\nQ 2619 4750 2861 4703 \r\nQ 3103 4656 3366 4563 \r\nz\r\n\" id=\"DejaVuSans-36\" transform=\"scale(0.015625)\"/>\r\n       </defs>\r\n       <use xlink:href=\"#DejaVuSans-36\"/>\r\n      </g>\r\n     </g>\r\n    </g>\r\n    <g id=\"ytick_5\">\r\n     <g id=\"line2d_14\">\r\n      <g>\r\n       <use style=\"stroke:#000000;stroke-width:0.8;\" x=\"38.87\" xlink:href=\"#m5a2f622229\" y=\"111.92\"/>\r\n      </g>\r\n     </g>\r\n     <g id=\"text_15\">\r\n      <!-- 8 -->\r\n      <g transform=\"translate(24.235 116.479062)scale(0.12 -0.12)\">\r\n       <defs>\r\n        <path d=\"M 2034 2216 \r\nQ 1584 2216 1326 1975 \r\nQ 1069 1734 1069 1313 \r\nQ 1069 891 1326 650 \r\nQ 1584 409 2034 409 \r\nQ 2484 409 2743 651 \r\nQ 3003 894 3003 1313 \r\nQ 3003 1734 2745 1975 \r\nQ 2488 2216 2034 2216 \r\nz\r\nM 1403 2484 \r\nQ 997 2584 770 2862 \r\nQ 544 3141 544 3541 \r\nQ 544 4100 942 4425 \r\nQ 1341 4750 2034 4750 \r\nQ 2731 4750 3128 4425 \r\nQ 3525 4100 3525 3541 \r\nQ 3525 3141 3298 2862 \r\nQ 3072 2584 2669 2484 \r\nQ 3125 2378 3379 2068 \r\nQ 3634 1759 3634 1313 \r\nQ 3634 634 3220 271 \r\nQ 2806 -91 2034 -91 \r\nQ 1263 -91 848 271 \r\nQ 434 634 434 1313 \r\nQ 434 1759 690 2068 \r\nQ 947 2378 1403 2484 \r\nz\r\nM 1172 3481 \r\nQ 1172 3119 1398 2916 \r\nQ 1625 2713 2034 2713 \r\nQ 2441 2713 2670 2916 \r\nQ 2900 3119 2900 3481 \r\nQ 2900 3844 2670 4047 \r\nQ 2441 4250 2034 4250 \r\nQ 1625 4250 1398 4047 \r\nQ 1172 3844 1172 3481 \r\nz\r\n\" id=\"DejaVuSans-38\" transform=\"scale(0.015625)\"/>\r\n       </defs>\r\n       <use xlink:href=\"#DejaVuSans-38\"/>\r\n      </g>\r\n     </g>\r\n    </g>\r\n    <g id=\"ytick_6\">\r\n     <g id=\"line2d_15\">\r\n      <g>\r\n       <use style=\"stroke:#000000;stroke-width:0.8;\" x=\"38.87\" xlink:href=\"#m5a2f622229\" y=\"82\"/>\r\n      </g>\r\n     </g>\r\n     <g id=\"text_16\">\r\n      <!-- 10 -->\r\n      <g transform=\"translate(16.6 86.559062)scale(0.12 -0.12)\">\r\n       <use xlink:href=\"#DejaVuSans-31\"/>\r\n       <use x=\"63.623047\" xlink:href=\"#DejaVuSans-30\"/>\r\n      </g>\r\n     </g>\r\n    </g>\r\n    <g id=\"ytick_7\">\r\n     <g id=\"line2d_16\">\r\n      <g>\r\n       <use style=\"stroke:#000000;stroke-width:0.8;\" x=\"38.87\" xlink:href=\"#m5a2f622229\" y=\"52.08\"/>\r\n      </g>\r\n     </g>\r\n     <g id=\"text_17\">\r\n      <!-- 12 -->\r\n      <g transform=\"translate(16.6 56.639062)scale(0.12 -0.12)\">\r\n       <use xlink:href=\"#DejaVuSans-31\"/>\r\n       <use x=\"63.623047\" xlink:href=\"#DejaVuSans-32\"/>\r\n      </g>\r\n     </g>\r\n    </g>\r\n    <g id=\"ytick_8\">\r\n     <g id=\"line2d_17\">\r\n      <g>\r\n       <use style=\"stroke:#000000;stroke-width:0.8;\" x=\"38.87\" xlink:href=\"#m5a2f622229\" y=\"22.16\"/>\r\n      </g>\r\n     </g>\r\n     <g id=\"text_18\">\r\n      <!-- 14 -->\r\n      <g transform=\"translate(16.6 26.719062)scale(0.12 -0.12)\">\r\n       <use xlink:href=\"#DejaVuSans-31\"/>\r\n       <use x=\"63.623047\" xlink:href=\"#DejaVuSans-34\"/>\r\n      </g>\r\n     </g>\r\n    </g>\r\n    <g id=\"text_19\">\r\n     <!-- $y$ -->\r\n     <g transform=\"translate(7.2 115.62)scale(0.18 -0.18)\">\r\n      <defs>\r\n       <path d=\"M 1588 -325 \r\nQ 1188 -997 936 -1164 \r\nQ 684 -1331 294 -1331 \r\nL -159 -1331 \r\nL -63 -850 \r\nL 269 -850 \r\nQ 509 -850 678 -719 \r\nQ 847 -588 1056 -206 \r\nL 1234 128 \r\nL 459 3500 \r\nL 1069 3500 \r\nL 1650 819 \r\nL 3256 3500 \r\nL 3859 3500 \r\nL 1588 -325 \r\nz\r\n\" id=\"DejaVuSans-Oblique-79\" transform=\"scale(0.015625)\"/>\r\n      </defs>\r\n      <use transform=\"translate(0 0.3125)\" xlink:href=\"#DejaVuSans-Oblique-79\"/>\r\n     </g>\r\n    </g>\r\n   </g>\r\n   <g id=\"line2d_18\">\r\n    <defs>\r\n     <path d=\"M 0 1.5 \r\nC 0.397805 1.5 0.77937 1.341951 1.06066 1.06066 \r\nC 1.341951 0.77937 1.5 0.397805 1.5 0 \r\nC 1.5 -0.397805 1.341951 -0.77937 1.06066 -1.06066 \r\nC 0.77937 -1.341951 0.397805 -1.5 0 -1.5 \r\nC -0.397805 -1.5 -0.77937 -1.341951 -1.06066 -1.06066 \r\nC -1.341951 -0.77937 -1.5 -0.397805 -1.5 0 \r\nC -1.5 0.397805 -1.341951 0.77937 -1.06066 1.06066 \r\nC -0.77937 1.341951 -0.397805 1.5 0 1.5 \r\nz\r\n\" id=\"m73897063c5\" style=\"stroke:#0000ff;\"/>\r\n    </defs>\r\n    <g clip-path=\"url(#pc146f12cc9)\">\r\n     <use style=\"fill:#0000ff;stroke:#0000ff;\" x=\"175.317306\" xlink:href=\"#m73897063c5\" y=\"136.839055\"/>\r\n     <use style=\"fill:#0000ff;stroke:#0000ff;\" x=\"385.221164\" xlink:href=\"#m73897063c5\" y=\"90.897034\"/>\r\n     <use style=\"fill:#0000ff;stroke:#0000ff;\" x=\"305.539968\" xlink:href=\"#m73897063c5\" y=\"104.683483\"/>\r\n     <use style=\"fill:#0000ff;stroke:#0000ff;\" x=\"256.965027\" xlink:href=\"#m73897063c5\" y=\"147.758445\"/>\r\n     <use style=\"fill:#0000ff;stroke:#0000ff;\" x=\"95.708566\" xlink:href=\"#m73897063c5\" y=\"161.042058\"/>\r\n     <use style=\"fill:#0000ff;stroke:#0000ff;\" x=\"95.699779\" xlink:href=\"#m73897063c5\" y=\"152.415528\"/>\r\n     <use style=\"fill:#0000ff;stroke:#0000ff;\" x=\"60.030223\" xlink:href=\"#m73897063c5\" y=\"144.43712\"/>\r\n     <use style=\"fill:#0000ff;stroke:#0000ff;\" x=\"354.423384\" xlink:href=\"#m73897063c5\" y=\"101.765352\"/>\r\n     <use style=\"fill:#0000ff;stroke:#0000ff;\" x=\"257.859956\" xlink:href=\"#m73897063c5\" y=\"129.898981\"/>\r\n     <use style=\"fill:#0000ff;stroke:#0000ff;\" x=\"296.825266\" xlink:href=\"#m73897063c5\" y=\"115.709691\"/>\r\n     <use style=\"fill:#0000ff;stroke:#0000ff;\" x=\"46.36906\" xlink:href=\"#m73897063c5\" y=\"156.21792\"/>\r\n     <use style=\"fill:#0000ff;stroke:#0000ff;\" x=\"392.214221\" xlink:href=\"#m73897063c5\" y=\"79.782775\"/>\r\n     <use style=\"fill:#0000ff;stroke:#0000ff;\" x=\"342.134057\" xlink:href=\"#m73897063c5\" y=\"104.965161\"/>\r\n     <use style=\"fill:#0000ff;stroke:#0000ff;\" x=\"116.226465\" xlink:href=\"#m73897063c5\" y=\"145.021961\"/>\r\n     <use style=\"fill:#0000ff;stroke:#0000ff;\" x=\"105.109972\" xlink:href=\"#m73897063c5\" y=\"153.987111\"/>\r\n     <use style=\"fill:#0000ff;stroke:#0000ff;\" x=\"105.685409\" xlink:href=\"#m73897063c5\" y=\"140.806682\"/>\r\n     <use style=\"fill:#0000ff;stroke:#0000ff;\" x=\"149.707351\" xlink:href=\"#m73897063c5\" y=\"154.953931\"/>\r\n     <use style=\"fill:#0000ff;stroke:#0000ff;\" x=\"230.042048\" xlink:href=\"#m73897063c5\" y=\"129.559688\"/>\r\n     <use style=\"fill:#0000ff;stroke:#0000ff;\" x=\"196.23027\" xlink:href=\"#m73897063c5\" y=\"138.854553\"/>\r\n     <use style=\"fill:#0000ff;stroke:#0000ff;\" x=\"144.966596\" xlink:href=\"#m73897063c5\" y=\"167.513456\"/>\r\n     <use style=\"fill:#0000ff;stroke:#0000ff;\" x=\"261.771834\" xlink:href=\"#m73897063c5\" y=\"112.410125\"/>\r\n     <use style=\"fill:#0000ff;stroke:#0000ff;\" x=\"89.688485\" xlink:href=\"#m73897063c5\" y=\"155.333644\"/>\r\n     <use style=\"fill:#0000ff;stroke:#0000ff;\" x=\"145.300121\" xlink:href=\"#m73897063c5\" y=\"145.460599\"/>\r\n     <use style=\"fill:#0000ff;stroke:#0000ff;\" x=\"172.337909\" xlink:href=\"#m73897063c5\" y=\"142.384784\"/>\r\n     <use style=\"fill:#0000ff;stroke:#0000ff;\" x=\"205.019146\" xlink:href=\"#m73897063c5\" y=\"151.997105\"/>\r\n     <use style=\"fill:#0000ff;stroke:#0000ff;\" x=\"324.91451\" xlink:href=\"#m73897063c5\" y=\"107.57546\"/>\r\n     <use style=\"fill:#0000ff;stroke:#0000ff;\" x=\"111.612407\" xlink:href=\"#m73897063c5\" y=\"158.96429\"/>\r\n     <use style=\"fill:#0000ff;stroke:#0000ff;\" x=\"226.20882\" xlink:href=\"#m73897063c5\" y=\"137.604385\"/>\r\n     <use style=\"fill:#0000ff;stroke:#0000ff;\" x=\"254.69033\" xlink:href=\"#m73897063c5\" y=\"120.997703\"/>\r\n     <use style=\"fill:#0000ff;stroke:#0000ff;\" x=\"55.792176\" xlink:href=\"#m73897063c5\" y=\"161.54601\"/>\r\n     <use style=\"fill:#0000ff;stroke:#0000ff;\" x=\"260.202387\" xlink:href=\"#m73897063c5\" y=\"89.009433\"/>\r\n     <use style=\"fill:#0000ff;stroke:#0000ff;\" x=\"100.993004\" xlink:href=\"#m73897063c5\" y=\"153.842071\"/>\r\n     <use style=\"fill:#0000ff;stroke:#0000ff;\" x=\"62.568702\" xlink:href=\"#m73897063c5\" y=\"162.068015\"/>\r\n     <use style=\"fill:#0000ff;stroke:#0000ff;\" x=\"384.554932\" xlink:href=\"#m73897063c5\" y=\"87.701745\"/>\r\n     <use style=\"fill:#0000ff;stroke:#0000ff;\" x=\"390.655785\" xlink:href=\"#m73897063c5\" y=\"113.789686\"/>\r\n     <use style=\"fill:#0000ff;stroke:#0000ff;\" x=\"333.374206\" xlink:href=\"#m73897063c5\" y=\"99.594902\"/>\r\n     <use style=\"fill:#0000ff;stroke:#0000ff;\" x=\"149.8427\" xlink:href=\"#m73897063c5\" y=\"143.516824\"/>\r\n     <use style=\"fill:#0000ff;stroke:#0000ff;\" x=\"74.452562\" xlink:href=\"#m73897063c5\" y=\"126.142849\"/>\r\n     <use style=\"fill:#0000ff;stroke:#0000ff;\" x=\"288.140368\" xlink:href=\"#m73897063c5\" y=\"113.220964\"/>\r\n     <use style=\"fill:#0000ff;stroke:#0000ff;\" x=\"199.220304\" xlink:href=\"#m73897063c5\" y=\"127.740764\"/>\r\n     <use style=\"fill:#0000ff;stroke:#0000ff;\" x=\"83.329292\" xlink:href=\"#m73897063c5\" y=\"161.325136\"/>\r\n     <use style=\"fill:#0000ff;stroke:#0000ff;\" x=\"219.266043\" xlink:href=\"#m73897063c5\" y=\"144.796344\"/>\r\n     <use style=\"fill:#0000ff;stroke:#0000ff;\" x=\"51.397953\" xlink:href=\"#m73897063c5\" y=\"151.576657\"/>\r\n     <use style=\"fill:#0000ff;stroke:#0000ff;\" x=\"370.141106\" xlink:href=\"#m73897063c5\" y=\"78.890483\"/>\r\n     <use style=\"fill:#0000ff;stroke:#0000ff;\" x=\"133.145165\" xlink:href=\"#m73897063c5\" y=\"136.698071\"/>\r\n     <use style=\"fill:#0000ff;stroke:#0000ff;\" x=\"280.231009\" xlink:href=\"#m73897063c5\" y=\"125.896436\"/>\r\n     <use style=\"fill:#0000ff;stroke:#0000ff;\" x=\"152.428293\" xlink:href=\"#m73897063c5\" y=\"122.795011\"/>\r\n     <use style=\"fill:#0000ff;stroke:#0000ff;\" x=\"228.334031\" xlink:href=\"#m73897063c5\" y=\"146.050386\"/>\r\n     <use style=\"fill:#0000ff;stroke:#0000ff;\" x=\"238.039972\" xlink:href=\"#m73897063c5\" y=\"113.907903\"/>\r\n     <use style=\"fill:#0000ff;stroke:#0000ff;\" x=\"106.213633\" xlink:href=\"#m73897063c5\" y=\"122.398248\"/>\r\n     <use style=\"fill:#0000ff;stroke:#0000ff;\" x=\"392.09574\" xlink:href=\"#m73897063c5\" y=\"99.548507\"/>\r\n     <use style=\"fill:#0000ff;stroke:#0000ff;\" x=\"321.255732\" xlink:href=\"#m73897063c5\" y=\"110.655892\"/>\r\n     <use style=\"fill:#0000ff;stroke:#0000ff;\" x=\"381.135336\" xlink:href=\"#m73897063c5\" y=\"85.939791\"/>\r\n     <use style=\"fill:#0000ff;stroke:#0000ff;\" x=\"364.861196\" xlink:href=\"#m73897063c5\" y=\"98.972293\"/>\r\n     <use style=\"fill:#0000ff;stroke:#0000ff;\" x=\"256.688699\" xlink:href=\"#m73897063c5\" y=\"141.290423\"/>\r\n     <use style=\"fill:#0000ff;stroke:#0000ff;\" x=\"374.714546\" xlink:href=\"#m73897063c5\" y=\"87.986867\"/>\r\n     <use style=\"fill:#0000ff;stroke:#0000ff;\" x=\"71.108372\" xlink:href=\"#m73897063c5\" y=\"179.708977\"/>\r\n     <use style=\"fill:#0000ff;stroke:#0000ff;\" x=\"110.267782\" xlink:href=\"#m73897063c5\" y=\"147.083636\"/>\r\n     <use style=\"fill:#0000ff;stroke:#0000ff;\" x=\"55.346584\" xlink:href=\"#m73897063c5\" y=\"181.454985\"/>\r\n     <use style=\"fill:#0000ff;stroke:#0000ff;\" x=\"157.389873\" xlink:href=\"#m73897063c5\" y=\"119.371331\"/>\r\n     <use style=\"fill:#0000ff;stroke:#0000ff;\" x=\"180.467566\" xlink:href=\"#m73897063c5\" y=\"148.589796\"/>\r\n     <use style=\"fill:#0000ff;stroke:#0000ff;\" x=\"137.724148\" xlink:href=\"#m73897063c5\" y=\"152.221751\"/>\r\n     <use style=\"fill:#0000ff;stroke:#0000ff;\" x=\"340.784254\" xlink:href=\"#m73897063c5\" y=\"85.202304\"/>\r\n     <use style=\"fill:#0000ff;stroke:#0000ff;\" x=\"168.837467\" xlink:href=\"#m73897063c5\" y=\"158.151552\"/>\r\n     <use style=\"fill:#0000ff;stroke:#0000ff;\" x=\"141.216198\" xlink:href=\"#m73897063c5\" y=\"143.140518\"/>\r\n     <use style=\"fill:#0000ff;stroke:#0000ff;\" x=\"236.577575\" xlink:href=\"#m73897063c5\" y=\"103.492744\"/>\r\n     <use style=\"fill:#0000ff;stroke:#0000ff;\" x=\"90.209576\" xlink:href=\"#m73897063c5\" y=\"183.158591\"/>\r\n     <use style=\"fill:#0000ff;stroke:#0000ff;\" x=\"331.115374\" xlink:href=\"#m73897063c5\" y=\"96.992676\"/>\r\n     <use style=\"fill:#0000ff;stroke:#0000ff;\" x=\"66.029265\" xlink:href=\"#m73897063c5\" y=\"161.180488\"/>\r\n     <use style=\"fill:#0000ff;stroke:#0000ff;\" x=\"398.399079\" xlink:href=\"#m73897063c5\" y=\"71.480958\"/>\r\n     <use style=\"fill:#0000ff;stroke:#0000ff;\" x=\"320.203596\" xlink:href=\"#m73897063c5\" y=\"120.948092\"/>\r\n     <use style=\"fill:#0000ff;stroke:#0000ff;\" x=\"111.263365\" xlink:href=\"#m73897063c5\" y=\"173.677311\"/>\r\n     <use style=\"fill:#0000ff;stroke:#0000ff;\" x=\"40.881742\" xlink:href=\"#m73897063c5\" y=\"163.456089\"/>\r\n     <use style=\"fill:#0000ff;stroke:#0000ff;\" x=\"335.947695\" xlink:href=\"#m73897063c5\" y=\"94.121291\"/>\r\n     <use style=\"fill:#0000ff;stroke:#0000ff;\" x=\"296.382548\" xlink:href=\"#m73897063c5\" y=\"104.565112\"/>\r\n     <use style=\"fill:#0000ff;stroke:#0000ff;\" x=\"304.451868\" xlink:href=\"#m73897063c5\" y=\"101.141451\"/>\r\n     <use style=\"fill:#0000ff;stroke:#0000ff;\" x=\"319.848608\" xlink:href=\"#m73897063c5\" y=\"112.703944\"/>\r\n     <use style=\"fill:#0000ff;stroke:#0000ff;\" x=\"65.844929\" xlink:href=\"#m73897063c5\" y=\"161.639237\"/>\r\n     <use style=\"fill:#0000ff;stroke:#0000ff;\" x=\"169.461305\" xlink:href=\"#m73897063c5\" y=\"135.199752\"/>\r\n     <use style=\"fill:#0000ff;stroke:#0000ff;\" x=\"81.081823\" xlink:href=\"#m73897063c5\" y=\"172.04629\"/>\r\n     <use style=\"fill:#0000ff;stroke:#0000ff;\" x=\"353.303972\" xlink:href=\"#m73897063c5\" y=\"66.37585\"/>\r\n     <use style=\"fill:#0000ff;stroke:#0000ff;\" x=\"265.941403\" xlink:href=\"#m73897063c5\" y=\"108.72422\"/>\r\n     <use style=\"fill:#0000ff;stroke:#0000ff;\" x=\"159.418219\" xlink:href=\"#m73897063c5\" y=\"159.880494\"/>\r\n     <use style=\"fill:#0000ff;stroke:#0000ff;\" x=\"62.024704\" xlink:href=\"#m73897063c5\" y=\"156.23296\"/>\r\n     <use style=\"fill:#0000ff;stroke:#0000ff;\" x=\"152.162803\" xlink:href=\"#m73897063c5\" y=\"158.427465\"/>\r\n     <use style=\"fill:#0000ff;stroke:#0000ff;\" x=\"157.336317\" xlink:href=\"#m73897063c5\" y=\"130.796759\"/>\r\n     <use style=\"fill:#0000ff;stroke:#0000ff;\" x=\"304.670091\" xlink:href=\"#m73897063c5\" y=\"88.93796\"/>\r\n     <use style=\"fill:#0000ff;stroke:#0000ff;\" x=\"271.136172\" xlink:href=\"#m73897063c5\" y=\"126.810249\"/>\r\n     <use style=\"fill:#0000ff;stroke:#0000ff;\" x=\"362.087147\" xlink:href=\"#m73897063c5\" y=\"77.711677\"/>\r\n     <use style=\"fill:#0000ff;stroke:#0000ff;\" x=\"210.900849\" xlink:href=\"#m73897063c5\" y=\"123.198786\"/>\r\n     <use style=\"fill:#0000ff;stroke:#0000ff;\" x=\"82.438931\" xlink:href=\"#m73897063c5\" y=\"148.7272\"/>\r\n     <use style=\"fill:#0000ff;stroke:#0000ff;\" x=\"298.709534\" xlink:href=\"#m73897063c5\" y=\"79.363125\"/>\r\n     <use style=\"fill:#0000ff;stroke:#0000ff;\" x=\"316.028748\" xlink:href=\"#m73897063c5\" y=\"107.14294\"/>\r\n     <use style=\"fill:#0000ff;stroke:#0000ff;\" x=\"243.346791\" xlink:href=\"#m73897063c5\" y=\"132.655652\"/>\r\n     <use style=\"fill:#0000ff;stroke:#0000ff;\" x=\"319.738162\" xlink:href=\"#m73897063c5\" y=\"115.865122\"/>\r\n     <use style=\"fill:#0000ff;stroke:#0000ff;\" x=\"218.762822\" xlink:href=\"#m73897063c5\" y=\"139.641429\"/>\r\n     <use style=\"fill:#0000ff;stroke:#0000ff;\" x=\"229.304837\" xlink:href=\"#m73897063c5\" y=\"125.992943\"/>\r\n     <use style=\"fill:#0000ff;stroke:#0000ff;\" x=\"194.625865\" xlink:href=\"#m73897063c5\" y=\"128.280285\"/>\r\n     <use style=\"fill:#0000ff;stroke:#0000ff;\" x=\"48.130347\" xlink:href=\"#m73897063c5\" y=\"165.339085\"/>\r\n     <use style=\"fill:#0000ff;stroke:#0000ff;\" x=\"78.175521\" xlink:href=\"#m73897063c5\" y=\"149.701004\"/>\r\n    </g>\r\n   </g>\r\n   <g id=\"patch_3\">\r\n    <path d=\"M 38.87 231.6 \r\nL 38.87 7.2 \r\n\" style=\"fill:none;stroke:#000000;stroke-linecap:square;stroke-linejoin:miter;stroke-width:0.8;\"/>\r\n   </g>\r\n   <g id=\"patch_4\">\r\n    <path d=\"M 403.17625 231.6 \r\nL 403.17625 7.2 \r\n\" style=\"fill:none;stroke:#000000;stroke-linecap:square;stroke-linejoin:miter;stroke-width:0.8;\"/>\r\n   </g>\r\n   <g id=\"patch_5\">\r\n    <path d=\"M 38.87 231.6 \r\nL 403.17625 231.6 \r\n\" style=\"fill:none;stroke:#000000;stroke-linecap:square;stroke-linejoin:miter;stroke-width:0.8;\"/>\r\n   </g>\r\n   <g id=\"patch_6\">\r\n    <path d=\"M 38.87 7.2 \r\nL 403.17625 7.2 \r\n\" style=\"fill:none;stroke:#000000;stroke-linecap:square;stroke-linejoin:miter;stroke-width:0.8;\"/>\r\n   </g>\r\n  </g>\r\n </g>\r\n <defs>\r\n  <clipPath id=\"pc146f12cc9\">\r\n   <rect height=\"224.4\" width=\"364.30625\" x=\"38.87\" y=\"7.2\"/>\r\n  </clipPath>\r\n </defs>\r\n</svg>\r\n",
      "image/png": "[encoded data removed]"
     },
     "metadata": {
      "needs_background": "light"
     }
    }
   ],
   "source": [
    "plt.plot(X, y, \"b.\")\n",
    "plt.xlabel(\"$x_1$\", fontsize=18)\n",
    "plt.ylabel(\"$y$\", rotation=0, fontsize=18)\n",
    "plt.axis([0, 2, 0, 15])\n",
    "save_fig(\"generated_data_plot\")\n",
    "plt.show()"
   ]
  },
  {
   "cell_type": "code",
   "execution_count": 5,
   "metadata": {},
   "outputs": [],
   "source": [
    "# add x0 = 1 to each instance\n",
    "X_b = np.c_[np.ones((100, 1)), X] \n",
    "# Equation above!\n",
    "theta_best = np.linalg.inv(X_b.T.dot(X_b)).dot(X_b.T).dot(y)"
   ]
  },
  {
   "source": [
    "\"The actual function that we used to generate the data is y = 4 + 3x0 + Gaussian noise.  \n",
    "Let’s see what the equation found:\""
   ],
   "cell_type": "markdown",
   "metadata": {}
  },
  {
   "cell_type": "code",
   "execution_count": 6,
   "metadata": {},
   "outputs": [
    {
     "output_type": "execute_result",
     "data": {
      "text/plain": [
       "array([[4.21509616],\n",
       "       [2.77011339]])"
      ]
     },
     "metadata": {},
     "execution_count": 6
    }
   ],
   "source": [
    "theta_best\n"
   ]
  },
  {
   "source": [
    "\"We would have hoped for θ0 = 4 and θ1 = 3 instead of θ0 = 4.215 and θ1 = 2.770. Close  \n",
    "enough, but the noise made it impossible to recover the exact parameters of the original  \n",
    "function\""
   ],
   "cell_type": "markdown",
   "metadata": {}
  },
  {
   "source": [
    "\"Now you can make predictions using θ:\""
   ],
   "cell_type": "markdown",
   "metadata": {}
  },
  {
   "cell_type": "code",
   "execution_count": 7,
   "metadata": {},
   "outputs": [
    {
     "output_type": "execute_result",
     "data": {
      "text/plain": [
       "array([[4.21509616],\n",
       "       [9.75532293]])"
      ]
     },
     "metadata": {},
     "execution_count": 7
    }
   ],
   "source": [
    "X_new = np.array([[0], [2]])\n",
    "# add x0 = 1 to each instance\n",
    "X_new_b = np.c_[np.ones((2, 1)), X_new]  \n",
    "y_predict = X_new_b.dot(theta_best)\n",
    "y_predict"
   ]
  },
  {
   "cell_type": "code",
   "execution_count": 8,
   "metadata": {},
   "outputs": [
    {
     "output_type": "display_data",
     "data": {
      "text/plain": "<Figure size 432x288 with 1 Axes>",
      "image/svg+xml": "<?xml version=\"1.0\" encoding=\"utf-8\" standalone=\"no\"?>\r\n<!DOCTYPE svg PUBLIC \"-//W3C//DTD SVG 1.1//EN\"\r\n  \"http://www.w3.org/Graphics/SVG/1.1/DTD/svg11.dtd\">\r\n<svg height=\"250.45375pt\" version=\"1.1\" viewBox=\"0 0 384.829375 250.45375\" width=\"384.829375pt\" xmlns=\"http://www.w3.org/2000/svg\" xmlns:xlink=\"http://www.w3.org/1999/xlink\">\r\n <metadata>\r\n  <rdf:RDF xmlns:cc=\"http://creativecommons.org/ns#\" xmlns:dc=\"http://purl.org/dc/elements/1.1/\" xmlns:rdf=\"http://www.w3.org/1999/02/22-rdf-syntax-ns#\">\r\n   <cc:Work>\r\n    <dc:type rdf:resource=\"http://purl.org/dc/dcmitype/StillImage\"/>\r\n    <dc:date>2021-05-24T14:00:06.427261</dc:date>\r\n    <dc:format>image/svg+xml</dc:format>\r\n    <dc:creator>\r\n     <cc:Agent>\r\n      <dc:title>Matplotlib v3.4.1, https://matplotlib.org/</dc:title>\r\n     </cc:Agent>\r\n    </dc:creator>\r\n   </cc:Work>\r\n  </rdf:RDF>\r\n </metadata>\r\n <defs>\r\n  <style type=\"text/css\">*{stroke-linecap:butt;stroke-linejoin:round;}</style>\r\n </defs>\r\n <g id=\"figure_1\">\r\n  <g id=\"patch_1\">\r\n   <path d=\"M 0 250.45375 \r\nL 384.829375 250.45375 \r\nL 384.829375 0 \r\nL 0 0 \r\nz\r\n\" style=\"fill:none;\"/>\r\n  </g>\r\n  <g id=\"axes_1\">\r\n   <g id=\"patch_2\">\r\n    <path d=\"M 29.47 224.64 \r\nL 364.27 224.64 \r\nL 364.27 7.2 \r\nL 29.47 7.2 \r\nz\r\n\" style=\"fill:#ffffff;\"/>\r\n   </g>\r\n   <g id=\"matplotlib.axis_1\">\r\n    <g id=\"xtick_1\">\r\n     <g id=\"line2d_1\">\r\n      <defs>\r\n       <path d=\"M 0 0 \r\nL 0 3.5 \r\n\" id=\"m63d2e7eac2\" style=\"stroke:#000000;stroke-width:0.8;\"/>\r\n      </defs>\r\n      <g>\r\n       <use style=\"stroke:#000000;stroke-width:0.8;\" x=\"29.47\" xlink:href=\"#m63d2e7eac2\" y=\"224.64\"/>\r\n      </g>\r\n     </g>\r\n     <g id=\"text_1\">\r\n      <!-- 0.00 -->\r\n      <g transform=\"translate(16.110625 240.758125)scale(0.12 -0.12)\">\r\n       <defs>\r\n        <path d=\"M 2034 4250 \r\nQ 1547 4250 1301 3770 \r\nQ 1056 3291 1056 2328 \r\nQ 1056 1369 1301 889 \r\nQ 1547 409 2034 409 \r\nQ 2525 409 2770 889 \r\nQ 3016 1369 3016 2328 \r\nQ 3016 3291 2770 3770 \r\nQ 2525 4250 2034 4250 \r\nz\r\nM 2034 4750 \r\nQ 2819 4750 3233 4129 \r\nQ 3647 3509 3647 2328 \r\nQ 3647 1150 3233 529 \r\nQ 2819 -91 2034 -91 \r\nQ 1250 -91 836 529 \r\nQ 422 1150 422 2328 \r\nQ 422 3509 836 4129 \r\nQ 1250 4750 2034 4750 \r\nz\r\n\" id=\"DejaVuSans-30\" transform=\"scale(0.015625)\"/>\r\n        <path d=\"M 684 794 \r\nL 1344 794 \r\nL 1344 0 \r\nL 684 0 \r\nL 684 794 \r\nz\r\n\" id=\"DejaVuSans-2e\" transform=\"scale(0.015625)\"/>\r\n       </defs>\r\n       <use xlink:href=\"#DejaVuSans-30\"/>\r\n       <use x=\"63.623047\" xlink:href=\"#DejaVuSans-2e\"/>\r\n       <use x=\"95.410156\" xlink:href=\"#DejaVuSans-30\"/>\r\n       <use x=\"159.033203\" xlink:href=\"#DejaVuSans-30\"/>\r\n      </g>\r\n     </g>\r\n    </g>\r\n    <g id=\"xtick_2\">\r\n     <g id=\"line2d_2\">\r\n      <g>\r\n       <use style=\"stroke:#000000;stroke-width:0.8;\" x=\"71.32\" xlink:href=\"#m63d2e7eac2\" y=\"224.64\"/>\r\n      </g>\r\n     </g>\r\n     <g id=\"text_2\">\r\n      <!-- 0.25 -->\r\n      <g transform=\"translate(57.960625 240.758125)scale(0.12 -0.12)\">\r\n       <defs>\r\n        <path d=\"M 1228 531 \r\nL 3431 531 \r\nL 3431 0 \r\nL 469 0 \r\nL 469 531 \r\nQ 828 903 1448 1529 \r\nQ 2069 2156 2228 2338 \r\nQ 2531 2678 2651 2914 \r\nQ 2772 3150 2772 3378 \r\nQ 2772 3750 2511 3984 \r\nQ 2250 4219 1831 4219 \r\nQ 1534 4219 1204 4116 \r\nQ 875 4013 500 3803 \r\nL 500 4441 \r\nQ 881 4594 1212 4672 \r\nQ 1544 4750 1819 4750 \r\nQ 2544 4750 2975 4387 \r\nQ 3406 4025 3406 3419 \r\nQ 3406 3131 3298 2873 \r\nQ 3191 2616 2906 2266 \r\nQ 2828 2175 2409 1742 \r\nQ 1991 1309 1228 531 \r\nz\r\n\" id=\"DejaVuSans-32\" transform=\"scale(0.015625)\"/>\r\n        <path d=\"M 691 4666 \r\nL 3169 4666 \r\nL 3169 4134 \r\nL 1269 4134 \r\nL 1269 2991 \r\nQ 1406 3038 1543 3061 \r\nQ 1681 3084 1819 3084 \r\nQ 2600 3084 3056 2656 \r\nQ 3513 2228 3513 1497 \r\nQ 3513 744 3044 326 \r\nQ 2575 -91 1722 -91 \r\nQ 1428 -91 1123 -41 \r\nQ 819 9 494 109 \r\nL 494 744 \r\nQ 775 591 1075 516 \r\nQ 1375 441 1709 441 \r\nQ 2250 441 2565 725 \r\nQ 2881 1009 2881 1497 \r\nQ 2881 1984 2565 2268 \r\nQ 2250 2553 1709 2553 \r\nQ 1456 2553 1204 2497 \r\nQ 953 2441 691 2322 \r\nL 691 4666 \r\nz\r\n\" id=\"DejaVuSans-35\" transform=\"scale(0.015625)\"/>\r\n       </defs>\r\n       <use xlink:href=\"#DejaVuSans-30\"/>\r\n       <use x=\"63.623047\" xlink:href=\"#DejaVuSans-2e\"/>\r\n       <use x=\"95.410156\" xlink:href=\"#DejaVuSans-32\"/>\r\n       <use x=\"159.033203\" xlink:href=\"#DejaVuSans-35\"/>\r\n      </g>\r\n     </g>\r\n    </g>\r\n    <g id=\"xtick_3\">\r\n     <g id=\"line2d_3\">\r\n      <g>\r\n       <use style=\"stroke:#000000;stroke-width:0.8;\" x=\"113.17\" xlink:href=\"#m63d2e7eac2\" y=\"224.64\"/>\r\n      </g>\r\n     </g>\r\n     <g id=\"text_3\">\r\n      <!-- 0.50 -->\r\n      <g transform=\"translate(99.810625 240.758125)scale(0.12 -0.12)\">\r\n       <use xlink:href=\"#DejaVuSans-30\"/>\r\n       <use x=\"63.623047\" xlink:href=\"#DejaVuSans-2e\"/>\r\n       <use x=\"95.410156\" xlink:href=\"#DejaVuSans-35\"/>\r\n       <use x=\"159.033203\" xlink:href=\"#DejaVuSans-30\"/>\r\n      </g>\r\n     </g>\r\n    </g>\r\n    <g id=\"xtick_4\">\r\n     <g id=\"line2d_4\">\r\n      <g>\r\n       <use style=\"stroke:#000000;stroke-width:0.8;\" x=\"155.02\" xlink:href=\"#m63d2e7eac2\" y=\"224.64\"/>\r\n      </g>\r\n     </g>\r\n     <g id=\"text_4\">\r\n      <!-- 0.75 -->\r\n      <g transform=\"translate(141.660625 240.758125)scale(0.12 -0.12)\">\r\n       <defs>\r\n        <path d=\"M 525 4666 \r\nL 3525 4666 \r\nL 3525 4397 \r\nL 1831 0 \r\nL 1172 0 \r\nL 2766 4134 \r\nL 525 4134 \r\nL 525 4666 \r\nz\r\n\" id=\"DejaVuSans-37\" transform=\"scale(0.015625)\"/>\r\n       </defs>\r\n       <use xlink:href=\"#DejaVuSans-30\"/>\r\n       <use x=\"63.623047\" xlink:href=\"#DejaVuSans-2e\"/>\r\n       <use x=\"95.410156\" xlink:href=\"#DejaVuSans-37\"/>\r\n       <use x=\"159.033203\" xlink:href=\"#DejaVuSans-35\"/>\r\n      </g>\r\n     </g>\r\n    </g>\r\n    <g id=\"xtick_5\">\r\n     <g id=\"line2d_5\">\r\n      <g>\r\n       <use style=\"stroke:#000000;stroke-width:0.8;\" x=\"196.87\" xlink:href=\"#m63d2e7eac2\" y=\"224.64\"/>\r\n      </g>\r\n     </g>\r\n     <g id=\"text_5\">\r\n      <!-- 1.00 -->\r\n      <g transform=\"translate(183.510625 240.758125)scale(0.12 -0.12)\">\r\n       <defs>\r\n        <path d=\"M 794 531 \r\nL 1825 531 \r\nL 1825 4091 \r\nL 703 3866 \r\nL 703 4441 \r\nL 1819 4666 \r\nL 2450 4666 \r\nL 2450 531 \r\nL 3481 531 \r\nL 3481 0 \r\nL 794 0 \r\nL 794 531 \r\nz\r\n\" id=\"DejaVuSans-31\" transform=\"scale(0.015625)\"/>\r\n       </defs>\r\n       <use xlink:href=\"#DejaVuSans-31\"/>\r\n       <use x=\"63.623047\" xlink:href=\"#DejaVuSans-2e\"/>\r\n       <use x=\"95.410156\" xlink:href=\"#DejaVuSans-30\"/>\r\n       <use x=\"159.033203\" xlink:href=\"#DejaVuSans-30\"/>\r\n      </g>\r\n     </g>\r\n    </g>\r\n    <g id=\"xtick_6\">\r\n     <g id=\"line2d_6\">\r\n      <g>\r\n       <use style=\"stroke:#000000;stroke-width:0.8;\" x=\"238.72\" xlink:href=\"#m63d2e7eac2\" y=\"224.64\"/>\r\n      </g>\r\n     </g>\r\n     <g id=\"text_6\">\r\n      <!-- 1.25 -->\r\n      <g transform=\"translate(225.360625 240.758125)scale(0.12 -0.12)\">\r\n       <use xlink:href=\"#DejaVuSans-31\"/>\r\n       <use x=\"63.623047\" xlink:href=\"#DejaVuSans-2e\"/>\r\n       <use x=\"95.410156\" xlink:href=\"#DejaVuSans-32\"/>\r\n       <use x=\"159.033203\" xlink:href=\"#DejaVuSans-35\"/>\r\n      </g>\r\n     </g>\r\n    </g>\r\n    <g id=\"xtick_7\">\r\n     <g id=\"line2d_7\">\r\n      <g>\r\n       <use style=\"stroke:#000000;stroke-width:0.8;\" x=\"280.57\" xlink:href=\"#m63d2e7eac2\" y=\"224.64\"/>\r\n      </g>\r\n     </g>\r\n     <g id=\"text_7\">\r\n      <!-- 1.50 -->\r\n      <g transform=\"translate(267.210625 240.758125)scale(0.12 -0.12)\">\r\n       <use xlink:href=\"#DejaVuSans-31\"/>\r\n       <use x=\"63.623047\" xlink:href=\"#DejaVuSans-2e\"/>\r\n       <use x=\"95.410156\" xlink:href=\"#DejaVuSans-35\"/>\r\n       <use x=\"159.033203\" xlink:href=\"#DejaVuSans-30\"/>\r\n      </g>\r\n     </g>\r\n    </g>\r\n    <g id=\"xtick_8\">\r\n     <g id=\"line2d_8\">\r\n      <g>\r\n       <use style=\"stroke:#000000;stroke-width:0.8;\" x=\"322.42\" xlink:href=\"#m63d2e7eac2\" y=\"224.64\"/>\r\n      </g>\r\n     </g>\r\n     <g id=\"text_8\">\r\n      <!-- 1.75 -->\r\n      <g transform=\"translate(309.060625 240.758125)scale(0.12 -0.12)\">\r\n       <use xlink:href=\"#DejaVuSans-31\"/>\r\n       <use x=\"63.623047\" xlink:href=\"#DejaVuSans-2e\"/>\r\n       <use x=\"95.410156\" xlink:href=\"#DejaVuSans-37\"/>\r\n       <use x=\"159.033203\" xlink:href=\"#DejaVuSans-35\"/>\r\n      </g>\r\n     </g>\r\n    </g>\r\n    <g id=\"xtick_9\">\r\n     <g id=\"line2d_9\">\r\n      <g>\r\n       <use style=\"stroke:#000000;stroke-width:0.8;\" x=\"364.27\" xlink:href=\"#m63d2e7eac2\" y=\"224.64\"/>\r\n      </g>\r\n     </g>\r\n     <g id=\"text_9\">\r\n      <!-- 2.00 -->\r\n      <g transform=\"translate(350.910625 240.758125)scale(0.12 -0.12)\">\r\n       <use xlink:href=\"#DejaVuSans-32\"/>\r\n       <use x=\"63.623047\" xlink:href=\"#DejaVuSans-2e\"/>\r\n       <use x=\"95.410156\" xlink:href=\"#DejaVuSans-30\"/>\r\n       <use x=\"159.033203\" xlink:href=\"#DejaVuSans-30\"/>\r\n      </g>\r\n     </g>\r\n    </g>\r\n   </g>\r\n   <g id=\"matplotlib.axis_2\">\r\n    <g id=\"ytick_1\">\r\n     <g id=\"line2d_10\">\r\n      <defs>\r\n       <path d=\"M 0 0 \r\nL -3.5 0 \r\n\" id=\"m42d0da98e4\" style=\"stroke:#000000;stroke-width:0.8;\"/>\r\n      </defs>\r\n      <g>\r\n       <use style=\"stroke:#000000;stroke-width:0.8;\" x=\"29.47\" xlink:href=\"#m42d0da98e4\" y=\"224.64\"/>\r\n      </g>\r\n     </g>\r\n     <g id=\"text_10\">\r\n      <!-- 0 -->\r\n      <g transform=\"translate(14.835 229.199062)scale(0.12 -0.12)\">\r\n       <use xlink:href=\"#DejaVuSans-30\"/>\r\n      </g>\r\n     </g>\r\n    </g>\r\n    <g id=\"ytick_2\">\r\n     <g id=\"line2d_11\">\r\n      <g>\r\n       <use style=\"stroke:#000000;stroke-width:0.8;\" x=\"29.47\" xlink:href=\"#m42d0da98e4\" y=\"195.648\"/>\r\n      </g>\r\n     </g>\r\n     <g id=\"text_11\">\r\n      <!-- 2 -->\r\n      <g transform=\"translate(14.835 200.207062)scale(0.12 -0.12)\">\r\n       <use xlink:href=\"#DejaVuSans-32\"/>\r\n      </g>\r\n     </g>\r\n    </g>\r\n    <g id=\"ytick_3\">\r\n     <g id=\"line2d_12\">\r\n      <g>\r\n       <use style=\"stroke:#000000;stroke-width:0.8;\" x=\"29.47\" xlink:href=\"#m42d0da98e4\" y=\"166.656\"/>\r\n      </g>\r\n     </g>\r\n     <g id=\"text_12\">\r\n      <!-- 4 -->\r\n      <g transform=\"translate(14.835 171.215062)scale(0.12 -0.12)\">\r\n       <defs>\r\n        <path d=\"M 2419 4116 \r\nL 825 1625 \r\nL 2419 1625 \r\nL 2419 4116 \r\nz\r\nM 2253 4666 \r\nL 3047 4666 \r\nL 3047 1625 \r\nL 3713 1625 \r\nL 3713 1100 \r\nL 3047 1100 \r\nL 3047 0 \r\nL 2419 0 \r\nL 2419 1100 \r\nL 313 1100 \r\nL 313 1709 \r\nL 2253 4666 \r\nz\r\n\" id=\"DejaVuSans-34\" transform=\"scale(0.015625)\"/>\r\n       </defs>\r\n       <use xlink:href=\"#DejaVuSans-34\"/>\r\n      </g>\r\n     </g>\r\n    </g>\r\n    <g id=\"ytick_4\">\r\n     <g id=\"line2d_13\">\r\n      <g>\r\n       <use style=\"stroke:#000000;stroke-width:0.8;\" x=\"29.47\" xlink:href=\"#m42d0da98e4\" y=\"137.664\"/>\r\n      </g>\r\n     </g>\r\n     <g id=\"text_13\">\r\n      <!-- 6 -->\r\n      <g transform=\"translate(14.835 142.223062)scale(0.12 -0.12)\">\r\n       <defs>\r\n        <path d=\"M 2113 2584 \r\nQ 1688 2584 1439 2293 \r\nQ 1191 2003 1191 1497 \r\nQ 1191 994 1439 701 \r\nQ 1688 409 2113 409 \r\nQ 2538 409 2786 701 \r\nQ 3034 994 3034 1497 \r\nQ 3034 2003 2786 2293 \r\nQ 2538 2584 2113 2584 \r\nz\r\nM 3366 4563 \r\nL 3366 3988 \r\nQ 3128 4100 2886 4159 \r\nQ 2644 4219 2406 4219 \r\nQ 1781 4219 1451 3797 \r\nQ 1122 3375 1075 2522 \r\nQ 1259 2794 1537 2939 \r\nQ 1816 3084 2150 3084 \r\nQ 2853 3084 3261 2657 \r\nQ 3669 2231 3669 1497 \r\nQ 3669 778 3244 343 \r\nQ 2819 -91 2113 -91 \r\nQ 1303 -91 875 529 \r\nQ 447 1150 447 2328 \r\nQ 447 3434 972 4092 \r\nQ 1497 4750 2381 4750 \r\nQ 2619 4750 2861 4703 \r\nQ 3103 4656 3366 4563 \r\nz\r\n\" id=\"DejaVuSans-36\" transform=\"scale(0.015625)\"/>\r\n       </defs>\r\n       <use xlink:href=\"#DejaVuSans-36\"/>\r\n      </g>\r\n     </g>\r\n    </g>\r\n    <g id=\"ytick_5\">\r\n     <g id=\"line2d_14\">\r\n      <g>\r\n       <use style=\"stroke:#000000;stroke-width:0.8;\" x=\"29.47\" xlink:href=\"#m42d0da98e4\" y=\"108.672\"/>\r\n      </g>\r\n     </g>\r\n     <g id=\"text_14\">\r\n      <!-- 8 -->\r\n      <g transform=\"translate(14.835 113.231063)scale(0.12 -0.12)\">\r\n       <defs>\r\n        <path d=\"M 2034 2216 \r\nQ 1584 2216 1326 1975 \r\nQ 1069 1734 1069 1313 \r\nQ 1069 891 1326 650 \r\nQ 1584 409 2034 409 \r\nQ 2484 409 2743 651 \r\nQ 3003 894 3003 1313 \r\nQ 3003 1734 2745 1975 \r\nQ 2488 2216 2034 2216 \r\nz\r\nM 1403 2484 \r\nQ 997 2584 770 2862 \r\nQ 544 3141 544 3541 \r\nQ 544 4100 942 4425 \r\nQ 1341 4750 2034 4750 \r\nQ 2731 4750 3128 4425 \r\nQ 3525 4100 3525 3541 \r\nQ 3525 3141 3298 2862 \r\nQ 3072 2584 2669 2484 \r\nQ 3125 2378 3379 2068 \r\nQ 3634 1759 3634 1313 \r\nQ 3634 634 3220 271 \r\nQ 2806 -91 2034 -91 \r\nQ 1263 -91 848 271 \r\nQ 434 634 434 1313 \r\nQ 434 1759 690 2068 \r\nQ 947 2378 1403 2484 \r\nz\r\nM 1172 3481 \r\nQ 1172 3119 1398 2916 \r\nQ 1625 2713 2034 2713 \r\nQ 2441 2713 2670 2916 \r\nQ 2900 3119 2900 3481 \r\nQ 2900 3844 2670 4047 \r\nQ 2441 4250 2034 4250 \r\nQ 1625 4250 1398 4047 \r\nQ 1172 3844 1172 3481 \r\nz\r\n\" id=\"DejaVuSans-38\" transform=\"scale(0.015625)\"/>\r\n       </defs>\r\n       <use xlink:href=\"#DejaVuSans-38\"/>\r\n      </g>\r\n     </g>\r\n    </g>\r\n    <g id=\"ytick_6\">\r\n     <g id=\"line2d_15\">\r\n      <g>\r\n       <use style=\"stroke:#000000;stroke-width:0.8;\" x=\"29.47\" xlink:href=\"#m42d0da98e4\" y=\"79.68\"/>\r\n      </g>\r\n     </g>\r\n     <g id=\"text_15\">\r\n      <!-- 10 -->\r\n      <g transform=\"translate(7.2 84.239062)scale(0.12 -0.12)\">\r\n       <use xlink:href=\"#DejaVuSans-31\"/>\r\n       <use x=\"63.623047\" xlink:href=\"#DejaVuSans-30\"/>\r\n      </g>\r\n     </g>\r\n    </g>\r\n    <g id=\"ytick_7\">\r\n     <g id=\"line2d_16\">\r\n      <g>\r\n       <use style=\"stroke:#000000;stroke-width:0.8;\" x=\"29.47\" xlink:href=\"#m42d0da98e4\" y=\"50.688\"/>\r\n      </g>\r\n     </g>\r\n     <g id=\"text_16\">\r\n      <!-- 12 -->\r\n      <g transform=\"translate(7.2 55.247062)scale(0.12 -0.12)\">\r\n       <use xlink:href=\"#DejaVuSans-31\"/>\r\n       <use x=\"63.623047\" xlink:href=\"#DejaVuSans-32\"/>\r\n      </g>\r\n     </g>\r\n    </g>\r\n    <g id=\"ytick_8\">\r\n     <g id=\"line2d_17\">\r\n      <g>\r\n       <use style=\"stroke:#000000;stroke-width:0.8;\" x=\"29.47\" xlink:href=\"#m42d0da98e4\" y=\"21.696\"/>\r\n      </g>\r\n     </g>\r\n     <g id=\"text_17\">\r\n      <!-- 14 -->\r\n      <g transform=\"translate(7.2 26.255062)scale(0.12 -0.12)\">\r\n       <use xlink:href=\"#DejaVuSans-31\"/>\r\n       <use x=\"63.623047\" xlink:href=\"#DejaVuSans-34\"/>\r\n      </g>\r\n     </g>\r\n    </g>\r\n   </g>\r\n   <g id=\"line2d_18\">\r\n    <path clip-path=\"url(#p41c3aa0656)\" d=\"M 29.47 163.537966 \r\nL 364.27 83.226839 \r\n\" style=\"fill:none;stroke:#ff0000;stroke-linecap:square;stroke-width:1.5;\"/>\r\n   </g>\r\n   <g id=\"line2d_19\">\r\n    <defs>\r\n     <path d=\"M 0 1.5 \r\nC 0.397805 1.5 0.77937 1.341951 1.06066 1.06066 \r\nC 1.341951 0.77937 1.5 0.397805 1.5 0 \r\nC 1.5 -0.397805 1.341951 -0.77937 1.06066 -1.06066 \r\nC 0.77937 -1.341951 0.397805 -1.5 0 -1.5 \r\nC -0.397805 -1.5 -0.77937 -1.341951 -1.06066 -1.06066 \r\nC -1.341951 -0.77937 -1.5 -0.397805 -1.5 0 \r\nC -1.5 0.397805 -1.341951 0.77937 -1.06066 1.06066 \r\nC -0.77937 1.341951 -0.397805 1.5 0 1.5 \r\nz\r\n\" id=\"m2f6205cd34\" style=\"stroke:#0000ff;\"/>\r\n    </defs>\r\n    <g clip-path=\"url(#p41c3aa0656)\">\r\n     <use style=\"fill:#0000ff;stroke:#0000ff;\" x=\"154.866032\" xlink:href=\"#m2f6205cd34\" y=\"132.818164\"/>\r\n     <use style=\"fill:#0000ff;stroke:#0000ff;\" x=\"347.76915\" xlink:href=\"#m2f6205cd34\" y=\"88.301083\"/>\r\n     <use style=\"fill:#0000ff;stroke:#0000ff;\" x=\"274.541572\" xlink:href=\"#m2f6205cd34\" y=\"101.659931\"/>\r\n     <use style=\"fill:#0000ff;stroke:#0000ff;\" x=\"229.900861\" xlink:href=\"#m2f6205cd34\" y=\"143.398879\"/>\r\n     <use style=\"fill:#0000ff;stroke:#0000ff;\" x=\"81.705041\" xlink:href=\"#m2f6205cd34\" y=\"156.270486\"/>\r\n     <use style=\"fill:#0000ff;stroke:#0000ff;\" x=\"81.696965\" xlink:href=\"#m2f6205cd34\" y=\"147.911517\"/>\r\n     <use style=\"fill:#0000ff;stroke:#0000ff;\" x=\"48.916393\" xlink:href=\"#m2f6205cd34\" y=\"140.180568\"/>\r\n     <use style=\"fill:#0000ff;stroke:#0000ff;\" x=\"319.465774\" xlink:href=\"#m2f6205cd34\" y=\"98.832309\"/>\r\n     <use style=\"fill:#0000ff;stroke:#0000ff;\" x=\"230.723306\" xlink:href=\"#m2f6205cd34\" y=\"126.093344\"/>\r\n     <use style=\"fill:#0000ff;stroke:#0000ff;\" x=\"266.532699\" xlink:href=\"#m2f6205cd34\" y=\"112.34415\"/>\r\n     <use style=\"fill:#0000ff;stroke:#0000ff;\" x=\"36.361689\" xlink:href=\"#m2f6205cd34\" y=\"151.595974\"/>\r\n     <use style=\"fill:#0000ff;stroke:#0000ff;\" x=\"354.195819\" xlink:href=\"#m2f6205cd34\" y=\"77.531545\"/>\r\n     <use style=\"fill:#0000ff;stroke:#0000ff;\" x=\"308.171796\" xlink:href=\"#m2f6205cd34\" y=\"101.932873\"/>\r\n     <use style=\"fill:#0000ff;stroke:#0000ff;\" x=\"100.561134\" xlink:href=\"#m2f6205cd34\" y=\"140.747269\"/>\r\n     <use style=\"fill:#0000ff;stroke:#0000ff;\" x=\"90.344999\" xlink:href=\"#m2f6205cd34\" y=\"149.434355\"/>\r\n     <use style=\"fill:#0000ff;stroke:#0000ff;\" x=\"90.87383\" xlink:href=\"#m2f6205cd34\" y=\"136.662732\"/>\r\n     <use style=\"fill:#0000ff;stroke:#0000ff;\" x=\"131.330303\" xlink:href=\"#m2f6205cd34\" y=\"150.371188\"/>\r\n     <use style=\"fill:#0000ff;stroke:#0000ff;\" x=\"205.158453\" xlink:href=\"#m2f6205cd34\" y=\"125.764575\"/>\r\n     <use style=\"fill:#0000ff;stroke:#0000ff;\" x=\"174.085192\" xlink:href=\"#m2f6205cd34\" y=\"134.77115\"/>\r\n     <use style=\"fill:#0000ff;stroke:#0000ff;\" x=\"126.973516\" xlink:href=\"#m2f6205cd34\" y=\"162.541167\"/>\r\n     <use style=\"fill:#0000ff;stroke:#0000ff;\" x=\"234.318349\" xlink:href=\"#m2f6205cd34\" y=\"109.146923\"/>\r\n     <use style=\"fill:#0000ff;stroke:#0000ff;\" x=\"76.172545\" xlink:href=\"#m2f6205cd34\" y=\"150.739125\"/>\r\n     <use style=\"fill:#0000ff;stroke:#0000ff;\" x=\"127.280028\" xlink:href=\"#m2f6205cd34\" y=\"141.172302\"/>\r\n     <use style=\"fill:#0000ff;stroke:#0000ff;\" x=\"152.127945\" xlink:href=\"#m2f6205cd34\" y=\"138.191887\"/>\r\n     <use style=\"fill:#0000ff;stroke:#0000ff;\" x=\"182.162231\" xlink:href=\"#m2f6205cd34\" y=\"147.506071\"/>\r\n     <use style=\"fill:#0000ff;stroke:#0000ff;\" x=\"292.346912\" xlink:href=\"#m2f6205cd34\" y=\"104.46221\"/>\r\n     <use style=\"fill:#0000ff;stroke:#0000ff;\" x=\"96.320782\" xlink:href=\"#m2f6205cd34\" y=\"154.257163\"/>\r\n     <use style=\"fill:#0000ff;stroke:#0000ff;\" x=\"201.63569\" xlink:href=\"#m2f6205cd34\" y=\"133.559757\"/>\r\n     <use style=\"fill:#0000ff;stroke:#0000ff;\" x=\"227.810398\" xlink:href=\"#m2f6205cd34\" y=\"117.468148\"/>\r\n     <use style=\"fill:#0000ff;stroke:#0000ff;\" x=\"45.021598\" xlink:href=\"#m2f6205cd34\" y=\"156.758808\"/>\r\n     <use style=\"fill:#0000ff;stroke:#0000ff;\" x=\"232.876016\" xlink:href=\"#m2f6205cd34\" y=\"86.472028\"/>\r\n     <use style=\"fill:#0000ff;stroke:#0000ff;\" x=\"86.561477\" xlink:href=\"#m2f6205cd34\" y=\"149.293814\"/>\r\n     <use style=\"fill:#0000ff;stroke:#0000ff;\" x=\"51.249273\" xlink:href=\"#m2f6205cd34\" y=\"157.264622\"/>\r\n     <use style=\"fill:#0000ff;stroke:#0000ff;\" x=\"347.156878\" xlink:href=\"#m2f6205cd34\" y=\"85.2049\"/>\r\n     <use style=\"fill:#0000ff;stroke:#0000ff;\" x=\"352.763605\" xlink:href=\"#m2f6205cd34\" y=\"110.483696\"/>\r\n     <use style=\"fill:#0000ff;stroke:#0000ff;\" x=\"300.121432\" xlink:href=\"#m2f6205cd34\" y=\"96.729177\"/>\r\n     <use style=\"fill:#0000ff;stroke:#0000ff;\" x=\"131.45469\" xlink:href=\"#m2f6205cd34\" y=\"139.288816\"/>\r\n     <use style=\"fill:#0000ff;stroke:#0000ff;\" x=\"62.170624\" xlink:href=\"#m2f6205cd34\" y=\"122.453713\"/>\r\n     <use style=\"fill:#0000ff;stroke:#0000ff;\" x=\"258.551217\" xlink:href=\"#m2f6205cd34\" y=\"109.932613\"/>\r\n     <use style=\"fill:#0000ff;stroke:#0000ff;\" x=\"176.833055\" xlink:href=\"#m2f6205cd34\" y=\"124.002066\"/>\r\n     <use style=\"fill:#0000ff;stroke:#0000ff;\" x=\"70.328401\" xlink:href=\"#m2f6205cd34\" y=\"156.544784\"/>\r\n     <use style=\"fill:#0000ff;stroke:#0000ff;\" x=\"195.25523\" xlink:href=\"#m2f6205cd34\" y=\"140.52865\"/>\r\n     <use style=\"fill:#0000ff;stroke:#0000ff;\" x=\"40.983277\" xlink:href=\"#m2f6205cd34\" y=\"147.098664\"/>\r\n     <use style=\"fill:#0000ff;stroke:#0000ff;\" x=\"333.910471\" xlink:href=\"#m2f6205cd34\" y=\"76.666927\"/>\r\n     <use style=\"fill:#0000ff;stroke:#0000ff;\" x=\"116.109538\" xlink:href=\"#m2f6205cd34\" y=\"132.681553\"/>\r\n     <use style=\"fill:#0000ff;stroke:#0000ff;\" x=\"251.282461\" xlink:href=\"#m2f6205cd34\" y=\"122.214942\"/>\r\n     <use style=\"fill:#0000ff;stroke:#0000ff;\" x=\"133.830868\" xlink:href=\"#m2f6205cd34\" y=\"119.209711\"/>\r\n     <use style=\"fill:#0000ff;stroke:#0000ff;\" x=\"203.588773\" xlink:href=\"#m2f6205cd34\" y=\"141.743797\"/>\r\n     <use style=\"fill:#0000ff;stroke:#0000ff;\" x=\"212.508602\" xlink:href=\"#m2f6205cd34\" y=\"110.598246\"/>\r\n     <use style=\"fill:#0000ff;stroke:#0000ff;\" x=\"91.359272\" xlink:href=\"#m2f6205cd34\" y=\"118.825254\"/>\r\n     <use style=\"fill:#0000ff;stroke:#0000ff;\" x=\"354.086933\" xlink:href=\"#m2f6205cd34\" y=\"96.684222\"/>\r\n     <use style=\"fill:#0000ff;stroke:#0000ff;\" x=\"288.984469\" xlink:href=\"#m2f6205cd34\" y=\"107.447099\"/>\r\n     <use style=\"fill:#0000ff;stroke:#0000ff;\" x=\"344.014246\" xlink:href=\"#m2f6205cd34\" y=\"83.497594\"/>\r\n     <use style=\"fill:#0000ff;stroke:#0000ff;\" x=\"329.058197\" xlink:href=\"#m2f6205cd34\" y=\"96.125879\"/>\r\n     <use style=\"fill:#0000ff;stroke:#0000ff;\" x=\"229.646913\" xlink:href=\"#m2f6205cd34\" y=\"137.131469\"/>\r\n     <use style=\"fill:#0000ff;stroke:#0000ff;\" x=\"338.113494\" xlink:href=\"#m2f6205cd34\" y=\"85.481178\"/>\r\n     <use style=\"fill:#0000ff;stroke:#0000ff;\" x=\"59.09729\" xlink:href=\"#m2f6205cd34\" y=\"174.358431\"/>\r\n     <use style=\"fill:#0000ff;stroke:#0000ff;\" x=\"95.085062\" xlink:href=\"#m2f6205cd34\" y=\"142.744999\"/>\r\n     <use style=\"fill:#0000ff;stroke:#0000ff;\" x=\"44.612096\" xlink:href=\"#m2f6205cd34\" y=\"176.050285\"/>\r\n     <use style=\"fill:#0000ff;stroke:#0000ff;\" x=\"138.390595\" xlink:href=\"#m2f6205cd34\" y=\"115.89222\"/>\r\n     <use style=\"fill:#0000ff;stroke:#0000ff;\" x=\"159.599157\" xlink:href=\"#m2f6205cd34\" y=\"144.204444\"/>\r\n     <use style=\"fill:#0000ff;stroke:#0000ff;\" x=\"120.317656\" xlink:href=\"#m2f6205cd34\" y=\"147.72375\"/>\r\n     <use style=\"fill:#0000ff;stroke:#0000ff;\" x=\"306.931318\" xlink:href=\"#m2f6205cd34\" y=\"82.782981\"/>\r\n     <use style=\"fill:#0000ff;stroke:#0000ff;\" x=\"148.911014\" xlink:href=\"#m2f6205cd34\" y=\"153.469632\"/>\r\n     <use style=\"fill:#0000ff;stroke:#0000ff;\" x=\"123.526874\" xlink:href=\"#m2f6205cd34\" y=\"138.924181\"/>\r\n     <use style=\"fill:#0000ff;stroke:#0000ff;\" x=\"211.164649\" xlink:href=\"#m2f6205cd34\" y=\"100.506124\"/>\r\n     <use style=\"fill:#0000ff;stroke:#0000ff;\" x=\"76.651431\" xlink:href=\"#m2f6205cd34\" y=\"177.701052\"/>\r\n     <use style=\"fill:#0000ff;stroke:#0000ff;\" x=\"298.045549\" xlink:href=\"#m2f6205cd34\" y=\"94.207663\"/>\r\n     <use style=\"fill:#0000ff;stroke:#0000ff;\" x=\"54.429556\" xlink:href=\"#m2f6205cd34\" y=\"156.404622\"/>\r\n     <use style=\"fill:#0000ff;stroke:#0000ff;\" x=\"359.879746\" xlink:href=\"#m2f6205cd34\" y=\"69.487217\"/>\r\n     <use style=\"fill:#0000ff;stroke:#0000ff;\" x=\"288.017549\" xlink:href=\"#m2f6205cd34\" y=\"117.420076\"/>\r\n     <use style=\"fill:#0000ff;stroke:#0000ff;\" x=\"96.00001\" xlink:href=\"#m2f6205cd34\" y=\"168.513844\"/>\r\n     <use style=\"fill:#0000ff;stroke:#0000ff;\" x=\"31.318805\" xlink:href=\"#m2f6205cd34\" y=\"158.609643\"/>\r\n     <use style=\"fill:#0000ff;stroke:#0000ff;\" x=\"302.486486\" xlink:href=\"#m2f6205cd34\" y=\"91.425337\"/>\r\n     <use style=\"fill:#0000ff;stroke:#0000ff;\" x=\"266.125839\" xlink:href=\"#m2f6205cd34\" y=\"101.545231\"/>\r\n     <use style=\"fill:#0000ff;stroke:#0000ff;\" x=\"273.5416\" xlink:href=\"#m2f6205cd34\" y=\"98.227759\"/>\r\n     <use style=\"fill:#0000ff;stroke:#0000ff;\" x=\"287.691312\" xlink:href=\"#m2f6205cd34\" y=\"109.431629\"/>\r\n     <use style=\"fill:#0000ff;stroke:#0000ff;\" x=\"54.260149\" xlink:href=\"#m2f6205cd34\" y=\"156.849143\"/>\r\n     <use style=\"fill:#0000ff;stroke:#0000ff;\" x=\"149.484326\" xlink:href=\"#m2f6205cd34\" y=\"131.229706\"/>\r\n     <use style=\"fill:#0000ff;stroke:#0000ff;\" x=\"68.262961\" xlink:href=\"#m2f6205cd34\" y=\"166.933411\"/>\r\n     <use style=\"fill:#0000ff;stroke:#0000ff;\" x=\"318.437027\" xlink:href=\"#m2f6205cd34\" y=\"64.540449\"/>\r\n     <use style=\"fill:#0000ff;stroke:#0000ff;\" x=\"238.150213\" xlink:href=\"#m2f6205cd34\" y=\"105.57534\"/>\r\n     <use style=\"fill:#0000ff;stroke:#0000ff;\" x=\"140.254659\" xlink:href=\"#m2f6205cd34\" y=\"155.144949\"/>\r\n     <use style=\"fill:#0000ff;stroke:#0000ff;\" x=\"50.749336\" xlink:href=\"#m2f6205cd34\" y=\"151.610548\"/>\r\n     <use style=\"fill:#0000ff;stroke:#0000ff;\" x=\"133.586881\" xlink:href=\"#m2f6205cd34\" y=\"153.736987\"/>\r\n     <use style=\"fill:#0000ff;stroke:#0000ff;\" x=\"138.341376\" xlink:href=\"#m2f6205cd34\" y=\"126.963277\"/>\r\n     <use style=\"fill:#0000ff;stroke:#0000ff;\" x=\"273.742149\" xlink:href=\"#m2f6205cd34\" y=\"86.402772\"/>\r\n     <use style=\"fill:#0000ff;stroke:#0000ff;\" x=\"242.924241\" xlink:href=\"#m2f6205cd34\" y=\"123.100412\"/>\r\n     <use style=\"fill:#0000ff;stroke:#0000ff;\" x=\"326.508826\" xlink:href=\"#m2f6205cd34\" y=\"75.524684\"/>\r\n     <use style=\"fill:#0000ff;stroke:#0000ff;\" x=\"187.567557\" xlink:href=\"#m2f6205cd34\" y=\"119.600962\"/>\r\n     <use style=\"fill:#0000ff;stroke:#0000ff;\" x=\"69.510154\" xlink:href=\"#m2f6205cd34\" y=\"144.337587\"/>\r\n     <use style=\"fill:#0000ff;stroke:#0000ff;\" x=\"268.264355\" xlink:href=\"#m2f6205cd34\" y=\"77.12491\"/>\r\n     <use style=\"fill:#0000ff;stroke:#0000ff;\" x=\"284.180834\" xlink:href=\"#m2f6205cd34\" y=\"104.043106\"/>\r\n     <use style=\"fill:#0000ff;stroke:#0000ff;\" x=\"217.385606\" xlink:href=\"#m2f6205cd34\" y=\"128.764514\"/>\r\n     <use style=\"fill:#0000ff;stroke:#0000ff;\" x=\"287.589812\" xlink:href=\"#m2f6205cd34\" y=\"112.49476\"/>\r\n     <use style=\"fill:#0000ff;stroke:#0000ff;\" x=\"194.792766\" xlink:href=\"#m2f6205cd34\" y=\"135.53362\"/>\r\n     <use style=\"fill:#0000ff;stroke:#0000ff;\" x=\"204.480951\" xlink:href=\"#m2f6205cd34\" y=\"122.308456\"/>\r\n     <use style=\"fill:#0000ff;stroke:#0000ff;\" x=\"172.610733\" xlink:href=\"#m2f6205cd34\" y=\"124.524853\"/>\r\n     <use style=\"fill:#0000ff;stroke:#0000ff;\" x=\"37.980324\" xlink:href=\"#m2f6205cd34\" y=\"160.434236\"/>\r\n     <use style=\"fill:#0000ff;stroke:#0000ff;\" x=\"65.59205\" xlink:href=\"#m2f6205cd34\" y=\"145.281187\"/>\r\n    </g>\r\n   </g>\r\n   <g id=\"patch_3\">\r\n    <path d=\"M 29.47 224.64 \r\nL 29.47 7.2 \r\n\" style=\"fill:none;stroke:#000000;stroke-linecap:square;stroke-linejoin:miter;stroke-width:0.8;\"/>\r\n   </g>\r\n   <g id=\"patch_4\">\r\n    <path d=\"M 364.27 224.64 \r\nL 364.27 7.2 \r\n\" style=\"fill:none;stroke:#000000;stroke-linecap:square;stroke-linejoin:miter;stroke-width:0.8;\"/>\r\n   </g>\r\n   <g id=\"patch_5\">\r\n    <path d=\"M 29.47 224.64 \r\nL 364.27 224.64 \r\n\" style=\"fill:none;stroke:#000000;stroke-linecap:square;stroke-linejoin:miter;stroke-width:0.8;\"/>\r\n   </g>\r\n   <g id=\"patch_6\">\r\n    <path d=\"M 29.47 7.2 \r\nL 364.27 7.2 \r\n\" style=\"fill:none;stroke:#000000;stroke-linecap:square;stroke-linejoin:miter;stroke-width:0.8;\"/>\r\n   </g>\r\n  </g>\r\n </g>\r\n <defs>\r\n  <clipPath id=\"p41c3aa0656\">\r\n   <rect height=\"217.44\" width=\"334.8\" x=\"29.47\" y=\"7.2\"/>\r\n  </clipPath>\r\n </defs>\r\n</svg>\r\n",
      "image/png": "[encoded data removed]"
     },
     "metadata": {
      "needs_background": "light"
     }
    }
   ],
   "source": [
    "plt.plot(X_new, y_predict, \"r-\")\n",
    "plt.plot(X, y, \"b.\")\n",
    "plt.axis([0, 2, 0, 15])\n",
    "plt.show()"
   ]
  },
  {
   "cell_type": "code",
   "execution_count": 9,
   "metadata": {},
   "outputs": [
    {
     "output_type": "execute_result",
     "data": {
      "text/plain": [
       "(array([4.21509616]), array([[2.77011339]]))"
      ]
     },
     "metadata": {},
     "execution_count": 9
    }
   ],
   "source": [
    "\n",
    "from sklearn.linear_model import LinearRegression\n",
    "\n",
    "lin_reg = LinearRegression()\n",
    "lin_reg.fit(X, y)\n",
    "lin_reg.intercept_, lin_reg.coef_"
   ]
  },
  {
   "cell_type": "code",
   "execution_count": 10,
   "metadata": {},
   "outputs": [
    {
     "output_type": "execute_result",
     "data": {
      "text/plain": [
       "array([[4.21509616],\n",
       "       [9.75532293]])"
      ]
     },
     "metadata": {},
     "execution_count": 10
    }
   ],
   "source": [
    "lin_reg.predict(X_new)\n"
   ]
  },
  {
   "source": [
    "\"The LinearRegression class is based on the scipy.linalg.lstsq() function (the name stands for \"least squares\"), which you could call directly:\""
   ],
   "cell_type": "markdown",
   "metadata": {}
  },
  {
   "cell_type": "code",
   "execution_count": 11,
   "metadata": {},
   "outputs": [
    {
     "output_type": "execute_result",
     "data": {
      "text/plain": [
       "array([[4.21509616],\n",
       "       [2.77011339]])"
      ]
     },
     "metadata": {},
     "execution_count": 11
    }
   ],
   "source": [
    "theta_best_svd, residuals, rank, s = np.linalg.lstsq(X_b, y, rcond=1e-6)\n",
    "theta_best_svd"
   ]
  },
  {
   "source": [
    "\"This function computes $\\mathbf{X}^+\\mathbf{y}$, where $\\mathbf{X}^{+}$ is the pseudoinverse of $\\mathbf{X}$ (specifically the   Moore-Penrose inverse). You can use np.linalg.pinv() to compute the pseudoinverse directly:\""
   ],
   "cell_type": "markdown",
   "metadata": {}
  },
  {
   "cell_type": "code",
   "execution_count": 12,
   "metadata": {},
   "outputs": [
    {
     "output_type": "execute_result",
     "data": {
      "text/plain": [
       "array([[4.21509616],\n",
       "       [2.77011339]])"
      ]
     },
     "metadata": {},
     "execution_count": 12
    }
   ],
   "source": [
    "np.linalg.pinv(X_b).dot(y)\n"
   ]
  },
  {
   "source": [
    "## Computational Complexity\n",
    "\n",
    "\"The Normal Equation computes the inverse of XT · X, which is an n × n matrix  \n",
    "(where n is the number of features). The computational complexity of inverting such a  \n",
    "matrix is typically about O(n2.4) to O(n3) (depending on the implementation). In  \n",
    "other words, if you double the number of features, you multiply the computation  \n",
    "time by roughly 22.4 = 5.3 to 23 = 8.\"\n",
    "\n",
    "WARNING: \"The Normal Equation gets very slow when the number of features  \n",
    "grows large (e.g., 100,000).\"\n",
    "\n",
    "\"On the positive side, this equation is linear with regards to the number of instances in  \n",
    "the training set (it is O(m)), so it handles large training sets efficiently, provided they  \n",
    "can fit in memory.\"\n",
    "\n",
    "\"Also, once you have trained your Linear Regression model (using the Normal Equation  \n",
    "or any other algorithm), predictions are very fast: the computational complexity  \n",
    "is linear with regards to both the number of instances you want to make predictions  \n",
    "on and the number of features. In other words, making predictions on twice as many  \n",
    "instances (or twice as many features) will just take roughly twice as much time.\"\n",
    "\n",
    "\"Now we will look at very different ways to train a Linear Regression model, better  \n",
    "suited for cases where there are a large number of features, or too many training  \n",
    "instances to fit in memory.\""
   ],
   "cell_type": "markdown",
   "metadata": {}
  },
  {
   "source": [
    "# Gradient Descent\n",
    "\n",
    "\"Gradient Descent is a very generic optimization algorithm capable of finding optimal  \n",
    "solutions to a wide range of problems. The general idea of Gradient Descent is to  \n",
    "tweak parameters iteratively in order to minimize a cost function.\"\n",
    "\n",
    "\"Suppose you are lost in the mountains in a dense fog; you can only feel the slope of  \n",
    "the ground below your feet. A good strategy to get to the bottom of the valley quickly  \n",
    "is to go downhill in the direction of the steepest slope. This is exactly what Gradient  \n",
    "Descent does: it measures the local gradient of the error function with regards to the  \n",
    "parameter vector θ, and it goes in the direction of descending gradient. Once the gradient  \n",
    "is zero, you have reached a minimum!\"\n",
    "\n",
    "\"Concretely, you start by filling θ with random values (this is called random initialization),  \n",
    "and then you improve it gradually, taking one baby step at a time, each step  \n",
    "attempting to decrease the cost function (e.g., the MSE), until the algorithm converges  \n",
    "to a minimum (see Figure 4-3).\" \n"
   ],
   "cell_type": "markdown",
   "metadata": {}
  },
  {
   "source": [
    "![title](images/gradient_descent.png)\n"
   ],
   "cell_type": "markdown",
   "metadata": {}
  },
  {
   "source": [
    "\"An important parameter in Gradient Descent is the size of the steps, determined by  \n",
    "the learning rate hyperparameter. If the learning rate is too small, then the algorithm  \n",
    "will have to go through many iterations to converge, which will take a long time (see  \n",
    "Figure 4-4).\"\n"
   ],
   "cell_type": "markdown",
   "metadata": {}
  },
  {
   "source": [
    "![title](images/gradient_descent_2.png)\n"
   ],
   "cell_type": "markdown",
   "metadata": {}
  },
  {
   "source": [
    "\"On the other hand, if the learning rate is too high, you might jump across the valley  \n",
    "and end up on the other side, possibly even higher up than you were before. This  \n",
    "might make the algorithm diverge, with larger and larger values, failing to find a good  \n",
    "solution (see Figure 4-5).\""
   ],
   "cell_type": "markdown",
   "metadata": {}
  },
  {
   "source": [
    "![title](images/gradient_descent_3.png)\n"
   ],
   "cell_type": "markdown",
   "metadata": {}
  },
  {
   "source": [
    "\"Finally, not all cost functions look like nice regular bowls. There may be holes, ridges,  \n",
    "plateaus, and all sorts of irregular terrains, making convergence to the minimum very  \n",
    "difficult. Figure 4-6 shows the two main challenges with Gradient Descent: if the random  \n",
    "initialization starts the algorithm on the left, then it will converge to a local minimum,  \n",
    "which is not as good as the global minimum. If it starts on the right, then it will  \n",
    "take a very long time to cross the plateau, and if you stop too early you will never  \n",
    "reach the global minimum.\""
   ],
   "cell_type": "markdown",
   "metadata": {}
  },
  {
   "source": [
    "![title](images/gradient_descent_4.png)\n"
   ],
   "cell_type": "markdown",
   "metadata": {}
  },
  {
   "source": [
    "\"Fortunately, the MSE cost function for a Linear Regression model happens to be a  \n",
    "convex function, which means that if you pick any two points on the curve, the line  \n",
    "segment joining them never crosses the curve. This implies that there are no local  \n",
    "minima, just one global minimum. It is also a continuous function with a slope that  \n",
    "never changes abruptly.4 These two facts have a great consequence: Gradient Descent  \n",
    "is guaranteed to approach arbitrarily close the global minimum (if you wait long  \n",
    "enough and if the learning rate is not too high).\"\n",
    "\n",
    "\"In fact, the cost function has the shape of a bowl, but it can be an elongated bowl if  \n",
    "the features have very different scales. Figure 4-7 shows Gradient Descent on a training  \n",
    "set where features 1 and 2 have the same scale (on the left), and on a training set  \n",
    "where feature 1 has much smaller values than feature 2 (on the right). Since feature 1 is smaller,   \n",
    "it takes a larger change in θ1 to affect the cost function, which is why the bowl is\n",
    "elongated along the θ1 axis.\"\n",
    "\n",
    "\n"
   ],
   "cell_type": "markdown",
   "metadata": {}
  },
  {
   "source": [
    "![title](images/gradient_descent_5.png)\n"
   ],
   "cell_type": "markdown",
   "metadata": {}
  },
  {
   "source": [
    "\"As you can see, on the left the Gradient Descent algorithm goes straight toward the  \n",
    "minimum, thereby reaching it quickly, whereas on the right it first goes in a direction  \n",
    "almost orthogonal to the direction of the global minimum, and it ends with a long  \n",
    "march down an almost flat valley. It will eventually reach the minimum, but it will  \n",
    "take a long time.\"\n",
    "\n",
    "WARNING: \"When using Gradient Descent, you should ensure that all features  \n",
    "have a similar scale (e.g., using Scikit-Learn’s StandardScaler  \n",
    "class), or else it will take much longer to converge.\""
   ],
   "cell_type": "markdown",
   "metadata": {}
  },
  {
   "source": [
    "## Batch Gradient Descent\n",
    "\n",
    "\"To implement Gradient Descent, you need to compute the gradient of the cost function  \n",
    "with regards to each model parameter θj. In other words, you need to calculate   \n",
    "how much the cost function will change if you change θj just a little bit. This is called  \n",
    "a partial derivative. It is like asking “what is the slope of the mountain under my feet  \n",
    "if I face east?” and then asking the same question facing north (and so on for all other  \n",
    "dimensions, if you can imagine a universe with more than three dimensions). Equation  \n",
    "4-5 computes the partial derivative of the cost function with regards to parameter  \n",
    "θj\"\n",
    "\n",
    "![title](images/batch_gradient_descent.png)\n",
    "\n",
    "\"Instead of computing these gradients individually, you can use Equation 4-6 to compute  \n",
    "them all in one go. The gradient vector, noted ∇θMSE(θ), contains all the partial  \n",
    "derivatives of the cost function (one for each model parameter).\"\n",
    "\n",
    "![title](images/batch_gradient_descent_2.png)\n",
    "\n",
    "\"Once you have the gradient vector, which points uphill, just go in the opposite direction  \n",
    "to go downhill. This means subtracting ∇θMSE(θ) from θ. This is where the  \n",
    "learning rate η comes into play:6 multiply the gradient vector by η to determine the  \n",
    "size of the downhill step (Equation 4-7).\"\n",
    "\n",
    "![title](images/batch_gradient_descent_3.png)\n",
    "\n"
   ],
   "cell_type": "markdown",
   "metadata": {}
  },
  {
   "source": [
    "WARNING: \"Notice that 4.6 involves calculations over the full training  \n",
    "set X, at each Gradient Descent step! This is why the algorithm is  \n",
    "called Batch Gradient Descent: it uses the whole batch of training  \n",
    "data at every step. As a result it is terribly slow on very large training  \n",
    "sets (but we will see much faster Gradient Descent algorithms  \n",
    "shortly). However, Gradient Descent scales well with the number of  \n",
    "features; training a Linear Regression model when there are hundreds  \n",
    "of thousands of features is much faster using Gradient  \n",
    "Descent than using the Normal Equation.\""
   ],
   "cell_type": "markdown",
   "metadata": {}
  },
  {
   "cell_type": "code",
   "execution_count": 13,
   "metadata": {},
   "outputs": [],
   "source": [
    "# learning rate\n",
    "eta = 0.1  \n",
    "n_iterations = 1000\n",
    "m = 100\n",
    "\n",
    "# random initialization\n",
    "theta = np.random.randn(2,1)  \n",
    "\n",
    "for iteration in range(n_iterations):\n",
    "    gradients = 2/m * X_b.T.dot(X_b.dot(theta) - y)\n",
    "    theta = theta - eta * gradients"
   ]
  },
  {
   "cell_type": "code",
   "execution_count": 14,
   "metadata": {},
   "outputs": [
    {
     "output_type": "execute_result",
     "data": {
      "text/plain": [
       "array([[4.21509616],\n",
       "       [2.77011339]])"
      ]
     },
     "metadata": {},
     "execution_count": 14
    }
   ],
   "source": [
    "theta\n"
   ]
  },
  {
   "source": [
    "\"Hey, that’s exactly what the Normal Equation found! Gradient Descent worked perfectly.  \n",
    "But what if you had used a different learning rate eta? Figure 4-8 shows the  \n",
    "first 10 steps of Gradient Descent using three different learning rates (the dashed line  \n",
    "represents the starting point).\"\n",
    "\n",
    "![title](images/batch_gradient_descent_4.png)\n",
    "\n",
    "\"On the left, the learning rate is too low: the algorithm will eventually reach the solution,  \n",
    "but it will take a long time. In the middle, the learning rate looks pretty good: in  \n",
    "just a few iterations, it has already converged to the solution. On the right, the learning  \n",
    "rate is too high: the algorithm diverges, jumping all over the place and actually  \n",
    "getting further and further away from the solution at every step.\"\n",
    "\n"
   ],
   "cell_type": "markdown",
   "metadata": {}
  },
  {
   "source": [
    "TIP: \"To find a good learning rate, you can use grid search (see Chapter 2). However, you  \n",
    "may want to limit the number of iterations so that grid search can eliminate models  \n",
    "that take too long to converge.\"\n",
    "\n",
    "TIP 2: \"You may wonder how to set the number of iterations. If it is too low, you will still be  \n",
    "far away from the optimal solution when the algorithm stops, but if it is too high, you  \n",
    "will waste time while the model parameters do not change anymore. A simple solution  \n",
    "is to set a very large number of iterations but to interrupt the algorithm when the  \n",
    "gradient vector becomes tiny—that is, when its norm becomes smaller than a tiny  \n",
    "number ϵ (called the tolerance)—because this happens when Gradient Descent has  \n",
    "(almost) reached the minimum.\""
   ],
   "cell_type": "markdown",
   "metadata": {}
  },
  {
   "source": [
    "## Stochastic Gradient Descent\n",
    "\n",
    "\"The main problem with Batch Gradient Descent is the fact that it uses the whole  \n",
    "training set to compute the gradients at every step, which makes it very slow when  \n",
    "the training set is large. At the opposite extreme, Stochastic Gradient Descent just  \n",
    "picks a random instance in the training set at every step and computes the gradients  \n",
    "based only on that single instance. Obviously this makes the algorithm much faster  \n",
    "since it has very little data to manipulate at every iteration. It also makes it possible to  \n",
    "train on huge training sets, since only one instance needs to be in memory at each  \n",
    "iteration (SGD can be implemented as an out-of-core algorithm.7)\"\n",
    "\n",
    "\"On the other hand, due to its stochastic (i.e., random) nature, this algorithm is much  \n",
    "less regular than Batch Gradient Descent: instead of gently decreasing until it reaches  \n",
    "the minimum, the cost function will bounce up and down, decreasing only on average.  \n",
    "Over time it will end up very close to the minimum, but once it gets there it will  \n",
    "continue to bounce around, never settling down (see Figure 4-9). So once the algorithm  \n",
    "stops, the final parameter values are good, but not optimal.\"\n",
    "\n",
    "![title](images/stochastic_gradient_descent.png)\n",
    "\n",
    "\"When the cost function is very irregular (as in Figure 4-6), this can actually help the  \n",
    "algorithm jump out of local minima, so Stochastic Gradient Descent has a better  \n",
    "chance of finding the global minimum than Batch Gradient Descent does.\"\n"
   ],
   "cell_type": "markdown",
   "metadata": {}
  },
  {
   "source": [
    "Learning Schedule \n",
    "\n",
    "\"Therefore randomness is good to escape from local optima, but bad because it means   \n",
    "that the algorithm can never settle at the minimum. One solution to this dilemma is  \n",
    "to gradually reduce the learning rate. The steps start out large (which helps make  \n",
    "quick progress and escape local minima), then get smaller and smaller, allowing the  \n",
    "algorithm to settle at the global minimum. This process is called simulated annealing,  \n",
    "because it resembles the process of annealing in metallurgy where molten metal is  \n",
    "slowly cooled down. The function that determines the learning rate at each iteration  \n",
    "is called the learning schedule. If the learning rate is reduced too quickly, you may get  \n",
    "stuck in a local minimum, or even end up frozen halfway to the minimum. If the  \n",
    "learning rate is reduced too slowly, you may jump around the minimum for a long  \n",
    "time and end up with a suboptimal solution if you halt training too early.\""
   ],
   "cell_type": "markdown",
   "metadata": {}
  },
  {
   "source": [
    "This code implements Stochastic Gradient Descent using a simple learning schedule:"
   ],
   "cell_type": "markdown",
   "metadata": {}
  },
  {
   "cell_type": "code",
   "execution_count": 18,
   "metadata": {},
   "outputs": [],
   "source": [
    "theta_path_sgd = []\n",
    "m = len(X_b)\n",
    "np.random.seed(42)"
   ]
  },
  {
   "cell_type": "code",
   "execution_count": 19,
   "metadata": {},
   "outputs": [
    {
     "output_type": "stream",
     "name": "stdout",
     "text": [
      "Saving figure sgd_plot\n"
     ]
    },
    {
     "output_type": "display_data",
     "data": {
      "text/plain": "<Figure size 432x288 with 1 Axes>",
      "image/svg+xml": "<?xml version=\"1.0\" encoding=\"utf-8\" standalone=\"no\"?>\r\n<!DOCTYPE svg PUBLIC \"-//W3C//DTD SVG 1.1//EN\"\r\n  \"http://www.w3.org/Graphics/SVG/1.1/DTD/svg11.dtd\">\r\n<svg height=\"278.834375pt\" version=\"1.1\" viewBox=\"0 0 423.735625 278.834375\" width=\"423.735625pt\" xmlns=\"http://www.w3.org/2000/svg\" xmlns:xlink=\"http://www.w3.org/1999/xlink\">\r\n <metadata>\r\n  <rdf:RDF xmlns:cc=\"http://creativecommons.org/ns#\" xmlns:dc=\"http://purl.org/dc/elements/1.1/\" xmlns:rdf=\"http://www.w3.org/1999/02/22-rdf-syntax-ns#\">\r\n   <cc:Work>\r\n    <dc:type rdf:resource=\"http://purl.org/dc/dcmitype/StillImage\"/>\r\n    <dc:date>2021-05-24T14:08:17.437316</dc:date>\r\n    <dc:format>image/svg+xml</dc:format>\r\n    <dc:creator>\r\n     <cc:Agent>\r\n      <dc:title>Matplotlib v3.4.1, https://matplotlib.org/</dc:title>\r\n     </cc:Agent>\r\n    </dc:creator>\r\n   </cc:Work>\r\n  </rdf:RDF>\r\n </metadata>\r\n <defs>\r\n  <style type=\"text/css\">*{stroke-linecap:butt;stroke-linejoin:round;}</style>\r\n </defs>\r\n <g id=\"figure_1\">\r\n  <g id=\"patch_1\">\r\n   <path d=\"M 0 278.834375 \r\nL 423.735625 278.834375 \r\nL 423.735625 0 \r\nL 0 0 \r\nz\r\n\" style=\"fill:none;\"/>\r\n  </g>\r\n  <g id=\"axes_1\">\r\n   <g id=\"patch_2\">\r\n    <path d=\"M 38.87 231.6 \r\nL 403.17625 231.6 \r\nL 403.17625 7.2 \r\nL 38.87 7.2 \r\nz\r\n\" style=\"fill:#ffffff;\"/>\r\n   </g>\r\n   <g id=\"matplotlib.axis_1\">\r\n    <g id=\"xtick_1\">\r\n     <g id=\"line2d_1\">\r\n      <defs>\r\n       <path d=\"M 0 0 \r\nL 0 3.5 \r\n\" id=\"mea3c924f85\" style=\"stroke:#000000;stroke-width:0.8;\"/>\r\n      </defs>\r\n      <g>\r\n       <use style=\"stroke:#000000;stroke-width:0.8;\" x=\"38.87\" xlink:href=\"#mea3c924f85\" y=\"231.6\"/>\r\n      </g>\r\n     </g>\r\n     <g id=\"text_1\">\r\n      <!-- 0.00 -->\r\n      <g transform=\"translate(25.510625 247.718125)scale(0.12 -0.12)\">\r\n       <defs>\r\n        <path d=\"M 2034 4250 \r\nQ 1547 4250 1301 3770 \r\nQ 1056 3291 1056 2328 \r\nQ 1056 1369 1301 889 \r\nQ 1547 409 2034 409 \r\nQ 2525 409 2770 889 \r\nQ 3016 1369 3016 2328 \r\nQ 3016 3291 2770 3770 \r\nQ 2525 4250 2034 4250 \r\nz\r\nM 2034 4750 \r\nQ 2819 4750 3233 4129 \r\nQ 3647 3509 3647 2328 \r\nQ 3647 1150 3233 529 \r\nQ 2819 -91 2034 -91 \r\nQ 1250 -91 836 529 \r\nQ 422 1150 422 2328 \r\nQ 422 3509 836 4129 \r\nQ 1250 4750 2034 4750 \r\nz\r\n\" id=\"DejaVuSans-30\" transform=\"scale(0.015625)\"/>\r\n        <path d=\"M 684 794 \r\nL 1344 794 \r\nL 1344 0 \r\nL 684 0 \r\nL 684 794 \r\nz\r\n\" id=\"DejaVuSans-2e\" transform=\"scale(0.015625)\"/>\r\n       </defs>\r\n       <use xlink:href=\"#DejaVuSans-30\"/>\r\n       <use x=\"63.623047\" xlink:href=\"#DejaVuSans-2e\"/>\r\n       <use x=\"95.410156\" xlink:href=\"#DejaVuSans-30\"/>\r\n       <use x=\"159.033203\" xlink:href=\"#DejaVuSans-30\"/>\r\n      </g>\r\n     </g>\r\n    </g>\r\n    <g id=\"xtick_2\">\r\n     <g id=\"line2d_2\">\r\n      <g>\r\n       <use style=\"stroke:#000000;stroke-width:0.8;\" x=\"84.408281\" xlink:href=\"#mea3c924f85\" y=\"231.6\"/>\r\n      </g>\r\n     </g>\r\n     <g id=\"text_2\">\r\n      <!-- 0.25 -->\r\n      <g transform=\"translate(71.048906 247.718125)scale(0.12 -0.12)\">\r\n       <defs>\r\n        <path d=\"M 1228 531 \r\nL 3431 531 \r\nL 3431 0 \r\nL 469 0 \r\nL 469 531 \r\nQ 828 903 1448 1529 \r\nQ 2069 2156 2228 2338 \r\nQ 2531 2678 2651 2914 \r\nQ 2772 3150 2772 3378 \r\nQ 2772 3750 2511 3984 \r\nQ 2250 4219 1831 4219 \r\nQ 1534 4219 1204 4116 \r\nQ 875 4013 500 3803 \r\nL 500 4441 \r\nQ 881 4594 1212 4672 \r\nQ 1544 4750 1819 4750 \r\nQ 2544 4750 2975 4387 \r\nQ 3406 4025 3406 3419 \r\nQ 3406 3131 3298 2873 \r\nQ 3191 2616 2906 2266 \r\nQ 2828 2175 2409 1742 \r\nQ 1991 1309 1228 531 \r\nz\r\n\" id=\"DejaVuSans-32\" transform=\"scale(0.015625)\"/>\r\n        <path d=\"M 691 4666 \r\nL 3169 4666 \r\nL 3169 4134 \r\nL 1269 4134 \r\nL 1269 2991 \r\nQ 1406 3038 1543 3061 \r\nQ 1681 3084 1819 3084 \r\nQ 2600 3084 3056 2656 \r\nQ 3513 2228 3513 1497 \r\nQ 3513 744 3044 326 \r\nQ 2575 -91 1722 -91 \r\nQ 1428 -91 1123 -41 \r\nQ 819 9 494 109 \r\nL 494 744 \r\nQ 775 591 1075 516 \r\nQ 1375 441 1709 441 \r\nQ 2250 441 2565 725 \r\nQ 2881 1009 2881 1497 \r\nQ 2881 1984 2565 2268 \r\nQ 2250 2553 1709 2553 \r\nQ 1456 2553 1204 2497 \r\nQ 953 2441 691 2322 \r\nL 691 4666 \r\nz\r\n\" id=\"DejaVuSans-35\" transform=\"scale(0.015625)\"/>\r\n       </defs>\r\n       <use xlink:href=\"#DejaVuSans-30\"/>\r\n       <use x=\"63.623047\" xlink:href=\"#DejaVuSans-2e\"/>\r\n       <use x=\"95.410156\" xlink:href=\"#DejaVuSans-32\"/>\r\n       <use x=\"159.033203\" xlink:href=\"#DejaVuSans-35\"/>\r\n      </g>\r\n     </g>\r\n    </g>\r\n    <g id=\"xtick_3\">\r\n     <g id=\"line2d_3\">\r\n      <g>\r\n       <use style=\"stroke:#000000;stroke-width:0.8;\" x=\"129.946562\" xlink:href=\"#mea3c924f85\" y=\"231.6\"/>\r\n      </g>\r\n     </g>\r\n     <g id=\"text_3\">\r\n      <!-- 0.50 -->\r\n      <g transform=\"translate(116.587187 247.718125)scale(0.12 -0.12)\">\r\n       <use xlink:href=\"#DejaVuSans-30\"/>\r\n       <use x=\"63.623047\" xlink:href=\"#DejaVuSans-2e\"/>\r\n       <use x=\"95.410156\" xlink:href=\"#DejaVuSans-35\"/>\r\n       <use x=\"159.033203\" xlink:href=\"#DejaVuSans-30\"/>\r\n      </g>\r\n     </g>\r\n    </g>\r\n    <g id=\"xtick_4\">\r\n     <g id=\"line2d_4\">\r\n      <g>\r\n       <use style=\"stroke:#000000;stroke-width:0.8;\" x=\"175.484844\" xlink:href=\"#mea3c924f85\" y=\"231.6\"/>\r\n      </g>\r\n     </g>\r\n     <g id=\"text_4\">\r\n      <!-- 0.75 -->\r\n      <g transform=\"translate(162.125469 247.718125)scale(0.12 -0.12)\">\r\n       <defs>\r\n        <path d=\"M 525 4666 \r\nL 3525 4666 \r\nL 3525 4397 \r\nL 1831 0 \r\nL 1172 0 \r\nL 2766 4134 \r\nL 525 4134 \r\nL 525 4666 \r\nz\r\n\" id=\"DejaVuSans-37\" transform=\"scale(0.015625)\"/>\r\n       </defs>\r\n       <use xlink:href=\"#DejaVuSans-30\"/>\r\n       <use x=\"63.623047\" xlink:href=\"#DejaVuSans-2e\"/>\r\n       <use x=\"95.410156\" xlink:href=\"#DejaVuSans-37\"/>\r\n       <use x=\"159.033203\" xlink:href=\"#DejaVuSans-35\"/>\r\n      </g>\r\n     </g>\r\n    </g>\r\n    <g id=\"xtick_5\">\r\n     <g id=\"line2d_5\">\r\n      <g>\r\n       <use style=\"stroke:#000000;stroke-width:0.8;\" x=\"221.023125\" xlink:href=\"#mea3c924f85\" y=\"231.6\"/>\r\n      </g>\r\n     </g>\r\n     <g id=\"text_5\">\r\n      <!-- 1.00 -->\r\n      <g transform=\"translate(207.66375 247.718125)scale(0.12 -0.12)\">\r\n       <defs>\r\n        <path d=\"M 794 531 \r\nL 1825 531 \r\nL 1825 4091 \r\nL 703 3866 \r\nL 703 4441 \r\nL 1819 4666 \r\nL 2450 4666 \r\nL 2450 531 \r\nL 3481 531 \r\nL 3481 0 \r\nL 794 0 \r\nL 794 531 \r\nz\r\n\" id=\"DejaVuSans-31\" transform=\"scale(0.015625)\"/>\r\n       </defs>\r\n       <use xlink:href=\"#DejaVuSans-31\"/>\r\n       <use x=\"63.623047\" xlink:href=\"#DejaVuSans-2e\"/>\r\n       <use x=\"95.410156\" xlink:href=\"#DejaVuSans-30\"/>\r\n       <use x=\"159.033203\" xlink:href=\"#DejaVuSans-30\"/>\r\n      </g>\r\n     </g>\r\n    </g>\r\n    <g id=\"xtick_6\">\r\n     <g id=\"line2d_6\">\r\n      <g>\r\n       <use style=\"stroke:#000000;stroke-width:0.8;\" x=\"266.561406\" xlink:href=\"#mea3c924f85\" y=\"231.6\"/>\r\n      </g>\r\n     </g>\r\n     <g id=\"text_6\">\r\n      <!-- 1.25 -->\r\n      <g transform=\"translate(253.202031 247.718125)scale(0.12 -0.12)\">\r\n       <use xlink:href=\"#DejaVuSans-31\"/>\r\n       <use x=\"63.623047\" xlink:href=\"#DejaVuSans-2e\"/>\r\n       <use x=\"95.410156\" xlink:href=\"#DejaVuSans-32\"/>\r\n       <use x=\"159.033203\" xlink:href=\"#DejaVuSans-35\"/>\r\n      </g>\r\n     </g>\r\n    </g>\r\n    <g id=\"xtick_7\">\r\n     <g id=\"line2d_7\">\r\n      <g>\r\n       <use style=\"stroke:#000000;stroke-width:0.8;\" x=\"312.099687\" xlink:href=\"#mea3c924f85\" y=\"231.6\"/>\r\n      </g>\r\n     </g>\r\n     <g id=\"text_7\">\r\n      <!-- 1.50 -->\r\n      <g transform=\"translate(298.740312 247.718125)scale(0.12 -0.12)\">\r\n       <use xlink:href=\"#DejaVuSans-31\"/>\r\n       <use x=\"63.623047\" xlink:href=\"#DejaVuSans-2e\"/>\r\n       <use x=\"95.410156\" xlink:href=\"#DejaVuSans-35\"/>\r\n       <use x=\"159.033203\" xlink:href=\"#DejaVuSans-30\"/>\r\n      </g>\r\n     </g>\r\n    </g>\r\n    <g id=\"xtick_8\">\r\n     <g id=\"line2d_8\">\r\n      <g>\r\n       <use style=\"stroke:#000000;stroke-width:0.8;\" x=\"357.637969\" xlink:href=\"#mea3c924f85\" y=\"231.6\"/>\r\n      </g>\r\n     </g>\r\n     <g id=\"text_8\">\r\n      <!-- 1.75 -->\r\n      <g transform=\"translate(344.278594 247.718125)scale(0.12 -0.12)\">\r\n       <use xlink:href=\"#DejaVuSans-31\"/>\r\n       <use x=\"63.623047\" xlink:href=\"#DejaVuSans-2e\"/>\r\n       <use x=\"95.410156\" xlink:href=\"#DejaVuSans-37\"/>\r\n       <use x=\"159.033203\" xlink:href=\"#DejaVuSans-35\"/>\r\n      </g>\r\n     </g>\r\n    </g>\r\n    <g id=\"xtick_9\">\r\n     <g id=\"line2d_9\">\r\n      <g>\r\n       <use style=\"stroke:#000000;stroke-width:0.8;\" x=\"403.17625\" xlink:href=\"#mea3c924f85\" y=\"231.6\"/>\r\n      </g>\r\n     </g>\r\n     <g id=\"text_9\">\r\n      <!-- 2.00 -->\r\n      <g transform=\"translate(389.816875 247.718125)scale(0.12 -0.12)\">\r\n       <use xlink:href=\"#DejaVuSans-32\"/>\r\n       <use x=\"63.623047\" xlink:href=\"#DejaVuSans-2e\"/>\r\n       <use x=\"95.410156\" xlink:href=\"#DejaVuSans-30\"/>\r\n       <use x=\"159.033203\" xlink:href=\"#DejaVuSans-30\"/>\r\n      </g>\r\n     </g>\r\n    </g>\r\n    <g id=\"text_10\">\r\n     <!-- $x_1$ -->\r\n     <g transform=\"translate(211.393125 267.890937)scale(0.18 -0.18)\">\r\n      <defs>\r\n       <path d=\"M 3841 3500 \r\nL 2234 1784 \r\nL 3219 0 \r\nL 2559 0 \r\nL 1819 1388 \r\nL 531 0 \r\nL -166 0 \r\nL 1556 1844 \r\nL 641 3500 \r\nL 1300 3500 \r\nL 1972 2234 \r\nL 3144 3500 \r\nL 3841 3500 \r\nz\r\n\" id=\"DejaVuSans-Oblique-78\" transform=\"scale(0.015625)\"/>\r\n      </defs>\r\n      <use transform=\"translate(0 0.3125)\" xlink:href=\"#DejaVuSans-Oblique-78\"/>\r\n      <use transform=\"translate(59.179688 -16.09375)scale(0.7)\" xlink:href=\"#DejaVuSans-31\"/>\r\n     </g>\r\n    </g>\r\n   </g>\r\n   <g id=\"matplotlib.axis_2\">\r\n    <g id=\"ytick_1\">\r\n     <g id=\"line2d_10\">\r\n      <defs>\r\n       <path d=\"M 0 0 \r\nL -3.5 0 \r\n\" id=\"mbea3eed8ad\" style=\"stroke:#000000;stroke-width:0.8;\"/>\r\n      </defs>\r\n      <g>\r\n       <use style=\"stroke:#000000;stroke-width:0.8;\" x=\"38.87\" xlink:href=\"#mbea3eed8ad\" y=\"231.6\"/>\r\n      </g>\r\n     </g>\r\n     <g id=\"text_11\">\r\n      <!-- 0 -->\r\n      <g transform=\"translate(24.235 236.159062)scale(0.12 -0.12)\">\r\n       <use xlink:href=\"#DejaVuSans-30\"/>\r\n      </g>\r\n     </g>\r\n    </g>\r\n    <g id=\"ytick_2\">\r\n     <g id=\"line2d_11\">\r\n      <g>\r\n       <use style=\"stroke:#000000;stroke-width:0.8;\" x=\"38.87\" xlink:href=\"#mbea3eed8ad\" y=\"201.68\"/>\r\n      </g>\r\n     </g>\r\n     <g id=\"text_12\">\r\n      <!-- 2 -->\r\n      <g transform=\"translate(24.235 206.239062)scale(0.12 -0.12)\">\r\n       <use xlink:href=\"#DejaVuSans-32\"/>\r\n      </g>\r\n     </g>\r\n    </g>\r\n    <g id=\"ytick_3\">\r\n     <g id=\"line2d_12\">\r\n      <g>\r\n       <use style=\"stroke:#000000;stroke-width:0.8;\" x=\"38.87\" xlink:href=\"#mbea3eed8ad\" y=\"171.76\"/>\r\n      </g>\r\n     </g>\r\n     <g id=\"text_13\">\r\n      <!-- 4 -->\r\n      <g transform=\"translate(24.235 176.319062)scale(0.12 -0.12)\">\r\n       <defs>\r\n        <path d=\"M 2419 4116 \r\nL 825 1625 \r\nL 2419 1625 \r\nL 2419 4116 \r\nz\r\nM 2253 4666 \r\nL 3047 4666 \r\nL 3047 1625 \r\nL 3713 1625 \r\nL 3713 1100 \r\nL 3047 1100 \r\nL 3047 0 \r\nL 2419 0 \r\nL 2419 1100 \r\nL 313 1100 \r\nL 313 1709 \r\nL 2253 4666 \r\nz\r\n\" id=\"DejaVuSans-34\" transform=\"scale(0.015625)\"/>\r\n       </defs>\r\n       <use xlink:href=\"#DejaVuSans-34\"/>\r\n      </g>\r\n     </g>\r\n    </g>\r\n    <g id=\"ytick_4\">\r\n     <g id=\"line2d_13\">\r\n      <g>\r\n       <use style=\"stroke:#000000;stroke-width:0.8;\" x=\"38.87\" xlink:href=\"#mbea3eed8ad\" y=\"141.84\"/>\r\n      </g>\r\n     </g>\r\n     <g id=\"text_14\">\r\n      <!-- 6 -->\r\n      <g transform=\"translate(24.235 146.399062)scale(0.12 -0.12)\">\r\n       <defs>\r\n        <path d=\"M 2113 2584 \r\nQ 1688 2584 1439 2293 \r\nQ 1191 2003 1191 1497 \r\nQ 1191 994 1439 701 \r\nQ 1688 409 2113 409 \r\nQ 2538 409 2786 701 \r\nQ 3034 994 3034 1497 \r\nQ 3034 2003 2786 2293 \r\nQ 2538 2584 2113 2584 \r\nz\r\nM 3366 4563 \r\nL 3366 3988 \r\nQ 3128 4100 2886 4159 \r\nQ 2644 4219 2406 4219 \r\nQ 1781 4219 1451 3797 \r\nQ 1122 3375 1075 2522 \r\nQ 1259 2794 1537 2939 \r\nQ 1816 3084 2150 3084 \r\nQ 2853 3084 3261 2657 \r\nQ 3669 2231 3669 1497 \r\nQ 3669 778 3244 343 \r\nQ 2819 -91 2113 -91 \r\nQ 1303 -91 875 529 \r\nQ 447 1150 447 2328 \r\nQ 447 3434 972 4092 \r\nQ 1497 4750 2381 4750 \r\nQ 2619 4750 2861 4703 \r\nQ 3103 4656 3366 4563 \r\nz\r\n\" id=\"DejaVuSans-36\" transform=\"scale(0.015625)\"/>\r\n       </defs>\r\n       <use xlink:href=\"#DejaVuSans-36\"/>\r\n      </g>\r\n     </g>\r\n    </g>\r\n    <g id=\"ytick_5\">\r\n     <g id=\"line2d_14\">\r\n      <g>\r\n       <use style=\"stroke:#000000;stroke-width:0.8;\" x=\"38.87\" xlink:href=\"#mbea3eed8ad\" y=\"111.92\"/>\r\n      </g>\r\n     </g>\r\n     <g id=\"text_15\">\r\n      <!-- 8 -->\r\n      <g transform=\"translate(24.235 116.479062)scale(0.12 -0.12)\">\r\n       <defs>\r\n        <path d=\"M 2034 2216 \r\nQ 1584 2216 1326 1975 \r\nQ 1069 1734 1069 1313 \r\nQ 1069 891 1326 650 \r\nQ 1584 409 2034 409 \r\nQ 2484 409 2743 651 \r\nQ 3003 894 3003 1313 \r\nQ 3003 1734 2745 1975 \r\nQ 2488 2216 2034 2216 \r\nz\r\nM 1403 2484 \r\nQ 997 2584 770 2862 \r\nQ 544 3141 544 3541 \r\nQ 544 4100 942 4425 \r\nQ 1341 4750 2034 4750 \r\nQ 2731 4750 3128 4425 \r\nQ 3525 4100 3525 3541 \r\nQ 3525 3141 3298 2862 \r\nQ 3072 2584 2669 2484 \r\nQ 3125 2378 3379 2068 \r\nQ 3634 1759 3634 1313 \r\nQ 3634 634 3220 271 \r\nQ 2806 -91 2034 -91 \r\nQ 1263 -91 848 271 \r\nQ 434 634 434 1313 \r\nQ 434 1759 690 2068 \r\nQ 947 2378 1403 2484 \r\nz\r\nM 1172 3481 \r\nQ 1172 3119 1398 2916 \r\nQ 1625 2713 2034 2713 \r\nQ 2441 2713 2670 2916 \r\nQ 2900 3119 2900 3481 \r\nQ 2900 3844 2670 4047 \r\nQ 2441 4250 2034 4250 \r\nQ 1625 4250 1398 4047 \r\nQ 1172 3844 1172 3481 \r\nz\r\n\" id=\"DejaVuSans-38\" transform=\"scale(0.015625)\"/>\r\n       </defs>\r\n       <use xlink:href=\"#DejaVuSans-38\"/>\r\n      </g>\r\n     </g>\r\n    </g>\r\n    <g id=\"ytick_6\">\r\n     <g id=\"line2d_15\">\r\n      <g>\r\n       <use style=\"stroke:#000000;stroke-width:0.8;\" x=\"38.87\" xlink:href=\"#mbea3eed8ad\" y=\"82\"/>\r\n      </g>\r\n     </g>\r\n     <g id=\"text_16\">\r\n      <!-- 10 -->\r\n      <g transform=\"translate(16.6 86.559062)scale(0.12 -0.12)\">\r\n       <use xlink:href=\"#DejaVuSans-31\"/>\r\n       <use x=\"63.623047\" xlink:href=\"#DejaVuSans-30\"/>\r\n      </g>\r\n     </g>\r\n    </g>\r\n    <g id=\"ytick_7\">\r\n     <g id=\"line2d_16\">\r\n      <g>\r\n       <use style=\"stroke:#000000;stroke-width:0.8;\" x=\"38.87\" xlink:href=\"#mbea3eed8ad\" y=\"52.08\"/>\r\n      </g>\r\n     </g>\r\n     <g id=\"text_17\">\r\n      <!-- 12 -->\r\n      <g transform=\"translate(16.6 56.639062)scale(0.12 -0.12)\">\r\n       <use xlink:href=\"#DejaVuSans-31\"/>\r\n       <use x=\"63.623047\" xlink:href=\"#DejaVuSans-32\"/>\r\n      </g>\r\n     </g>\r\n    </g>\r\n    <g id=\"ytick_8\">\r\n     <g id=\"line2d_17\">\r\n      <g>\r\n       <use style=\"stroke:#000000;stroke-width:0.8;\" x=\"38.87\" xlink:href=\"#mbea3eed8ad\" y=\"22.16\"/>\r\n      </g>\r\n     </g>\r\n     <g id=\"text_18\">\r\n      <!-- 14 -->\r\n      <g transform=\"translate(16.6 26.719062)scale(0.12 -0.12)\">\r\n       <use xlink:href=\"#DejaVuSans-31\"/>\r\n       <use x=\"63.623047\" xlink:href=\"#DejaVuSans-34\"/>\r\n      </g>\r\n     </g>\r\n    </g>\r\n    <g id=\"text_19\">\r\n     <!-- $y$ -->\r\n     <g transform=\"translate(7.2 115.62)scale(0.18 -0.18)\">\r\n      <defs>\r\n       <path d=\"M 1588 -325 \r\nQ 1188 -997 936 -1164 \r\nQ 684 -1331 294 -1331 \r\nL -159 -1331 \r\nL -63 -850 \r\nL 269 -850 \r\nQ 509 -850 678 -719 \r\nQ 847 -588 1056 -206 \r\nL 1234 128 \r\nL 459 3500 \r\nL 1069 3500 \r\nL 1650 819 \r\nL 3256 3500 \r\nL 3859 3500 \r\nL 1588 -325 \r\nz\r\n\" id=\"DejaVuSans-Oblique-79\" transform=\"scale(0.015625)\"/>\r\n      </defs>\r\n      <use transform=\"translate(0 0.3125)\" xlink:href=\"#DejaVuSans-Oblique-79\"/>\r\n     </g>\r\n    </g>\r\n   </g>\r\n   <g id=\"line2d_18\">\r\n    <path clip-path=\"url(#p933d374023)\" d=\"M 38.87 224.169156 \r\nL 403.17625 228.306024 \r\n\" style=\"fill:none;stroke:#ff0000;stroke-dasharray:5.55,2.4;stroke-dashoffset:0;stroke-width:1.5;\"/>\r\n   </g>\r\n   <g id=\"line2d_19\">\r\n    <path clip-path=\"url(#p933d374023)\" d=\"M 38.87 213.906375 \r\nL 403.17625 209.885741 \r\n\" style=\"fill:none;stroke:#0000ff;stroke-linecap:square;stroke-width:1.5;\"/>\r\n   </g>\r\n   <g id=\"line2d_20\">\r\n    <path clip-path=\"url(#p933d374023)\" d=\"M 38.87 201.40562 \r\nL 403.17625 177.949948 \r\n\" style=\"fill:none;stroke:#0000ff;stroke-linecap:square;stroke-width:1.5;\"/>\r\n   </g>\r\n   <g id=\"line2d_21\">\r\n    <path clip-path=\"url(#p933d374023)\" d=\"M 38.87 187.050991 \r\nL 403.17625 128.463631 \r\n\" style=\"fill:none;stroke:#0000ff;stroke-linecap:square;stroke-width:1.5;\"/>\r\n   </g>\r\n   <g id=\"line2d_22\">\r\n    <path clip-path=\"url(#p933d374023)\" d=\"M 38.87 185.582301 \r\nL 403.17625 125.050995 \r\n\" style=\"fill:none;stroke:#0000ff;stroke-linecap:square;stroke-width:1.5;\"/>\r\n   </g>\r\n   <g id=\"line2d_23\">\r\n    <path clip-path=\"url(#p933d374023)\" d=\"M 38.87 175.863722 \r\nL 403.17625 86.969475 \r\n\" style=\"fill:none;stroke:#0000ff;stroke-linecap:square;stroke-width:1.5;\"/>\r\n   </g>\r\n   <g id=\"line2d_24\">\r\n    <path clip-path=\"url(#p933d374023)\" d=\"M 38.87 174.324984 \r\nL 403.17625 81.080064 \r\n\" style=\"fill:none;stroke:#0000ff;stroke-linecap:square;stroke-width:1.5;\"/>\r\n   </g>\r\n   <g id=\"line2d_25\">\r\n    <path clip-path=\"url(#p933d374023)\" d=\"M 38.87 173.63766 \r\nL 403.17625 78.449379 \r\n\" style=\"fill:none;stroke:#0000ff;stroke-linecap:square;stroke-width:1.5;\"/>\r\n   </g>\r\n   <g id=\"line2d_26\">\r\n    <path clip-path=\"url(#p933d374023)\" d=\"M 38.87 176.069342 \r\nL 403.17625 87.08241 \r\n\" style=\"fill:none;stroke:#0000ff;stroke-linecap:square;stroke-width:1.5;\"/>\r\n   </g>\r\n   <g id=\"line2d_27\">\r\n    <path clip-path=\"url(#p933d374023)\" d=\"M 38.87 173.178409 \r\nL 403.17625 82.94385 \r\n\" style=\"fill:none;stroke:#0000ff;stroke-linecap:square;stroke-width:1.5;\"/>\r\n   </g>\r\n   <g id=\"line2d_28\">\r\n    <path clip-path=\"url(#p933d374023)\" d=\"M 38.87 173.562286 \r\nL 403.17625 83.890278 \r\n\" style=\"fill:none;stroke:#0000ff;stroke-linecap:square;stroke-width:1.5;\"/>\r\n   </g>\r\n   <g id=\"line2d_29\">\r\n    <path clip-path=\"url(#p933d374023)\" d=\"M 38.87 173.02238 \r\nL 403.17625 81.76954 \r\n\" style=\"fill:none;stroke:#0000ff;stroke-linecap:square;stroke-width:1.5;\"/>\r\n   </g>\r\n   <g id=\"line2d_30\">\r\n    <path clip-path=\"url(#p933d374023)\" d=\"M 38.87 172.209343 \r\nL 403.17625 80.502849 \r\n\" style=\"fill:none;stroke:#0000ff;stroke-linecap:square;stroke-width:1.5;\"/>\r\n   </g>\r\n   <g id=\"line2d_31\">\r\n    <path clip-path=\"url(#p933d374023)\" d=\"M 38.87 172.191376 \r\nL 403.17625 80.41736 \r\n\" style=\"fill:none;stroke:#0000ff;stroke-linecap:square;stroke-width:1.5;\"/>\r\n   </g>\r\n   <g id=\"line2d_32\">\r\n    <path clip-path=\"url(#p933d374023)\" d=\"M 38.87 173.136856 \r\nL 403.17625 84.958368 \r\n\" style=\"fill:none;stroke:#0000ff;stroke-linecap:square;stroke-width:1.5;\"/>\r\n   </g>\r\n   <g id=\"line2d_33\">\r\n    <path clip-path=\"url(#p933d374023)\" d=\"M 38.87 174.68252 \r\nL 403.17625 90.445829 \r\n\" style=\"fill:none;stroke:#0000ff;stroke-linecap:square;stroke-width:1.5;\"/>\r\n   </g>\r\n   <g id=\"line2d_34\">\r\n    <path clip-path=\"url(#p933d374023)\" d=\"M 38.87 173.263492 \r\nL 403.17625 88.763144 \r\n\" style=\"fill:none;stroke:#0000ff;stroke-linecap:square;stroke-width:1.5;\"/>\r\n   </g>\r\n   <g id=\"line2d_35\">\r\n    <path clip-path=\"url(#p933d374023)\" d=\"M 38.87 167.374505 \r\nL 403.17625 80.573397 \r\n\" style=\"fill:none;stroke:#0000ff;stroke-linecap:square;stroke-width:1.5;\"/>\r\n   </g>\r\n   <g id=\"line2d_36\">\r\n    <path clip-path=\"url(#p933d374023)\" d=\"M 38.87 168.276831 \r\nL 403.17625 84.90714 \r\n\" style=\"fill:none;stroke:#0000ff;stroke-linecap:square;stroke-width:1.5;\"/>\r\n   </g>\r\n   <g id=\"line2d_37\">\r\n    <path clip-path=\"url(#p933d374023)\" d=\"M 38.87 171.161704 \r\nL 403.17625 91.908765 \r\n\" style=\"fill:none;stroke:#0000ff;stroke-linecap:square;stroke-width:1.5;\"/>\r\n   </g>\r\n   <g id=\"line2d_38\">\r\n    <defs>\r\n     <path d=\"M 0 1.5 \r\nC 0.397805 1.5 0.77937 1.341951 1.06066 1.06066 \r\nC 1.341951 0.77937 1.5 0.397805 1.5 0 \r\nC 1.5 -0.397805 1.341951 -0.77937 1.06066 -1.06066 \r\nC 0.77937 -1.341951 0.397805 -1.5 0 -1.5 \r\nC -0.397805 -1.5 -0.77937 -1.341951 -1.06066 -1.06066 \r\nC -1.341951 -0.77937 -1.5 -0.397805 -1.5 0 \r\nC -1.5 0.397805 -1.341951 0.77937 -1.06066 1.06066 \r\nC -0.77937 1.341951 -0.397805 1.5 0 1.5 \r\nz\r\n\" id=\"m49a05fe526\" style=\"stroke:#0000ff;\"/>\r\n    </defs>\r\n    <g clip-path=\"url(#p933d374023)\">\r\n     <use style=\"fill:#0000ff;stroke:#0000ff;\" x=\"175.317306\" xlink:href=\"#m49a05fe526\" y=\"136.839055\"/>\r\n     <use style=\"fill:#0000ff;stroke:#0000ff;\" x=\"385.221164\" xlink:href=\"#m49a05fe526\" y=\"90.897034\"/>\r\n     <use style=\"fill:#0000ff;stroke:#0000ff;\" x=\"305.539968\" xlink:href=\"#m49a05fe526\" y=\"104.683483\"/>\r\n     <use style=\"fill:#0000ff;stroke:#0000ff;\" x=\"256.965027\" xlink:href=\"#m49a05fe526\" y=\"147.758445\"/>\r\n     <use style=\"fill:#0000ff;stroke:#0000ff;\" x=\"95.708566\" xlink:href=\"#m49a05fe526\" y=\"161.042058\"/>\r\n     <use style=\"fill:#0000ff;stroke:#0000ff;\" x=\"95.699779\" xlink:href=\"#m49a05fe526\" y=\"152.415528\"/>\r\n     <use style=\"fill:#0000ff;stroke:#0000ff;\" x=\"60.030223\" xlink:href=\"#m49a05fe526\" y=\"144.43712\"/>\r\n     <use style=\"fill:#0000ff;stroke:#0000ff;\" x=\"354.423384\" xlink:href=\"#m49a05fe526\" y=\"101.765352\"/>\r\n     <use style=\"fill:#0000ff;stroke:#0000ff;\" x=\"257.859956\" xlink:href=\"#m49a05fe526\" y=\"129.898981\"/>\r\n     <use style=\"fill:#0000ff;stroke:#0000ff;\" x=\"296.825266\" xlink:href=\"#m49a05fe526\" y=\"115.709691\"/>\r\n     <use style=\"fill:#0000ff;stroke:#0000ff;\" x=\"46.36906\" xlink:href=\"#m49a05fe526\" y=\"156.21792\"/>\r\n     <use style=\"fill:#0000ff;stroke:#0000ff;\" x=\"392.214221\" xlink:href=\"#m49a05fe526\" y=\"79.782775\"/>\r\n     <use style=\"fill:#0000ff;stroke:#0000ff;\" x=\"342.134057\" xlink:href=\"#m49a05fe526\" y=\"104.965161\"/>\r\n     <use style=\"fill:#0000ff;stroke:#0000ff;\" x=\"116.226465\" xlink:href=\"#m49a05fe526\" y=\"145.021961\"/>\r\n     <use style=\"fill:#0000ff;stroke:#0000ff;\" x=\"105.109972\" xlink:href=\"#m49a05fe526\" y=\"153.987111\"/>\r\n     <use style=\"fill:#0000ff;stroke:#0000ff;\" x=\"105.685409\" xlink:href=\"#m49a05fe526\" y=\"140.806682\"/>\r\n     <use style=\"fill:#0000ff;stroke:#0000ff;\" x=\"149.707351\" xlink:href=\"#m49a05fe526\" y=\"154.953931\"/>\r\n     <use style=\"fill:#0000ff;stroke:#0000ff;\" x=\"230.042048\" xlink:href=\"#m49a05fe526\" y=\"129.559688\"/>\r\n     <use style=\"fill:#0000ff;stroke:#0000ff;\" x=\"196.23027\" xlink:href=\"#m49a05fe526\" y=\"138.854553\"/>\r\n     <use style=\"fill:#0000ff;stroke:#0000ff;\" x=\"144.966596\" xlink:href=\"#m49a05fe526\" y=\"167.513456\"/>\r\n     <use style=\"fill:#0000ff;stroke:#0000ff;\" x=\"261.771834\" xlink:href=\"#m49a05fe526\" y=\"112.410125\"/>\r\n     <use style=\"fill:#0000ff;stroke:#0000ff;\" x=\"89.688485\" xlink:href=\"#m49a05fe526\" y=\"155.333644\"/>\r\n     <use style=\"fill:#0000ff;stroke:#0000ff;\" x=\"145.300121\" xlink:href=\"#m49a05fe526\" y=\"145.460599\"/>\r\n     <use style=\"fill:#0000ff;stroke:#0000ff;\" x=\"172.337909\" xlink:href=\"#m49a05fe526\" y=\"142.384784\"/>\r\n     <use style=\"fill:#0000ff;stroke:#0000ff;\" x=\"205.019146\" xlink:href=\"#m49a05fe526\" y=\"151.997105\"/>\r\n     <use style=\"fill:#0000ff;stroke:#0000ff;\" x=\"324.91451\" xlink:href=\"#m49a05fe526\" y=\"107.57546\"/>\r\n     <use style=\"fill:#0000ff;stroke:#0000ff;\" x=\"111.612407\" xlink:href=\"#m49a05fe526\" y=\"158.96429\"/>\r\n     <use style=\"fill:#0000ff;stroke:#0000ff;\" x=\"226.20882\" xlink:href=\"#m49a05fe526\" y=\"137.604385\"/>\r\n     <use style=\"fill:#0000ff;stroke:#0000ff;\" x=\"254.69033\" xlink:href=\"#m49a05fe526\" y=\"120.997703\"/>\r\n     <use style=\"fill:#0000ff;stroke:#0000ff;\" x=\"55.792176\" xlink:href=\"#m49a05fe526\" y=\"161.54601\"/>\r\n     <use style=\"fill:#0000ff;stroke:#0000ff;\" x=\"260.202387\" xlink:href=\"#m49a05fe526\" y=\"89.009433\"/>\r\n     <use style=\"fill:#0000ff;stroke:#0000ff;\" x=\"100.993004\" xlink:href=\"#m49a05fe526\" y=\"153.842071\"/>\r\n     <use style=\"fill:#0000ff;stroke:#0000ff;\" x=\"62.568702\" xlink:href=\"#m49a05fe526\" y=\"162.068015\"/>\r\n     <use style=\"fill:#0000ff;stroke:#0000ff;\" x=\"384.554932\" xlink:href=\"#m49a05fe526\" y=\"87.701745\"/>\r\n     <use style=\"fill:#0000ff;stroke:#0000ff;\" x=\"390.655785\" xlink:href=\"#m49a05fe526\" y=\"113.789686\"/>\r\n     <use style=\"fill:#0000ff;stroke:#0000ff;\" x=\"333.374206\" xlink:href=\"#m49a05fe526\" y=\"99.594902\"/>\r\n     <use style=\"fill:#0000ff;stroke:#0000ff;\" x=\"149.8427\" xlink:href=\"#m49a05fe526\" y=\"143.516824\"/>\r\n     <use style=\"fill:#0000ff;stroke:#0000ff;\" x=\"74.452562\" xlink:href=\"#m49a05fe526\" y=\"126.142849\"/>\r\n     <use style=\"fill:#0000ff;stroke:#0000ff;\" x=\"288.140368\" xlink:href=\"#m49a05fe526\" y=\"113.220964\"/>\r\n     <use style=\"fill:#0000ff;stroke:#0000ff;\" x=\"199.220304\" xlink:href=\"#m49a05fe526\" y=\"127.740764\"/>\r\n     <use style=\"fill:#0000ff;stroke:#0000ff;\" x=\"83.329292\" xlink:href=\"#m49a05fe526\" y=\"161.325136\"/>\r\n     <use style=\"fill:#0000ff;stroke:#0000ff;\" x=\"219.266043\" xlink:href=\"#m49a05fe526\" y=\"144.796344\"/>\r\n     <use style=\"fill:#0000ff;stroke:#0000ff;\" x=\"51.397953\" xlink:href=\"#m49a05fe526\" y=\"151.576657\"/>\r\n     <use style=\"fill:#0000ff;stroke:#0000ff;\" x=\"370.141106\" xlink:href=\"#m49a05fe526\" y=\"78.890483\"/>\r\n     <use style=\"fill:#0000ff;stroke:#0000ff;\" x=\"133.145165\" xlink:href=\"#m49a05fe526\" y=\"136.698071\"/>\r\n     <use style=\"fill:#0000ff;stroke:#0000ff;\" x=\"280.231009\" xlink:href=\"#m49a05fe526\" y=\"125.896436\"/>\r\n     <use style=\"fill:#0000ff;stroke:#0000ff;\" x=\"152.428293\" xlink:href=\"#m49a05fe526\" y=\"122.795011\"/>\r\n     <use style=\"fill:#0000ff;stroke:#0000ff;\" x=\"228.334031\" xlink:href=\"#m49a05fe526\" y=\"146.050386\"/>\r\n     <use style=\"fill:#0000ff;stroke:#0000ff;\" x=\"238.039972\" xlink:href=\"#m49a05fe526\" y=\"113.907903\"/>\r\n     <use style=\"fill:#0000ff;stroke:#0000ff;\" x=\"106.213633\" xlink:href=\"#m49a05fe526\" y=\"122.398248\"/>\r\n     <use style=\"fill:#0000ff;stroke:#0000ff;\" x=\"392.09574\" xlink:href=\"#m49a05fe526\" y=\"99.548507\"/>\r\n     <use style=\"fill:#0000ff;stroke:#0000ff;\" x=\"321.255732\" xlink:href=\"#m49a05fe526\" y=\"110.655892\"/>\r\n     <use style=\"fill:#0000ff;stroke:#0000ff;\" x=\"381.135336\" xlink:href=\"#m49a05fe526\" y=\"85.939791\"/>\r\n     <use style=\"fill:#0000ff;stroke:#0000ff;\" x=\"364.861196\" xlink:href=\"#m49a05fe526\" y=\"98.972293\"/>\r\n     <use style=\"fill:#0000ff;stroke:#0000ff;\" x=\"256.688699\" xlink:href=\"#m49a05fe526\" y=\"141.290423\"/>\r\n     <use style=\"fill:#0000ff;stroke:#0000ff;\" x=\"374.714546\" xlink:href=\"#m49a05fe526\" y=\"87.986867\"/>\r\n     <use style=\"fill:#0000ff;stroke:#0000ff;\" x=\"71.108372\" xlink:href=\"#m49a05fe526\" y=\"179.708977\"/>\r\n     <use style=\"fill:#0000ff;stroke:#0000ff;\" x=\"110.267782\" xlink:href=\"#m49a05fe526\" y=\"147.083636\"/>\r\n     <use style=\"fill:#0000ff;stroke:#0000ff;\" x=\"55.346584\" xlink:href=\"#m49a05fe526\" y=\"181.454985\"/>\r\n     <use style=\"fill:#0000ff;stroke:#0000ff;\" x=\"157.389873\" xlink:href=\"#m49a05fe526\" y=\"119.371331\"/>\r\n     <use style=\"fill:#0000ff;stroke:#0000ff;\" x=\"180.467566\" xlink:href=\"#m49a05fe526\" y=\"148.589796\"/>\r\n     <use style=\"fill:#0000ff;stroke:#0000ff;\" x=\"137.724148\" xlink:href=\"#m49a05fe526\" y=\"152.221751\"/>\r\n     <use style=\"fill:#0000ff;stroke:#0000ff;\" x=\"340.784254\" xlink:href=\"#m49a05fe526\" y=\"85.202304\"/>\r\n     <use style=\"fill:#0000ff;stroke:#0000ff;\" x=\"168.837467\" xlink:href=\"#m49a05fe526\" y=\"158.151552\"/>\r\n     <use style=\"fill:#0000ff;stroke:#0000ff;\" x=\"141.216198\" xlink:href=\"#m49a05fe526\" y=\"143.140518\"/>\r\n     <use style=\"fill:#0000ff;stroke:#0000ff;\" x=\"236.577575\" xlink:href=\"#m49a05fe526\" y=\"103.492744\"/>\r\n     <use style=\"fill:#0000ff;stroke:#0000ff;\" x=\"90.209576\" xlink:href=\"#m49a05fe526\" y=\"183.158591\"/>\r\n     <use style=\"fill:#0000ff;stroke:#0000ff;\" x=\"331.115374\" xlink:href=\"#m49a05fe526\" y=\"96.992676\"/>\r\n     <use style=\"fill:#0000ff;stroke:#0000ff;\" x=\"66.029265\" xlink:href=\"#m49a05fe526\" y=\"161.180488\"/>\r\n     <use style=\"fill:#0000ff;stroke:#0000ff;\" x=\"398.399079\" xlink:href=\"#m49a05fe526\" y=\"71.480958\"/>\r\n     <use style=\"fill:#0000ff;stroke:#0000ff;\" x=\"320.203596\" xlink:href=\"#m49a05fe526\" y=\"120.948092\"/>\r\n     <use style=\"fill:#0000ff;stroke:#0000ff;\" x=\"111.263365\" xlink:href=\"#m49a05fe526\" y=\"173.677311\"/>\r\n     <use style=\"fill:#0000ff;stroke:#0000ff;\" x=\"40.881742\" xlink:href=\"#m49a05fe526\" y=\"163.456089\"/>\r\n     <use style=\"fill:#0000ff;stroke:#0000ff;\" x=\"335.947695\" xlink:href=\"#m49a05fe526\" y=\"94.121291\"/>\r\n     <use style=\"fill:#0000ff;stroke:#0000ff;\" x=\"296.382548\" xlink:href=\"#m49a05fe526\" y=\"104.565112\"/>\r\n     <use style=\"fill:#0000ff;stroke:#0000ff;\" x=\"304.451868\" xlink:href=\"#m49a05fe526\" y=\"101.141451\"/>\r\n     <use style=\"fill:#0000ff;stroke:#0000ff;\" x=\"319.848608\" xlink:href=\"#m49a05fe526\" y=\"112.703944\"/>\r\n     <use style=\"fill:#0000ff;stroke:#0000ff;\" x=\"65.844929\" xlink:href=\"#m49a05fe526\" y=\"161.639237\"/>\r\n     <use style=\"fill:#0000ff;stroke:#0000ff;\" x=\"169.461305\" xlink:href=\"#m49a05fe526\" y=\"135.199752\"/>\r\n     <use style=\"fill:#0000ff;stroke:#0000ff;\" x=\"81.081823\" xlink:href=\"#m49a05fe526\" y=\"172.04629\"/>\r\n     <use style=\"fill:#0000ff;stroke:#0000ff;\" x=\"353.303972\" xlink:href=\"#m49a05fe526\" y=\"66.37585\"/>\r\n     <use style=\"fill:#0000ff;stroke:#0000ff;\" x=\"265.941403\" xlink:href=\"#m49a05fe526\" y=\"108.72422\"/>\r\n     <use style=\"fill:#0000ff;stroke:#0000ff;\" x=\"159.418219\" xlink:href=\"#m49a05fe526\" y=\"159.880494\"/>\r\n     <use style=\"fill:#0000ff;stroke:#0000ff;\" x=\"62.024704\" xlink:href=\"#m49a05fe526\" y=\"156.23296\"/>\r\n     <use style=\"fill:#0000ff;stroke:#0000ff;\" x=\"152.162803\" xlink:href=\"#m49a05fe526\" y=\"158.427465\"/>\r\n     <use style=\"fill:#0000ff;stroke:#0000ff;\" x=\"157.336317\" xlink:href=\"#m49a05fe526\" y=\"130.796759\"/>\r\n     <use style=\"fill:#0000ff;stroke:#0000ff;\" x=\"304.670091\" xlink:href=\"#m49a05fe526\" y=\"88.93796\"/>\r\n     <use style=\"fill:#0000ff;stroke:#0000ff;\" x=\"271.136172\" xlink:href=\"#m49a05fe526\" y=\"126.810249\"/>\r\n     <use style=\"fill:#0000ff;stroke:#0000ff;\" x=\"362.087147\" xlink:href=\"#m49a05fe526\" y=\"77.711677\"/>\r\n     <use style=\"fill:#0000ff;stroke:#0000ff;\" x=\"210.900849\" xlink:href=\"#m49a05fe526\" y=\"123.198786\"/>\r\n     <use style=\"fill:#0000ff;stroke:#0000ff;\" x=\"82.438931\" xlink:href=\"#m49a05fe526\" y=\"148.7272\"/>\r\n     <use style=\"fill:#0000ff;stroke:#0000ff;\" x=\"298.709534\" xlink:href=\"#m49a05fe526\" y=\"79.363125\"/>\r\n     <use style=\"fill:#0000ff;stroke:#0000ff;\" x=\"316.028748\" xlink:href=\"#m49a05fe526\" y=\"107.14294\"/>\r\n     <use style=\"fill:#0000ff;stroke:#0000ff;\" x=\"243.346791\" xlink:href=\"#m49a05fe526\" y=\"132.655652\"/>\r\n     <use style=\"fill:#0000ff;stroke:#0000ff;\" x=\"319.738162\" xlink:href=\"#m49a05fe526\" y=\"115.865122\"/>\r\n     <use style=\"fill:#0000ff;stroke:#0000ff;\" x=\"218.762822\" xlink:href=\"#m49a05fe526\" y=\"139.641429\"/>\r\n     <use style=\"fill:#0000ff;stroke:#0000ff;\" x=\"229.304837\" xlink:href=\"#m49a05fe526\" y=\"125.992943\"/>\r\n     <use style=\"fill:#0000ff;stroke:#0000ff;\" x=\"194.625865\" xlink:href=\"#m49a05fe526\" y=\"128.280285\"/>\r\n     <use style=\"fill:#0000ff;stroke:#0000ff;\" x=\"48.130347\" xlink:href=\"#m49a05fe526\" y=\"165.339085\"/>\r\n     <use style=\"fill:#0000ff;stroke:#0000ff;\" x=\"78.175521\" xlink:href=\"#m49a05fe526\" y=\"149.701004\"/>\r\n    </g>\r\n   </g>\r\n   <g id=\"patch_3\">\r\n    <path d=\"M 38.87 231.6 \r\nL 38.87 7.2 \r\n\" style=\"fill:none;stroke:#000000;stroke-linecap:square;stroke-linejoin:miter;stroke-width:0.8;\"/>\r\n   </g>\r\n   <g id=\"patch_4\">\r\n    <path d=\"M 403.17625 231.6 \r\nL 403.17625 7.2 \r\n\" style=\"fill:none;stroke:#000000;stroke-linecap:square;stroke-linejoin:miter;stroke-width:0.8;\"/>\r\n   </g>\r\n   <g id=\"patch_5\">\r\n    <path d=\"M 38.87 231.6 \r\nL 403.17625 231.6 \r\n\" style=\"fill:none;stroke:#000000;stroke-linecap:square;stroke-linejoin:miter;stroke-width:0.8;\"/>\r\n   </g>\r\n   <g id=\"patch_6\">\r\n    <path d=\"M 38.87 7.2 \r\nL 403.17625 7.2 \r\n\" style=\"fill:none;stroke:#000000;stroke-linecap:square;stroke-linejoin:miter;stroke-width:0.8;\"/>\r\n   </g>\r\n  </g>\r\n </g>\r\n <defs>\r\n  <clipPath id=\"p933d374023\">\r\n   <rect height=\"224.4\" width=\"364.30625\" x=\"38.87\" y=\"7.2\"/>\r\n  </clipPath>\r\n </defs>\r\n</svg>\r\n",
      "image/png": "[encoded data removed]"
     },
     "metadata": {
      "needs_background": "light"
     }
    }
   ],
   "source": [
    "n_epochs = 50\n",
    "t0, t1 = 5, 50  # learning schedule hyperparameters\n",
    "\n",
    "def learning_schedule(t):\n",
    "    return t0 / (t + t1)\n",
    "\n",
    "theta = np.random.randn(2,1)  # random initialization\n",
    "\n",
    "for epoch in range(n_epochs):\n",
    "    for i in range(m):\n",
    "        if epoch == 0 and i < 20:                    # not shown in the book\n",
    "            y_predict = X_new_b.dot(theta)           # not shown\n",
    "            style = \"b-\" if i > 0 else \"r--\"         # not shown\n",
    "            plt.plot(X_new, y_predict, style)        # not shown\n",
    "        random_index = np.random.randint(m)\n",
    "        xi = X_b[random_index:random_index+1]\n",
    "        yi = y[random_index:random_index+1]\n",
    "        gradients = 2 * xi.T.dot(xi.dot(theta) - yi)\n",
    "        eta = learning_schedule(epoch * m + i)\n",
    "        theta = theta - eta * gradients\n",
    "        theta_path_sgd.append(theta)                 # not shown\n",
    "\n",
    "plt.plot(X, y, \"b.\")                                 # not shown\n",
    "plt.xlabel(\"$x_1$\", fontsize=18)                     # not shown\n",
    "plt.ylabel(\"$y$\", rotation=0, fontsize=18)           # not shown\n",
    "plt.axis([0, 2, 0, 15])                              # not shown\n",
    "save_fig(\"sgd_plot\")                                 # not shown\n",
    "plt.show() "
   ]
  },
  {
   "source": [
    "\"By convention we iterate by rounds of m iterations; each round is called an epoch.  \n",
    "While the Batch Gradient Descent code iterated 1,000 times through the whole training  \n",
    "set, this code goes through the training set only 50 times and reaches a fairly good  \n",
    "solution\""
   ],
   "cell_type": "markdown",
   "metadata": {}
  },
  {
   "cell_type": "code",
   "execution_count": 20,
   "metadata": {},
   "outputs": [
    {
     "output_type": "execute_result",
     "data": {
      "text/plain": [
       "array([[4.21076011],\n",
       "       [2.74856079]])"
      ]
     },
     "metadata": {},
     "execution_count": 20
    }
   ],
   "source": [
    "theta\n"
   ]
  },
  {
   "source": [
    "\"To perform Linear Regression using SGD with Scikit-Learn, you can use the SGDRe  \n",
    "gressor class, which defaults to optimizing the squared error cost function. The following  \n",
    "code runs 50 epochs, starting with a learning rate of 0.1 (eta0=0.1), using the  \n",
    "default learning schedule (different from the preceding one), and it does not use any  \n",
    "regularization (penalty=None; more details on this shortly):\""
   ],
   "cell_type": "markdown",
   "metadata": {}
  },
  {
   "cell_type": "code",
   "execution_count": 21,
   "metadata": {},
   "outputs": [
    {
     "output_type": "execute_result",
     "data": {
      "text/plain": [
       "SGDRegressor(eta0=0.1, penalty=None, random_state=42)"
      ]
     },
     "metadata": {},
     "execution_count": 21
    }
   ],
   "source": [
    "from sklearn.linear_model import SGDRegressor\n",
    "\n",
    "sgd_reg = SGDRegressor(max_iter=1000, tol=1e-3, penalty=None, eta0=0.1, random_state=42)\n",
    "# Note y.ravel() flattens y \n",
    "sgd_reg.fit(X, y.ravel())"
   ]
  },
  {
   "cell_type": "code",
   "execution_count": 22,
   "metadata": {},
   "outputs": [
    {
     "output_type": "execute_result",
     "data": {
      "text/plain": [
       "(array([4.24365286]), array([2.8250878]))"
      ]
     },
     "metadata": {},
     "execution_count": 22
    }
   ],
   "source": [
    "sgd_reg.intercept_, sgd_reg.coef_\n"
   ]
  },
  {
   "cell_type": "code",
   "execution_count": null,
   "metadata": {},
   "outputs": [],
   "source": []
  }
 ]
}