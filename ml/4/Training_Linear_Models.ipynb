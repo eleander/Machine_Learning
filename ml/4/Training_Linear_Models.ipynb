{
 "cells": [
  {
   "cell_type": "markdown",
   "metadata": {},
   "source": [
    "# Setup"
   ]
  },
  {
   "cell_type": "code",
   "execution_count": 1,
   "metadata": {},
   "outputs": [],
   "source": [
    "\n",
    "# Python ≥3.5 is required\n",
    "import sys\n",
    "assert sys.version_info >= (3, 5)\n",
    "\n",
    "# Scikit-Learn ≥0.20 is required\n",
    "import sklearn\n",
    "assert sklearn.__version__ >= \"0.20\"\n",
    "\n",
    "# Common imports\n",
    "import numpy as np\n",
    "import os\n",
    "\n",
    "# to make this notebook's output stable across runs\n",
    "np.random.seed(42)\n",
    "\n",
    "# To plot pretty figures\n",
    "%matplotlib inline\n",
    "import matplotlib as mpl\n",
    "import matplotlib.pyplot as plt\n",
    "mpl.rc('axes', labelsize=14)\n",
    "mpl.rc('xtick', labelsize=12)\n",
    "mpl.rc('ytick', labelsize=12)\n",
    "\n",
    "# Where to save the figures\n",
    "PROJECT_ROOT_DIR = \".\"\n",
    "CHAPTER_ID = \"training_linear_models\"\n",
    "IMAGES_PATH = os.path.join(PROJECT_ROOT_DIR, \"images\", CHAPTER_ID)\n",
    "os.makedirs(IMAGES_PATH, exist_ok=True)\n",
    "\n",
    "def save_fig(fig_id, tight_layout=True, fig_extension=\"png\", resolution=300):\n",
    "    path = os.path.join(IMAGES_PATH, fig_id + \".\" + fig_extension)\n",
    "    print(\"Saving figure\", fig_id)\n",
    "    if tight_layout:\n",
    "        plt.tight_layout()\n",
    "    plt.savefig(path, format=fig_extension, dpi=resolution)"
   ]
  },
  {
   "cell_type": "markdown",
   "metadata": {},
   "source": [
    "\"In this chapter, we will start by looking at the Linear Regression model, one of the  \n",
    "simplest models there is. We will discuss two very different ways to train it:  \n",
    "- Using a direct “closed-form” equation that directly computes the model parameters  \n",
    "that best fit the model to the training set (i.e., the model parameters that  \n",
    "minimize the cost function over the training set).  \n",
    "- Using an iterative optimization approach, called Gradient Descent (GD), that  \n",
    "gradually tweaks the model parameters to minimize the cost function over the  \n",
    "training set, eventually converging to the same set of parameters as the first  \n",
    "method. We will look at a few variants of Gradient Descent that we will use again  \n",
    "and again when we study neural networks in Part II: Batch GD, Mini-batch GD,  \n",
    "and Stochastic GD.\" \n",
    "\n",
    "\n",
    "\"Next we will look at Polynomial Regression, a more complex model that can fit nonlinear  \n",
    "datasets. Since this model has more parameters than Linear Regression, it is  \n",
    "more prone to overfitting the training data, so we will look at how to detect whether  \n",
    "or not this is the case, using learning curves, and then we will look at several regularization  \n",
    "techniques that can reduce the risk of overfitting the training set.\"  \n",
    "\n",
    "\"Finally, we will look at two more models that are commonly used for classification  \n",
    "tasks: Logistic Regression and Softmax Regression.\" "
   ]
  },
  {
   "cell_type": "markdown",
   "metadata": {},
   "source": [
    "# Linear Regression Using the Normal Equation "
   ]
  },
  {
   "cell_type": "markdown",
   "metadata": {},
   "source": [
    "![title](images/linear_regression_1.png)\n",
    "![title](images/linear_regression_2.png)\n"
   ]
  },
  {
   "cell_type": "markdown",
   "metadata": {},
   "source": [
    "\"In Chapter 2 we saw that the most common performance measure  \n",
    "of a regression model is the Root Mean Square Error (RMSE) (Equation 2-1). Therefore,  \n",
    "to train a Linear Regression model, you need to find the value of θ that minimizes  \n",
    "the RMSE. In practice, it is simpler to minimize the Mean Square Error (MSE)  \n",
    "than the RMSE, and it leads to the same result (because the value that minimizes a  \n",
    "function also minimizes its square root).\""
   ]
  },
  {
   "cell_type": "markdown",
   "metadata": {},
   "source": [
    "![title](images/cost_function.png)\n"
   ]
  },
  {
   "cell_type": "markdown",
   "metadata": {},
   "source": [
    "# # Linear Regression Using the Normal Equation"
   ]
  },
  {
   "cell_type": "markdown",
   "metadata": {},
   "source": [
    "![title](images/normal_equation.png)\n",
    "\n"
   ]
  },
  {
   "cell_type": "markdown",
   "metadata": {},
   "source": [
    "Generating some random data"
   ]
  },
  {
   "cell_type": "code",
   "execution_count": 2,
   "metadata": {},
   "outputs": [],
   "source": [
    "\n",
    "import numpy as np\n",
    "\n",
    "X = 2 * np.random.rand(100, 1)\n",
    "y = 4 + 3 * X + np.random.randn(100, 1)"
   ]
  },
  {
   "cell_type": "code",
   "execution_count": 3,
   "metadata": {},
   "outputs": [
    {
     "name": "stdout",
     "output_type": "stream",
     "text": [
      "Saving figure generated_data_plot\n"
     ]
    },
    {
     "data": {
      "image/png": "[encoded data removed]",
      "text/plain": [
       "<Figure size 432x288 with 1 Axes>"
      ]
     },
     "metadata": {
      "needs_background": "light"
     },
     "output_type": "display_data"
    }
   ],
   "source": [
    "plt.plot(X, y, \"b.\")\n",
    "plt.xlabel(\"$x_1$\", fontsize=18)\n",
    "plt.ylabel(\"$y$\", rotation=0, fontsize=18)\n",
    "plt.axis([0, 2, 0, 15])\n",
    "save_fig(\"generated_data_plot\")\n",
    "plt.show()"
   ]
  },
  {
   "cell_type": "code",
   "execution_count": 4,
   "metadata": {},
   "outputs": [],
   "source": [
    "# add x0 = 1 to each instance\n",
    "X_b = np.c_[np.ones((100, 1)), X] \n",
    "# Equation above!\n",
    "theta_best = np.linalg.inv(X_b.T.dot(X_b)).dot(X_b.T).dot(y)"
   ]
  },
  {
   "cell_type": "markdown",
   "metadata": {},
   "source": [
    "\"The actual function that we used to generate the data is y = 4 + 3x0 + Gaussian noise.  \n",
    "Let’s see what the equation found:\""
   ]
  },
  {
   "cell_type": "code",
   "execution_count": 5,
   "metadata": {},
   "outputs": [
    {
     "data": {
      "text/plain": [
       "array([[4.21509616],\n",
       "       [2.77011339]])"
      ]
     },
     "execution_count": 5,
     "metadata": {},
     "output_type": "execute_result"
    }
   ],
   "source": [
    "theta_best\n"
   ]
  },
  {
   "cell_type": "markdown",
   "metadata": {},
   "source": [
    "\"We would have hoped for θ0 = 4 and θ1 = 3 instead of θ0 = 4.215 and θ1 = 2.770. Close  \n",
    "enough, but the noise made it impossible to recover the exact parameters of the original  \n",
    "function\""
   ]
  },
  {
   "cell_type": "markdown",
   "metadata": {},
   "source": [
    "\"Now you can make predictions using θ:\""
   ]
  },
  {
   "cell_type": "code",
   "execution_count": 6,
   "metadata": {},
   "outputs": [
    {
     "data": {
      "text/plain": [
       "array([[4.21509616],\n",
       "       [9.75532293]])"
      ]
     },
     "execution_count": 6,
     "metadata": {},
     "output_type": "execute_result"
    }
   ],
   "source": [
    "X_new = np.array([[0], [2]])\n",
    "# add x0 = 1 to each instance\n",
    "X_new_b = np.c_[np.ones((2, 1)), X_new]  \n",
    "y_predict = X_new_b.dot(theta_best)\n",
    "y_predict"
   ]
  },
  {
   "cell_type": "code",
   "execution_count": 7,
   "metadata": {},
   "outputs": [
    {
     "data": {
      "image/png": "[encoded data removed]",
      "text/plain": [
       "<Figure size 432x288 with 1 Axes>"
      ]
     },
     "metadata": {
      "needs_background": "light"
     },
     "output_type": "display_data"
    }
   ],
   "source": [
    "plt.plot(X_new, y_predict, \"r-\")\n",
    "plt.plot(X, y, \"b.\")\n",
    "plt.axis([0, 2, 0, 15])\n",
    "plt.show()"
   ]
  },
  {
   "cell_type": "code",
   "execution_count": 8,
   "metadata": {},
   "outputs": [
    {
     "data": {
      "text/plain": [
       "(array([4.21509616]), array([[2.77011339]]))"
      ]
     },
     "execution_count": 8,
     "metadata": {},
     "output_type": "execute_result"
    }
   ],
   "source": [
    "\n",
    "from sklearn.linear_model import LinearRegression\n",
    "\n",
    "lin_reg = LinearRegression()\n",
    "lin_reg.fit(X, y)\n",
    "lin_reg.intercept_, lin_reg.coef_"
   ]
  },
  {
   "cell_type": "code",
   "execution_count": 9,
   "metadata": {},
   "outputs": [
    {
     "data": {
      "text/plain": [
       "array([[4.21509616],\n",
       "       [9.75532293]])"
      ]
     },
     "execution_count": 9,
     "metadata": {},
     "output_type": "execute_result"
    }
   ],
   "source": [
    "lin_reg.predict(X_new)\n"
   ]
  },
  {
   "cell_type": "markdown",
   "metadata": {},
   "source": [
    "\"The LinearRegression class is based on the scipy.linalg.lstsq() function (the name stands for \"least squares\"), which you could call directly:\""
   ]
  },
  {
   "cell_type": "code",
   "execution_count": 10,
   "metadata": {},
   "outputs": [
    {
     "data": {
      "text/plain": [
       "array([[4.21509616],\n",
       "       [2.77011339]])"
      ]
     },
     "execution_count": 10,
     "metadata": {},
     "output_type": "execute_result"
    }
   ],
   "source": [
    "theta_best_svd, residuals, rank, s = np.linalg.lstsq(X_b, y, rcond=1e-6)\n",
    "theta_best_svd"
   ]
  },
  {
   "cell_type": "markdown",
   "metadata": {},
   "source": [
    "\"This function computes $\\mathbf{X}^+\\mathbf{y}$, where $\\mathbf{X}^{+}$ is the pseudoinverse of $\\mathbf{X}$ (specifically the   Moore-Penrose inverse). You can use np.linalg.pinv() to compute the pseudoinverse directly:\""
   ]
  },
  {
   "cell_type": "code",
   "execution_count": 11,
   "metadata": {},
   "outputs": [
    {
     "data": {
      "text/plain": [
       "array([[4.21509616],\n",
       "       [2.77011339]])"
      ]
     },
     "execution_count": 11,
     "metadata": {},
     "output_type": "execute_result"
    }
   ],
   "source": [
    "np.linalg.pinv(X_b).dot(y)\n"
   ]
  },
  {
   "cell_type": "markdown",
   "metadata": {},
   "source": [
    "## Computational Complexity\n",
    "\n",
    "\"The Normal Equation computes the inverse of XT · X, which is an n × n matrix  \n",
    "(where n is the number of features). The computational complexity of inverting such a  \n",
    "matrix is typically about O(n2.4) to O(n3) (depending on the implementation). In  \n",
    "other words, if you double the number of features, you multiply the computation  \n",
    "time by roughly 22.4 = 5.3 to 23 = 8.\"\n",
    "\n",
    "WARNING: \"The Normal Equation gets very slow when the number of features  \n",
    "grows large (e.g., 100,000).\"\n",
    "\n",
    "\"On the positive side, this equation is linear with regards to the number of instances in  \n",
    "the training set (it is O(m)), so it handles large training sets efficiently, provided they  \n",
    "can fit in memory.\"\n",
    "\n",
    "\"Also, once you have trained your Linear Regression model (using the Normal Equation  \n",
    "or any other algorithm), predictions are very fast: the computational complexity  \n",
    "is linear with regards to both the number of instances you want to make predictions  \n",
    "on and the number of features. In other words, making predictions on twice as many  \n",
    "instances (or twice as many features) will just take roughly twice as much time.\"\n",
    "\n",
    "\"Now we will look at very different ways to train a Linear Regression model, better  \n",
    "suited for cases where there are a large number of features, or too many training  \n",
    "instances to fit in memory.\""
   ]
  },
  {
   "cell_type": "markdown",
   "metadata": {},
   "source": [
    "# Gradient Descent\n",
    "\n",
    "\"Gradient Descent is a very generic optimization algorithm capable of finding optimal  \n",
    "solutions to a wide range of problems. The general idea of Gradient Descent is to  \n",
    "tweak parameters iteratively in order to minimize a cost function.\"\n",
    "\n",
    "\"Suppose you are lost in the mountains in a dense fog; you can only feel the slope of  \n",
    "the ground below your feet. A good strategy to get to the bottom of the valley quickly  \n",
    "is to go downhill in the direction of the steepest slope. This is exactly what Gradient  \n",
    "Descent does: it measures the local gradient of the error function with regards to the  \n",
    "parameter vector θ, and it goes in the direction of descending gradient. Once the gradient  \n",
    "is zero, you have reached a minimum!\"\n",
    "\n",
    "\"Concretely, you start by filling θ with random values (this is called random initialization),  \n",
    "and then you improve it gradually, taking one baby step at a time, each step  \n",
    "attempting to decrease the cost function (e.g., the MSE), until the algorithm converges  \n",
    "to a minimum (see Figure 4-3).\" \n"
   ]
  },
  {
   "cell_type": "markdown",
   "metadata": {},
   "source": [
    "![title](images/gradient_descent.png)\n"
   ]
  },
  {
   "cell_type": "markdown",
   "metadata": {},
   "source": [
    "\"An important parameter in Gradient Descent is the size of the steps, determined by  \n",
    "the learning rate hyperparameter. If the learning rate is too small, then the algorithm  \n",
    "will have to go through many iterations to converge, which will take a long time (see  \n",
    "Figure 4-4).\"\n"
   ]
  },
  {
   "cell_type": "markdown",
   "metadata": {},
   "source": [
    "![title](images/gradient_descent_2.png)\n"
   ]
  },
  {
   "cell_type": "markdown",
   "metadata": {},
   "source": [
    "\"On the other hand, if the learning rate is too high, you might jump across the valley  \n",
    "and end up on the other side, possibly even higher up than you were before. This  \n",
    "might make the algorithm diverge, with larger and larger values, failing to find a good  \n",
    "solution (see Figure 4-5).\""
   ]
  },
  {
   "cell_type": "markdown",
   "metadata": {},
   "source": [
    "![title](images/gradient_descent_3.png)\n"
   ]
  },
  {
   "cell_type": "markdown",
   "metadata": {},
   "source": [
    "\"Finally, not all cost functions look like nice regular bowls. There may be holes, ridges,  \n",
    "plateaus, and all sorts of irregular terrains, making convergence to the minimum very  \n",
    "difficult. Figure 4-6 shows the two main challenges with Gradient Descent: if the random  \n",
    "initialization starts the algorithm on the left, then it will converge to a local minimum,  \n",
    "which is not as good as the global minimum. If it starts on the right, then it will  \n",
    "take a very long time to cross the plateau, and if you stop too early you will never  \n",
    "reach the global minimum.\""
   ]
  },
  {
   "cell_type": "markdown",
   "metadata": {},
   "source": [
    "![title](images/gradient_descent_4.png)\n"
   ]
  },
  {
   "cell_type": "markdown",
   "metadata": {},
   "source": [
    "\"Fortunately, the MSE cost function for a Linear Regression model happens to be a  \n",
    "convex function, which means that if you pick any two points on the curve, the line  \n",
    "segment joining them never crosses the curve. This implies that there are no local  \n",
    "minima, just one global minimum. It is also a continuous function with a slope that  \n",
    "never changes abruptly.4 These two facts have a great consequence: Gradient Descent  \n",
    "is guaranteed to approach arbitrarily close the global minimum (if you wait long  \n",
    "enough and if the learning rate is not too high).\"\n",
    "\n",
    "\"In fact, the cost function has the shape of a bowl, but it can be an elongated bowl if  \n",
    "the features have very different scales. Figure 4-7 shows Gradient Descent on a training  \n",
    "set where features 1 and 2 have the same scale (on the left), and on a training set  \n",
    "where feature 1 has much smaller values than feature 2 (on the right). Since feature 1 is smaller,   \n",
    "it takes a larger change in θ1 to affect the cost function, which is why the bowl is\n",
    "elongated along the θ1 axis.\"\n",
    "\n",
    "\n"
   ]
  },
  {
   "cell_type": "markdown",
   "metadata": {},
   "source": [
    "![title](images/gradient_descent_5.png)\n"
   ]
  },
  {
   "cell_type": "markdown",
   "metadata": {},
   "source": [
    "\"As you can see, on the left the Gradient Descent algorithm goes straight toward the  \n",
    "minimum, thereby reaching it quickly, whereas on the right it first goes in a direction  \n",
    "almost orthogonal to the direction of the global minimum, and it ends with a long  \n",
    "march down an almost flat valley. It will eventually reach the minimum, but it will  \n",
    "take a long time.\"\n",
    "\n",
    "WARNING: \"When using Gradient Descent, you should ensure that all features  \n",
    "have a similar scale (e.g., using Scikit-Learn’s StandardScaler  \n",
    "class), or else it will take much longer to converge.\""
   ]
  },
  {
   "cell_type": "markdown",
   "metadata": {},
   "source": [
    "## Batch Gradient Descent\n",
    "\n",
    "\"To implement Gradient Descent, you need to compute the gradient of the cost function  \n",
    "with regards to each model parameter θj. In other words, you need to calculate   \n",
    "how much the cost function will change if you change θj just a little bit. This is called  \n",
    "a partial derivative. It is like asking “what is the slope of the mountain under my feet  \n",
    "if I face east?” and then asking the same question facing north (and so on for all other  \n",
    "dimensions, if you can imagine a universe with more than three dimensions). Equation  \n",
    "4-5 computes the partial derivative of the cost function with regards to parameter  \n",
    "θj\"\n",
    "\n",
    "![title](images/batch_gradient_descent.png)\n",
    "\n",
    "\"Instead of computing these gradients individually, you can use Equation 4-6 to compute  \n",
    "them all in one go. The gradient vector, noted ∇θMSE(θ), contains all the partial  \n",
    "derivatives of the cost function (one for each model parameter).\"\n",
    "\n",
    "![title](images/batch_gradient_descent_2.png)\n",
    "\n",
    "\"Once you have the gradient vector, which points uphill, just go in the opposite direction  \n",
    "to go downhill. This means subtracting ∇θMSE(θ) from θ. This is where the  \n",
    "learning rate η comes into play:6 multiply the gradient vector by η to determine the  \n",
    "size of the downhill step (Equation 4-7).\"\n",
    "\n",
    "![title](images/batch_gradient_descent_3.png)\n",
    "\n"
   ]
  },
  {
   "cell_type": "markdown",
   "metadata": {},
   "source": [
    "WARNING: \"Notice that 4.6 involves calculations over the full training  \n",
    "set X, at each Gradient Descent step! This is why the algorithm is  \n",
    "called Batch Gradient Descent: it uses the whole batch of training  \n",
    "data at every step. As a result it is terribly slow on very large training  \n",
    "sets (but we will see much faster Gradient Descent algorithms  \n",
    "shortly). However, Gradient Descent scales well with the number of  \n",
    "features; training a Linear Regression model when there are hundreds  \n",
    "of thousands of features is much faster using Gradient  \n",
    "Descent than using the Normal Equation.\""
   ]
  },
  {
   "cell_type": "code",
   "execution_count": 12,
   "metadata": {},
   "outputs": [],
   "source": [
    "theta_path_bgd = []\n",
    "\n",
    "def plot_gradient_descent(theta, eta, theta_path=None):\n",
    "    m = len(X_b)\n",
    "    plt.plot(X, y, \"b.\")\n",
    "    n_iterations = 1000\n",
    "    for iteration in range(n_iterations):\n",
    "        if iteration < 10:\n",
    "            y_predict = X_new_b.dot(theta)\n",
    "            style = \"b-\" if iteration > 0 else \"r--\"\n",
    "            plt.plot(X_new, y_predict, style)\n",
    "        gradients = 2/m * X_b.T.dot(X_b.dot(theta) - y)\n",
    "        theta = theta - eta * gradients\n",
    "        if theta_path is not None:\n",
    "            theta_path.append(theta)\n",
    "    plt.xlabel(\"$x_1$\", fontsize=18)\n",
    "    plt.axis([0, 2, 0, 15])\n",
    "    plt.title(r\"$\\eta = {}$\".format(eta), fontsize=16)"
   ]
  },
  {
   "cell_type": "code",
   "execution_count": 13,
   "metadata": {},
   "outputs": [
    {
     "name": "stdout",
     "output_type": "stream",
     "text": [
      "Saving figure gradient_descent_plot\n"
     ]
    },
    {
     "data": {
      "image/png": "[encoded data removed]",
      "text/plain": [
       "<Figure size 720x288 with 3 Axes>"
      ]
     },
     "metadata": {
      "needs_background": "light"
     },
     "output_type": "display_data"
    }
   ],
   "source": [
    "np.random.seed(42)\n",
    "theta = np.random.randn(2,1)  # random initialization\n",
    "\n",
    "plt.figure(figsize=(10,4))\n",
    "plt.subplot(131); plot_gradient_descent(theta, eta=0.02)\n",
    "plt.ylabel(\"$y$\", rotation=0, fontsize=18)\n",
    "plt.subplot(132); plot_gradient_descent(theta, eta=0.1, theta_path=theta_path_bgd)\n",
    "plt.subplot(133); plot_gradient_descent(theta, eta=0.5)\n",
    "\n",
    "save_fig(\"gradient_descent_plot\")\n",
    "plt.show()"
   ]
  },
  {
   "cell_type": "code",
   "execution_count": 14,
   "metadata": {},
   "outputs": [],
   "source": [
    "# learning rate\n",
    "eta = 0.1  \n",
    "n_iterations = 1000\n",
    "m = 100\n",
    "\n",
    "# random initialization\n",
    "theta = np.random.randn(2,1)  \n",
    "\n",
    "for iteration in range(n_iterations):\n",
    "    gradients = 2/m * X_b.T.dot(X_b.dot(theta) - y)\n",
    "    theta = theta - eta * gradients"
   ]
  },
  {
   "cell_type": "code",
   "execution_count": 15,
   "metadata": {},
   "outputs": [
    {
     "data": {
      "text/plain": [
       "array([[4.21509616],\n",
       "       [2.77011339]])"
      ]
     },
     "execution_count": 15,
     "metadata": {},
     "output_type": "execute_result"
    }
   ],
   "source": [
    "theta\n"
   ]
  },
  {
   "cell_type": "markdown",
   "metadata": {},
   "source": [
    "\"Hey, that’s exactly what the Normal Equation found! Gradient Descent worked perfectly.  \n",
    "But what if you had used a different learning rate eta? Figure 4-8 shows the  \n",
    "first 10 steps of Gradient Descent using three different learning rates (the dashed line  \n",
    "represents the starting point).\"\n",
    "\n",
    "![title](images/batch_gradient_descent_4.png)\n",
    "\n",
    "\"On the left, the learning rate is too low: the algorithm will eventually reach the solution,  \n",
    "but it will take a long time. In the middle, the learning rate looks pretty good: in  \n",
    "just a few iterations, it has already converged to the solution. On the right, the learning  \n",
    "rate is too high: the algorithm diverges, jumping all over the place and actually  \n",
    "getting further and further away from the solution at every step.\"\n",
    "\n"
   ]
  },
  {
   "cell_type": "markdown",
   "metadata": {},
   "source": [
    "TIP: \"To find a good learning rate, you can use grid search (see Chapter 2). However, you  \n",
    "may want to limit the number of iterations so that grid search can eliminate models  \n",
    "that take too long to converge.\"\n",
    "\n",
    "TIP 2: \"You may wonder how to set the number of iterations. If it is too low, you will still be  \n",
    "far away from the optimal solution when the algorithm stops, but if it is too high, you  \n",
    "will waste time while the model parameters do not change anymore. A simple solution  \n",
    "is to set a very large number of iterations but to interrupt the algorithm when the  \n",
    "gradient vector becomes tiny—that is, when its norm becomes smaller than a tiny  \n",
    "number ϵ (called the tolerance)—because this happens when Gradient Descent has  \n",
    "(almost) reached the minimum.\""
   ]
  },
  {
   "cell_type": "markdown",
   "metadata": {},
   "source": [
    "## Stochastic Gradient Descent\n",
    "\n",
    "\"The main problem with Batch Gradient Descent is the fact that it uses the whole  \n",
    "training set to compute the gradients at every step, which makes it very slow when  \n",
    "the training set is large. At the opposite extreme, Stochastic Gradient Descent just  \n",
    "picks a random instance in the training set at every step and computes the gradients  \n",
    "based only on that single instance. Obviously this makes the algorithm much faster  \n",
    "since it has very little data to manipulate at every iteration. It also makes it possible to  \n",
    "train on huge training sets, since only one instance needs to be in memory at each  \n",
    "iteration (SGD can be implemented as an out-of-core algorithm.7)\"\n",
    "\n",
    "\"On the other hand, due to its stochastic (i.e., random) nature, this algorithm is much  \n",
    "less regular than Batch Gradient Descent: instead of gently decreasing until it reaches  \n",
    "the minimum, the cost function will bounce up and down, decreasing only on average.  \n",
    "Over time it will end up very close to the minimum, but once it gets there it will  \n",
    "continue to bounce around, never settling down (see Figure 4-9). So once the algorithm  \n",
    "stops, the final parameter values are good, but not optimal.\"\n",
    "\n",
    "![title](images/stochastic_gradient_descent.png)\n",
    "\n",
    "\"When the cost function is very irregular (as in Figure 4-6), this can actually help the  \n",
    "algorithm jump out of local minima, so Stochastic Gradient Descent has a better  \n",
    "chance of finding the global minimum than Batch Gradient Descent does.\"\n"
   ]
  },
  {
   "cell_type": "markdown",
   "metadata": {},
   "source": [
    "Learning Schedule \n",
    "\n",
    "\"Therefore randomness is good to escape from local optima, but bad because it means   \n",
    "that the algorithm can never settle at the minimum. One solution to this dilemma is  \n",
    "to gradually reduce the learning rate. The steps start out large (which helps make  \n",
    "quick progress and escape local minima), then get smaller and smaller, allowing the  \n",
    "algorithm to settle at the global minimum. This process is called simulated annealing,  \n",
    "because it resembles the process of annealing in metallurgy where molten metal is  \n",
    "slowly cooled down. The function that determines the learning rate at each iteration  \n",
    "is called the learning schedule. If the learning rate is reduced too quickly, you may get  \n",
    "stuck in a local minimum, or even end up frozen halfway to the minimum. If the  \n",
    "learning rate is reduced too slowly, you may jump around the minimum for a long  \n",
    "time and end up with a suboptimal solution if you halt training too early.\""
   ]
  },
  {
   "cell_type": "markdown",
   "metadata": {},
   "source": [
    "This code implements Stochastic Gradient Descent using a simple learning schedule:"
   ]
  },
  {
   "cell_type": "code",
   "execution_count": 16,
   "metadata": {},
   "outputs": [],
   "source": [
    "theta_path_sgd = []\n",
    "m = len(X_b)\n",
    "np.random.seed(42)"
   ]
  },
  {
   "cell_type": "code",
   "execution_count": 17,
   "metadata": {},
   "outputs": [
    {
     "name": "stdout",
     "output_type": "stream",
     "text": [
      "Saving figure sgd_plot\n"
     ]
    },
    {
     "data": {
      "image/png": "[encoded data removed]",
      "text/plain": [
       "<Figure size 432x288 with 1 Axes>"
      ]
     },
     "metadata": {
      "needs_background": "light"
     },
     "output_type": "display_data"
    }
   ],
   "source": [
    "n_epochs = 50\n",
    "t0, t1 = 5, 50  # learning schedule hyperparameters\n",
    "\n",
    "def learning_schedule(t):\n",
    "    return t0 / (t + t1)\n",
    "\n",
    "theta = np.random.randn(2,1)  # random initialization\n",
    "\n",
    "for epoch in range(n_epochs):\n",
    "    for i in range(m):\n",
    "        if epoch == 0 and i < 20:                    # not shown in the book\n",
    "            y_predict = X_new_b.dot(theta)           # not shown\n",
    "            style = \"b-\" if i > 0 else \"r--\"         # not shown\n",
    "            plt.plot(X_new, y_predict, style)        # not shown\n",
    "        random_index = np.random.randint(m)\n",
    "        xi = X_b[random_index:random_index+1]\n",
    "        yi = y[random_index:random_index+1]\n",
    "        gradients = 2 * xi.T.dot(xi.dot(theta) - yi)\n",
    "        eta = learning_schedule(epoch * m + i)\n",
    "        theta = theta - eta * gradients\n",
    "        theta_path_sgd.append(theta)                 # not shown\n",
    "\n",
    "plt.plot(X, y, \"b.\")                                 # not shown\n",
    "plt.xlabel(\"$x_1$\", fontsize=18)                     # not shown\n",
    "plt.ylabel(\"$y$\", rotation=0, fontsize=18)           # not shown\n",
    "plt.axis([0, 2, 0, 15])                              # not shown\n",
    "save_fig(\"sgd_plot\")                                 # not shown\n",
    "plt.show() "
   ]
  },
  {
   "cell_type": "markdown",
   "metadata": {},
   "source": [
    "\"By convention we iterate by rounds of m iterations; each round is called an epoch.  \n",
    "While the Batch Gradient Descent code iterated 1,000 times through the whole training  \n",
    "set, this code goes through the training set only 50 times and reaches a fairly good  \n",
    "solution\""
   ]
  },
  {
   "cell_type": "code",
   "execution_count": 18,
   "metadata": {},
   "outputs": [
    {
     "data": {
      "text/plain": [
       "array([[4.21076011],\n",
       "       [2.74856079]])"
      ]
     },
     "execution_count": 18,
     "metadata": {},
     "output_type": "execute_result"
    }
   ],
   "source": [
    "theta\n"
   ]
  },
  {
   "cell_type": "markdown",
   "metadata": {},
   "source": [
    "\"To perform Linear Regression using SGD with Scikit-Learn, you can use the SGDRe  \n",
    "gressor class, which defaults to optimizing the squared error cost function. The following  \n",
    "code runs 50 epochs, starting with a learning rate of 0.1 (eta0=0.1), using the  \n",
    "default learning schedule (different from the preceding one), and it does not use any  \n",
    "regularization (penalty=None; more details on this shortly):\""
   ]
  },
  {
   "cell_type": "code",
   "execution_count": 19,
   "metadata": {},
   "outputs": [
    {
     "data": {
      "text/plain": [
       "SGDRegressor(eta0=0.1, penalty=None, random_state=42)"
      ]
     },
     "execution_count": 19,
     "metadata": {},
     "output_type": "execute_result"
    }
   ],
   "source": [
    "from sklearn.linear_model import SGDRegressor\n",
    "\n",
    "sgd_reg = SGDRegressor(max_iter=1000, tol=1e-3, penalty=None, eta0=0.1, random_state=42)\n",
    "# Note y.ravel() flattens y \n",
    "sgd_reg.fit(X, y.ravel())"
   ]
  },
  {
   "cell_type": "code",
   "execution_count": 20,
   "metadata": {},
   "outputs": [
    {
     "data": {
      "text/plain": [
       "(array([4.24365286]), array([2.8250878]))"
      ]
     },
     "execution_count": 20,
     "metadata": {},
     "output_type": "execute_result"
    }
   ],
   "source": [
    "sgd_reg.intercept_, sgd_reg.coef_\n"
   ]
  },
  {
   "cell_type": "markdown",
   "metadata": {},
   "source": [
    "## Mini Batch Gradient Descent\n",
    "\n",
    "\"The last Gradient Descent algorithm we will look at is called Mini-batch Gradient  \n",
    "Descent. It is quite simple to understand once you know Batch and Stochastic Gradient  \n",
    "Descent: at each step, instead of computing the gradients based on the full training  \n",
    "set (as in Batch GD) or based on just one instance (as in Stochastic GD), Minibatch   \n",
    "GD computes the gradients on small random sets of instances called minibatches.  \n",
    "The main advantage of Mini-batch GD over Stochastic GD is that you can  \n",
    "get a performance boost from hardware optimization of matrix operations, especially  \n",
    "when using GPUs.\"\n",
    " \n",
    "\"The algorithm’s progress in parameter space is less erratic than with SGD, especially  \n",
    "with fairly large mini-batches. As a result, Mini-batch GD will end up walking  \n",
    "around a bit closer to the minimum than SGD. But, on the other hand, it may be  \n",
    "harder for it to escape from local minima (in the case of problems that suffer from  \n",
    "local minima, unlike Linear Regression as we saw earlier).\"\n",
    "\n",
    "\n",
    "\"Figure 4-11 shows the  \n",
    "paths taken by the three Gradient Descent algorithms in parameter space during  \n",
    "training. They all end up near the minimum, but Batch GD’s path actually stops at the  \n",
    "minimum, while both Stochastic GD and Mini-batch GD continue to walk around.  \n",
    "However, don’t forget that Batch GD takes a lot of time to take each step, and Stochastic  \n",
    "GD and Mini-batch GD would also reach the minimum if you used a good learning  \n",
    "schedule.\"\n",
    "\n",
    "![title](images/comparison_1.png)\n",
    "\n",
    "\n"
   ]
  },
  {
   "cell_type": "code",
   "execution_count": 21,
   "metadata": {},
   "outputs": [],
   "source": [
    "theta_path_mgd = []\n",
    "\n",
    "n_iterations = 50\n",
    "minibatch_size = 20\n",
    "\n",
    "np.random.seed(42)\n",
    "theta = np.random.randn(2,1)  # random initialization\n",
    "\n",
    "t0, t1 = 200, 1000\n",
    "def learning_schedule(t):\n",
    "    return t0 / (t + t1)\n",
    "\n",
    "t = 0\n",
    "for epoch in range(n_iterations):\n",
    "    shuffled_indices = np.random.permutation(m)\n",
    "    X_b_shuffled = X_b[shuffled_indices]\n",
    "    y_shuffled = y[shuffled_indices]\n",
    "    for i in range(0, m, minibatch_size):\n",
    "        t += 1\n",
    "        xi = X_b_shuffled[i:i+minibatch_size]\n",
    "        yi = y_shuffled[i:i+minibatch_size]\n",
    "        gradients = 2/minibatch_size * xi.T.dot(xi.dot(theta) - yi)\n",
    "        eta = learning_schedule(t)\n",
    "        theta = theta - eta * gradients\n",
    "        theta_path_mgd.append(theta)"
   ]
  },
  {
   "cell_type": "code",
   "execution_count": 22,
   "metadata": {},
   "outputs": [
    {
     "data": {
      "text/plain": [
       "array([[4.25214635],\n",
       "       [2.7896408 ]])"
      ]
     },
     "execution_count": 22,
     "metadata": {},
     "output_type": "execute_result"
    }
   ],
   "source": [
    "theta\n"
   ]
  },
  {
   "cell_type": "code",
   "execution_count": 23,
   "metadata": {},
   "outputs": [],
   "source": [
    "theta_path_bgd = np.array(theta_path_bgd)\n",
    "theta_path_sgd = np.array(theta_path_sgd)\n",
    "theta_path_mgd = np.array(theta_path_mgd)"
   ]
  },
  {
   "cell_type": "code",
   "execution_count": 24,
   "metadata": {},
   "outputs": [
    {
     "name": "stdout",
     "output_type": "stream",
     "text": [
      "Saving figure gradient_descent_paths_plot\n"
     ]
    },
    {
     "data": {
      "image/png": "[encoded data removed]",
      "text/plain": [
       "<Figure size 504x288 with 1 Axes>"
      ]
     },
     "metadata": {
      "needs_background": "light"
     },
     "output_type": "display_data"
    }
   ],
   "source": [
    "plt.figure(figsize=(7,4))\n",
    "plt.plot(theta_path_sgd[:, 0], theta_path_sgd[:, 1], \"r-s\", linewidth=1, label=\"Stochastic\")\n",
    "plt.plot(theta_path_mgd[:, 0], theta_path_mgd[:, 1], \"g-+\", linewidth=2, label=\"Mini-batch\")\n",
    "plt.plot(theta_path_bgd[:, 0], theta_path_bgd[:, 1], \"b-o\", linewidth=3, label=\"Batch\")\n",
    "plt.legend(loc=\"upper left\", fontsize=16)\n",
    "plt.xlabel(r\"$\\theta_0$\", fontsize=20)\n",
    "plt.ylabel(r\"$\\theta_1$   \", fontsize=20, rotation=0)\n",
    "plt.axis([2.5, 4.5, 2.3, 3.9])\n",
    "save_fig(\"gradient_descent_paths_plot\")\n",
    "plt.show()"
   ]
  },
  {
   "cell_type": "markdown",
   "metadata": {},
   "source": [
    "NOTE: \"There is almost no difference after training: all these algorithms  \n",
    "end up with very similar models and make predictions in exactly  \n",
    "the same way.\"\n",
    "\n",
    "![title](images/comparison_2.png)\n",
    "![title](images/comparison_3.png)\n"
   ]
  },
  {
   "cell_type": "markdown",
   "metadata": {},
   "source": [
    "# Polynomial Regression \n",
    "\n",
    "\"What if your data is actually more complex than a simple straight line? Surprisingly,  \n",
    "you can actually use a linear model to fit nonlinear data. A simple way to do this is to  \n",
    "add powers of each feature as new features, then train a linear model on this extended  \n",
    "set of features.\""
   ]
  },
  {
   "cell_type": "code",
   "execution_count": 25,
   "metadata": {},
   "outputs": [],
   "source": [
    "import numpy as np\n",
    "import numpy.random as rnd\n",
    "\n",
    "np.random.seed(42)"
   ]
  },
  {
   "cell_type": "code",
   "execution_count": 26,
   "metadata": {},
   "outputs": [],
   "source": [
    "# Creating A Quadratic Graph\n",
    "m = 100\n",
    "X = 6 * np.random.rand(m, 1) - 3\n",
    "y = 0.5 * X**2 + X + 2 + np.random.randn(m, 1)"
   ]
  },
  {
   "cell_type": "code",
   "execution_count": 27,
   "metadata": {},
   "outputs": [
    {
     "name": "stdout",
     "output_type": "stream",
     "text": [
      "Saving figure quadratic_data_plot\n"
     ]
    },
    {
     "data": {
      "image/png": "[encoded data removed]",
      "text/plain": [
       "<Figure size 432x288 with 1 Axes>"
      ]
     },
     "metadata": {
      "needs_background": "light"
     },
     "output_type": "display_data"
    }
   ],
   "source": [
    "plt.plot(X, y, \"b.\")\n",
    "plt.xlabel(\"$x_1$\", fontsize=18)\n",
    "plt.ylabel(\"$y$\", rotation=0, fontsize=18)\n",
    "plt.axis([-3, 3, 0, 10])\n",
    "save_fig(\"quadratic_data_plot\")\n",
    "plt.show()"
   ]
  },
  {
   "cell_type": "markdown",
   "metadata": {},
   "source": [
    "So let’s use Scikit-Learn’s PolynomialFeatures class to transform our training data, adding the square   \n",
    "(2nd-degree polynomial) of each feature in the training set as new features (in this case there is  \n",
    "just one feature):"
   ]
  },
  {
   "cell_type": "code",
   "execution_count": 28,
   "metadata": {},
   "outputs": [
    {
     "data": {
      "text/plain": [
       "array([-0.75275929])"
      ]
     },
     "execution_count": 28,
     "metadata": {},
     "output_type": "execute_result"
    }
   ],
   "source": [
    "\n",
    "from sklearn.preprocessing import PolynomialFeatures\n",
    "poly_features = PolynomialFeatures(degree=2, include_bias=False)\n",
    "X_poly = poly_features.fit_transform(X)\n",
    "X[0]"
   ]
  },
  {
   "cell_type": "code",
   "execution_count": 29,
   "metadata": {
    "scrolled": true
   },
   "outputs": [
    {
     "data": {
      "text/plain": [
       "array([-0.75275929,  0.56664654])"
      ]
     },
     "execution_count": 29,
     "metadata": {},
     "output_type": "execute_result"
    }
   ],
   "source": [
    "X_poly[0]\n"
   ]
  },
  {
   "cell_type": "code",
   "execution_count": 30,
   "metadata": {},
   "outputs": [
    {
     "data": {
      "text/plain": [
       "(array([1.78134581]), array([[0.93366893, 0.56456263]]))"
      ]
     },
     "execution_count": 30,
     "metadata": {},
     "output_type": "execute_result"
    }
   ],
   "source": [
    "lin_reg = LinearRegression()\n",
    "lin_reg.fit(X_poly, y)\n",
    "lin_reg.intercept_, lin_reg.coef_"
   ]
  },
  {
   "cell_type": "markdown",
   "metadata": {},
   "source": [
    "Not a bad model! The model estimates y = 0.56x^2 + 0.93x^1 + 1.78 when in fact the original\n",
    "function was y = 0.5x^2 + 1.0x + 2.0 + Gaussian noise."
   ]
  },
  {
   "cell_type": "code",
   "execution_count": 31,
   "metadata": {},
   "outputs": [
    {
     "name": "stdout",
     "output_type": "stream",
     "text": [
      "Saving figure quadratic_predictions_plot\n"
     ]
    },
    {
     "data": {
      "image/png": "[encoded data removed]",
      "text/plain": [
       "<Figure size 432x288 with 1 Axes>"
      ]
     },
     "metadata": {
      "needs_background": "light"
     },
     "output_type": "display_data"
    }
   ],
   "source": [
    "X_new=np.linspace(-3, 3, 100).reshape(100, 1)\n",
    "X_new_poly = poly_features.transform(X_new)\n",
    "y_new = lin_reg.predict(X_new_poly)\n",
    "plt.plot(X, y, \"b.\")\n",
    "plt.plot(X_new, y_new, \"r-\", linewidth=2, label=\"Predictions\")\n",
    "plt.xlabel(\"$x_1$\", fontsize=18)\n",
    "plt.ylabel(\"$y$\", rotation=0, fontsize=18)\n",
    "plt.legend(loc=\"upper left\", fontsize=14)\n",
    "plt.axis([-3, 3, 0, 10])\n",
    "save_fig(\"quadratic_predictions_plot\")\n",
    "plt.show()"
   ]
  },
  {
   "cell_type": "markdown",
   "metadata": {},
   "source": [
    "\"Note that when there are multiple features, Polynomial Regression is capable of finding  \n",
    "relationships between features (which is something a plain Linear Regression  \n",
    "model cannot do). This is made possible by the fact that PolynomialFeatures also  \n",
    "adds all combinations of features up to the given degree.\"\n",
    "\n",
    "\"For example, if there were two features a and b, PolynomialFeatures with degree=3 would not only add the  \n",
    "features a2, a3, b2, and b3, but also the combinations ab, a2b, and ab2.\"\n",
    "\n",
    "![title](images/polynomial.png)\n",
    "\n"
   ]
  },
  {
   "cell_type": "markdown",
   "metadata": {},
   "source": [
    "# Learning Curves"
   ]
  },
  {
   "cell_type": "markdown",
   "metadata": {},
   "source": [
    "\"In Chapter 2 you used cross-validation to get an estimate of a model’s generalization  \n",
    "performance. If a model performs well on the training data but generalizes poorly  \n",
    "according to the cross-validation metrics, then your model is overfitting. If it performs  \n",
    "poorly on both, then it is underfitting. This is one way to tell when a model is  \n",
    "too simple or too complex.\"\n",
    "\n",
    "\"Another way is to look at the learning curves: these are plots of the model’s performance  \n",
    "on the training set and the validation set as a function of the training set size.  \n",
    "To generate the plots, simply train the model several times on different sized subsets  \n",
    "of the training set. The following code defines a function that plots the learning  \n",
    "curves of a model given some training data:\""
   ]
  },
  {
   "cell_type": "code",
   "execution_count": 32,
   "metadata": {},
   "outputs": [
    {
     "name": "stdout",
     "output_type": "stream",
     "text": [
      "Saving figure high_degree_polynomials_plot\n"
     ]
    },
    {
     "data": {
      "image/png": "[encoded data removed]",
      "text/plain": [
       "<Figure size 432x288 with 1 Axes>"
      ]
     },
     "metadata": {
      "needs_background": "light"
     },
     "output_type": "display_data"
    }
   ],
   "source": [
    "from sklearn.preprocessing import StandardScaler\n",
    "from sklearn.pipeline import Pipeline\n",
    "\n",
    "for style, width, degree in ((\"g-\", 1, 300), (\"b--\", 2, 2), (\"r-+\", 2, 1)):\n",
    "    polybig_features = PolynomialFeatures(degree=degree, include_bias=False)\n",
    "    std_scaler = StandardScaler()\n",
    "    lin_reg = LinearRegression()\n",
    "    polynomial_regression = Pipeline([\n",
    "            (\"poly_features\", polybig_features),\n",
    "            (\"std_scaler\", std_scaler),\n",
    "            (\"lin_reg\", lin_reg),\n",
    "        ])\n",
    "    polynomial_regression.fit(X, y)\n",
    "    y_newbig = polynomial_regression.predict(X_new)\n",
    "    plt.plot(X_new, y_newbig, style, label=str(degree), linewidth=width)\n",
    "\n",
    "plt.plot(X, y, \"b.\", linewidth=3)\n",
    "plt.legend(loc=\"upper left\")\n",
    "plt.xlabel(\"$x_1$\", fontsize=18)\n",
    "plt.ylabel(\"$y$\", rotation=0, fontsize=18)\n",
    "plt.axis([-3, 3, 0, 10])\n",
    "save_fig(\"high_degree_polynomials_plot\")\n",
    "plt.show()"
   ]
  },
  {
   "cell_type": "code",
   "execution_count": 33,
   "metadata": {},
   "outputs": [],
   "source": [
    "from sklearn.metrics import mean_squared_error\n",
    "from sklearn.model_selection import train_test_split\n",
    "\n",
    "def plot_learning_curves(model, X, y):\n",
    "    X_train, X_val, y_train, y_val = train_test_split(X, y, test_size=0.2, random_state=10)\n",
    "    train_errors, val_errors = [], []\n",
    "    for m in range(1, len(X_train)):\n",
    "        model.fit(X_train[:m], y_train[:m])\n",
    "        y_train_predict = model.predict(X_train[:m])\n",
    "        y_val_predict = model.predict(X_val)\n",
    "        train_errors.append(mean_squared_error(y_train[:m], y_train_predict))\n",
    "        val_errors.append(mean_squared_error(y_val, y_val_predict))\n",
    "\n",
    "    plt.plot(np.sqrt(train_errors), \"r-+\", linewidth=2, label=\"train\")\n",
    "    plt.plot(np.sqrt(val_errors), \"b-\", linewidth=3, label=\"val\")\n",
    "    plt.legend(loc=\"upper right\", fontsize=14)   # not shown in the book\n",
    "    plt.xlabel(\"Training set size\", fontsize=14) # not shown\n",
    "    plt.ylabel(\"RMSE\", fontsize=14)              # not shown"
   ]
  },
  {
   "cell_type": "code",
   "execution_count": 34,
   "metadata": {},
   "outputs": [
    {
     "name": "stdout",
     "output_type": "stream",
     "text": [
      "Saving figure underfitting_learning_curves_plot\n"
     ]
    },
    {
     "data": {
      "image/png": "[encoded data removed]",
      "text/plain": [
       "<Figure size 432x288 with 1 Axes>"
      ]
     },
     "metadata": {
      "needs_background": "light"
     },
     "output_type": "display_data"
    }
   ],
   "source": [
    "lin_reg = LinearRegression()\n",
    "plot_learning_curves(lin_reg, X, y)\n",
    "plt.axis([0, 80, 0, 3])                         # not shown in the book\n",
    "save_fig(\"underfitting_learning_curves_plot\")   # not shown\n",
    "plt.show()                                      # not shown"
   ]
  },
  {
   "cell_type": "markdown",
   "metadata": {},
   "source": [
    "### Analysis\n",
    "##### Underfitting\n",
    "\n",
    "\"When there are just one or two instances in the training set, the model can fit  \n",
    "them perfectly, which is why the curve starts at zero. But as new instances are added  \n",
    "to the training set, it becomes impossible for the model to fit the training data perfectly,  \n",
    "both because the data is noisy and because it is not linear at all. So the error on  \n",
    "the training data goes up until it reaches a plateau, at which point adding new instances  \n",
    "to the training set doesn’t make the average error much better or worse.\"\n",
    "\n",
    "\"Now let’slook at the performance of the model on the validation data. When the model is  \n",
    "trained on very few training instances, it is incapable of generalizing properly, which  \n",
    "is why the validation error is initially quite big. Then as the model is shown more  \n",
    "training examples, it learns and thus the validation error slowly goes down. However,  \n",
    "once again a straight line cannot do a good job modeling the data, so the error ends  \n",
    "up at a plateau, very close to the other curve.\"  \n",
    "\n",
    "\n",
    "TIP: \"If your model is underfitting the training data, adding more training  \n",
    "examples will not help. You need to use a more complex model  \n",
    "or come up with better features.\""
   ]
  },
  {
   "cell_type": "code",
   "execution_count": 35,
   "metadata": {},
   "outputs": [
    {
     "name": "stdout",
     "output_type": "stream",
     "text": [
      "Saving figure learning_curves_plot\n"
     ]
    },
    {
     "data": {
      "image/png": "[encoded data removed]",
      "text/plain": [
       "<Figure size 432x288 with 1 Axes>"
      ]
     },
     "metadata": {
      "needs_background": "light"
     },
     "output_type": "display_data"
    }
   ],
   "source": [
    "from sklearn.pipeline import Pipeline\n",
    "\n",
    "polynomial_regression = Pipeline([\n",
    "        (\"poly_features\", PolynomialFeatures(degree=10, include_bias=False)),\n",
    "        (\"lin_reg\", LinearRegression()),\n",
    "    ])\n",
    "\n",
    "plot_learning_curves(polynomial_regression, X, y)\n",
    "plt.axis([0, 80, 0, 3])           # not shown\n",
    "save_fig(\"learning_curves_plot\")  # not shown\n",
    "plt.show() "
   ]
  },
  {
   "cell_type": "markdown",
   "metadata": {},
   "source": [
    "### Analysis\n",
    "##### Overfitting\n",
    "\n",
    "These learning curves look a bit like the previous ones, but there are two very important differences:  \n",
    "- The error on the training data is much lower than with the Linear Regression model.\n",
    "- There is a gap between the curves. This means that the model performs significantly  \n",
    "better on the training data than on the validation data, which is the hallmark  \n",
    "of an overfitting model. However, if you used a much larger training set,  \n",
    "the two curves would continue to get closer.  \n",
    "\n",
    "\n",
    "TIP: \"One way to improve an overfitting model is to feed it more training  \n",
    "data until the validation error reaches the training error.\""
   ]
  },
  {
   "cell_type": "markdown",
   "metadata": {},
   "source": [
    "![title](images/learning_curve_1.png)\n",
    "![title](images/learning_curve_2.png)\n"
   ]
  },
  {
   "cell_type": "markdown",
   "metadata": {},
   "source": [
    "# Regularized Linear Models \n",
    "\n",
    "\"As we saw in Chapters 1 and 2, a good way to reduce overfitting is to regularize the  \n",
    "model (i.e., to constrain it): the fewer degrees of freedom it has, the harder it will be  \n",
    "for it to overfit the data. For example, a simple way to regularize a polynomial model  \n",
    "is to reduce the number of polynomial degrees.\"\n",
    "\n",
    "\"For a linear model, regularization is typically achieved by constraining the weights of  \n",
    "the model. We will now look at Ridge Regression, Lasso Regression, and Elastic Net,  \n",
    "which implement three different ways to constrain the weights.\""
   ]
  },
  {
   "cell_type": "markdown",
   "metadata": {},
   "source": [
    "## Ridge Regression\n",
    "\n",
    "\"Note that the regularization term should only be added  \n",
    "to the cost function during training. Once the model is trained, you want to evaluate  \n",
    "the model’s performance using the unregularized performance measure.\" \n",
    "\n",
    "![title](images/ridge_regression.png)\n",
    "\n",
    "WARNING: \"It is important to scale the data (e.g., using a StandardScaler)  \n",
    "before performing Ridge Regression, as it is sensitive to the scale of  \n",
    "the input features. This is true of most regularized models.\""
   ]
  },
  {
   "cell_type": "code",
   "execution_count": 36,
   "metadata": {},
   "outputs": [],
   "source": [
    "np.random.seed(42)\n",
    "m = 20\n",
    "X = 3 * np.random.rand(m, 1)\n",
    "y = 1 + 0.5 * X + np.random.randn(m, 1) / 1.5\n",
    "X_new = np.linspace(0, 3, 100).reshape(100, 1)"
   ]
  },
  {
   "cell_type": "markdown",
   "metadata": {},
   "source": [
    "\"Here is how to perform Ridge Regression with Scikit-Learn using a closed-form solution  \n",
    "(a variant of Equation 4-9 using a matrix factorization technique by André-Louis  \n",
    "Cholesky):\""
   ]
  },
  {
   "cell_type": "code",
   "execution_count": 37,
   "metadata": {},
   "outputs": [
    {
     "data": {
      "text/plain": [
       "array([[1.55071465]])"
      ]
     },
     "execution_count": 37,
     "metadata": {},
     "output_type": "execute_result"
    }
   ],
   "source": [
    "from sklearn.linear_model import Ridge\n",
    "ridge_reg = Ridge(alpha=1, solver=\"cholesky\", random_state=42)\n",
    "ridge_reg.fit(X, y)\n",
    "ridge_reg.predict([[1.5]])"
   ]
  },
  {
   "cell_type": "code",
   "execution_count": 38,
   "metadata": {},
   "outputs": [
    {
     "data": {
      "text/plain": [
       "array([[1.5507201]])"
      ]
     },
     "execution_count": 38,
     "metadata": {},
     "output_type": "execute_result"
    }
   ],
   "source": [
    "ridge_reg = Ridge(alpha=1, solver=\"sag\", random_state=42)\n",
    "ridge_reg.fit(X, y)\n",
    "ridge_reg.predict([[1.5]])"
   ]
  },
  {
   "cell_type": "code",
   "execution_count": 39,
   "metadata": {},
   "outputs": [
    {
     "name": "stdout",
     "output_type": "stream",
     "text": [
      "Saving figure ridge_regression_plot\n"
     ]
    },
    {
     "data": {
      "image/png": "[encoded data removed]",
      "text/plain": [
       "<Figure size 576x288 with 2 Axes>"
      ]
     },
     "metadata": {
      "needs_background": "light"
     },
     "output_type": "display_data"
    }
   ],
   "source": [
    "from sklearn.linear_model import Ridge\n",
    "\n",
    "# https://scikit-learn.org/stable/modules/generated/sklearn.linear_model.Ridge.html \n",
    "# https://scikit-learn.org/stable/modules/generated/sklearn.linear_model.Lasso.html\n",
    "# This function effectively takes in the model_class = Ridge / Lasso / Etc\n",
    "# If polynomial = True or False. If true, pick degree 10\n",
    "# Alphas = hyperparamater value\n",
    "# **model_kargs == ramdon_state \n",
    "def plot_model(model_class, polynomial, alphas, **model_kargs):\n",
    "    for alpha, style in zip(alphas, (\"b-\", \"g--\", \"r:\")):\n",
    "        model = model_class(alpha, **model_kargs) if alpha > 0 else LinearRegression()\n",
    "        if polynomial:\n",
    "            model = Pipeline([\n",
    "                    (\"poly_features\", PolynomialFeatures(degree=10, include_bias=False)),\n",
    "                    (\"std_scaler\", StandardScaler()),\n",
    "                    (\"regul_reg\", model),\n",
    "                ])\n",
    "        model.fit(X, y)\n",
    "        y_new_regul = model.predict(X_new)\n",
    "        lw = 2 if alpha > 0 else 1\n",
    "        plt.plot(X_new, y_new_regul, style, linewidth=lw, label=r\"$\\alpha = {}$\".format(alpha))\n",
    "    plt.plot(X, y, \"b.\", linewidth=3)\n",
    "    plt.legend(loc=\"upper left\", fontsize=15)\n",
    "    plt.xlabel(\"$x_1$\", fontsize=18)\n",
    "    plt.axis([0, 3, 0, 4])\n",
    "\n",
    "plt.figure(figsize=(8,4))\n",
    "plt.subplot(121)\n",
    "plot_model(Ridge, polynomial=False, alphas=(0, 10, 100), random_state=42)\n",
    "plt.ylabel(\"$y$\", rotation=0, fontsize=18)\n",
    "plt.subplot(122)\n",
    "plot_model(Ridge, polynomial=True, alphas=(0, 10**-5, 1), random_state=42)\n",
    "\n",
    "save_fig(\"ridge_regression_plot\")\n",
    "plt.show()"
   ]
  },
  {
   "cell_type": "markdown",
   "metadata": {},
   "source": [
    "\"The hyperparameter α controls how much you want to regularize the model. If α = 0  \n",
    "then Ridge Regression is just Linear Regression. If α is very large, then all weights end  \n",
    "up very close to zero and the result is a flat line going through the data’s mean.\"  "
   ]
  },
  {
   "cell_type": "markdown",
   "metadata": {},
   "source": [
    "And using Stochastic Gradient Descent:\n",
    "\n",
    "Note: \"The penalty hyperparameter sets the type of regularization term to use. Specifying  \n",
    "\"l2\" indicates that you want SGD to add a regularization term to the cost function  \n",
    "equal to half the square of the ℓ2 norm of the weight vector: this is simply Ridge  \n",
    "Regression.\""
   ]
  },
  {
   "cell_type": "code",
   "execution_count": 40,
   "metadata": {},
   "outputs": [
    {
     "data": {
      "text/plain": [
       "array([1.47012588])"
      ]
     },
     "execution_count": 40,
     "metadata": {},
     "output_type": "execute_result"
    }
   ],
   "source": [
    "sgd_reg = SGDRegressor(penalty=\"l2\", max_iter=1000, tol=1e-3, random_state=42)\n",
    "sgd_reg.fit(X, y.ravel())\n",
    "sgd_reg.predict([[1.5]])"
   ]
  },
  {
   "cell_type": "markdown",
   "metadata": {},
   "source": [
    "## Lasso Regression\n",
    "\n",
    "\"Least Absolute Shrinkage and Selection Operator Regression (simply called Lasso  \n",
    "Regression) is another regularized version of Linear Regression: just like Ridge  \n",
    "Regression, it adds a regularization term to the cost function, but it uses the ℓ1 norm  \n",
    "of the weight vector instead of half the square of the ℓ2 norm\"\n",
    "\n",
    "![title](images/lasso_regression.png)\n"
   ]
  },
  {
   "cell_type": "code",
   "execution_count": 41,
   "metadata": {},
   "outputs": [
    {
     "name": "stderr",
     "output_type": "stream",
     "text": [
      "C:\\Users\\edwar\\anaconda3\\envs\\ml_learning\\lib\\site-packages\\sklearn\\linear_model\\_coordinate_descent.py:530: ConvergenceWarning: Objective did not converge. You might want to increase the number of iterations. Duality gap: 2.802867703827432, tolerance: 0.0009294783355207351\n",
      "  model = cd_fast.enet_coordinate_descent(\n"
     ]
    },
    {
     "name": "stdout",
     "output_type": "stream",
     "text": [
      "Saving figure lasso_regression_plot\n"
     ]
    },
    {
     "data": {
      "image/png": "[encoded data removed]",
      "text/plain": [
       "<Figure size 576x288 with 2 Axes>"
      ]
     },
     "metadata": {
      "needs_background": "light"
     },
     "output_type": "display_data"
    }
   ],
   "source": [
    "from sklearn.linear_model import Lasso\n",
    "\n",
    "plt.figure(figsize=(8,4))\n",
    "plt.subplot(121)\n",
    "plot_model(Lasso, polynomial=False, alphas=(0, 0.1, 1), random_state=42)\n",
    "plt.ylabel(\"$y$\", rotation=0, fontsize=18)\n",
    "plt.subplot(122)\n",
    "plot_model(Lasso, polynomial=True, alphas=(0, 10**-7, 1), random_state=42)\n",
    "\n",
    "save_fig(\"lasso_regression_plot\")\n",
    "plt.show()"
   ]
  },
  {
   "cell_type": "markdown",
   "metadata": {},
   "source": [
    "Note: \"An important characteristic of Lasso Regression is that it tends to completely eliminate  \n",
    "the weights of the least important features (i.e., set them to zero). For example,  \n",
    "the dashed line in the right plot on Figure 4-18 (with α = 10-7) looks quadratic, almost  \n",
    "linear: all the weights for the high-degree polynomial features are equal to zero. In  \n",
    "other words, Lasso Regression automatically performs feature selection and outputs a  \n",
    "sparse model (i.e., with few nonzero feature weights).\"\n",
    "\n",
    "TIP: \"On the Lasso cost function, the BGD path tends to bounce across  \n",
    "the gutter toward the end. This is because the slope changes  \n",
    "abruptly at θ2 = 0. You need to gradually reduce the learning rate in  \n",
    "order to actually converge to the global minimum.\"  \n",
    "\n",
    "Pg 130 - 131 "
   ]
  },
  {
   "cell_type": "code",
   "execution_count": 42,
   "metadata": {},
   "outputs": [
    {
     "data": {
      "text/plain": [
       "array([1.53788174])"
      ]
     },
     "execution_count": 42,
     "metadata": {},
     "output_type": "execute_result"
    }
   ],
   "source": [
    "from sklearn.linear_model import Lasso\n",
    "lasso_reg = Lasso(alpha=0.1)\n",
    "lasso_reg.fit(X, y)\n",
    "lasso_reg.predict([[1.5]])"
   ]
  },
  {
   "cell_type": "markdown",
   "metadata": {},
   "source": [
    "## Elastic Net\n",
    "\n",
    "\"Elastic Net is a middle ground between Ridge Regression and Lasso Regression. The  \n",
    "regularization term is a simple mix of both Ridge and Lasso’s regularization terms,  \n",
    "and you can control the mix ratio r. When r = 0, Elastic Net is equivalent to Ridge  \n",
    "Regression, and when r = 1, it is equivalent to Lasso Regression\"\n",
    "\n",
    "![title](images/elastic_net.png)\n",
    "\n",
    "TIP: \"So when should you use Linear Regression, Ridge, Lasso, or Elastic Net? It is almost  \n",
    "always preferable to have at least a little bit of regularization, so generally you should  \n",
    "avoid plain Linear Regression. Ridge is a good default, but if you suspect that only a  \n",
    "few features are actually useful, you should prefer Lasso or Elastic Net since they tend  \n",
    "to reduce the useless features’ weights down to zero as we have discussed. In general,  \n",
    "Elastic Net is preferred over Lasso since Lasso may behave erratically when the number  \n",
    "of features is greater than the number of training instances or when several features  \n",
    "are strongly correlated.\""
   ]
  },
  {
   "cell_type": "code",
   "execution_count": 43,
   "metadata": {},
   "outputs": [
    {
     "data": {
      "text/plain": [
       "array([1.54333232])"
      ]
     },
     "execution_count": 43,
     "metadata": {},
     "output_type": "execute_result"
    }
   ],
   "source": [
    "from sklearn.linear_model import ElasticNet\n",
    "elastic_net = ElasticNet(alpha=0.1, l1_ratio=0.5, random_state=42)\n",
    "elastic_net.fit(X, y)\n",
    "elastic_net.predict([[1.5]])"
   ]
  },
  {
   "cell_type": "markdown",
   "metadata": {},
   "source": [
    "## Early Stopping\n",
    "\n",
    "\"A very different way to regularize iterative learning algorithms such as Gradient  \n",
    "Descent is to stop training as soon as the validation error reaches a minimum. This is  \n",
    "called early stopping.\"\n",
    "\n",
    "\"Figure 4-20 shows a complex model (in this case a high-degree  \n",
    "Polynomial Regression model) being trained using Batch Gradient Descent. As the  \n",
    "epochs go by, the algorithm learns and its prediction error (RMSE) on the training set  \n",
    "naturally goes down, and so does its prediction error on the validation set. However,  \n",
    "after a while the validation error stops decreasing and actually starts to go back up.  \n",
    "This indicates that the model has started to overfit the training data. With early stopping  \n",
    "you just stop training as soon as the validation error reaches the minimum. It is  \n",
    "such a simple and efficient regularization technique that Geoffrey Hinton called it a  \n",
    "“beautiful free lunch.”\n"
   ]
  },
  {
   "cell_type": "code",
   "execution_count": 44,
   "metadata": {},
   "outputs": [],
   "source": [
    "np.random.seed(42)\n",
    "m = 100\n",
    "X = 6 * np.random.rand(m, 1) - 3\n",
    "y = 2 + X + 0.5 * X**2 + np.random.randn(m, 1)\n",
    "\n",
    "X_train, X_val, y_train, y_val = train_test_split(X[:50], y[:50].ravel(), test_size=0.5, random_state=10)"
   ]
  },
  {
   "cell_type": "markdown",
   "metadata": {},
   "source": [
    "### Basic Implementation!"
   ]
  },
  {
   "cell_type": "code",
   "execution_count": 50,
   "metadata": {},
   "outputs": [],
   "source": [
    "from copy import deepcopy\n",
    "\n",
    "poly_scaler = Pipeline([\n",
    "        (\"poly_features\", PolynomialFeatures(degree=90, include_bias=False)),\n",
    "        (\"std_scaler\", StandardScaler())\n",
    "    ])\n",
    "\n",
    "X_train_poly_scaled = poly_scaler.fit_transform(X_train)\n",
    "X_val_poly_scaled = poly_scaler.transform(X_val)\n",
    "\n",
    "sgd_reg = SGDRegressor(max_iter=1, tol=-np.infty, warm_start=True,\n",
    "                       penalty=None, learning_rate=\"constant\", eta0=0.0005, random_state=42)\n",
    "\n",
    "minimum_val_error = float(\"inf\")\n",
    "best_epoch = None\n",
    "best_model = None\n",
    "for epoch in range(1000):\n",
    "    sgd_reg.fit(X_train_poly_scaled, y_train)  # continues where it left off\n",
    "    y_val_predict = sgd_reg.predict(X_val_poly_scaled)\n",
    "    val_error = mean_squared_error(y_val, y_val_predict)\n",
    "    if val_error < minimum_val_error:\n",
    "        minimum_val_error = val_error\n",
    "        best_epoch = epoch\n",
    "        best_model = deepcopy(sgd_reg)"
   ]
  },
  {
   "cell_type": "markdown",
   "metadata": {},
   "source": [
    "### Basic Implementation Graphed"
   ]
  },
  {
   "cell_type": "code",
   "execution_count": 51,
   "metadata": {},
   "outputs": [
    {
     "name": "stdout",
     "output_type": "stream",
     "text": [
      "Saving figure early_stopping_plot\n"
     ]
    },
    {
     "data": {
      "image/png": "[encoded data removed]",
      "text/plain": [
       "<Figure size 432x288 with 1 Axes>"
      ]
     },
     "metadata": {
      "needs_background": "light"
     },
     "output_type": "display_data"
    }
   ],
   "source": [
    "sgd_reg = SGDRegressor(max_iter=1, tol=-np.infty, warm_start=True,\n",
    "                       penalty=None, learning_rate=\"constant\", eta0=0.0005, random_state=42)\n",
    "\n",
    "n_epochs = 500\n",
    "train_errors, val_errors = [], []\n",
    "for epoch in range(n_epochs):\n",
    "    sgd_reg.fit(X_train_poly_scaled, y_train)\n",
    "    y_train_predict = sgd_reg.predict(X_train_poly_scaled)\n",
    "    y_val_predict = sgd_reg.predict(X_val_poly_scaled)\n",
    "    train_errors.append(mean_squared_error(y_train, y_train_predict))\n",
    "    val_errors.append(mean_squared_error(y_val, y_val_predict))\n",
    "\n",
    "best_epoch = np.argmin(val_errors)\n",
    "best_val_rmse = np.sqrt(val_errors[best_epoch])\n",
    "\n",
    "plt.annotate('Best model',\n",
    "             xy=(best_epoch, best_val_rmse),\n",
    "             xytext=(best_epoch, best_val_rmse + 1),\n",
    "             ha=\"center\",\n",
    "             arrowprops=dict(facecolor='black', shrink=0.05),\n",
    "             fontsize=16,\n",
    "            )\n",
    "\n",
    "best_val_rmse -= 0.03  # just to make the graph look better\n",
    "plt.plot([0, n_epochs], [best_val_rmse, best_val_rmse], \"k:\", linewidth=2)\n",
    "plt.plot(np.sqrt(val_errors), \"b-\", linewidth=3, label=\"Validation set\")\n",
    "plt.plot(np.sqrt(train_errors), \"r--\", linewidth=2, label=\"Training set\")\n",
    "plt.legend(loc=\"upper right\", fontsize=14)\n",
    "plt.xlabel(\"Epoch\", fontsize=14)\n",
    "plt.ylabel(\"RMSE\", fontsize=14)\n",
    "save_fig(\"early_stopping_plot\")\n",
    "plt.show()"
   ]
  },
  {
   "cell_type": "markdown",
   "metadata": {},
   "source": [
    "NOTE: \"With Stochastic and Mini-batch Gradient Descent, the curves are  \n",
    "not so smooth, and it may be hard to know whether you have  \n",
    "reached the minimum or not. One solution is to stop only after the  \n",
    "validation error has been above the minimum for some time (when  \n",
    "you are confident that the model will not do any better), then roll  \n",
    "back the model parameters to the point where the validation error  \n",
    "was at a minimum.\""
   ]
  },
  {
   "cell_type": "code",
   "execution_count": null,
   "metadata": {},
   "outputs": [],
   "source": []
  }
 ],
 "metadata": {
  "kernelspec": {
   "display_name": "Python [conda env:ml_learning] *",
   "language": "python",
   "name": "conda-env-ml_learning-py"
  },
  "language_info": {
   "codemirror_mode": {
    "name": "ipython",
    "version": 3
   },
   "file_extension": ".py",
   "mimetype": "text/x-python",
   "name": "python",
   "nbconvert_exporter": "python",
   "pygments_lexer": "ipython3",
   "version": "3.8.5"
  }
 },
 "nbformat": 4,
 "nbformat_minor": 2
}
