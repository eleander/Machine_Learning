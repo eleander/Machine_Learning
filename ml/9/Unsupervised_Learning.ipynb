{
 "cells": [
  {
   "cell_type": "markdown",
   "id": "aaff44a0",
   "metadata": {},
   "source": [
    "# Setup"
   ]
  },
  {
   "cell_type": "code",
   "execution_count": 1,
   "id": "be9b14b7",
   "metadata": {},
   "outputs": [
    {
     "name": "stdout",
     "output_type": "stream",
     "text": [
      "[{'filepath': 'C:\\\\Users\\\\edwar\\\\anaconda3\\\\envs\\\\ml_learning\\\\Library\\\\bin\\\\mkl_rt.1.dll',\n",
      "  'internal_api': 'mkl',\n",
      "  'num_threads': 6,\n",
      "  'prefix': 'mkl_rt',\n",
      "  'threading_layer': 'intel',\n",
      "  'user_api': 'blas',\n",
      "  'version': '2021.2-Product'},\n",
      " {'filepath': 'C:\\\\Windows\\\\System32\\\\vcomp140.dll',\n",
      "  'internal_api': 'openmp',\n",
      "  'num_threads': 12,\n",
      "  'prefix': 'vcomp',\n",
      "  'user_api': 'openmp',\n",
      "  'version': None}]\n"
     ]
    }
   ],
   "source": [
    "# Python ≥3.5 is required\n",
    "import sys\n",
    "assert sys.version_info >= (3, 5)\n",
    "\n",
    "# Scikit-Learn ≥0.20 is required\n",
    "import sklearn\n",
    "assert sklearn.__version__ >= \"0.20\"\n",
    "\n",
    "\n",
    "# Controlling Threads\n",
    "from threadpoolctl import threadpool_info\n",
    "from pprint import pprint\n",
    "pprint(threadpool_info())\n",
    "from threadpoolctl import threadpool_limits\n",
    "\n",
    "# Common imports\n",
    "import numpy as np\n",
    "import os\n",
    "\n",
    "\n",
    "# to make this notebook's output stable across runs\n",
    "np.random.seed(42)\n",
    "\n",
    "# To plot pretty figures\n",
    "%matplotlib inline\n",
    "import matplotlib as mpl\n",
    "import matplotlib.pyplot as plt\n",
    "mpl.rc('axes', labelsize=14)\n",
    "mpl.rc('xtick', labelsize=12)\n",
    "mpl.rc('ytick', labelsize=12)\n",
    "\n",
    "# Where to save the figures\n",
    "PROJECT_ROOT_DIR = \".\"\n",
    "CHAPTER_ID = \"unsupervised_learning\"\n",
    "IMAGES_PATH = os.path.join(PROJECT_ROOT_DIR, \"images\", CHAPTER_ID)\n",
    "os.makedirs(IMAGES_PATH, exist_ok=True)\n",
    "\n",
    "def save_fig(fig_id, tight_layout=True, fig_extension=\"png\", resolution=300):\n",
    "    path = os.path.join(IMAGES_PATH, fig_id + \".\" + fig_extension)\n",
    "    print(\"Saving figure\", fig_id)\n",
    "    if tight_layout:\n",
    "        plt.tight_layout()\n",
    "    plt.savefig(path, format=fig_extension, dpi=resolution)"
   ]
  },
  {
   "cell_type": "markdown",
   "id": "2ec4133d",
   "metadata": {},
   "source": [
    "# Unsupervised Learning\n",
    "\n",
    "\"The vast majority of the available data is unlabeled: we have the input features X, but we do  \n",
    "not have the labels y.\"\n",
    "\n",
    "\"The computer scientist Yann LeCun famously said that 'if intelligence  \n",
    "was a cake, unsupervised learning would be the cake, supervised learning  \n",
    "would be the icing on the cake, and reinforcement learning would be the cherry on  \n",
    "the cake.'\"\n",
    "\n",
    "\"In other words, there is a huge potential in unsupervised learning that we  \n",
    "have only barely started to sink our teeth into.\" \n",
    "\n",
    "\"In Chapter 8 we looked at the most common unsupervised learning task: dimensionality  \n",
    "reduction. In this chapter we will look at a few more unsupervised learning tasks  \n",
    "and algorithms:\"\n",
    "\n",
    "- Clustering\n",
    "    - The goal is to group similar instances together into clusters. Clustering is a great  \n",
    "        tool for data analysis, customer segmentation, recommender systems, search  \n",
    "        engines, image segmentation, semi-supervised learning, dimensionality reduction,  \n",
    "        and more.  \n",
    "          \n",
    "          \n",
    "- Anomaly detection\n",
    "    - The objective is to learn what “normal” data looks like, and then use that to  \n",
    "        detect abnormal instances, such as defective items on a production line or a new  \n",
    "        trend in a time series.  \n",
    "          \n",
    "        \n",
    "- Density estimation\n",
    "    - This is the task of estimating the probability density function (PDF) of the random  \n",
    "        process that generated the dataset. Density estimation is commonly used for  \n",
    "        anomaly detection: instances located in very low-density regions are likely to be  \n",
    "        anomalies. It is also useful for data analysis and visualization.  \n",
    "        Ready for some cake? ."
   ]
  },
  {
   "cell_type": "markdown",
   "id": "1b833e66",
   "metadata": {},
   "source": [
    "# Clustering\n",
    "\n",
    "\"As you enjoy a hike in the mountains, you stumble upon a plant you have never seen  \n",
    "before. You look around and you notice a few more. They are not identical, yet they  \n",
    "are sufficiently similar for you to know that they most likely belong to the same species  \n",
    "(or at least the same genus). You may need a botanist to tell you what species that  \n",
    "is, but you certainly don’t need an expert to identify groups of similar-looking objects.  \n",
    "This is called clustering: it is the task of identifying similar instances and assigning  \n",
    "them to clusters, or groups of similar instances.\""
   ]
  },
  {
   "cell_type": "code",
   "execution_count": 2,
   "id": "2f9e5ba1",
   "metadata": {},
   "outputs": [
    {
     "data": {
      "text/plain": [
       "array(['setosa', 'versicolor', 'virginica'], dtype='<U10')"
      ]
     },
     "execution_count": 2,
     "metadata": {},
     "output_type": "execute_result"
    }
   ],
   "source": [
    "from sklearn.datasets import load_iris\n",
    "\n",
    "data = load_iris()\n",
    "X = data.data\n",
    "y = data.target\n",
    "data.target_names"
   ]
  },
  {
   "cell_type": "code",
   "execution_count": 3,
   "id": "bdee12c5",
   "metadata": {},
   "outputs": [
    {
     "name": "stdout",
     "output_type": "stream",
     "text": [
      "Saving figure classification_vs_clustering_plot\n"
     ]
    },
    {
     "data": {
      "image/png": "[encoded data removed]",
      "text/plain": [
       "<Figure size 648x252 with 2 Axes>"
      ]
     },
     "metadata": {
      "needs_background": "light"
     },
     "output_type": "display_data"
    }
   ],
   "source": [
    "plt.figure(figsize=(9, 3.5))\n",
    "\n",
    "plt.subplot(121)\n",
    "plt.plot(X[y==0, 2], X[y==0, 3], \"yo\", label=\"Iris setosa\")\n",
    "plt.plot(X[y==1, 2], X[y==1, 3], \"bs\", label=\"Iris versicolor\")\n",
    "plt.plot(X[y==2, 2], X[y==2, 3], \"g^\", label=\"Iris virginica\")\n",
    "plt.xlabel(\"Petal length\", fontsize=14)\n",
    "plt.ylabel(\"Petal width\", fontsize=14)\n",
    "plt.legend(fontsize=12)\n",
    "\n",
    "plt.subplot(122)\n",
    "plt.scatter(X[:, 2], X[:, 3], c=\"k\", marker=\".\")\n",
    "plt.xlabel(\"Petal length\", fontsize=14)\n",
    "plt.tick_params(labelleft=False)\n",
    "\n",
    "save_fig(\"classification_vs_clustering_plot\")\n",
    "plt.show()"
   ]
  },
  {
   "cell_type": "markdown",
   "id": "9ae057a7",
   "metadata": {},
   "source": [
    "A Gaussian mixture model (explained below) can actually separate these clusters pretty well (using all 4 features: petal length & width, and sepal length & width)."
   ]
  },
  {
   "cell_type": "code",
   "execution_count": 4,
   "id": "41f10a86",
   "metadata": {},
   "outputs": [],
   "source": [
    "from sklearn.mixture import GaussianMixture\n",
    "\n",
    "y_pred = GaussianMixture(n_components=3, random_state=42).fit(X).predict(X)"
   ]
  },
  {
   "cell_type": "code",
   "execution_count": 5,
   "id": "7c502474",
   "metadata": {},
   "outputs": [
    {
     "name": "stdout",
     "output_type": "stream",
     "text": [
      "[1 1 1 1 1 1 1 1 1 1 1 1 1 1 1 1 1 1 1 1 1 1 1 1 1 1 1 1 1 1 1 1 1 1 1 1 1\n",
      " 1 1 1 1 1 1 1 1 1 1 1 1 1 2 2 2 2 2 2 2 2 2 2 2 2 2 2 2 2 2 2 0 2 0 2 0 2\n",
      " 2 2 2 0 2 2 2 2 2 0 2 2 2 2 2 2 2 2 2 2 2 2 2 2 2 2 0 0 0 0 0 0 0 0 0 0 0\n",
      " 0 0 0 0 0 0 0 0 0 0 0 0 0 0 0 0 0 0 0 0 0 0 0 0 0 0 0 0 0 0 0 0 0 0 0 0 0\n",
      " 0 0]\n"
     ]
    }
   ],
   "source": [
    "print(y_pred)"
   ]
  },
  {
   "cell_type": "markdown",
   "id": "9a070935",
   "metadata": {},
   "source": [
    "Let's map each cluster to a class. Instead of hard coding the mapping (as is done in the book, for simplicity), we will pick the most common class for each cluster (using the scipy.stats.mode() function):"
   ]
  },
  {
   "cell_type": "code",
   "execution_count": 6,
   "id": "70fbd09c",
   "metadata": {},
   "outputs": [
    {
     "data": {
      "text/plain": [
       "{1: 0, 2: 1, 0: 2}"
      ]
     },
     "execution_count": 6,
     "metadata": {},
     "output_type": "execute_result"
    }
   ],
   "source": [
    "from scipy import stats\n",
    "\n",
    "mapping = {}\n",
    "for class_id in np.unique(y):\n",
    "    mode, _ = stats.mode(y_pred[y==class_id])\n",
    "    mapping[mode[0]] = class_id\n",
    "\n",
    "mapping"
   ]
  },
  {
   "cell_type": "code",
   "execution_count": 7,
   "id": "d954741e",
   "metadata": {},
   "outputs": [],
   "source": [
    "y_pred = np.array([mapping[cluster_id] for cluster_id in y_pred])"
   ]
  },
  {
   "cell_type": "code",
   "execution_count": 8,
   "id": "748cd4d9",
   "metadata": {
    "scrolled": true
   },
   "outputs": [
    {
     "data": {
      "image/png": "[encoded data removed]",
      "text/plain": [
       "<Figure size 432x288 with 1 Axes>"
      ]
     },
     "metadata": {
      "needs_background": "light"
     },
     "output_type": "display_data"
    }
   ],
   "source": [
    "# Feature Names: ['sepal length (cm)', 'sepal width (cm)', 'petal length (cm)', 'petal width (cm)']\n",
    "# y_pred == clusterX, determines whcih item it is \n",
    "# y_pred==clusterX, 2 returns a list of true or false + the value \"2\"\n",
    "# x[y_pred==ClusterX, 2] returns a list of all the petal lengths for ClusterX\n",
    "# X Vals: petal length (2)\n",
    "# Y Vals: petal width (3)\n",
    "plt.plot(X[y_pred==0, 2], X[y_pred==0, 3], \"yo\", label=\"Cluster 1\")\n",
    "plt.plot(X[y_pred==1, 2], X[y_pred==1, 3], \"bs\", label=\"Cluster 2\")\n",
    "plt.plot(X[y_pred==2, 2], X[y_pred==2, 3], \"g^\", label=\"Cluster 3\")\n",
    "plt.xlabel(\"Petal length\", fontsize=14)\n",
    "plt.ylabel(\"Petal width\", fontsize=14)\n",
    "plt.legend(loc=\"upper left\", fontsize=12)\n",
    "plt.show()"
   ]
  },
  {
   "cell_type": "markdown",
   "id": "c08a5018",
   "metadata": {},
   "source": [
    "Clustering is used in a wide variety of applications, including these:\n",
    "- For customer segmentation\n",
    "    - You can cluster your customers based on their purchases and their activity on  \n",
    "        your website. This is useful to understand who your customers are and what they  \n",
    "        need, so you can adapt your products and marketing campaigns to each segment.  \n",
    "        For example, customer segmentation can be useful in recommender systems to  \n",
    "        suggest content that other users in the same cluster enjoyed.  \n",
    "        \n",
    "        \n",
    "- For data analysis\n",
    "    - When you analyze a new dataset, it can be helpful to run a clustering algorithm,  \n",
    "        and then analyze each cluster separately.\n",
    "        \n",
    "        \n",
    "- As a dimensionality reduction technique\n",
    "    - Once a dataset has been clustered, it is usually possible to measure each instance’s  \n",
    "        affinity with each cluster (affinity is any measure of how well an instance fits into  \n",
    "        a cluster). Each instance’s feature vector x can then be replaced with the vector of  \n",
    "        its cluster affinities. If there are k clusters, then this vector is k-dimensional. This  \n",
    "        vector is typically much lower-dimensional than the original feature vector, but it  \n",
    "        can preserve enough information for further processing.  \n",
    "        \n",
    "        \n",
    "- For anomaly detection (also called outlier detection)\n",
    "    - Any instance that has a low affinity to all the clusters is likely to be an anomaly.  \n",
    "        For example, if you have clustered the users of your website based on their  \n",
    "        behavior, you can detect users with unusual behavior, such as an unusual number  \n",
    "        of requests per second. Anomaly detection is particularly useful in detecting  \n",
    "        defects in manufacturing, or for fraud detection.  \n",
    "        \n",
    "        \n",
    "- For semi-supervised learning \n",
    "     - If you only have a few labels, you could perform clustering and propagate the  \n",
    "        labels to all the instances in the same cluster. This technique can greatly increase  \n",
    "        the number of labels available for a subsequent supervised learning algorithm,  \n",
    "        and thus improve its performance.\n",
    "        \n",
    "        \n",
    "- For search engines\n",
    "     - Some search engines let you search for images that are similar to a reference  \n",
    "        image. To build such a system, you would first apply a clustering algorithm to all  \n",
    "        the images in your database; similar images would end up in the same cluster.  \n",
    "        Then when a user provides a reference image, all you need to do is use the  \n",
    "        trained clustering model to find this image’s cluster, and you can then simply  \n",
    "        return all the images from this cluster.  \n",
    "        \n",
    "        \n",
    "- To segment an image\n",
    "     - By clustering pixels according to their color, then replacing each pixel’s color  \n",
    "        with the mean color of its cluster, it is possible to considerably reduce the number  \n",
    "        of different colors in the image. Image segmentation is used in many object  \n",
    "        detection and tracking systems, as it makes it easier to detect the contour of each  \n",
    "        object."
   ]
  },
  {
   "cell_type": "markdown",
   "id": "d21c7096",
   "metadata": {},
   "source": [
    "## K-Means\n",
    "\n",
    "### Generating the Data"
   ]
  },
  {
   "cell_type": "code",
   "execution_count": 9,
   "id": "3c3ad21f",
   "metadata": {},
   "outputs": [],
   "source": [
    "from sklearn.datasets import make_blobs"
   ]
  },
  {
   "cell_type": "code",
   "execution_count": 10,
   "id": "ae3391d8",
   "metadata": {},
   "outputs": [],
   "source": [
    "blob_centers = np.array(\n",
    "    [[ 0.2,  2.3],\n",
    "     [-1.5 ,  2.3],\n",
    "     [-2.8,  1.8],\n",
    "     [-2.8,  2.8],\n",
    "     [-2.8,  1.3]])\n",
    "blob_std = np.array([0.4, 0.3, 0.1, 0.1, 0.1])"
   ]
  },
  {
   "cell_type": "code",
   "execution_count": 11,
   "id": "b848b670",
   "metadata": {},
   "outputs": [],
   "source": [
    "X, y = make_blobs(n_samples=2000, centers=blob_centers,\n",
    "                  cluster_std=blob_std, random_state=7)"
   ]
  },
  {
   "cell_type": "code",
   "execution_count": 12,
   "id": "5a47a4c5",
   "metadata": {},
   "outputs": [],
   "source": [
    "def plot_clusters(X, y=None):\n",
    "    plt.scatter(X[:, 0], X[:, 1], c=y, s=1)\n",
    "    plt.xlabel(\"$x_1$\", fontsize=14)\n",
    "    plt.ylabel(\"$x_2$\", fontsize=14, rotation=0)"
   ]
  },
  {
   "cell_type": "code",
   "execution_count": 13,
   "id": "e7b5fc73",
   "metadata": {
    "scrolled": true
   },
   "outputs": [
    {
     "name": "stdout",
     "output_type": "stream",
     "text": [
      "Saving figure blobs_plot\n"
     ]
    },
    {
     "data": {
      "image/png": "[encoded data removed]",
      "text/plain": [
       "<Figure size 576x288 with 1 Axes>"
      ]
     },
     "metadata": {
      "needs_background": "light"
     },
     "output_type": "display_data"
    }
   ],
   "source": [
    "plt.figure(figsize=(8, 4))\n",
    "plot_clusters(X)\n",
    "save_fig(\"blobs_plot\")\n",
    "plt.show()"
   ]
  },
  {
   "cell_type": "markdown",
   "id": "3c93923b",
   "metadata": {},
   "source": [
    "### Fit and Predict\n",
    "\n",
    "\"Let's train a K-Means clusterer on this dataset. It will try to find each blob's center and assign each instance to the closest blob:\""
   ]
  },
  {
   "cell_type": "code",
   "execution_count": 14,
   "id": "fd8864b1",
   "metadata": {},
   "outputs": [],
   "source": [
    "from sklearn.cluster import KMeans"
   ]
  },
  {
   "cell_type": "markdown",
   "id": "cce55e8c",
   "metadata": {},
   "source": [
    "NOTE: \"You have to specify the number of clusters k that the algorithm must find.  \n",
    "In this example, it is pretty obvious from looking at the data that k should be set to 5,  \n",
    "but in general it is not that easy. We will discuss this shortly.\""
   ]
  },
  {
   "cell_type": "code",
   "execution_count": 15,
   "id": "8e2413fe",
   "metadata": {},
   "outputs": [],
   "source": [
    "k = 5\n",
    "kmeans = KMeans(n_clusters=k, random_state=42)\n",
    "y_pred = kmeans.fit_predict(X)"
   ]
  },
  {
   "cell_type": "markdown",
   "id": "794b9b25",
   "metadata": {},
   "source": [
    "Each instance was assigned to one of the 5 clusters:\n",
    "\n",
    "\"In the context of clustering, an  \n",
    "instance’s label is the index of the cluster that this instance gets assigned to by the  \n",
    "algorithm: this is not to be confused with the class labels in classification (remember  \n",
    "that clustering is an unsupervised learning task)\""
   ]
  },
  {
   "cell_type": "markdown",
   "id": "76418393",
   "metadata": {},
   "source": [
    "\"The KMeans instance preserves a  \n",
    "copy of the labels of the instances it was trained on, available via the labels_ instance  \n",
    "variable:\""
   ]
  },
  {
   "cell_type": "code",
   "execution_count": 16,
   "id": "5362e873",
   "metadata": {
    "scrolled": true
   },
   "outputs": [
    {
     "data": {
      "text/plain": [
       "array([4, 0, 1, ..., 2, 1, 0])"
      ]
     },
     "execution_count": 16,
     "metadata": {},
     "output_type": "execute_result"
    }
   ],
   "source": [
    "y_pred"
   ]
  },
  {
   "cell_type": "code",
   "execution_count": 17,
   "id": "e3b30122",
   "metadata": {},
   "outputs": [
    {
     "data": {
      "text/plain": [
       "True"
      ]
     },
     "execution_count": 17,
     "metadata": {},
     "output_type": "execute_result"
    }
   ],
   "source": [
    "y_pred is kmeans.labels_"
   ]
  },
  {
   "cell_type": "markdown",
   "id": "73e6e95a",
   "metadata": {},
   "source": [
    "And the following 5 centroids (i.e., cluster centers) were estimated:"
   ]
  },
  {
   "cell_type": "code",
   "execution_count": 18,
   "id": "86a7366c",
   "metadata": {},
   "outputs": [
    {
     "data": {
      "text/plain": [
       "array([[-2.80389616,  1.80117999],\n",
       "       [ 0.20876306,  2.25551336],\n",
       "       [-2.79290307,  2.79641063],\n",
       "       [-1.46679593,  2.28585348],\n",
       "       [-2.80037642,  1.30082566]])"
      ]
     },
     "execution_count": 18,
     "metadata": {},
     "output_type": "execute_result"
    }
   ],
   "source": [
    "kmeans.cluster_centers_"
   ]
  },
  {
   "cell_type": "markdown",
   "id": "a555f1ee",
   "metadata": {},
   "source": [
    "Note that the KMeans instance preserves the labels of the instances it was trained on. Somewhat confusingly, in this context, the label of an instance is the index of the cluster that instance gets assigned to:"
   ]
  },
  {
   "cell_type": "code",
   "execution_count": 19,
   "id": "2dda3cba",
   "metadata": {
    "scrolled": true
   },
   "outputs": [
    {
     "data": {
      "text/plain": [
       "array([4, 0, 1, ..., 2, 1, 0])"
      ]
     },
     "execution_count": 19,
     "metadata": {},
     "output_type": "execute_result"
    }
   ],
   "source": [
    "kmeans.labels_"
   ]
  },
  {
   "cell_type": "markdown",
   "id": "0caec4b2",
   "metadata": {},
   "source": [
    "Of course, we can predict the labels of new instances:"
   ]
  },
  {
   "cell_type": "code",
   "execution_count": 20,
   "id": "58c4903a",
   "metadata": {},
   "outputs": [
    {
     "data": {
      "text/plain": [
       "array([1, 1, 2, 2])"
      ]
     },
     "execution_count": 20,
     "metadata": {},
     "output_type": "execute_result"
    }
   ],
   "source": [
    "X_new = np.array([[0, 2], [3, 2], [-3, 3], [-3, 2.5]])\n",
    "kmeans.predict(X_new)"
   ]
  },
  {
   "cell_type": "markdown",
   "id": "e1614d37",
   "metadata": {},
   "source": [
    "Scatter Plot of Centroids and their labels"
   ]
  },
  {
   "cell_type": "code",
   "execution_count": 21,
   "id": "02a1016b",
   "metadata": {},
   "outputs": [
    {
     "name": "stdout",
     "output_type": "stream",
     "text": [
      "[[-2.80389616  1.80117999]\n",
      " [ 0.20876306  2.25551336]\n",
      " [-2.79290307  2.79641063]\n",
      " [-1.46679593  2.28585348]\n",
      " [-2.80037642  1.30082566]]\n",
      "[0, 1, 2, 3, 4]\n"
     ]
    },
    {
     "data": {
      "image/png": "[encoded data removed]",
      "text/plain": [
       "<Figure size 432x288 with 1 Axes>"
      ]
     },
     "metadata": {
      "needs_background": "light"
     },
     "output_type": "display_data"
    }
   ],
   "source": [
    "centroids = kmeans.cluster_centers_\n",
    "labels = (kmeans.predict(centroids)).tolist() \n",
    "\n",
    "print(centroids)\n",
    "print(labels)\n",
    "\n",
    "centroids_x = centroids[:,0]\n",
    "centroids_y = centroids[:,1]\n",
    "\n",
    "fig, ax = plt.subplots()\n",
    "fig.set_figheight(4)\n",
    "fig.set_figwidth(6)\n",
    "\n",
    "ax.scatter(centroids_x, centroids_y,marker=\"o\", s=150, linewidths = 3)\n",
    "\n",
    "for i, txt in enumerate(labels):\n",
    "    if txt == 2:\n",
    "        ax.annotate(f\"Cluster {txt}\", (centroids_x[i] - 0.55, centroids_y[i]-0.025))\n",
    "    else:\n",
    "        ax.annotate(f\"Cluster {txt}\", (centroids_x[i] + 0.1, centroids_y[i]-0.025))"
   ]
  },
  {
   "cell_type": "markdown",
   "id": "d5fb655b",
   "metadata": {},
   "source": [
    "## Decision Boundaries\n",
    "\n",
    "![title](images/clustering_decision_boundaries.png)\n",
    "\n",
    "\"The vast majority of the instances were clearly assigned to the appropriate cluster, but  \n",
    "a few instances were probably mislabeled (especially near the boundary between the  \n",
    "top-left cluster and the central cluster). Indeed, the K-Means algorithm does not  \n",
    "behave very well when the blobs have very different diameters because all it cares  \n",
    "about when assigning an instance to a cluster is the distance to the centroid.\""
   ]
  },
  {
   "cell_type": "code",
   "execution_count": 22,
   "id": "3a782326",
   "metadata": {},
   "outputs": [],
   "source": [
    "def plot_data(X):\n",
    "    plt.plot(X[:, 0], X[:, 1], 'k.', markersize=2)\n",
    "\n",
    "def plot_centroids(centroids, weights=None, circle_color='w', cross_color='k'):\n",
    "    if weights is not None:\n",
    "        centroids = centroids[weights > weights.max() / 10]\n",
    "    plt.scatter(centroids[:, 0], centroids[:, 1],\n",
    "                marker='o', s=35, linewidths=8,\n",
    "                color=circle_color, zorder=10, alpha=0.9)\n",
    "    plt.scatter(centroids[:, 0], centroids[:, 1],\n",
    "                marker='x', s=2, linewidths=12,\n",
    "                color=cross_color, zorder=11, alpha=1)\n",
    "\n",
    "def plot_decision_boundaries(clusterer, X, resolution=1000, show_centroids=True,\n",
    "                             show_xlabels=True, show_ylabels=True):\n",
    "    mins = X.min(axis=0) - 0.1\n",
    "    maxs = X.max(axis=0) + 0.1\n",
    "    xx, yy = np.meshgrid(np.linspace(mins[0], maxs[0], resolution),\n",
    "                         np.linspace(mins[1], maxs[1], resolution))\n",
    "    Z = clusterer.predict(np.c_[xx.ravel(), yy.ravel()])\n",
    "    Z = Z.reshape(xx.shape)\n",
    "\n",
    "    plt.contourf(Z, extent=(mins[0], maxs[0], mins[1], maxs[1]),\n",
    "                cmap=\"Pastel2\")\n",
    "    plt.contour(Z, extent=(mins[0], maxs[0], mins[1], maxs[1]),\n",
    "                linewidths=1, colors='k')\n",
    "    plot_data(X)\n",
    "    if show_centroids:\n",
    "        plot_centroids(clusterer.cluster_centers_)\n",
    "\n",
    "    if show_xlabels:\n",
    "        plt.xlabel(\"$x_1$\", fontsize=14)\n",
    "    else:\n",
    "        plt.tick_params(labelbottom=False)\n",
    "    if show_ylabels:\n",
    "        plt.ylabel(\"$x_2$\", fontsize=14, rotation=0)\n",
    "    else:\n",
    "        plt.tick_params(labelleft=False)"
   ]
  },
  {
   "cell_type": "markdown",
   "id": "b45b23ae",
   "metadata": {},
   "source": [
    "## Hard Vs Soft Clustering\n",
    "\n",
    "\"Rather than arbitrarily choosing the closest cluster for each instance, which is called hard clustering, it might be better measure the distance of each instance to all 5 centroids. This is what the transform() method does:\""
   ]
  },
  {
   "cell_type": "code",
   "execution_count": 23,
   "id": "a0863a6f",
   "metadata": {},
   "outputs": [
    {
     "data": {
      "text/plain": [
       "array([[2.81093633, 0.32995317, 2.9042344 , 1.49439034, 2.88633901],\n",
       "       [5.80730058, 2.80290755, 5.84739223, 4.4759332 , 5.84236351],\n",
       "       [1.21475352, 3.29399768, 0.29040966, 1.69136631, 1.71086031],\n",
       "       [0.72581411, 3.21806371, 0.36159148, 1.54808703, 1.21567622]])"
      ]
     },
     "execution_count": 23,
     "metadata": {},
     "output_type": "execute_result"
    }
   ],
   "source": [
    "kmeans.transform(X_new)"
   ]
  },
  {
   "cell_type": "markdown",
   "id": "cf9a8d9b",
   "metadata": {},
   "source": [
    "\"You can verify that this is indeed the Euclidian distance between each instance and each centroid:\""
   ]
  },
  {
   "cell_type": "code",
   "execution_count": 24,
   "id": "e35bd5f9",
   "metadata": {
    "scrolled": true
   },
   "outputs": [
    {
     "data": {
      "text/plain": [
       "array([[2.81093633, 0.32995317, 2.9042344 , 1.49439034, 2.88633901],\n",
       "       [5.80730058, 2.80290755, 5.84739223, 4.4759332 , 5.84236351],\n",
       "       [1.21475352, 3.29399768, 0.29040966, 1.69136631, 1.71086031],\n",
       "       [0.72581411, 3.21806371, 0.36159148, 1.54808703, 1.21567622]])"
      ]
     },
     "execution_count": 24,
     "metadata": {},
     "output_type": "execute_result"
    }
   ],
   "source": [
    "np.linalg.norm(np.tile(X_new, (1, k)).reshape(-1, k, 2) - kmeans.cluster_centers_, axis=2)"
   ]
  },
  {
   "cell_type": "markdown",
   "id": "6198bd35",
   "metadata": {},
   "source": [
    "\"In this example, the first instance in X_new is located at a distance of 2.81 from the  \n",
    "first centroid, 0.33 from the second centroid, 2.90 from the third centroid, 1.49 from  \n",
    "the fourth centroid, and 2.89 from the fifth centroid. If you have a high-dimensional  \n",
    "dataset and you transform it this way, you end up with a k-dimensional dataset: this  \n",
    "transformation can be a very efficient nonlinear dimensionality reduction technique.\""
   ]
  },
  {
   "cell_type": "markdown",
   "id": "fde8a4c3",
   "metadata": {},
   "source": [
    "## The K-Means algorithm\n",
    "\n",
    "\"So, how does the algorithm work? Well, suppose you were given the centroids. You  \n",
    "could easily label all the instances in the dataset by assigning each of them to the cluster  \n",
    "whose centroid is closest. Conversely, if you were given all the instance labels, you  \n",
    "could easily locate all the centroids by computing the mean of the instances for each  \n",
    "cluster. But you are given neither the labels nor the centroids, so how can you proceed?  \n",
    "Well, just start by placing the centroids randomly (e.g., by picking k instances at  \n",
    "random and using their locations as centroids). Then label the instances, update the  \n",
    "centroids, label the instances, update the centroids, and so on until the centroids stop  \n",
    "moving. The algorithm is guaranteed to converge in a finite number of steps (usually  \n",
    "quite small); it will not oscillate forever\"\n",
    "\n",
    "NOTE: \"The computational complexity of the algorithm is generally linear  \n",
    "with regard to the number of instances m, the number of clusters k,  \n",
    "and the number of dimensions n. However, this is only true when  \n",
    "the data has a clustering structure. If it does not, then in the worstcase  \n",
    "scenario the complexity can increase exponentially with the  \n",
    "number of instances. In practice, this rarely happens, and K-Means  \n",
    "is generally one of the fastest clustering algorithms.\"\n",
    "\n",
    "![title](images/kmeans_algo.png)\n",
    "\n",
    "\"Although the algorithm is guaranteed to converge, it may not converge to the right  \n",
    "solution (i.e., it may converge to a local optimum): whether it does or not depends on  \n",
    "the centroid initialization. Figure 9-5 shows two suboptimal solutions that the algorithm  \n",
    "can converge to if you are not lucky with the random initialization step.\"\n",
    "\n",
    "![title](images/kmeans_algo_2.png)\n"
   ]
  },
  {
   "cell_type": "markdown",
   "id": "31719f54",
   "metadata": {},
   "source": [
    "## K-Means Variability\n",
    "\n",
    "In the original K-Means algorithm, the centroids are just initialized randomly, and the algorithm simply runs a single iteration to gradually improve the centroids, as we saw above.\n",
    "\n",
    "However, one major problem with this approach is that if you run K-Means multiple times (or with different random seeds), it can converge to very different solutions, as you can see below:"
   ]
  },
  {
   "cell_type": "code",
   "execution_count": 25,
   "id": "e8ee158d",
   "metadata": {},
   "outputs": [],
   "source": [
    "def plot_clusterer_comparison(clusterer1, clusterer2, X, title1=None, title2=None):\n",
    "    clusterer1.fit(X)\n",
    "    clusterer2.fit(X)\n",
    "\n",
    "    plt.figure(figsize=(10, 3.2))\n",
    "\n",
    "    plt.subplot(121)\n",
    "    plot_decision_boundaries(clusterer1, X)\n",
    "    if title1:\n",
    "        plt.title(title1, fontsize=14)\n",
    "\n",
    "    plt.subplot(122)\n",
    "    plot_decision_boundaries(clusterer2, X, show_ylabels=False)\n",
    "    if title2:\n",
    "        plt.title(title2, fontsize=14)"
   ]
  },
  {
   "cell_type": "code",
   "execution_count": 26,
   "id": "69af5e40",
   "metadata": {},
   "outputs": [
    {
     "name": "stderr",
     "output_type": "stream",
     "text": [
      "C:\\Users\\edwar\\anaconda3\\envs\\ml_learning\\lib\\site-packages\\sklearn\\cluster\\_kmeans.py:881: UserWarning: KMeans is known to have a memory leak on Windows with MKL, when there are less chunks than available threads. You can avoid it by setting the environment variable OMP_NUM_THREADS=8.\n",
      "  warnings.warn(\n",
      "C:\\Users\\edwar\\anaconda3\\envs\\ml_learning\\lib\\site-packages\\sklearn\\cluster\\_kmeans.py:881: UserWarning: KMeans is known to have a memory leak on Windows with MKL, when there are less chunks than available threads. You can avoid it by setting the environment variable OMP_NUM_THREADS=8.\n",
      "  warnings.warn(\n"
     ]
    },
    {
     "name": "stdout",
     "output_type": "stream",
     "text": [
      "Saving figure kmeans_variability_plot\n"
     ]
    },
    {
     "data": {
      "image/png": "[encoded data removed]",
      "text/plain": [
       "<Figure size 720x230.4 with 2 Axes>"
      ]
     },
     "metadata": {
      "needs_background": "light"
     },
     "output_type": "display_data"
    }
   ],
   "source": [
    "with threadpool_limits(limits=4, user_api='blas'):\n",
    "    kmeans_rnd_init1 = KMeans(n_clusters=5, init=\"random\", n_init=1,\n",
    "                         algorithm=\"full\", random_state=2)\n",
    "    kmeans_rnd_init2 = KMeans(n_clusters=5, init=\"random\", n_init=1,\n",
    "                         algorithm=\"full\", random_state=5)\n",
    "\n",
    "plot_clusterer_comparison(kmeans_rnd_init1, kmeans_rnd_init2, X,\n",
    "                          \"Solution 1\", \"Solution 2 (with a different random init)\")\n",
    "\n",
    "save_fig(\"kmeans_variability_plot\")\n",
    "plt.show()"
   ]
  },
  {
   "cell_type": "markdown",
   "id": "d05fe3fe",
   "metadata": {},
   "source": [
    "## Inertia\n",
    "\n",
    "To select the best model, we will need a way to evaluate a K-Mean model's performance. Unfortunately, clustering is an unsupervised task, so we do not have the targets. But at least we can measure the distance between each instance and its centroid. This is the idea behind the inertia metric:"
   ]
  },
  {
   "cell_type": "code",
   "execution_count": 27,
   "id": "339381bd",
   "metadata": {},
   "outputs": [
    {
     "data": {
      "text/plain": [
       "211.5985372581683"
      ]
     },
     "execution_count": 27,
     "metadata": {},
     "output_type": "execute_result"
    }
   ],
   "source": [
    "kmeans.inertia_"
   ]
  },
  {
   "cell_type": "markdown",
   "id": "313c94ee",
   "metadata": {},
   "source": [
    "As you can easily verify, inertia is the sum of the squared distances between each training instance and its closest centroid:"
   ]
  },
  {
   "cell_type": "code",
   "execution_count": 28,
   "id": "6d3cc1c0",
   "metadata": {},
   "outputs": [
    {
     "data": {
      "text/plain": [
       "211.59853725816828"
      ]
     },
     "execution_count": 28,
     "metadata": {},
     "output_type": "execute_result"
    }
   ],
   "source": [
    "X_dist = kmeans.transform(X)\n",
    "np.sum(X_dist[np.arange(len(X_dist)), kmeans.labels_]**2)"
   ]
  },
  {
   "cell_type": "markdown",
   "id": "17c37716",
   "metadata": {},
   "source": [
    "The score() method returns the negative inertia. Why negative? Well, it is because a predictor's score() method must always respect the \"greater is better\" rule."
   ]
  },
  {
   "cell_type": "code",
   "execution_count": 29,
   "id": "fcb96f6e",
   "metadata": {
    "scrolled": true
   },
   "outputs": [
    {
     "data": {
      "text/plain": [
       "-211.5985372581683"
      ]
     },
     "execution_count": 29,
     "metadata": {},
     "output_type": "execute_result"
    }
   ],
   "source": [
    "kmeans.score(X)"
   ]
  },
  {
   "cell_type": "markdown",
   "id": "e63c4e54",
   "metadata": {},
   "source": [
    "## Multiple Initalisations \n",
    "\n",
    "So one approach to solve the variability issue is to simply run the K-Means algorithm multiple times with different random initializations, and select the solution that minimizes the inertia. For example, here are the inertias of the two \"bad\" models shown in the previous figure:"
   ]
  },
  {
   "cell_type": "code",
   "execution_count": 30,
   "id": "db505af3",
   "metadata": {},
   "outputs": [
    {
     "data": {
      "text/plain": [
       "219.43539442771402"
      ]
     },
     "execution_count": 30,
     "metadata": {},
     "output_type": "execute_result"
    }
   ],
   "source": [
    "kmeans_rnd_init1.inertia_"
   ]
  },
  {
   "cell_type": "code",
   "execution_count": 31,
   "id": "cdd28f63",
   "metadata": {},
   "outputs": [
    {
     "data": {
      "text/plain": [
       "211.59853725816828"
      ]
     },
     "execution_count": 31,
     "metadata": {},
     "output_type": "execute_result"
    }
   ],
   "source": [
    "kmeans_rnd_init2.inertia_"
   ]
  },
  {
   "cell_type": "markdown",
   "id": "49617602",
   "metadata": {},
   "source": [
    "As you can see, they have a higher inertia than the first \"good\" model we trained, which means they are probably worse.  \n",
    "\n",
    "When you set the n_init hyperparameter, Scikit-Learn runs the original algorithm n_init times, and selects the solution that   minimizes the inertia. By default, Scikit-Learn sets n_init=10."
   ]
  },
  {
   "cell_type": "code",
   "execution_count": 32,
   "id": "fdae5350",
   "metadata": {},
   "outputs": [
    {
     "name": "stderr",
     "output_type": "stream",
     "text": [
      "C:\\Users\\edwar\\anaconda3\\envs\\ml_learning\\lib\\site-packages\\sklearn\\cluster\\_kmeans.py:881: UserWarning: KMeans is known to have a memory leak on Windows with MKL, when there are less chunks than available threads. You can avoid it by setting the environment variable OMP_NUM_THREADS=8.\n",
      "  warnings.warn(\n"
     ]
    }
   ],
   "source": [
    "with threadpool_limits(limits=4, user_api='blas'):\n",
    "    kmeans_rnd_10_inits = KMeans(n_clusters=5, init=\"random\", n_init=10,\n",
    "                              algorithm=\"full\", random_state=2)\n",
    "    kmeans_rnd_10_inits.fit(X)"
   ]
  },
  {
   "cell_type": "markdown",
   "id": "933e975b",
   "metadata": {},
   "source": [
    "As you can see, we end up with the initial model, which is certainly the optimal K-Means solution (at least in terms of inertia, and assuming $k=5$)."
   ]
  },
  {
   "cell_type": "code",
   "execution_count": 33,
   "id": "e6181fac",
   "metadata": {
    "scrolled": true
   },
   "outputs": [
    {
     "data": {
      "image/png": "[encoded data removed]",
      "text/plain": [
       "<Figure size 576x288 with 1 Axes>"
      ]
     },
     "metadata": {
      "needs_background": "light"
     },
     "output_type": "display_data"
    }
   ],
   "source": [
    "plt.figure(figsize=(8, 4))\n",
    "plot_decision_boundaries(kmeans_rnd_10_inits, X)\n",
    "plt.show()"
   ]
  },
  {
   "cell_type": "markdown",
   "id": "5bcf46b4",
   "metadata": {},
   "source": [
    "## K-Means++\n",
    "\n",
    "Instead of initializing the centroids entirely randomly, it is preferable to initialize them using the following algorithm, proposed in a 2006 paper by David Arthur and Sergei Vassilvitskii:\n",
    "\n",
    "- Take one centroid $c_1$, chosen uniformly at random from the dataset.\n",
    "- Take a new center $c_i$, choosing an instance $\\mathbf{x}_i$ with probability: $D(\\mathbf{x}_i)^2$ / $\\sum\\limits_{j=1}^{m}{D(\\mathbf{x}_j)}^2$ where $D(\\mathbf{x}_i)$ is the distance between the instance $\\mathbf{x}_i$ and the closest centroid that was already chosen. This probability distribution ensures that instances that are further away from already chosen centroids are much more likely be selected as centroids.\n",
    "- Repeat the previous step until all $k$ centroids have been chosen.\n",
    "The rest of the K-Means++ algorithm is just regular K-Means. With this initialization, the K-Means algorithm is much less likely to converge to a suboptimal solution, so it is possible to reduce n_init considerably. Most of the time, this largely compensates for the additional complexity of the initialization process.\n",
    "\n",
    "To set the initialization to K-Means++, simply set init=\"k-means++\" (this is actually the default):"
   ]
  },
  {
   "cell_type": "code",
   "execution_count": 34,
   "id": "1fedd76b",
   "metadata": {
    "scrolled": true
   },
   "outputs": [
    {
     "data": {
      "text/plain": [
       "KMeans()"
      ]
     },
     "execution_count": 34,
     "metadata": {},
     "output_type": "execute_result"
    }
   ],
   "source": [
    "KMeans()"
   ]
  },
  {
   "cell_type": "code",
   "execution_count": 35,
   "id": "1c7b4e6f",
   "metadata": {
    "scrolled": true
   },
   "outputs": [
    {
     "data": {
      "text/plain": [
       "211.5985372581683"
      ]
     },
     "execution_count": 35,
     "metadata": {},
     "output_type": "execute_result"
    }
   ],
   "source": [
    "good_init = np.array([[-3, 3], [-3, 2], [-3, 1], [-1, 2], [0, 2]])\n",
    "kmeans = KMeans(n_clusters=5, init=good_init, n_init=1, random_state=42)\n",
    "kmeans.fit(X)\n",
    "kmeans.inertia_"
   ]
  },
  {
   "cell_type": "markdown",
   "id": "43294d4b",
   "metadata": {},
   "source": [
    "## Accelerated K-Means\n",
    "\n",
    "\"The K-Means algorithm can be significantly accelerated by avoiding many unnecessary distance calculations: this is achieved by exploiting the triangle inequality (given three points A, B and C, the distance AC is always such that AC ≤ AB + BC) and by keeping track of lower and upper bounds for distances between instances and centroids (see this 2003 paper by Charles Elkan for more details).\n",
    "\n",
    "To use Elkan's variant of K-Means, just set algorithm=\"elkan\". Note that it does not support sparse data, so by default, Scikit-Learn uses \"elkan\" for dense data, and \"full\" (the regular K-Means algorithm) for sparse data.\""
   ]
  },
  {
   "cell_type": "code",
   "execution_count": 36,
   "id": "53442e72",
   "metadata": {},
   "outputs": [],
   "source": [
    "# %timeit -n 50 KMeans(algorithm=\"elkan\", random_state=42).fit(X)"
   ]
  },
  {
   "cell_type": "code",
   "execution_count": 37,
   "id": "1ec2934a",
   "metadata": {},
   "outputs": [],
   "source": [
    "# %timeit -n 50 KMeans(algorithm=\"full\", random_state=42).fit(X)"
   ]
  },
  {
   "cell_type": "markdown",
   "id": "38440fd7",
   "metadata": {},
   "source": [
    "There's no big difference in this case, as the dataset is fairly small."
   ]
  },
  {
   "cell_type": "markdown",
   "id": "7c1051e4",
   "metadata": {},
   "source": [
    "## Mini \n",
    "\n",
    "Scikit-Learn also implements a variant of the K-Means algorithm that supports mini-batches \n",
    "\n"
   ]
  },
  {
   "cell_type": "code",
   "execution_count": 38,
   "id": "d37f7a3f",
   "metadata": {},
   "outputs": [],
   "source": [
    "from sklearn.cluster import MiniBatchKMeans"
   ]
  },
  {
   "cell_type": "code",
   "execution_count": 43,
   "id": "f48e7535",
   "metadata": {},
   "outputs": [
    {
     "name": "stderr",
     "output_type": "stream",
     "text": [
      "C:\\Users\\edwar\\anaconda3\\envs\\ml_learning\\lib\\site-packages\\sklearn\\cluster\\_kmeans.py:887: UserWarning: MiniBatchKMeans is known to have a memory leak on Windows with MKL, when there are less chunks than available threads. You can prevent it by setting batch_size >= 3072 or by setting the environment variable OMP_NUM_THREADS=1\n",
      "  warnings.warn(\n"
     ]
    }
   ],
   "source": [
    "with threadpool_limits(limits=1, user_api='blas'):\n",
    "\n",
    "    minibatch_kmeans = MiniBatchKMeans(n_clusters=5, random_state=42)\n",
    "    minibatch_kmeans.fit(X)"
   ]
  },
  {
   "cell_type": "code",
   "execution_count": 40,
   "id": "1d03beab",
   "metadata": {},
   "outputs": [
    {
     "data": {
      "text/plain": [
       "211.93186531476786"
      ]
     },
     "execution_count": 40,
     "metadata": {},
     "output_type": "execute_result"
    }
   ],
   "source": [
    "minibatch_kmeans.inertia_"
   ]
  },
  {
   "cell_type": "markdown",
   "id": "f0dc9c4c",
   "metadata": {},
   "source": [
    "![title](images/kmeans_mini_batch_1.png)\n"
   ]
  },
  {
   "cell_type": "markdown",
   "id": "ea1dc8cb",
   "metadata": {},
   "source": [
    "\"If the dataset does not fit in memory, the simplest option is to use the memmap class, as  \n",
    "we did for incremental PCA in Chapter 8. Alternatively, you can pass one mini-batch  \n",
    "at a time to the partial_fit() method, but this will require much more work, since  \n",
    "you will need to perform multiple initializations and select the best one yourself (see  \n",
    "the mini-batch K-Means section of the notebook for an example).\""
   ]
  },
  {
   "cell_type": "markdown",
   "id": "0bfee2a3",
   "metadata": {},
   "source": [
    "## Finding the optimal number of clusters\n",
    "\n",
    "![title](images/kmeans_choosing_k_1.png)\n",
    "\n",
    "\"You might be thinking that we could just pick the model with the lowest inertia,  \n",
    "right? Unfortunately, it is not that simple. The inertia for k=3 is 653.2, which is much  \n",
    "higher than for k=5 (which was 211.6). But with k=8, the inertia is just 119.1. The  \n",
    "inertia is not a good performance metric when trying to choose k because it keeps  \n",
    "getting lower as we increase k. Indeed, the more clusters there are, the closer each   \n",
    "instance will be to its closest centroid, and therefore the lower the inertia will be. Let’s  \n",
    "plot the inertia as a function of k (see Figure 9-8).\"\n",
    "\n",
    "![title](images/kmeans_choosing_k_2.png)\n",
    "\n",
    "\"As you can see, the inertia drops very quickly as we increase k up to 4, but then it  \n",
    "decreases much more slowly as we keep increasing k. This curve has roughly the  \n",
    "shape of an arm, and there is an “elbow” at k = 4. So, if we did not know better, 4  \n",
    "would be a good choice: any lower value would be dramatic, while any higher value  \n",
    "would not help much, and we might just be splitting perfectly good clusters in half for  \n",
    "no good reason.\""
   ]
  },
  {
   "cell_type": "markdown",
   "id": "6a90ae8f",
   "metadata": {},
   "source": [
    "\"This technique for choosing the best value for the number of clusters is rather coarse.  \n",
    "A more precise approach (but also more computationally expensive) is to use the  \n",
    "silhouette score, which is the mean silhouette coefficient over all the instances. An  \n",
    "instance’s silhouette coefficient is equal to (b – a) / max(a, b), where a is the mean  \n",
    "distance to the other instances in the same cluster (i.e., the mean intra-cluster distance)  \n",
    "and b is the mean nearest-cluster distance (i.e., the mean distance to the  \n",
    "instances of the next closest cluster, defined as the one that minimizes b, excluding  \n",
    "the instance’s own cluster). The silhouette coefficient can vary between –1 and +1. A  \n",
    "coefficient close to +1 means that the instance is well inside its own cluster and far  \n",
    "from other clusters, while a coefficient close to 0 means that it is close to a cluster  \n",
    "boundary, and finally a coefficient close to –1 means that the instance may have been  \n",
    "assigned to the wrong cluster.\""
   ]
  },
  {
   "cell_type": "code",
   "execution_count": 47,
   "id": "4116aa35",
   "metadata": {},
   "outputs": [
    {
     "name": "stderr",
     "output_type": "stream",
     "text": [
      "C:\\Users\\edwar\\anaconda3\\envs\\ml_learning\\lib\\site-packages\\sklearn\\cluster\\_kmeans.py:881: UserWarning: KMeans is known to have a memory leak on Windows with MKL, when there are less chunks than available threads. You can avoid it by setting the environment variable OMP_NUM_THREADS=8.\n",
      "  warnings.warn(\n"
     ]
    }
   ],
   "source": [
    "kmeans_per_k = [KMeans(n_clusters=k, random_state=42).fit(X)\n",
    "                for k in range(1, 10)]\n",
    "inertias = [model.inertia_ for model in kmeans_per_k]"
   ]
  },
  {
   "cell_type": "code",
   "execution_count": 49,
   "id": "285cc658",
   "metadata": {},
   "outputs": [],
   "source": [
    "from sklearn.metrics import silhouette_score"
   ]
  },
  {
   "cell_type": "code",
   "execution_count": 50,
   "id": "769411bf",
   "metadata": {},
   "outputs": [
    {
     "data": {
      "text/plain": [
       "0.655517642572828"
      ]
     },
     "execution_count": 50,
     "metadata": {},
     "output_type": "execute_result"
    }
   ],
   "source": [
    "silhouette_score(X, kmeans.labels_)"
   ]
  },
  {
   "cell_type": "code",
   "execution_count": 51,
   "id": "debaf0f7",
   "metadata": {},
   "outputs": [],
   "source": [
    "silhouette_scores = [silhouette_score(X, model.labels_)\n",
    "                     for model in kmeans_per_k[1:]]"
   ]
  },
  {
   "cell_type": "code",
   "execution_count": 52,
   "id": "f9c839fb",
   "metadata": {
    "scrolled": true
   },
   "outputs": [
    {
     "name": "stdout",
     "output_type": "stream",
     "text": [
      "Saving figure silhouette_score_vs_k_plot\n"
     ]
    },
    {
     "data": {
      "image/png": "[encoded data removed]",
      "text/plain": [
       "<Figure size 576x216 with 1 Axes>"
      ]
     },
     "metadata": {
      "needs_background": "light"
     },
     "output_type": "display_data"
    }
   ],
   "source": [
    "plt.figure(figsize=(8, 3))\n",
    "plt.plot(range(2, 10), silhouette_scores, \"bo-\")\n",
    "plt.xlabel(\"$k$\", fontsize=14)\n",
    "plt.ylabel(\"Silhouette score\", fontsize=14)\n",
    "plt.axis([1.8, 8.5, 0.55, 0.7])\n",
    "save_fig(\"silhouette_score_vs_k_plot\")\n",
    "plt.show()"
   ]
  },
  {
   "cell_type": "markdown",
   "id": "8b8756a3",
   "metadata": {},
   "source": [
    "\"As you can see, this visualization is much richer than the previous one: in particular, although it confirms that $k=4$ is a very good choice, but it also underlines the fact that $k=5$ is quite good as well.\""
   ]
  },
  {
   "cell_type": "markdown",
   "id": "0ac6af6d",
   "metadata": {},
   "source": [
    "\"An even more informative visualization is given when you plot every instance's silhouette coefficient, sorted by the cluster they are assigned to and by the value of the coefficient. This is called a silhouette diagram:\""
   ]
  },
  {
   "cell_type": "code",
   "execution_count": 53,
   "id": "22ab0943",
   "metadata": {},
   "outputs": [
    {
     "name": "stdout",
     "output_type": "stream",
     "text": [
      "Saving figure silhouette_analysis_plot\n"
     ]
    },
    {
     "data": {
      "image/png": "[encoded data removed]",
      "text/plain": [
       "<Figure size 792x648 with 4 Axes>"
      ]
     },
     "metadata": {
      "needs_background": "light"
     },
     "output_type": "display_data"
    }
   ],
   "source": [
    "from sklearn.metrics import silhouette_samples\n",
    "from matplotlib.ticker import FixedLocator, FixedFormatter\n",
    "\n",
    "plt.figure(figsize=(11, 9))\n",
    "\n",
    "for k in (3, 4, 5, 6):\n",
    "    plt.subplot(2, 2, k - 2)\n",
    "    \n",
    "    y_pred = kmeans_per_k[k - 1].labels_\n",
    "    silhouette_coefficients = silhouette_samples(X, y_pred)\n",
    "\n",
    "    padding = len(X) // 30\n",
    "    pos = padding\n",
    "    ticks = []\n",
    "    for i in range(k):\n",
    "        coeffs = silhouette_coefficients[y_pred == i]\n",
    "        coeffs.sort()\n",
    "\n",
    "        color = mpl.cm.Spectral(i / k)\n",
    "        plt.fill_betweenx(np.arange(pos, pos + len(coeffs)), 0, coeffs,\n",
    "                          facecolor=color, edgecolor=color, alpha=0.7)\n",
    "        ticks.append(pos + len(coeffs) // 2)\n",
    "        pos += len(coeffs) + padding\n",
    "\n",
    "    plt.gca().yaxis.set_major_locator(FixedLocator(ticks))\n",
    "    plt.gca().yaxis.set_major_formatter(FixedFormatter(range(k)))\n",
    "    if k in (3, 5):\n",
    "        plt.ylabel(\"Cluster\")\n",
    "    \n",
    "    if k in (5, 6):\n",
    "        plt.gca().set_xticks([-0.1, 0, 0.2, 0.4, 0.6, 0.8, 1])\n",
    "        plt.xlabel(\"Silhouette Coefficient\")\n",
    "    else:\n",
    "        plt.tick_params(labelbottom=False)\n",
    "\n",
    "    plt.axvline(x=silhouette_scores[k - 2], color=\"red\", linestyle=\"--\")\n",
    "    plt.title(\"$k={}$\".format(k), fontsize=16)\n",
    "\n",
    "save_fig(\"silhouette_analysis_plot\")\n",
    "plt.show()"
   ]
  },
  {
   "cell_type": "markdown",
   "id": "322f0711",
   "metadata": {},
   "source": [
    "\"The vertical dashed lines represent the silhouette score for each number of clusters.  \n",
    "When most of the instances in a cluster have a lower coefficient than this score (i.e., if  \n",
    "many of the instances stop short of the dashed line, ending to the left of it), then the  \n",
    "cluster is rather bad since this means its instances are much too close to other clusters.  \n",
    "We can see that when k = 3 and when k = 6, we get bad clusters. But when k = 4  \n",
    "or k = 5, the clusters look pretty good: most instances extend beyond the dashed line,  \n",
    "to the right and closer to 1.0. When k = 4, the cluster at index 1 (the third from the  \n",
    "top) is rather big. When k = 5, all clusters have similar sizes. So, even though the  \n",
    "overall silhouette score from k = 4 is slightly greater than for k = 5, it seems like a  \n",
    "good idea to use k = 5 to get clusters of similar sizes.\""
   ]
  }
 ],
 "metadata": {
  "kernelspec": {
   "display_name": "Python [conda env:ml_learning] *",
   "language": "python",
   "name": "conda-env-ml_learning-py"
  },
  "language_info": {
   "codemirror_mode": {
    "name": "ipython",
    "version": 3
   },
   "file_extension": ".py",
   "mimetype": "text/x-python",
   "name": "python",
   "nbconvert_exporter": "python",
   "pygments_lexer": "ipython3",
   "version": "3.8.5"
  }
 },
 "nbformat": 4,
 "nbformat_minor": 5
}
