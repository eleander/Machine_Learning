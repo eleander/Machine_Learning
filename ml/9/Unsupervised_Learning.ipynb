{
 "cells": [
  {
   "cell_type": "markdown",
   "id": "cc32fbb7",
   "metadata": {},
   "source": [
    "# Setup"
   ]
  },
  {
   "cell_type": "code",
   "execution_count": 1,
   "id": "5811ff47",
   "metadata": {},
   "outputs": [],
   "source": [
    "# Python ≥3.5 is required\n",
    "import sys\n",
    "assert sys.version_info >= (3, 5)\n",
    "\n",
    "# Scikit-Learn ≥0.20 is required\n",
    "import sklearn\n",
    "assert sklearn.__version__ >= \"0.20\"\n",
    "\n",
    "# Common imports\n",
    "import numpy as np\n",
    "import os\n",
    "\n",
    "# to make this notebook's output stable across runs\n",
    "np.random.seed(42)\n",
    "\n",
    "# To plot pretty figures\n",
    "%matplotlib inline\n",
    "import matplotlib as mpl\n",
    "import matplotlib.pyplot as plt\n",
    "mpl.rc('axes', labelsize=14)\n",
    "mpl.rc('xtick', labelsize=12)\n",
    "mpl.rc('ytick', labelsize=12)\n",
    "\n",
    "# Where to save the figures\n",
    "PROJECT_ROOT_DIR = \".\"\n",
    "CHAPTER_ID = \"unsupervised_learning\"\n",
    "IMAGES_PATH = os.path.join(PROJECT_ROOT_DIR, \"images\", CHAPTER_ID)\n",
    "os.makedirs(IMAGES_PATH, exist_ok=True)\n",
    "\n",
    "def save_fig(fig_id, tight_layout=True, fig_extension=\"png\", resolution=300):\n",
    "    path = os.path.join(IMAGES_PATH, fig_id + \".\" + fig_extension)\n",
    "    print(\"Saving figure\", fig_id)\n",
    "    if tight_layout:\n",
    "        plt.tight_layout()\n",
    "    plt.savefig(path, format=fig_extension, dpi=resolution)"
   ]
  },
  {
   "cell_type": "markdown",
   "id": "a26cc10f",
   "metadata": {},
   "source": [
    "# Unsupervised Learning\n",
    "\n",
    "\"The vast majority of the available data is unlabeled: we have the input features X, but we do  \n",
    "not have the labels y.\"\n",
    "\n",
    "\"The computer scientist Yann LeCun famously said that 'if intelligence  \n",
    "was a cake, unsupervised learning would be the cake, supervised learning  \n",
    "would be the icing on the cake, and reinforcement learning would be the cherry on  \n",
    "the cake.'\"\n",
    "\n",
    "\"In other words, there is a huge potential in unsupervised learning that we  \n",
    "have only barely started to sink our teeth into.\" \n",
    "\n",
    "\"In Chapter 8 we looked at the most common unsupervised learning task: dimensionality  \n",
    "reduction. In this chapter we will look at a few more unsupervised learning tasks  \n",
    "and algorithms:\"\n",
    "\n",
    "- Clustering\n",
    "    - The goal is to group similar instances together into clusters. Clustering is a great  \n",
    "        tool for data analysis, customer segmentation, recommender systems, search  \n",
    "        engines, image segmentation, semi-supervised learning, dimensionality reduction,  \n",
    "        and more.  \n",
    "          \n",
    "          \n",
    "- Anomaly detection\n",
    "    - The objective is to learn what “normal” data looks like, and then use that to  \n",
    "        detect abnormal instances, such as defective items on a production line or a new  \n",
    "        trend in a time series.  \n",
    "          \n",
    "        \n",
    "- Density estimation\n",
    "    - This is the task of estimating the probability density function (PDF) of the random  \n",
    "        process that generated the dataset. Density estimation is commonly used for  \n",
    "        anomaly detection: instances located in very low-density regions are likely to be  \n",
    "        anomalies. It is also useful for data analysis and visualization.  \n",
    "        Ready for some cake? ."
   ]
  },
  {
   "cell_type": "code",
   "execution_count": null,
   "id": "da4e2cb4",
   "metadata": {},
   "outputs": [],
   "source": []
  }
 ],
 "metadata": {
  "kernelspec": {
   "display_name": "Python [conda env:ml_learning] *",
   "language": "python",
   "name": "conda-env-ml_learning-py"
  },
  "language_info": {
   "codemirror_mode": {
    "name": "ipython",
    "version": 3
   },
   "file_extension": ".py",
   "mimetype": "text/x-python",
   "name": "python",
   "nbconvert_exporter": "python",
   "pygments_lexer": "ipython3",
   "version": "3.8.5"
  }
 },
 "nbformat": 4,
 "nbformat_minor": 5
}
