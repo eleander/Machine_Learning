{
 "cells": [
  {
   "cell_type": "markdown",
   "id": "da9f521d",
   "metadata": {},
   "source": [
    "# Checklist \n",
    "This checklist can guide you through your Machine Learning projects. There are\n",
    "eight main steps:\n",
    "\n",
    "1. Frame the problem and look at the big picture.\n",
    "2. Get the data.\n",
    "3. Explore the data to gain insights.\n",
    "4. Prepare the data to better expose the underlying data patterns to Machine Learning\n",
    "    algorithms.\n",
    "5. Explore many different models and shortlist the best ones.\n",
    "6. Fine-tune your models and combine them into a great solution.\n",
    "7. Present your solution.\n",
    "8. Launch, monitor, and maintain your system.\n",
    "\n",
    "\n",
    "Obviously, you should feel free to adapt this checklist to your needs."
   ]
  },
  {
   "cell_type": "markdown",
   "id": "ab7de6fa",
   "metadata": {},
   "source": [
    "# Frame the Problem and Look at the Big Picture\n",
    "\n",
    "1. Define the objective in business terms.\n",
    "2. How will your solution be used?\n",
    "3. What are the current solutions/workarounds (if any)?\n",
    "4. How should you frame this problem (supervised/unsupervised, online/offline,\n",
    "    etc.)?\n",
    "5. How should performance be measured?\n",
    "6. Is the performance measure aligned with the business objective?\n",
    "7. What would be the minimum performance needed to reach the business objective?\n",
    "8. What are comparable problems? Can you reuse experience or tools?\n",
    "9. Is human expertise available?\n",
    "10. How would you solve the problem manually?\n",
    "11. List the assumptions you (or others) have made so far.\n",
    "12. Verify assumptions if possible."
   ]
  },
  {
   "cell_type": "markdown",
   "id": "7fdd9333",
   "metadata": {},
   "source": [
    "# Get the Data\n",
    "\n",
    "Note: automate as much as possible so you can easily get fresh data.\n",
    "1. List the data you need and how much you need.\n",
    "2. Find and document where you can get that data.\n",
    "3. Check how much space it will take.\n",
    "4. Check legal obligations, and get authorization if necessary.\n",
    "5. Get access authorizations.\n",
    "6. Create a workspace (with enough storage space).\n",
    "7. Get the data.\n",
    "8. Convert the data to a format you can easily manipulate (without changing the\n",
    "    data itself).\n",
    "9. Ensure sensitive information is deleted or protected (e.g., anonymized).\n",
    "10. Check the size and type of data (time series, sample, geographical, etc.).\n",
    "11. Sample a test set, put it aside, and never look at it (no data snooping!)."
   ]
  },
  {
   "cell_type": "markdown",
   "id": "60ca1c18",
   "metadata": {},
   "source": [
    "# Explore the Data\n",
    "\n",
    "Note: try to get insights from a field expert for these steps.\n",
    "1. Create a copy of the data for exploration (sampling it down to a manageable size\n",
    "if necessary).\n",
    "2. Create a Jupyter notebook to keep a record of your data exploration.\n",
    "3. Study each attribute and its characteristics:\n",
    "    - Name\n",
    "    - Type (categorical, int/float, bounded/unbounded, text, structured, etc.)\n",
    "    - % of missing values\n",
    "    - Noisiness and type of noise (stochastic, outliers, rounding errors, etc.)\n",
    "    - Usefulness for the task\n",
    "    - Type of distribution (Gaussian, uniform, logarithmic, etc.)\n",
    "4. For supervised learning tasks, identify the target attribute(s).\n",
    "5. Visualize the data.\n",
    "6. Study the correlations between attributes.\n",
    "7. Study how you would solve the problem manually.\n",
    "8. Identify the promising transformations you may want to apply.\n",
    "9. Identify extra data that would be useful (go back to “Get the Data” on page 756).\n",
    "10. Document what you have learned"
   ]
  },
  {
   "cell_type": "markdown",
   "id": "7e88dab6",
   "metadata": {},
   "source": [
    "# Prepare the Data\n",
    "\n",
    "Notes:\n",
    "- Work on copies of the data (keep the original dataset intact).\n",
    "- Write functions for all data transformations you apply, for five reasons:\n",
    "    - So you can easily prepare the data the next time you get a fresh dataset\n",
    "    - So you can apply these transformations in future projects\n",
    "    - To clean and prepare the test set\n",
    "    - To clean and prepare new data instances once your solution is live\n",
    "    - To make it easy to treat your preparation choices as hyperparameters   \n",
    "      \n",
    "      \n",
    "1. Data cleaning:\n",
    "    - Fix or remove outliers (optional).\n",
    "    - Fill in missing values (e.g., with zero, mean, median…) or drop their rows (or\n",
    "        columns).\n",
    "        \n",
    "        \n",
    "2. Feature selection (optional):\n",
    "    - Drop the attributes that provide no useful information for the task.\n",
    "    \n",
    "    \n",
    "3. Feature engineering, where appropriate:\n",
    "    - Discretize continuous features.\n",
    "    - Decompose features (e.g., categorical, date/time, etc.).\n",
    "    - Add promising transformations of features (e.g., log(x), sqrt(x), x2, etc.).\n",
    "    - Aggregate features into promising new features.\n",
    "\n",
    "\n",
    "4. Feature scaling:\n",
    "    - Standardize or normalize features."
   ]
  },
  {
   "cell_type": "markdown",
   "id": "a956ef18",
   "metadata": {},
   "source": [
    "# Shortlist Promising Models\n",
    "\n",
    "Notes:\n",
    "- If the data is huge, you may want to sample smaller training sets so you can train\n",
    "    many different models in a reasonable time (be aware that this penalizes complex\n",
    "    models such as large neural nets or Random Forests).\n",
    "- Once again, try to automate these steps as much as possible.  \n",
    "     \n",
    "     \n",
    "1. Train many quick-and-dirty models from different categories (e.g., linear, naive  \n",
    "    Bayes, SVM, Random Forest, neural net, etc.) using standard parameters.\n",
    "   \n",
    "   \n",
    "2. Measure and compare their performance.\n",
    "    - For each model, use N-fold cross-validation and compute the mean and standard  \n",
    "deviation of the performance measure on the N folds.\n",
    "  \n",
    "  \n",
    "3. Analyze the most significant variables for each algorithm.\n",
    "  \n",
    "  \n",
    "4. Analyze the types of errors the models make. \n",
    "    - What data would a human have used to avoid these errors?\n",
    "      \n",
    "      \n",
    "5. Perform a quick round of feature selection and engineering.\n",
    "  \n",
    "  \n",
    "6. Perform one or two more quick iterations of the five previous steps.\n",
    "  \n",
    "  \n",
    "7. Shortlist the top three to five most promising models, preferring models that\n",
    "make different types of errors."
   ]
  },
  {
   "cell_type": "markdown",
   "id": "789c5f14",
   "metadata": {},
   "source": [
    "# Fine-Tune the System"
   ]
  },
  {
   "cell_type": "markdown",
   "id": "c373836d",
   "metadata": {},
   "source": [
    "# Present Your Solution\n"
   ]
  },
  {
   "cell_type": "markdown",
   "id": "1f957d59",
   "metadata": {},
   "source": [
    "# Launch!"
   ]
  }
 ],
 "metadata": {
  "kernelspec": {
   "display_name": "Python [conda env:ml_learning] *",
   "language": "python",
   "name": "conda-env-ml_learning-py"
  },
  "language_info": {
   "codemirror_mode": {
    "name": "ipython",
    "version": 3
   },
   "file_extension": ".py",
   "mimetype": "text/x-python",
   "name": "python",
   "nbconvert_exporter": "python",
   "pygments_lexer": "ipython3",
   "version": "3.8.5"
  }
 },
 "nbformat": 4,
 "nbformat_minor": 5
}
